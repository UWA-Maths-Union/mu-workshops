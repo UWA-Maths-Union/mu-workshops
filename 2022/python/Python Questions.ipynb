{
 "cells": [
  {
   "cell_type": "markdown",
   "id": "654b5690",
   "metadata": {
    "slideshow": {
     "slide_type": "slide"
    }
   },
   "source": [
    "# Workshop 1 Python Questions\n",
    "**UWA Maths Union**  \n",
    "questions created by *Nick Hodgskin , Dathan Tran and Lucas Siciliano*"
   ]
  },
  {
   "cell_type": "markdown",
   "id": "24696d20",
   "metadata": {
    "slideshow": {
     "slide_type": "slide"
    }
   },
   "source": [
    "---\n",
    "## Question 1:"
   ]
  },
  {
   "cell_type": "markdown",
   "id": "901936c1",
   "metadata": {
    "slideshow": {
     "slide_type": "subslide"
    }
   },
   "source": [
    "Given an list of circle radii, calculate the sum of the circle areas."
   ]
  },
  {
   "cell_type": "code",
   "execution_count": 3,
   "id": "5797249e",
   "metadata": {},
   "outputs": [],
   "source": [
    "radii = [2, 4, 3.14, 8, 1, 2, 6]\n",
    "# Output should be 423.673570764\n",
    "# Your code here:"
   ]
  },
  {
   "cell_type": "markdown",
   "id": "cfdb35fb",
   "metadata": {
    "slideshow": {
     "slide_type": "slide"
    }
   },
   "source": [
    "---\n",
    "## Question 2:"
   ]
  },
  {
   "cell_type": "markdown",
   "id": "6b5eeaca",
   "metadata": {
    "slideshow": {
     "slide_type": "slide"
    }
   },
   "source": [
    "Create a function called `sum_to_n` that calculates and returns $\\sum_{i=1}^n i$"
   ]
  },
  {
   "cell_type": "code",
   "execution_count": null,
   "id": "5c949adc",
   "metadata": {},
   "outputs": [],
   "source": [
    "def sum_to_n(n):\n",
    "    ...\n",
    "\n",
    "# e.g. sum_to_n(4) would give 1+2+3+4=10"
   ]
  },
  {
   "cell_type": "markdown",
   "id": "f880f7ad",
   "metadata": {},
   "source": [
    "---\n",
    "## Question  3:"
   ]
  },
  {
   "cell_type": "markdown",
   "id": "b7c7ae77",
   "metadata": {},
   "source": [
    "Create two functions. `to_fahrenheit` which converts celcius to fahrenheit, and `to_celsius` to convert fahrenheit to Celsius.\n",
    "Note: The equation for conversion is $C=\\frac{(F-32)\\times 5}{9}$"
   ]
  },
  {
   "cell_type": "code",
   "execution_count": null,
   "id": "3a644f58",
   "metadata": {},
   "outputs": [],
   "source": [
    "def to_celsius(f):\n",
    "    ...\n",
    "\n",
    "def to_fahrenheit(c):\n",
    "    ...\n",
    "\n",
    "# Note that -40C and -40F are the same (you can use this to validate your answer)"
   ]
  },
  {
   "cell_type": "markdown",
   "id": "473d00f7",
   "metadata": {
    "slideshow": {
     "slide_type": "slide"
    }
   },
   "source": [
    "---\n",
    "## Question 4:"
   ]
  },
  {
   "cell_type": "markdown",
   "id": "777e9310",
   "metadata": {},
   "source": [
    "Create a function `compound_interest` that calculates the final value of a compounding investment."
   ]
  },
  {
   "cell_type": "markdown",
   "id": "17077cce",
   "metadata": {},
   "source": [
    "Extension: you can't use exponentiation ( ** )"
   ]
  },
  {
   "cell_type": "code",
   "execution_count": null,
   "id": "ffe9d1df",
   "metadata": {},
   "outputs": [],
   "source": [
    "def compound_interest(principal,rate,time):\n",
    "    ..."
   ]
  },
  {
   "cell_type": "markdown",
   "id": "a0d28220",
   "metadata": {
    "slideshow": {
     "slide_type": "slide"
    }
   },
   "source": [
    "---\n",
    "## Question 5:"
   ]
  },
  {
   "cell_type": "markdown",
   "id": "b0e6ed65",
   "metadata": {},
   "source": [
    "Given a quadratic equation in the form $ax^2+bx+c=0$, write a function `quadratic_solutions` that returns the number real solutions to the equation."
   ]
  },
  {
   "cell_type": "code",
   "execution_count": null,
   "id": "6f48e2ce",
   "metadata": {},
   "outputs": [],
   "source": [
    "def quadraric_solutions(a,b,c):\n",
    "    ..."
   ]
  },
  {
   "cell_type": "markdown",
   "id": "cfdde7ba",
   "metadata": {
    "slideshow": {
     "slide_type": "slide"
    }
   },
   "source": [
    "---\n",
    "## Question 6:"
   ]
  },
  {
   "cell_type": "markdown",
   "id": "85056823",
   "metadata": {},
   "source": [
    "A restaurant wants you to write a function `is_restaurant_busy` that determines it will be busy on a given night.\n",
    "\n",
    "On the weekend, it is always busy. In the week, it is only busy on ‘sunny’ days. Write a function that returns True if the restaurant is busy and False if it is not.\n",
    "\n",
    "Assume the parameter ‘weather’ is either ‘sunny’ or ‘rainy' and the parameter ‘week’ is either ‘weeknight’ or ‘weekend’."
   ]
  },
  {
   "cell_type": "code",
   "execution_count": null,
   "id": "9a8f0142",
   "metadata": {},
   "outputs": [],
   "source": [
    "def is_restaurant_busy(weather,week):\n",
    "    #Eg: restaurant_busy(\"sunny\",\"weekday\") returns True\n",
    "    ..."
   ]
  },
  {
   "cell_type": "markdown",
   "id": "347b5e9a",
   "metadata": {
    "slideshow": {
     "slide_type": "slide"
    }
   },
   "source": [
    "---\n",
    "## Question 7:"
   ]
  },
  {
   "cell_type": "markdown",
   "id": "b4c7fe0c",
   "metadata": {},
   "source": [
    "Create a function `to_decimal` that converts a binary number into decimal. A binary string represents a number by decomposing it into powers of two, including a specific power if it has a 1 in that position, and not including it if it has a 0 in that position\n",
    "\n",
    "Eg: 11001 can be converted by calculating $1\\times 2^4 + 1\\times 2^3 + 0\\times 2^2+0\\times 2^1+1\\times 2^0=25$"
   ]
  },
  {
   "cell_type": "code",
   "execution_count": 1,
   "id": "bc85f088",
   "metadata": {},
   "outputs": [],
   "source": [
    "def to_decimal(bin_num):\n",
    "    ..."
   ]
  },
  {
   "cell_type": "markdown",
   "id": "6cb01be6",
   "metadata": {
    "slideshow": {
     "slide_type": "slide"
    }
   },
   "source": [
    "---\n",
    "## Question 8:"
   ]
  },
  {
   "cell_type": "markdown",
   "id": "5cd60618",
   "metadata": {},
   "source": [
    "Create a function that determines the factorial of a given integer WITHOUT importing the factorial function."
   ]
  },
  {
   "cell_type": "code",
   "execution_count": null,
   "id": "436193d0",
   "metadata": {},
   "outputs": [],
   "source": [
    "def factorial(n):\n",
    "    ..."
   ]
  },
  {
   "cell_type": "markdown",
   "id": "f8a488cd",
   "metadata": {
    "slideshow": {
     "slide_type": "slide"
    }
   },
   "source": [
    "---\n",
    "## Question 9:"
   ]
  },
  {
   "cell_type": "markdown",
   "id": "dc1bc075",
   "metadata": {},
   "source": [
    "Chad wants to invest his life savings into crypto. Each day, the market has a 30% chance to increase by 30% and a 70% chance to decrease by 15%. Write a function `crypto_simulation` which simulates the value of his investment after n days. Assume his initial investment was 1 dollar.\n",
    "\n",
    "Is this is a good investment for Chad?\n",
    "\n",
    "HINT: Use the random module! You need to import it first (see example in Juypter notebook)."
   ]
  },
  {
   "cell_type": "code",
   "execution_count": null,
   "id": "a068cd5b",
   "metadata": {},
   "outputs": [],
   "source": [
    "def crypto_simulation(n):\n",
    "    ..."
   ]
  },
  {
   "cell_type": "markdown",
   "id": "d8fc56a9",
   "metadata": {
    "slideshow": {
     "slide_type": "slide"
    }
   },
   "source": [
    "---\n",
    "## Question 10:"
   ]
  },
  {
   "cell_type": "markdown",
   "id": "3bd61585",
   "metadata": {},
   "source": [
    "Create a function `mean` that calculates the mean of a list of numbers.\n",
    "\n",
    "Hint: python has a built-in length function: len(list)."
   ]
  },
  {
   "cell_type": "code",
   "execution_count": null,
   "id": "5e212a81",
   "metadata": {},
   "outputs": [],
   "source": [
    "def mean(list):\n",
    "    ..."
   ]
  },
  {
   "cell_type": "markdown",
   "id": "0977a3b6",
   "metadata": {
    "slideshow": {
     "slide_type": "slide"
    }
   },
   "source": [
    "---\n",
    "## Question 11:"
   ]
  },
  {
   "cell_type": "markdown",
   "id": "b93fb290",
   "metadata": {},
   "source": [
    "Create a function `neighbour_numbers` that when given a list of numbers, return True if there is a number twice in a row in the list. Otherwise it returns False.\n",
    "\n",
    "Eg: the list [1,2,3,4,5] will return False and [1,2,3,4,4] will return True."
   ]
  },
  {
   "cell_type": "code",
   "execution_count": null,
   "id": "506acfcc",
   "metadata": {},
   "outputs": [],
   "source": [
    "def neighbour_numbers(list):\n",
    "    ..."
   ]
  },
  {
   "cell_type": "markdown",
   "id": "b5577c4b",
   "metadata": {
    "slideshow": {
     "slide_type": "slide"
    }
   },
   "source": [
    "---\n",
    "## Question 12:"
   ]
  },
  {
   "cell_type": "markdown",
   "id": "8c35bf27",
   "metadata": {},
   "source": [
    "A number is an “awesome number” if it is divisible by 4 and the sum of its digits are divisible by 3. Create a function `awesome_checker` that prints a message that contains the given integer and states whether it is awesome or not.\n",
    "\n",
    "Eg: awesome_checker(12) should print \"12 is an awesome number!\" and awesome_checker(5) should print \"5 is a pretty un-cool number :(\""
   ]
  },
  {
   "cell_type": "code",
   "execution_count": null,
   "id": "4cf90629",
   "metadata": {},
   "outputs": [],
   "source": [
    "def awesome_checker(integer):\n",
    "    ..."
   ]
  }
 ],
 "metadata": {
  "kernelspec": {
   "display_name": "Python 3 (ipykernel)",
   "language": "python",
   "name": "python3"
  },
  "language_info": {
   "codemirror_mode": {
    "name": "ipython",
    "version": 3
   },
   "file_extension": ".py",
   "mimetype": "text/x-python",
   "name": "python",
   "nbconvert_exporter": "python",
   "pygments_lexer": "ipython3",
   "version": "3.9.12"
  }
 },
 "nbformat": 4,
 "nbformat_minor": 5
}
