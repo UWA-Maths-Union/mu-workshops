{
 "cells": [
  {
   "cell_type": "markdown",
   "id": "654b5690",
   "metadata": {
    "slideshow": {
     "slide_type": "slide"
    }
   },
   "source": [
    "# Workshop 1 Python Exercises: Answers\n",
    "**UWA Maths Union**  \n",
    "questions created by *Nick Hodgskin , Dathan Tran and Lucas Siciliano*\n",
    "\n",
    "---\n",
    "**FAQ:** What are those `\"\"\"` blocks after the function definitions? Those are doc-strings!\n",
    "\n",
    "By using `\"\"\"` we can define strings that go over multiple lines. These are commonly used by themselves to act as multiline comments (as opposed to `#` for single line comments). If they're placed straight after a function definition, they're called a docstring! As a matter of fact, every time we call `help(...)` on a function, we are actually getting the docstring in the output!"
   ]
  },
  {
   "cell_type": "markdown",
   "id": "24696d20",
   "metadata": {
    "slideshow": {
     "slide_type": "slide"
    }
   },
   "source": [
    "---\n",
    "## Question 1:"
   ]
  },
  {
   "cell_type": "markdown",
   "id": "901936c1",
   "metadata": {
    "slideshow": {
     "slide_type": "subslide"
    }
   },
   "source": [
    "Given an list of circle radii, calculate the sum of the circle areas."
   ]
  },
  {
   "cell_type": "code",
   "execution_count": 1,
   "id": "5797249e",
   "metadata": {},
   "outputs": [
    {
     "name": "stdout",
     "output_type": "stream",
     "text": [
      "The total area of the circles is 423.67.\n"
     ]
    }
   ],
   "source": [
    "radii = [2, 4, 3.14, 8, 1, 2, 6]\n",
    "# The result should be 423.673570764\n",
    "# Write your code here!\n",
    "def circle_area(r):\n",
    "    \"\"\"Calculate the area of a circle with radius r.\"\"\"\n",
    "    return 3.14159 * r ** 2\n",
    "\n",
    "total = 0\n",
    "for r in radii:\n",
    "    total = total + circle_area(r)\n",
    "\n",
    "print(f\"The total area of the circles is {total:.2f}.\")\n"
   ]
  },
  {
   "cell_type": "markdown",
   "id": "cfdb35fb",
   "metadata": {
    "slideshow": {
     "slide_type": "slide"
    }
   },
   "source": [
    "---\n",
    "## Question 2:"
   ]
  },
  {
   "cell_type": "markdown",
   "id": "6b5eeaca",
   "metadata": {
    "slideshow": {
     "slide_type": "slide"
    }
   },
   "source": [
    "Create a function called `sum_to_n` that calculates and returns $\\sum_{i=1}^n i$"
   ]
  },
  {
   "cell_type": "code",
   "execution_count": 2,
   "id": "5c949adc",
   "metadata": {},
   "outputs": [
    {
     "name": "stdout",
     "output_type": "stream",
     "text": [
      "sum_to_n(5) = 15\n",
      "sum_to_n(3) = 6\n"
     ]
    }
   ],
   "source": [
    "def sum_to_n(n):\n",
    "    \"\"\"\n",
    "    Returns the sum of all numbers from 1 to n\n",
    "    Eg.\n",
    "    >>> sum_to_n(5)\n",
    "    15\n",
    "    >>> sum_to_n(3)\n",
    "    6\n",
    "    \"\"\"\n",
    "    # Write your code here!\n",
    "    total = 0\n",
    "    for i in range(1, n+1):\n",
    "        total = total + i\n",
    "    return total\n",
    "\n",
    "# Alternatively, you can just use the equation n * (n + 1) / 2 to evaluate the answer, but that requires actually doing the maths.\n",
    "    \n",
    "print(f\"sum_to_n(5) = {sum_to_n(5)}\")\n",
    "print(f\"sum_to_n(3) = {sum_to_n(3)}\")"
   ]
  },
  {
   "cell_type": "markdown",
   "id": "f880f7ad",
   "metadata": {},
   "source": [
    "---\n",
    "## Question  3:"
   ]
  },
  {
   "cell_type": "markdown",
   "id": "b7c7ae77",
   "metadata": {},
   "source": [
    "Create two functions. `to_fahrenheit` which converts celcius to fahrenheit, and `to_celsius` to convert fahrenheit to Celsius.\n",
    "Note: The equation for conversion is $C=\\frac{(F-32)\\times 5}{9}$"
   ]
  },
  {
   "cell_type": "code",
   "execution_count": 3,
   "id": "3a644f58",
   "metadata": {},
   "outputs": [
    {
     "name": "stdout",
     "output_type": "stream",
     "text": [
      "to_celsius(212) = 100.0\n",
      "to_celsius(-40) = -40.0\n",
      "to_fahrenheit(100) = 212.0\n",
      "to_fahrenheit(-40) = -40.0\n"
     ]
    }
   ],
   "source": [
    "def to_celsius(f):\n",
    "    \"\"\"\n",
    "    Takes in a temperature in Fahrenheit and returns the temperature in Celsius\n",
    "    Eg.\n",
    "    >>> to_celsius(212)\n",
    "    100.0\n",
    "    >>> to_celsius(-40)\n",
    "    -40.0\n",
    "    \"\"\"\n",
    "    # Write your code here!\n",
    "    celsius = (f - 32) * 5/9\n",
    "    return celsius\n",
    "\n",
    "\n",
    "def to_fahrenheit(c):\n",
    "    \"\"\"\n",
    "    Takes in a temperature in Celsius and returns the temperature in Fahrenheit\n",
    "    Eg.\n",
    "    >>> to_fahrenheit(100)\n",
    "    212.0\n",
    "    >>> to_fahrenheit(-40)\n",
    "    -40.0\n",
    "    \"\"\"\n",
    "    # Write your code here!\n",
    "    fahrenheit = c * 9/5 + 32\n",
    "    return fahrenheit\n",
    "\n",
    "print(f\"to_celsius(212) = {to_celsius(212)}\")\n",
    "print(f\"to_celsius(-40) = {to_celsius(-40)}\")\n",
    "print(f\"to_fahrenheit(100) = {to_fahrenheit(100)}\")\n",
    "print(f\"to_fahrenheit(-40) = {to_fahrenheit(-40)}\")\n"
   ]
  },
  {
   "cell_type": "markdown",
   "id": "473d00f7",
   "metadata": {
    "slideshow": {
     "slide_type": "slide"
    }
   },
   "source": [
    "---\n",
    "## Question 4:"
   ]
  },
  {
   "cell_type": "markdown",
   "id": "777e9310",
   "metadata": {},
   "source": [
    "Create a function `compound_interest` that calculates the final value of a compounding investment."
   ]
  },
  {
   "cell_type": "markdown",
   "id": "17077cce",
   "metadata": {},
   "source": [
    "Extension: you can't use exponentiation ( ** ) (This implementation is only expected to work with integer values for time)"
   ]
  },
  {
   "cell_type": "code",
   "execution_count": 5,
   "id": "ffe9d1df",
   "metadata": {},
   "outputs": [
    {
     "name": "stdout",
     "output_type": "stream",
     "text": [
      "compound_interest(1000,0.05,1) = 1050.00\n",
      "compound_interest(500,0.1,2) = 605.00\n"
     ]
    }
   ],
   "source": [
    "def compound_interest(principal,rate,time):\n",
    "    \"\"\"\n",
    "    Takes in the principal, rate, and time (ie. number of compounding periods) and returns the amount of money after the time has passed\n",
    "    Eg.\n",
    "    >>> compound_interest(1000,0.05,1)\n",
    "    1050.0\n",
    "    >>> compound_interest(500,0.1,2)\n",
    "    605.0\n",
    "    \"\"\"\n",
    "    # Write your code here!\n",
    "    return principal * (1 + rate) ** time\n",
    "\n",
    "def compound_interest_extension(principal,rate,time):\n",
    "    # Write your code here!\n",
    "    amount = principal\n",
    "    for i in range(1, time+1):\n",
    "        amount = amount * (1 + rate)\n",
    "    return amount\n",
    "\n",
    "print(f\"compound_interest(1000,0.05,1) = {compound_interest(1000,0.05,1):.2f}\")\n",
    "print(f\"compound_interest(500,0.1,2) = {compound_interest(500,0.1,2):.2f}\")\n"
   ]
  },
  {
   "cell_type": "markdown",
   "id": "a0d28220",
   "metadata": {
    "slideshow": {
     "slide_type": "slide"
    }
   },
   "source": [
    "---\n",
    "## Question 5:"
   ]
  },
  {
   "cell_type": "markdown",
   "id": "b0e6ed65",
   "metadata": {},
   "source": [
    "Given a quadratic equation in the form $ax^2+bx+c=0$, write a function `quadratic_solutions` that returns the number real solutions to the equation.\n",
    "\n",
    "HINT: The quadratic equation."
   ]
  },
  {
   "cell_type": "code",
   "execution_count": 6,
   "id": "6f48e2ce",
   "metadata": {},
   "outputs": [
    {
     "name": "stdout",
     "output_type": "stream",
     "text": [
      "quadratic_solutions(1,0,-4) = 2\n",
      "quadratic_solutions(1,0,0) = 1\n",
      "quadratic_solutions(1,0,4) = No real solutions\n"
     ]
    }
   ],
   "source": [
    "def quadratic_solutions(a,b,c):\n",
    "    \"\"\"\n",
    "    Takes in the coefficients of a quadratic equation and returns the number of real solutions\n",
    "    Eg.\n",
    "    >>> quadratic_solutions(1,0,-4)\n",
    "    2\n",
    "    >>> quadratic_solutions(1,0,0)\n",
    "    1\n",
    "    >>> quadratic_solutions(1,0,4)\n",
    "    'No real solutions'\n",
    "    \"\"\"\n",
    "    # Write your code here!\n",
    "    discriminant = b ** 2 - 4 * a * c\n",
    "    if discriminant < 0:\n",
    "        return 'No real solutions'\n",
    "    if discriminant == 0:\n",
    "        return 1\n",
    "    return 2\n",
    "# We could implement the above using else statements. Since its in a function,\n",
    "# and we have `return`, it allows us to exit the code early without having to\n",
    "# wrap the code below in an `else` statement.\n",
    "\n",
    "print(f\"quadratic_solutions(1,0,-4) = {quadratic_solutions(1,0,-4)}\")\n",
    "print(f\"quadratic_solutions(1,0,0) = {quadratic_solutions(1,0,0)}\")\n",
    "print(f\"quadratic_solutions(1,0,4) = {quadratic_solutions(1,0,4)}\")\n",
    "\n"
   ]
  },
  {
   "cell_type": "markdown",
   "id": "cfdde7ba",
   "metadata": {
    "slideshow": {
     "slide_type": "slide"
    }
   },
   "source": [
    "---\n",
    "## Question 6:"
   ]
  },
  {
   "cell_type": "markdown",
   "id": "85056823",
   "metadata": {},
   "source": [
    "A restaurant wants you to write a function `is_restaurant_busy` that determines it will be busy on a given night.\n",
    "\n",
    "On the weekend, it is always busy. In the week, it is only busy on \"sunny\" days. Write a function that returns True if the restaurant is busy and False if it is not."
   ]
  },
  {
   "cell_type": "code",
   "execution_count": null,
   "id": "9a8f0142",
   "metadata": {},
   "outputs": [],
   "source": [
    "def is_restaurant_busy(weather, time_of_week):\n",
    "    \"\"\"\n",
    "    Takes in the weather and the week and returns True\n",
    "    if the restaurant is busy and False if it is not.\n",
    "\n",
    "    Parameters:\n",
    "    weather: \"sunny\" or \"rainy\"\n",
    "    time_of_week: \"weekday\" or \"weekend\"\n",
    "\n",
    "    Eg.\n",
    "    >>> is_restaurant_busy(\"sunny\", \"weekday\")\n",
    "    True\n",
    "    >>> is_restaurant_busy(\"rainy\", \"weekday\")\n",
    "    False\n",
    "    >>> is_restaurant_busy(\"rainy\", \"weekend\")\n",
    "    True\n",
    "\n",
    "    \"\"\"\n",
    "    # Write your code here!\n",
    "    # Why not validate the inputs?\n",
    "    if weather not in [\"sunny\", \"rainy\"]:\n",
    "        print(f\"WARNING: Invalid weather input of {weather}\")\n",
    "        return None\n",
    "\n",
    "    if time_of_week not in [\"weekday\", \"weekend\"]:\n",
    "        print(f\"WARNING: Invalid time of week input of {time_of_week}\")\n",
    "        return None\n",
    "\n",
    "    # Implementing the logic\n",
    "    if time_of_week == \"weekend\":\n",
    "        return True\n",
    "    if weather == \"sunny\" and time_of_week == \"weekday\":\n",
    "        return True\n",
    "    return False\n",
    "\n"
   ]
  },
  {
   "cell_type": "markdown",
   "id": "a632e057",
   "metadata": {},
   "source": [
    "**NOTE:** Above we **validated inputs**. We can do that, but its really up to you. Some key factors are whether you have the time, whether you want to add the extra code, and *whether you trust who's running your code*. For some applications (like a public website) not validating inputs can lead to hackers trying to exploit your application.\n",
    "\n",
    "For the above, if we don't validate inputs and have a misspelled input, the result will always be `False`, which might create unexpected bugs."
   ]
  },
  {
   "cell_type": "markdown",
   "id": "347b5e9a",
   "metadata": {
    "slideshow": {
     "slide_type": "slide"
    }
   },
   "source": [
    "---\n",
    "## Question 7:"
   ]
  },
  {
   "cell_type": "markdown",
   "id": "b4c7fe0c",
   "metadata": {},
   "source": [
    "Create a function `to_decimal` that converts a binary number into decimal. A binary string represents a number by decomposing it into powers of two, including a specific power if it has a 1 in that position, and not including it if it has a 0 in that position\n",
    "\n",
    "Eg: 11001 can be converted by calculating $1\\times 2^4 + 1\\times 2^3 + 0\\times 2^2+0\\times 2^1+1\\times 2^0=25$"
   ]
  },
  {
   "cell_type": "code",
   "execution_count": 7,
   "id": "bc85f088",
   "metadata": {},
   "outputs": [
    {
     "name": "stdout",
     "output_type": "stream",
     "text": [
      "to_decimal(1010) = 10\n",
      "to_decimal('11001') = 25\n"
     ]
    }
   ],
   "source": [
    "def to_decimal(bin_num):\n",
    "    \"\"\"\n",
    "    Takes in a binary number and returns the decimal equivalent.\n",
    "    NOTE: bin_num can be a string of 1s and 0s or an integer.\n",
    "\n",
    "    Eg.\n",
    "    >>> to_decimal(1010)\n",
    "    10\n",
    "    >>> to_decimal(\"11001\")\n",
    "    25\n",
    "    \"\"\"\n",
    "    # Write your code here!\n",
    "    \n",
    "    output = 0 # Start the output variable at 0\n",
    "    bin_num = str(bin_num) # Converting to string if it is an integer\n",
    "    for i in range(len(bin_num)):\n",
    "        digit = int(bin_num[i])\n",
    "        power = len(bin_num) - i - 1\n",
    "\n",
    "        output = output + digit * 2 ** power\n",
    "    return output\n",
    "\n",
    "print(f\"to_decimal(1010) = {to_decimal(1010)}\")\n",
    "print(f\"to_decimal('11001') = {to_decimal('11001')}\")\n"
   ]
  },
  {
   "cell_type": "markdown",
   "id": "6cb01be6",
   "metadata": {
    "slideshow": {
     "slide_type": "slide"
    }
   },
   "source": [
    "---\n",
    "## Question 8:"
   ]
  },
  {
   "cell_type": "markdown",
   "id": "5cd60618",
   "metadata": {},
   "source": [
    "Create a function that determines the factorial of a given integer WITHOUT importing the factorial function from `math`."
   ]
  },
  {
   "cell_type": "code",
   "execution_count": 9,
   "id": "436193d0",
   "metadata": {},
   "outputs": [
    {
     "name": "stdout",
     "output_type": "stream",
     "text": [
      "factorial(5) = 120\n",
      "factorial(3) = 6\n"
     ]
    }
   ],
   "source": [
    "def factorial(n):\n",
    "    \"\"\"\n",
    "    Takes in a number and returns the factorial of that number.\n",
    "    Eg.\n",
    "    >>> factorial(5)\n",
    "    120\n",
    "    >>> factorial(3)\n",
    "    6\n",
    "    \"\"\"\n",
    "    # Write your code here!\n",
    "    output = 1 # Start output at 1 because 0! is 1\n",
    "\n",
    "    # Do the factorial 1*2*....*(n-1)*n\n",
    "    for i in range(1, n+1):\n",
    "        output = output * i\n",
    "\n",
    "    return output\n",
    "\n",
    "print(f\"factorial(5) = {factorial(5)}\")\n",
    "print(f\"factorial(3) = {factorial(3)}\")"
   ]
  },
  {
   "cell_type": "markdown",
   "id": "f8a488cd",
   "metadata": {
    "slideshow": {
     "slide_type": "slide"
    }
   },
   "source": [
    "---\n",
    "## Question 9:"
   ]
  },
  {
   "cell_type": "markdown",
   "id": "dc1bc075",
   "metadata": {},
   "source": [
    "Chad wants to invest his life savings into crypto. Each day, the market has a 30% chance to increase by 30% and a 70% chance to decrease by 15%. Write a function `crypto_simulation` which simulates the value of his investment after n days. Assume his initial investment was 1 dollar.\n",
    "\n",
    "Is this is a good investment for Chad?\n",
    "\n",
    "HINT: Use the random module! You need to import it first (see example in Juypter notebook).\n",
    "\n",
    "EXTENSION: How can we extend the function to take an initial investment amount?"
   ]
  },
  {
   "cell_type": "code",
   "execution_count": 20,
   "id": "a068cd5b",
   "metadata": {},
   "outputs": [
    {
     "name": "stdout",
     "output_type": "stream",
     "text": [
      "crypto_simulation(5) = 1.03787125\n",
      "crypto_simulation(100000) = 1.5e-323\n",
      "Whoops, Chad will be broke.\n"
     ]
    }
   ],
   "source": [
    "import random as rand\n",
    "def crypto_simulation(n):\n",
    "    \"\"\"\n",
    "    Runs a crypto simulation.\n",
    "    \n",
    "    Takes in a number `n` (the number of days the crypto-currency will be simulated) and \n",
    "    returns the final revenue.\n",
    "    Eg.\n",
    "    No examples here, since its a random simulation :)\n",
    "    \"\"\"\n",
    "    # Write your code here!\n",
    "    prop_increase = 1 + 0.3\n",
    "    prop_decrease = 1 - 0.15\n",
    "    money = 1\n",
    "\n",
    "    # Running the simulation for n days\n",
    "    for i in range(n):\n",
    "        random_number = rand.random() # Generate a random number between 0 and 1 for a given day\n",
    "        if random_number < 0.3: # 30% chance of if statement running\n",
    "            money = money * prop_increase\n",
    "        else: # 70% chance of else statement running\n",
    "            money = money * prop_decrease\n",
    "    return money\n",
    "\n",
    "print(f\"crypto_simulation(5) = {crypto_simulation(5)}\")\n",
    "print(f\"crypto_simulation(100000) = {crypto_simulation(100000)}\")\n",
    "print(\"Whoops, Chad will be broke.\")"
   ]
  },
  {
   "cell_type": "markdown",
   "id": "d8fc56a9",
   "metadata": {
    "slideshow": {
     "slide_type": "slide"
    }
   },
   "source": [
    "---\n",
    "## Question 10:"
   ]
  },
  {
   "cell_type": "markdown",
   "id": "3bd61585",
   "metadata": {},
   "source": [
    "Create a function `mean` that calculates the mean of a list of numbers.\n",
    "\n",
    "Hint: python has a built-in length function: len(list)."
   ]
  },
  {
   "cell_type": "code",
   "execution_count": 21,
   "id": "5e212a81",
   "metadata": {},
   "outputs": [
    {
     "name": "stdout",
     "output_type": "stream",
     "text": [
      "mean([1,2,3,4,5]) = 3.0\n"
     ]
    }
   ],
   "source": [
    "def mean(lst):\n",
    "    \"\"\"\n",
    "    A function that calculates the arithmetic mean of a list of numeric values.\n",
    "    Eg.\n",
    "    >>> mean([1,2,3,4,5])\n",
    "    3.0\n",
    "\n",
    "    NOTE: We use `lst` as a variable name to avoid masking the built-in function `list`.\n",
    "    \"\"\"\n",
    "    return sum(lst) / len(lst) # Its that simple!\n",
    "\n",
    "print(f\"mean([1,2,3,4,5]) = {mean([1,2,3,4,5])}\")\n",
    "    "
   ]
  },
  {
   "cell_type": "markdown",
   "id": "0977a3b6",
   "metadata": {
    "slideshow": {
     "slide_type": "slide"
    }
   },
   "source": [
    "---\n",
    "## Question 11:"
   ]
  },
  {
   "cell_type": "markdown",
   "id": "b93fb290",
   "metadata": {},
   "source": [
    "Create a function `neighbour_numbers` that when given a list of numbers, return True if there is a number repeated back to back in the list. Otherwise it returns False."
   ]
  },
  {
   "cell_type": "code",
   "execution_count": 24,
   "id": "506acfcc",
   "metadata": {},
   "outputs": [
    {
     "name": "stdout",
     "output_type": "stream",
     "text": [
      "neighbour_numbers([1,2,3,4,5]) = False\n",
      "neighbour_numbers([1,2,3,4,4]) = True\n"
     ]
    }
   ],
   "source": [
    "def neighbour_numbers(lst):\n",
    "    \"\"\"\n",
    "    A function that takes in a list of numbers and returns True if there is a neighbour pair of numbers. Otherwise returns False.\n",
    "    Eg.\n",
    "    >>> neighbour_numbers([1,2,3,4,5])\n",
    "    False\n",
    "    >>> neighbour_numbers([1,2,3,4,4])\n",
    "    True\n",
    "    \"\"\"\n",
    "    # Write your code here!\n",
    "    last_element = None\n",
    "    for element in lst:\n",
    "        # If we're at the beginning of the list, nothing to compare against\n",
    "        if last_element is None:\n",
    "            last_element = element\n",
    "            continue\n",
    "\n",
    "        # If the current element is the same as the last element, return True\n",
    "        if element == last_element:\n",
    "            return True # Causes the loop to terminate as soon as we find a neighbour\n",
    "        \n",
    "        # Save current element as the last element\n",
    "        last_element = element\n",
    "    return False\n",
    "\n",
    "print(f\"neighbour_numbers([1,2,3,4,5]) = {neighbour_numbers([1,2,3,4,5])}\")\n",
    "print(f\"neighbour_numbers([1,2,3,4,4]) = {neighbour_numbers([1,2,3,4,4])}\")\n"
   ]
  },
  {
   "cell_type": "markdown",
   "id": "b5577c4b",
   "metadata": {
    "slideshow": {
     "slide_type": "slide"
    }
   },
   "source": [
    "---\n",
    "## Question 12:"
   ]
  },
  {
   "cell_type": "markdown",
   "id": "8c35bf27",
   "metadata": {},
   "source": [
    "A number is an “awesome number” if it is divisible by 4 and the sum of its digits are divisible by 3. Create a function `awesome_checker` that prints a message that contains the given integer and states whether it is awesome or not.\n",
    "\n",
    "Eg: awesome_checker(12) should print \"12 is an awesome number!\" and awesome_checker(5) should print \"5 is a pretty un-cool number :(\""
   ]
  },
  {
   "cell_type": "code",
   "execution_count": 28,
   "id": "4cf90629",
   "metadata": {},
   "outputs": [
    {
     "name": "stdout",
     "output_type": "stream",
     "text": [
      "12 is an awesome number!\n",
      "5 is a pretty un-cool number\n"
     ]
    }
   ],
   "source": [
    "def awesome_checker(integer):\n",
    "    \"\"\"\n",
    "    Checks if an integer is awesome or not (divisible by 4, and the sum of its digits being divisible by 3),\n",
    "    and prints a message saying if the number is awesome or not.\n",
    "\n",
    "    NOTE: Here what is returned doesn't matter (as we're just interested in printing output). You can leave it blank (ie. just have `return`)\n",
    "    Eg.\n",
    "    >>> awesome_checker(12)\n",
    "    12 is an awesome number!\n",
    "    >>> awesome_checker(5)\n",
    "    5 is a pretty un-cool number\n",
    "\n",
    "    HINT: You can convert the number to a string to pull out the individual digits\n",
    "    \"\"\"\n",
    "    # Write your code here!\n",
    "    if integer % 4 == 0 and sum_digits(integer) % 3 == 0:\n",
    "        print(f\"{integer} is an awesome number!\")\n",
    "    else:\n",
    "        print(f\"{integer} is a pretty un-cool number\")\n",
    "    return None\n",
    "\n",
    "def sum_digits(integer):\n",
    "    \"\"\"Sums the digits of an integer.\n",
    "    Eg.\n",
    "    >>> sum_digits(12)\n",
    "    3\n",
    "    >>> sum_digits(123)\n",
    "    6\n",
    "    \"\"\"\n",
    "    # Write your code here!\n",
    "    integer = int(integer)\n",
    "    integer_str = str(integer)\n",
    "\n",
    "    total = 0\n",
    "    for digit in integer_str:\n",
    "        total = total + int(digit)\n",
    "    return total\n",
    "\n",
    "awesome_checker(12)\n",
    "awesome_checker(5)\n"
   ]
  },
  {
   "cell_type": "markdown",
   "id": "9a2e1102",
   "metadata": {},
   "source": [
    "---\n",
    "## Question 13:"
   ]
  },
  {
   "cell_type": "markdown",
   "id": "dc8ef7be",
   "metadata": {},
   "source": [
    "Write your own question!!! What are you interested in? Maybe you have a bunch of files to rename, maybe you're interested in doing some other mathsy stuff, or make a little game.\n",
    "\n",
    "With coding, the sky is the limit!\n",
    "\n",
    "If you have an idea (no matter how complex), but no clue where to start, talk to a tutor! They can give you the right direction to go in.\n",
    "\n",
    "Once we learn packages next workshop, the opportunities really open up."
   ]
  },
  {
   "cell_type": "markdown",
   "id": "540a9dac",
   "metadata": {},
   "source": [
    "---\n",
    "That's it for this workshops questions! The best (and I mean BEST) way to learn to code is through practice and personal projects. Set yourself mini-projects or things that you are interested in, and then work on them. Get that goldilocks project that isn't insanely hard, but still challenging enough to give you a chance to learn a lot. Rinse, repeat and you'll master coding!\n",
    "\n",
    "> And if you don't believe that you can do anything in coding or Python, check out [this video](https://www.youtube.com/watch?v=PXj1I-77o20) (made 100% using Python). A bit of a shameless plug, sorry not sorry.  \n",
    "> -Nick\n"
   ]
  }
 ],
 "metadata": {
  "kernelspec": {
   "display_name": "Python 3.8.9 64-bit",
   "language": "python",
   "name": "python3"
  },
  "language_info": {
   "codemirror_mode": {
    "name": "ipython",
    "version": 3
   },
   "file_extension": ".py",
   "mimetype": "text/x-python",
   "name": "python",
   "nbconvert_exporter": "python",
   "pygments_lexer": "ipython3",
   "version": "3.8.9"
  },
  "vscode": {
   "interpreter": {
    "hash": "e7022d8e2ca52013584f7e7afd986150026516a33417e09866a3b22a4e29a2a5"
   }
  }
 },
 "nbformat": 4,
 "nbformat_minor": 5
}
