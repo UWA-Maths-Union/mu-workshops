{
 "cells": [
  {
   "cell_type": "markdown",
   "id": "654b5690",
   "metadata": {
    "slideshow": {
     "slide_type": "slide"
    }
   },
   "source": [
    "# Workshop 1 Python Exercises: Questions\n",
    "**UWA Maths Union**  \n",
    "questions created by *Nick Hodgskin , Dathan Tran and Lucas Siciliano*\n",
    "\n",
    "---\n",
    "**FAQ:** What are those `\"\"\"` blocks after the function definitions? Those are doc-strings!\n",
    "\n",
    "By using `\"\"\"` we can define strings that go over multiple lines. These are commonly used by themselves to act as multiline comments (as opposed to `#` for single line comments). If they're placed straight after a function definition, they're called a docstring! As a matter of fact, every time we call `help(...)` on a function, we are actually getting the docstring in the output!"
   ]
  },
  {
   "cell_type": "markdown",
   "id": "24696d20",
   "metadata": {
    "slideshow": {
     "slide_type": "slide"
    }
   },
   "source": [
    "---\n",
    "## Question 1:"
   ]
  },
  {
   "cell_type": "markdown",
   "id": "901936c1",
   "metadata": {
    "slideshow": {
     "slide_type": "subslide"
    }
   },
   "source": [
    "Given an list of circle radii, calculate the sum of the circle areas."
   ]
  },
  {
   "cell_type": "code",
   "execution_count": 3,
   "id": "5797249e",
   "metadata": {},
   "outputs": [],
   "source": [
    "radii = [2, 4, 3.14, 8, 1, 2, 6]\n",
    "# The result should be 423.673570764\n",
    "# Write your code here!\n"
   ]
  },
  {
   "cell_type": "markdown",
   "id": "cfdb35fb",
   "metadata": {
    "slideshow": {
     "slide_type": "slide"
    }
   },
   "source": [
    "---\n",
    "## Question 2:"
   ]
  },
  {
   "cell_type": "markdown",
   "id": "6b5eeaca",
   "metadata": {
    "slideshow": {
     "slide_type": "slide"
    }
   },
   "source": [
    "Create a function called `sum_to_n` that calculates and returns $\\sum_{i=1}^n i$"
   ]
  },
  {
   "cell_type": "code",
   "execution_count": null,
   "id": "5c949adc",
   "metadata": {},
   "outputs": [],
   "source": [
    "def sum_to_n(n):\n",
    "    \"\"\"\n",
    "    Returns the sum of all numbers from 1 to n\n",
    "    Eg.\n",
    "    >>> sum_to_n(5)\n",
    "    15\n",
    "    >>> sum_to_n(3)\n",
    "    6\n",
    "    \"\"\"\n",
    "    # Write your code here!\n",
    "    return\n"
   ]
  },
  {
   "cell_type": "markdown",
   "id": "f880f7ad",
   "metadata": {},
   "source": [
    "---\n",
    "## Question  3:"
   ]
  },
  {
   "cell_type": "markdown",
   "id": "b7c7ae77",
   "metadata": {},
   "source": [
    "Create two functions. `to_fahrenheit` which converts celcius to fahrenheit, and `to_celsius` to convert fahrenheit to Celsius.\n",
    "Note: The equation for conversion is $C=\\frac{(F-32)\\times 5}{9}$"
   ]
  },
  {
   "cell_type": "code",
   "execution_count": 1,
   "id": "3a644f58",
   "metadata": {},
   "outputs": [],
   "source": [
    "def to_celsius(f):\n",
    "    \"\"\"\n",
    "    Takes in a temperature in Fahrenheit and returns the temperature in Celsius\n",
    "    Eg.\n",
    "    >>> to_celsius(212)\n",
    "    100.0\n",
    "    >>> to_celsius(-40)\n",
    "    -40.0\n",
    "    \"\"\"\n",
    "    # Write your code here!\n",
    "    return\n",
    "\n",
    "\n",
    "def to_fahrenheit(c):\n",
    "    \"\"\"\n",
    "    Takes in a temperature in Celsius and returns the temperature in Fahrenheit\n",
    "    Eg.\n",
    "    >>> to_fahrenheit(100)\n",
    "    212.0\n",
    "    >>> to_fahrenheit(-40)\n",
    "    -40.0\n",
    "    \"\"\"\n",
    "    # Write your code here!\n",
    "    return\n"
   ]
  },
  {
   "cell_type": "code",
   "execution_count": null,
   "id": "dc732976",
   "metadata": {},
   "outputs": [],
   "source": []
  },
  {
   "cell_type": "markdown",
   "id": "473d00f7",
   "metadata": {
    "slideshow": {
     "slide_type": "slide"
    }
   },
   "source": [
    "---\n",
    "## Question 4:"
   ]
  },
  {
   "cell_type": "markdown",
   "id": "777e9310",
   "metadata": {},
   "source": [
    "Create a function `compound_interest` that calculates the final value of a compounding investment."
   ]
  },
  {
   "cell_type": "markdown",
   "id": "17077cce",
   "metadata": {},
   "source": [
    "Extension: you can't use exponentiation ( ** ) (This implementation is only expected to work with integer values for time)"
   ]
  },
  {
   "cell_type": "code",
   "execution_count": null,
   "id": "ffe9d1df",
   "metadata": {},
   "outputs": [],
   "source": [
    "def compound_interest(principal,rate,time):\n",
    "    \"\"\"\n",
    "    Takes in the principal, rate, and time and returns the amount of money after the time has passed\n",
    "    Eg.\n",
    "    >>> compound_interest(1000,0.05,1)\n",
    "    1050.0\n",
    "    >>> compound_interest(500,0.1,2)\n",
    "    605.0\n",
    "    \"\"\"\n",
    "    # Write your code here!\n",
    "    return\n",
    "    "
   ]
  },
  {
   "cell_type": "markdown",
   "id": "a0d28220",
   "metadata": {
    "slideshow": {
     "slide_type": "slide"
    }
   },
   "source": [
    "---\n",
    "## Question 5:"
   ]
  },
  {
   "cell_type": "markdown",
   "id": "b0e6ed65",
   "metadata": {},
   "source": [
    "Given a quadratic equation in the form $ax^2+bx+c=0$, write a function `quadratic_solutions` that returns the number real solutions to the equation.\n",
    "\n",
    "HINT: The quadratic equation."
   ]
  },
  {
   "cell_type": "code",
   "execution_count": null,
   "id": "6f48e2ce",
   "metadata": {},
   "outputs": [],
   "source": [
    "def quadratic_solutions(a,b,c):\n",
    "    \"\"\"\n",
    "    Takes in the coefficients of a quadratic equation and returns the number of real solutions\n",
    "    Eg.\n",
    "    >>> quadratic_solutions(1,0,-4)\n",
    "    2\n",
    "    >>> quadratic_solutions(1,0,0)\n",
    "    1\n",
    "    >>> quadratic_solutions(1,0,4)\n",
    "    'No real solutions'\n",
    "    \"\"\"\n",
    "    # Write your code here!\n",
    "    return\n"
   ]
  },
  {
   "cell_type": "markdown",
   "id": "cfdde7ba",
   "metadata": {
    "slideshow": {
     "slide_type": "slide"
    }
   },
   "source": [
    "---\n",
    "## Question 6:"
   ]
  },
  {
   "cell_type": "markdown",
   "id": "85056823",
   "metadata": {},
   "source": [
    "A restaurant wants you to write a function `is_restaurant_busy` that determines it will be busy on a given night.\n",
    "\n",
    "On the weekend, it is always busy. In the week, it is only busy on \"sunny\" days. Write a function that returns True if the restaurant is busy and False if it is not."
   ]
  },
  {
   "cell_type": "code",
   "execution_count": null,
   "id": "9a8f0142",
   "metadata": {},
   "outputs": [],
   "source": [
    "def is_restaurant_busy(weather, time_of_week):\n",
    "    \"\"\"\n",
    "    Takes in the weather and the week and returns True\n",
    "    if the restaurant is busy and False if it is not.\n",
    "\n",
    "    Parameters:\n",
    "    weather: \"sunny\" or \"rainy\"\n",
    "    time_of_week: \"weekday\" or \"weekend\"\n",
    "\n",
    "    Eg.\n",
    "    >>> is_restaurant_busy(\"sunny\", \"weekday\")\n",
    "    True\n",
    "    >>> is_restaurant_busy(\"rainy\", \"weekday\")\n",
    "    False\n",
    "    >>> is_restaurant_busy(\"rainy\", \"weekend\")\n",
    "    True\n",
    "\n",
    "    \"\"\"\n",
    "    # Write your code here!\n",
    "    return"
   ]
  },
  {
   "cell_type": "markdown",
   "id": "347b5e9a",
   "metadata": {
    "slideshow": {
     "slide_type": "slide"
    }
   },
   "source": [
    "---\n",
    "## Question 7:"
   ]
  },
  {
   "cell_type": "markdown",
   "id": "b4c7fe0c",
   "metadata": {},
   "source": [
    "Create a function `to_decimal` that converts a binary number into decimal. A binary string represents a number by decomposing it into powers of two, including a specific power if it has a 1 in that position, and not including it if it has a 0 in that position\n",
    "\n",
    "Eg: 11001 can be converted by calculating $1\\times 2^4 + 1\\times 2^3 + 0\\times 2^2+0\\times 2^1+1\\times 2^0=25$"
   ]
  },
  {
   "cell_type": "code",
   "execution_count": 1,
   "id": "bc85f088",
   "metadata": {},
   "outputs": [],
   "source": [
    "def to_decimal(bin_num):\n",
    "    \"\"\"\n",
    "    Takes in a binary number and returns the decimal equivalent.\n",
    "    NOTE: bin_num can be a string of 1s and 0s or an integer.\n",
    "\n",
    "    Eg.\n",
    "    >>> to_decimal(1010)\n",
    "    10\n",
    "    >>> to_decimal(\"11001\")\n",
    "    25\n",
    "    \"\"\"\n",
    "    # Write your code here!\n",
    "    return\n"
   ]
  },
  {
   "cell_type": "markdown",
   "id": "6cb01be6",
   "metadata": {
    "slideshow": {
     "slide_type": "slide"
    }
   },
   "source": [
    "---\n",
    "## Question 8:"
   ]
  },
  {
   "cell_type": "markdown",
   "id": "5cd60618",
   "metadata": {},
   "source": [
    "Create a function that determines the factorial of a given integer WITHOUT importing the factorial function from `math`."
   ]
  },
  {
   "cell_type": "code",
   "execution_count": null,
   "id": "436193d0",
   "metadata": {},
   "outputs": [],
   "source": [
    "def factorial(n):\n",
    "    \"\"\"\n",
    "    Takes in a number and returns the factorial of that number.\n",
    "    Eg.\n",
    "    >>> factorial(5)\n",
    "    120\n",
    "    >>> factorial(3)\n",
    "    6\n",
    "    \"\"\"\n",
    "    # Write your code here!\n",
    "    return"
   ]
  },
  {
   "cell_type": "markdown",
   "id": "f8a488cd",
   "metadata": {
    "slideshow": {
     "slide_type": "slide"
    }
   },
   "source": [
    "---\n",
    "## Question 9:"
   ]
  },
  {
   "cell_type": "markdown",
   "id": "dc1bc075",
   "metadata": {},
   "source": [
    "Chad wants to invest his life savings into crypto. Each day, the market has a 30% chance to increase by 30% and a 70% chance to decrease by 15%. Write a function `crypto_simulation` which simulates the value of his investment after n days. Assume his initial investment was 1 dollar.\n",
    "\n",
    "Is this is a good investment for Chad?\n",
    "\n",
    "HINT: Use the random module! You need to import it first (see example in Juypter notebook).\n",
    "\n",
    "EXTENSION: How can we extend the function to take an initial investment amount?"
   ]
  },
  {
   "cell_type": "code",
   "execution_count": null,
   "id": "a068cd5b",
   "metadata": {},
   "outputs": [],
   "source": [
    "def crypto_simulation(n):\n",
    "    \"\"\"\n",
    "    Runs a crypto simulation.\n",
    "\n",
    "    Takes in a number `n` (the number of days the crypto-currency will be simulated) and \n",
    "    returns the final revenue.\n",
    "    Eg.\n",
    "    No examples here, since its a random simulation :)\n",
    "    \"\"\"\n",
    "    # Write your code here!\n",
    "    return"
   ]
  },
  {
   "cell_type": "markdown",
   "id": "d8fc56a9",
   "metadata": {
    "slideshow": {
     "slide_type": "slide"
    }
   },
   "source": [
    "---\n",
    "## Question 10:"
   ]
  },
  {
   "cell_type": "markdown",
   "id": "3bd61585",
   "metadata": {},
   "source": [
    "Create a function `mean` that calculates the mean of a list of numbers.\n",
    "\n",
    "Hint: python has a built-in length function: len(list)."
   ]
  },
  {
   "cell_type": "code",
   "execution_count": null,
   "id": "5e212a81",
   "metadata": {},
   "outputs": [],
   "source": [
    "def mean(lst):\n",
    "    \"\"\"\n",
    "    A function that calculates the arithmetic mean of a list of numeric values.\n",
    "    Eg.\n",
    "    >>> mean([1,2,3,4,5])\n",
    "    3.0\n",
    "\n",
    "    NOTE: We use `lst` as a variable name to avoid masking the built-in function `list`.\n",
    "    \"\"\"\n",
    "    # Write your code here!\n",
    "    return\n",
    "    "
   ]
  },
  {
   "cell_type": "markdown",
   "id": "0977a3b6",
   "metadata": {
    "slideshow": {
     "slide_type": "slide"
    }
   },
   "source": [
    "---\n",
    "## Question 11:"
   ]
  },
  {
   "cell_type": "markdown",
   "id": "b93fb290",
   "metadata": {},
   "source": [
    "Create a function `neighbour_numbers` that when given a list of numbers, return True if there is a number repeated back to back in the list. Otherwise it returns False."
   ]
  },
  {
   "cell_type": "code",
   "execution_count": null,
   "id": "506acfcc",
   "metadata": {},
   "outputs": [],
   "source": [
    "def neighbour_numbers(lst):\n",
    "    \"\"\"\n",
    "    A function that takes in a list of numbers and returns True if there is a neighbour pair of numbers. Otherwise returns False.\n",
    "    Eg.\n",
    "    >>> neighbour_numbers([1,2,3,4,5])\n",
    "    False\n",
    "    >>> neighbour_numbers([1,2,3,4,4])\n",
    "    True\n",
    "    \"\"\"\n",
    "    # Write your code here!\n",
    "    return"
   ]
  },
  {
   "cell_type": "markdown",
   "id": "b5577c4b",
   "metadata": {
    "slideshow": {
     "slide_type": "slide"
    }
   },
   "source": [
    "---\n",
    "## Question 12:"
   ]
  },
  {
   "cell_type": "markdown",
   "id": "8c35bf27",
   "metadata": {},
   "source": [
    "A number is an “awesome number” if it is divisible by 4 and the sum of its digits are divisible by 3. Create a function `awesome_checker` that prints a message that contains the given integer and states whether it is awesome or not.\n",
    "\n",
    "Eg: awesome_checker(12) should print \"12 is an awesome number!\" and awesome_checker(5) should print \"5 is a pretty un-cool number :(\""
   ]
  },
  {
   "cell_type": "code",
   "execution_count": null,
   "id": "4cf90629",
   "metadata": {},
   "outputs": [],
   "source": [
    "def awesome_checker(integer):\n",
    "    \"\"\"\n",
    "    Checks if an integer is awesome or not (divisible by 4, and the sum of its digits being divisible by 3),\n",
    "    and prints a message saying if the number is awesome or not.\n",
    "\n",
    "    NOTE: Here what is returned doesn't matter (as we're just interested in printing output). You can leave it blank (ie. just have `return`)\n",
    "    Eg.\n",
    "    >>> awesome_checker(12)\n",
    "    12 is an awesome number!\n",
    "    >>> awesome_checker(5)\n",
    "    5 is a pretty un-cool number\n",
    "\n",
    "    HINT: You can convert the number to a string to pull out the individual digits\n",
    "    \"\"\"\n",
    "    # Write your code here!\n",
    "    return\n",
    "    "
   ]
  },
  {
   "cell_type": "markdown",
   "id": "9a2e1102",
   "metadata": {},
   "source": [
    "---\n",
    "## Question 13:"
   ]
  },
  {
   "cell_type": "markdown",
   "id": "dc8ef7be",
   "metadata": {},
   "source": [
    "Write your own question!!! What are you interested in? Maybe you have a bunch of files to rename, maybe you're interested in doing some other mathsy stuff, or make a little game.\n",
    "\n",
    "With coding, the sky is the limit!\n",
    "\n",
    "If you have an idea (no matter how complex), but no clue where to start, talk to a tutor! They can give you the right direction to go in.\n",
    "\n",
    "Once we learn packages next workshop, the opportunities really open up."
   ]
  },
  {
   "cell_type": "markdown",
   "id": "540a9dac",
   "metadata": {},
   "source": [
    "---\n",
    "That's it for this workshops questions! The best (and I mean BEST) way to learn to code is through practice and personal projects. Set yourself mini-projects or things that you are interested in, and then work on them. Get that goldilocks project that isn't insanely hard, but still challenging enough to give you a chance to learn a lot. Rinse, repeat and you'll master coding!\n",
    "\n",
    "> And if you don't believe that you can do anything in coding or Python, check out [this video](https://www.youtube.com/watch?v=PXj1I-77o20) (made 100% using Python). A bit of a shameless plug, sorry not sorry.  \n",
    "> -Nick\n"
   ]
  }
 ],
 "metadata": {
  "kernelspec": {
   "display_name": "Python 3.8.9 64-bit",
   "language": "python",
   "name": "python3"
  },
  "language_info": {
   "codemirror_mode": {
    "name": "ipython",
    "version": 3
   },
   "file_extension": ".py",
   "mimetype": "text/x-python",
   "name": "python",
   "nbconvert_exporter": "python",
   "pygments_lexer": "ipython3",
   "version": "3.8.9"
  },
  "vscode": {
   "interpreter": {
    "hash": "e7022d8e2ca52013584f7e7afd986150026516a33417e09866a3b22a4e29a2a5"
   }
  }
 },
 "nbformat": 4,
 "nbformat_minor": 5
}
