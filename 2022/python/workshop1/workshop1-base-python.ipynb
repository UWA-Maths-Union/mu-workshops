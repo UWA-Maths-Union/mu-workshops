{
 "cells": [
  {
   "cell_type": "markdown",
   "metadata": {
    "slideshow": {
     "slide_type": "slide"
    }
   },
   "source": [
    "# Python Series | Part 1: Jupyter Notebook and Base Python\n",
    "**UWA Maths Union**  \n",
    "written and presented by *Nick Hodgskin*\n",
    "\n",
    "Workshop drive and resources:\n",
    "- Google Drive\n",
    "\n",
    "---"
   ]
  },
  {
   "cell_type": "markdown",
   "metadata": {
    "slideshow": {
     "slide_type": "slide"
    }
   },
   "source": [
    "## Structure of these workshops\n",
    "- Workshop 1\n",
    "    - Goes over many of the foundations of Python including base Python, while still being a ~2 hour workshop\n",
    "    - Already done an intro to Python course? There will be a lot of overlap with this workshop (particularly the \"Base Python\" component)\n",
    "- Workshop 2\n",
    "    - Goes over two of the fundamental scientific computing packages (numpy and matplotlib), and how to use them in mathematical contexts.\n",
    "    \n",
    "**Can't get enough Python?**:  \n",
    "There are many amazing free courses online that cover the topics in these workshops. These courses also cover `pandas` (not covered in these workshops), an amazing tool for dealing with heterogenous CSV/tabular data.\n",
    "\n",
    "- [Kaggle Learn](https://www.kaggle.com/learn): Has course modules covering topics relevant to data science (free platform)\n",
    "- [Datacamp](https://www.datacamp.com/): Has many course modules covering topics relevant to data science (paid platform; 3 month free trial with [GitHub student developer pack](https://education.github.com/pack) which also comes with many other perks (free Canva Pro, GitHub pro, etc.))\n",
    "- Coursera and EdX: Free access to thousands of online, university courses on a variety of different topics ([UWA has a license for Coursera](https://www.uwa.edu.au/education/educational-enhancement-unit/Strategic-Projects/Coursera) allowing you to get the completion certificates for free).\n",
    "- YouTube: eg. Freecodecamp, Tech with Tim, Keith Galli, Corey Schafer\n",
    "- [Awesome Python](https://github.com/vinta/awesome-python): A curated list of awesome Python packages and libraries\n",
    "\n",
    "## Disclaimer\n",
    "Workshop 1 is a lot to take in (its effectively packing 60% of a unit into one workshop). This notebook is very comprehensive, making it a good resource to come back to if you want to remember how something was done.\n",
    "\n",
    "## Table of contents\n",
    "- [Python Series | Part 1: Jupyter Notebook and Base Python](#Python-Series-|-Part-1:-Jupyter-Notebook-and-Base-Python)\n",
    "  - [Structure of these workshops](#Structure-of-these-workshops)\n",
    "  - [Table of contents](#Table-of-contents)\n",
    "  - [Some vocabulary](#Some-vocabulary)\n",
    "- [Python from a macro view and intro to Jupyter](#Python-from-a-macro-view-and-intro-to-Jupyter)\n",
    "  - [Why bother with coding?](#Why-bother-with-coding?)\n",
    "    - [The programming mindset](#The-programming-mindset)\n",
    "  - [What is Python and why is it important?](#What-is-Python-and-why-is-it-important?)\n",
    "    - [Python being easy to read](#Python-being-easy-to-read)\n",
    "    - [Python's package ecosystem](#Python's-package-ecosystem)\n",
    "    - [The Python pipeline](#The-Python-pipeline)\n",
    "  - [Jupyter: Our programming environment](#Jupyter:-Our-programming-environment)\n",
    "    - [My first notebook](#My-first-notebook)\n",
    "- [Base Python](#Base-Python)\n",
    "  - [Base data types](#Base-data-types)\n",
    "  - [Assigning variables](#Assigning-variables)\n",
    "    - [Rules for variable names](#Rules-for-variable-names)\n",
    "    - [Type conversion](#Type-conversion)\n",
    "  - [Data manipulation](#Data-manipulation)\n",
    "    - [Mathematical operations](#Mathematical-operations)\n",
    "    - [Mathematical operations for strings and lists](#Mathematical-operations-for-strings-and-lists)\n",
    "  - [Comparison, logical and membership operators](#Comparison,-logical-and-membership-operators)\n",
    "  - [Logical flow](#Logical-flow)\n",
    "    - [if/else statements](#if/else-statements)\n",
    "    - [loops](#loops)\n",
    "        - [the `range` object](#the-`range`-object)\n",
    "      - [Stopping a loop](#Stopping-a-loop)\n",
    "    - [Functions](#Functions)\n",
    "      - [An issue of scope](#An-issue-of-scope)\n",
    "  - [Time for some practice!](#Time-for-some-practice!)\n",
    "  - [Some simple packages](#Some-simple-packages)\n",
    "  - [More data manipulation](#More-data-manipulation)\n",
    "    - [Mutable vs immutable](#Mutable-vs-immutable)\n",
    "  - [Working with lists](#Working-with-lists)\n",
    "    - [List methods](#List-methods)\n",
    "    - [List indexing and slicing](#List-indexing-and-slicing)\n",
    "      - [Slicing](#Slicing)\n",
    "  - [Last but not least, my favourite Python feature (.format and f-strings)](#Last-but-not-least,-my-favourite-Python-feature-(.format-and-f-strings))\n",
    "- [Conclusion](#Conclusion)\n"
   ]
  },
  {
   "cell_type": "markdown",
   "metadata": {},
   "source": [
    "## Some vocabulary\n",
    "- **IDE**: Short for \"interactive development environment\". This is the app that you use to write your code (\"Notepad\" is an IDE! Just a bad one with no syntax highlighting, or button to run code).\n",
    "- **Python interpretter**: This is the Python engine that executes your Python file. When we \"install Python\" (from the [Python website](https://www.python.org/downloads/), we are installing the Python interpretter. Anaconda comes with its own Python interpretter packaged in.\n",
    "- **Packages**: Code written by others geared towards solving specific tasks. They can be thought of as \"mods\" which extend the capabilities of base Python.\n",
    "- **alias**: Usually when importing packages we give them short aliases (like `np`) in order to make them quicker to write.\n",
    "- **PyPI**: Python Package Index, this is the online repository where packages are stored.\n",
    "- **pip**: The de-facto command line tool used to install Python packages, which are often downloaded by pip from PyPI. Stands for \"pip installs packages\" (cool hey! A recursive acryonym).\n",
    "- **Anaconda**: An installation of Python that comes with all the common scientific computing packages already installed. Anaconda also comes with conda, a command line tool comparable to pip for installing packages.\n",
    "- **API**: Application programming interface. In the context of packages, the API is the interface for the package (the instructions you can use to interact with the package). Packages often come with an API reference (documentation about functions and commands related to that package).\n",
    "- **Refactor**: The act of rewriting or reorganising code in order to make it neater, easier to understand, or more efficient, without affecting the result from the code execution.\n",
    "  \n",
    "---\n",
    "- **[Jupyter](https://jupyter.org/about)**: An open source, non-profit project supporting interactive data science and scientific computing. Two major contributions from this project are the Jupyter Notebook and Jupyter Lab applications. Since Jupyter Notebook and Jupyter Lab are similar in functionality, we can use Jupyter to refer to either of them.\n",
    "- **iPython Notebook**: A file format that contains a mixture of markdown text (paragraphs, tables, images) as well as executable code. The file extension for this file is `.ipynb`.\n",
    "- **Jupyter Notebook**: An application developped by Jupyter used to edit, view and run iPython notebooks. \"A jupyter notebook\" can also refer to an iPython notebook.\n",
    "- **Jupyter Lab**: An application developped by Jupyter as a successor to Jupyter Notebook. It is also used to edit, view and run iPython notebooks, however has more features (particularly around viewing several notebooks, viewing your folder structure, and editting other files). This makes Jupyter Lab a more capable IDE.\n",
    "---\n",
    "- **variable**: A piece of data that has been assigned to a name within a program for use later in the program\n",
    "- **function**: A re-usable block of code with input arguments, and an output defined using a return statement\n",
    "- **argument**: An input to a function\n",
    "- **loop**: A block of code that repeats an arbitrary number of times\n",
    "- **if statement**: A block of code that executes only if a certain condition is met\n"
   ]
  },
  {
   "cell_type": "markdown",
   "metadata": {},
   "source": [
    "# Python from a macro view and intro to Jupyter"
   ]
  },
  {
   "cell_type": "markdown",
   "metadata": {
    "slideshow": {
     "slide_type": "slide"
    }
   },
   "source": [
    "## Why bother with coding?\n",
    "> Being able to code is being able to have absolute control over your computer to solve any problem that you are interested in."
   ]
  },
  {
   "cell_type": "markdown",
   "metadata": {},
   "source": [
    "Modern computers are amazing and can do millions upon millions of calculations a second. Being able to fully harness and control computers allows us to embark on calculations we wouldn't even dream of doing by hand (most often because they are too repetitive to do by hand). \n",
    "\n",
    "As mathematicians (particularly applied mathematicians and statisticians), coding opens up whole new fields of mathematics that are driven by simulations and other large calculations. Want to know the best property to buy in Monopoly? Why not code a simulation up for it? Former UWA alumnus, Matt Parker, [did exactly that](https://www.youtube.com/watch?v=ubQXz5RBBtU) 😉.\n",
    "\n",
    "The possibilities with Python are out of this world. You can use it for many different projects including:\n",
    "- Automatically editting videos\n",
    "- Scraping data from a website\n",
    "- Making mathematical animations (like those done by 3Blue1Brown)\n",
    "- Building website servers\n",
    "- Data manipulation\n",
    "- Data cleaning\n",
    "- Generating data visualisations\n",
    "- Building AI\n",
    "- Mathematical simulations\n",
    "- and way, way more...\n",
    "\n",
    "Rather than go down an infinite rabit-hole of possibilities, in this series of workshops we're focussed on the mathematical uses of Python."
   ]
  },
  {
   "cell_type": "markdown",
   "metadata": {},
   "source": [
    "### The programming mindset\n",
    "> Coding is 80% problem solving, and 20% syntax. Master the problem solving aspect and you're 80% there to being a great programmer."
   ]
  },
  {
   "cell_type": "markdown",
   "metadata": {},
   "source": [
    "Just like in maths where we break down a problem into a series of *mathematical steps* that need to be completed to arrive at the conclusion, when coding we break down a problem into a series of *computational steps* in order to arrive at the conclusion. Being able to boil a problem down into the smaller problems and individual steps is hands-down **THE MOST IMPORTANT PART OF CODING**. Once you break down the problem into the individual steps, the remaining part is just translating those steps into the Python language (which can then be understood by the Python interpretter).\n",
    "\n",
    "I can't overstate how important the problem solving aspect of coding is. Diving straight into writing code without having an idea of how the problem will be solved is a recipe for headache and wasted time. Planning out your approach mentally or on paper allows you to get the steps sorted out, and then the remaining piece is just translating it into code. You may have heard \"your first programming language is the hardest to learn\", and that is partly due to getting a grip on this problem solving aspect.\n"
   ]
  },
  {
   "cell_type": "markdown",
   "metadata": {
    "slideshow": {
     "slide_type": "subslide"
    }
   },
   "source": [
    "## What is Python and why is it important?\n",
    "> Python, the easy-to-read \"jack of all trades\" language that is adored by the scientific computing and data community. It is one of the top 3 most popular programming languages.\n"
   ]
  },
  {
   "cell_type": "markdown",
   "metadata": {},
   "source": [
    "### Python being easy to read\n",
    "Python is loved since it is easy to read, almost to the point where it's like reading English. This makes it easy to understand others code, and to prototype and test out new ideas. Lets compare some C code versus some Python code. Here we go through a list and just display each item:  \n",
    "**C code**\n",
    "```c\n",
    "// for loop through list of integers and printing each element\n",
    "int main()\n",
    "{\n",
    "    int i;\n",
    "    int list[5] = {1, 2, 3, 4, 5};\n",
    "    for (i = 0; i < 5; i++)\n",
    "    {\n",
    "        printf(\"%d\\n\", list[i]);\n",
    "    }\n",
    "    return 0;\n",
    "}\n",
    "```\n",
    "\n",
    "**Python code**\n",
    "```python\n",
    "# for loop through list of integers and printing each element\n",
    "for element in [1, 2, 3, 4, 5]:\n",
    "    print(element)\n",
    "```\n",
    "\n",
    "### Python's package ecosystem\n",
    "Since Python is so popular there are a lot of packages that have been developped for a range of different tasks. Basically packages is code written by others geared towards solving specific classes of problems (eg. like downloading data from websites, working with CSV data, or doing plotting). They can be thought of as \"mods\" which extend the capabilities of base Python.\n",
    "\n",
    "Popular packages are often worked on by huge communities ([numpy](https://github.com/numpy/numpy) has over 1000 contributors), so the code is optimised and the frameworks are versatile and elegant. Popular packages also come with lots of documentation on how to use them, including instructions and API references. Working with these packages often results in much cleaner code (as these frameworks have been refined) and code that is easier for others to understand as they probably use the same package.\n",
    "\n",
    "We'll talk more about packages, and introduce `numpy` and `matplotlib` in the next workshop. In this workshop we focus on base Python.\n",
    "\n",
    "### The Python pipeline\n",
    "When you write code, you write it in a Python file (a file ending in `.py` for Python scripts, or `.ipynb` for iPython/interactive Python notebooks. More on notebooks when we talk about Jupyter). To see and edit file extensions you'll need to update your settings accordingly ([Windows](https://vtcri.kayako.com/article/296-view-file-extensions-windows-10) and [MacOS](https://support.apple.com/en-au/guide/mac-help/mchlp2304/mac)).\n",
    "\n",
    "The program used to write the code is called the IDE (interactive development environment). This can be VScode (a very popular and feature-rich IDE), Jupyter (which is particularly useful for working with `.ipynb` files), or even any text editor. Of course VScode and Jupyter would have more features for coding than a normal text editor. \n",
    "\n",
    "When we want to run our Python script (`.py` file) we pass the file to the interpretter (we can do this by calling `python my_file.py` in the terminal. Good IDEs normally have a \"run code\" button that will call `python ...` on the file for you). We'll be working with iPython Notebooks rather than scripts  \n",
    "For `.ipynb` notebooks, the story is a bit different as we'll see just now.\n",
    "\n",
    "\n",
    "\n",
    "\n",
    "\n",
    "\n",
    "\n"
   ]
  },
  {
   "cell_type": "markdown",
   "metadata": {},
   "source": [
    "## Jupyter: Our programming environment\n",
    "There are many different IDEs we can use to edit iPython notebooks. In [workshop 0](https://statuesque-bubbler-6af.notion.site/05daea2a53594b578b3b920a6b1095c2) we went through these IDEs. Some are:\n",
    "- Jupyter Lab\n",
    "- Jupyter Notebook (my choice today)\n",
    "- Google Colab (online environment. Right click in your Google Drive > More > Google Collaboratory)\n",
    "- VScode\n",
    "\n",
    "If you have Anaconda installed, search for \"Anaconda Navigator\". Here you can launch Jupyter Notebook or Jupyter Lab. If your installation is correctly configured, you can also launch from the terminal by typing `jupyter notebook` or `jupyter lab`. Having issues or don't have Anaconda? Use Google Colab.\n",
    "\n",
    "### My first notebook\n",
    "A notebook consists of cells/blocks that are either markdown or code.\n",
    "Live showcase time:\n",
    "- Two scopes: Navigating cells vs navigating in a cell\n",
    "- Using the GUI\n",
    "- Using shortcuts (Help > Keyboard shortcuts)\n",
    "    - Ctrl+Enter: Run current cell\n",
    "    - Ctrl+/: Comment out blocks of code\n",
    "    - Shift+Enter: Run and focus next cell\n",
    "    - DD: delete cell\n",
    "    - A: Insert cell above\n",
    "    - B: Insert cell below\n",
    "    - Shift+Tab: Function help documentation\n",
    "- Running code (Jupyter remembers all)\n",
    "    - Resetting the kernel\n",
    "- Converting cell types\n"
   ]
  },
  {
   "cell_type": "markdown",
   "metadata": {},
   "source": [
    "# Base Python"
   ]
  },
  {
   "cell_type": "markdown",
   "metadata": {},
   "source": [
    "When we think of coding, there are generally 3 types of operations we can do:\n",
    "- Manipulating data\n",
    "- Storing data to be used later in the program\n",
    "- Controlling the logic flow in the program\n",
    "\n",
    "The last point is particularly important for writing good (ie. non-repetitive) code. Copying and pasting blocks of code is bad practice in programming if you aim to write neat, easily scalable code. The more you copy and paste something, the harder it becomes to change if requirements change."
   ]
  },
  {
   "cell_type": "markdown",
   "metadata": {},
   "source": [
    "## Base data types\n",
    "There are [15 data types that come in base Python](https://www.w3schools.com/python/python_datatypes.asp).  \n",
    "Some aren't used much, so we'll mention 10 of them here:\n"
   ]
  },
  {
   "cell_type": "code",
   "execution_count": 1,
   "metadata": {},
   "outputs": [
    {
     "data": {
      "text/plain": [
       "{'name': 'John', 'age': 36}"
      ]
     },
     "execution_count": 1,
     "metadata": {},
     "output_type": "execute_result"
    }
   ],
   "source": [
    "# NUMERIC TYPES\n",
    "1 # int (integer)\n",
    "1.0 # float (float: aka. decimal)\n",
    "1.0 + 1j # complex (complex: we use j because of engineering -_-)\n",
    "\n",
    "# TEXT TYPE\n",
    "\"hello there\" # str (string: text data. Can also use single quotations 'hello there')\n",
    "\n",
    "# SEQUENCES\n",
    "[1, 2, \"bob\"] # list (list: [] will give an empty list)\n",
    "(1, 2, \"bob\") # tup (tuple)\n",
    "range(10) # range (range: gives the numbers 0-9, more on this later)\n",
    "\n",
    "# BOOLEAN\n",
    "True # bool (boolean)\n",
    "False # bool (boolean)\n",
    "\n",
    "# NONE TYPE\n",
    "None # NoneType (kind of its own thing. Useful when an operation returns nothing, it can return None to show that)\n",
    "\n",
    "# MAPPING\n",
    "{\"name\" : \"John\", \"age\" : 36} # dict (dictionary)\n",
    "\n"
   ]
  },
  {
   "cell_type": "markdown",
   "metadata": {},
   "source": [
    "**NOTE:** With strings, the `\\` (backslash) character is a [bit special](https://www.pythontutorial.net/python-basics/python-backslash/). Its used in conjunction with some other letters to denote tabs and newlines (`\\t` and `\\n`). It can also be used to \"escape\" characters such as in `\"John said \\\"Hello there!\\\"\"` (which wouldn't be possible if we didn't escape as `\"` would end the string). Alternatively we could mix single quotes with double quotes to the same effect: `'John said \"Hello there!\"'`.\n",
    "\n",
    "\n",
    "\n",
    "As seen above, we use `#` to write comments. Everything on the line after the `#` will be regarded as a comment and won't be executed.\n",
    "Executing that cell, you may wonder why we can see the dictionary as text output below the cell but none of the other lines. This is because by default Jupyter calls `print()` on whatever the last line of your cell is. If you want to see the rest you want to call `print(...)` on them yourself."
   ]
  },
  {
   "cell_type": "code",
   "execution_count": 2,
   "metadata": {},
   "outputs": [
    {
     "name": "stdout",
     "output_type": "stream",
     "text": [
      "Hello world\n"
     ]
    }
   ],
   "source": [
    "print(\"Hello world\") # Our first program!"
   ]
  },
  {
   "cell_type": "markdown",
   "metadata": {},
   "source": [
    "Once we start storing variables, its sometimes good to remind ourselves what data type a variable is. This can be done by calling `type(...)` on the variable."
   ]
  },
  {
   "cell_type": "code",
   "execution_count": 3,
   "metadata": {},
   "outputs": [
    {
     "name": "stdout",
     "output_type": "stream",
     "text": [
      "<class 'str'>\n",
      "<class 'int'>\n"
     ]
    }
   ],
   "source": [
    "print(type(\"hello\"))\n",
    "x = 2\n",
    "print(type(x))"
   ]
  },
  {
   "cell_type": "markdown",
   "metadata": {},
   "source": [
    "## Assigning variables\n",
    "Ok, we know the data types available to us and how to create them. Next lets store them in variables, which will allow Python to remember the data.  \n",
    "\n",
    "Variables are created and updated using `=`. Whatever is on the right hand side of `=` is evaluated, and then plugged into the variable that is on the left hand side.\n",
    "\n",
    "**BEWARE MATHEMATICIANS**: `=` means ***assign*** NOT equals. We are *assigning* whatever is right of `=` into the variable name on the left. Base Python does not have the concept of rearranging equations, and defining relationships between variables (you **can't** just type `2=x+1` and expect Python to say `x` is 1; that's not a thing).\n"
   ]
  },
  {
   "cell_type": "code",
   "execution_count": 4,
   "metadata": {},
   "outputs": [
    {
     "name": "stdout",
     "output_type": "stream",
     "text": [
      "1\n",
      "hello there bob\n",
      "[0, 1, 'hello there bob']\n",
      "2\n"
     ]
    }
   ],
   "source": [
    "x = 1\n",
    "my_string = \"hello there bob\"\n",
    "my_list = [0, x, my_string] # Note that whats in the list are the variable names, not strings themselves\n",
    "print(x)\n",
    "print(my_string)\n",
    "print(my_list)\n",
    "\n",
    "x = x + 1 # Looks weird at first, but it means \"add 1 to x, and then reassign that back into x\"\n",
    "print(x)"
   ]
  },
  {
   "cell_type": "markdown",
   "metadata": {},
   "source": [
    "So what about the following? What will it execute to?"
   ]
  },
  {
   "cell_type": "code",
   "execution_count": 5,
   "metadata": {},
   "outputs": [
    {
     "name": "stdout",
     "output_type": "stream",
     "text": [
      "2\n",
      "1\n"
     ]
    }
   ],
   "source": [
    "x = 1\n",
    "y = x\n",
    "x = x + 1\n",
    "print(x)\n",
    "print(y)"
   ]
  },
  {
   "cell_type": "markdown",
   "metadata": {},
   "source": [
    "You may be surprised, but `y` only updates when we explicitly tell it to (using `=`). Saying `y=x` says \"assign 1 (the value of x) to y\" and not \"y equals x\""
   ]
  },
  {
   "cell_type": "markdown",
   "metadata": {},
   "source": [
    "### Rules for variable names\n",
    "You have lots of options for variable names, but there are [some rules](https://www.w3schools.com/python/gloss_python_variable_names.asp):\n",
    "- A variable name must start with a letter or the underscore character\n",
    "- A variable name cannot start with a number\n",
    "- A variable name can only contain alpha-numeric characters and underscores (A-z, 0-9, and _ )\n",
    "- Variable names are case-sensitive (age, Age and AGE are three different variables)\n",
    "\n",
    "In addition, there is a [list of keywords that are reserved for Python use](https://www.w3schools.com/python/python_ref_keywords.asp) (eg. True, False, None) which stright up can't be used as variable names.  \n",
    "\n",
    "There is also a [list of built-in Python functions](https://docs.python.org/3/library/functions.html) (like `sum` and `print`). Although Python won't stop you from assigning values to a built-in Python function, it will overwrite its functionality preventing you from using that function later in your code (which would be no beuno). And since this is Jupyter, you'll have to reset your kernel to get the original function back."
   ]
  },
  {
   "cell_type": "code",
   "execution_count": 6,
   "metadata": {},
   "outputs": [
    {
     "ename": "SyntaxError",
     "evalue": "invalid syntax (117137403.py, line 8)",
     "output_type": "error",
     "traceback": [
      "\u001b[1;36m  Input \u001b[1;32mIn [6]\u001b[1;36m\u001b[0m\n\u001b[1;33m    1asd = 1 # Starts with number\u001b[0m\n\u001b[1;37m     ^\u001b[0m\n\u001b[1;31mSyntaxError\u001b[0m\u001b[1;31m:\u001b[0m invalid syntax\n"
     ]
    }
   ],
   "source": [
    "# VALID VARIABLE NAMES\n",
    "var = 1\n",
    "_VAR = 1\n",
    "my_variable = 1\n",
    "abc123 = 1\n",
    "\n",
    "# INVALID VARIABLE NAMES\n",
    "1asd = 1 # Starts with number\n",
    "dash-var = 1 # Can't use - (thats minus)\n",
    "def = 1 # Reserved keyword\n"
   ]
  },
  {
   "cell_type": "markdown",
   "metadata": {},
   "source": [
    "### Type conversion\n",
    "During operations (discussed more in depth later), Python will do implicit type conversion for numeric types (shown in the example below).\n",
    "\n",
    "For other data types we'll need to make sure that we convert them to the appropriate types before working with them."
   ]
  },
  {
   "cell_type": "code",
   "execution_count": null,
   "metadata": {},
   "outputs": [
    {
     "ename": "TypeError",
     "evalue": "unsupported operand type(s) for +: 'int' and 'str'",
     "output_type": "error",
     "traceback": [
      "\u001b[1;31m---------------------------------------------------------------------------\u001b[0m",
      "\u001b[1;31mTypeError\u001b[0m                                 Traceback (most recent call last)",
      "Input \u001b[1;32mIn [13]\u001b[0m, in \u001b[0;36m<module>\u001b[1;34m\u001b[0m\n\u001b[0;32m      1\u001b[0m \u001b[38;5;241m1\u001b[39m \u001b[38;5;241m+\u001b[39m \u001b[38;5;241m1.1\u001b[39m \u001b[38;5;66;03m# int + float (the int, 1, is implicitly converted to a float before adding. Resulting in a float of 2.1)\u001b[39;00m\n\u001b[0;32m      2\u001b[0m \u001b[38;5;241m1\u001b[39m \u001b[38;5;241m+\u001b[39m \u001b[38;5;28mfloat\u001b[39m(\u001b[38;5;124m\"\u001b[39m\u001b[38;5;124m1.1\u001b[39m\u001b[38;5;124m\"\u001b[39m) \u001b[38;5;66;03m# WORKS: int + float (float keyword converts string to float)\u001b[39;00m\n\u001b[1;32m----> 3\u001b[0m \u001b[38;5;241;43m1\u001b[39;49m\u001b[43m \u001b[49m\u001b[38;5;241;43m+\u001b[39;49m\u001b[43m \u001b[49m\u001b[38;5;124;43m\"\u001b[39;49m\u001b[38;5;124;43m1.1\u001b[39;49m\u001b[38;5;124;43m\"\u001b[39;49m\n",
      "\u001b[1;31mTypeError\u001b[0m: unsupported operand type(s) for +: 'int' and 'str'"
     ]
    }
   ],
   "source": [
    "1 + 1.1 # int + float (the int, 1, is implicitly converted to a float before adding. Resulting in a float of 2.1)\n",
    "1 + float(\"1.1\") # WORKS: int + float (float keyword converts string to float)\n",
    "1 + \"1.1\" # DOESN'T WORK: int + string (can't add number and string)"
   ]
  },
  {
   "cell_type": "markdown",
   "metadata": {},
   "source": [
    "Reading the traceback, we can see the arrow indicates the line of the error (line 3). Although the first two lines ran okay, the 3rd line has an error. Reading the description we can see `TypeError: unsupported operand type(s) for +: 'int' and 'str'`. This means `+` is not defined for adding integers and strings (it doesn't make sense in Python to add numbers and text)."
   ]
  },
  {
   "cell_type": "markdown",
   "metadata": {},
   "source": [
    "## Data manipulation\n",
    "### Mathematical operations\n",
    "Onto mathematical operations!\n",
    "- `+`: Add\n",
    "- `-`: Subtract\n",
    "- `*`: Multiply\n",
    "- `/`: Divide\n",
    "- `**`: Raise to the power (**note its not `^`**)\n",
    "- `%`: Modulo\n",
    "- `//`: Integer/floor division  \n",
    "\n",
    "Note that Python follows BIMDAS, so we can use () in order to force order of operations.\n",
    "\n",
    "Extra reading: [assignment operators](https://www.w3schools.com/python/gloss_python_assignment_operators.asp) (nice to know, not necessary and just makes code look a little nicer/shorter)"
   ]
  },
  {
   "cell_type": "code",
   "execution_count": null,
   "metadata": {},
   "outputs": [
    {
     "name": "stdout",
     "output_type": "stream",
     "text": [
      "x + y = 5\n",
      "x - y = -1\n",
      "x * y = 6\n",
      "x / y = 0.6666666666666666\n",
      "x ** y = 8\n",
      "x % y = 2\n",
      "x // y = 0\n"
     ]
    }
   ],
   "source": [
    "x = 2\n",
    "y = 3\n",
    "print(\"x + y =\", x+y)\n",
    "print(\"x - y =\", x-y)\n",
    "print(\"x * y =\", x*y)\n",
    "print(\"x / y =\", x/y)\n",
    "print(\"x ** y =\", x**y)\n",
    "print(\"x % y =\", x%y) # If we have 2 / 3, we can think of that as 0 remainer 2. 2%3 gives 2, 2//3 gives 0\n",
    "print(\"x // y =\", x//y)\n"
   ]
  },
  {
   "cell_type": "markdown",
   "metadata": {},
   "source": [
    "We also have other mathematical functions built into Python:\n",
    "- `min(...)`\n",
    "- `max(...)`\n",
    "- `round(...)`\n",
    "- `abs(...)`\n",
    "- `pow(...)`  \n",
    "\n",
    "**IMPORTANT NOTE:** The great thing about Python is if you don't know how to use a function, just call `help(function_name)` on it. We can also press `Shift+Tab` when using the function to bring up help documentation (this will be something we'll use again in the next workshop)."
   ]
  },
  {
   "cell_type": "code",
   "execution_count": null,
   "metadata": {},
   "outputs": [
    {
     "name": "stdout",
     "output_type": "stream",
     "text": [
      "Help on built-in function round in module builtins:\n",
      "\n",
      "round(number, ndigits=None)\n",
      "    Round a number to a given precision in decimal digits.\n",
      "    \n",
      "    The return value is an integer if ndigits is omitted or None.  Otherwise\n",
      "    the return value has the same type as the number.  ndigits may be negative.\n",
      "\n",
      "None\n",
      "===\n",
      "3.142\n"
     ]
    }
   ],
   "source": [
    "print(help(round))\n",
    "print(\"===\")\n",
    "print(round(3.14159265, ndigits=3))"
   ]
  },
  {
   "cell_type": "markdown",
   "metadata": {},
   "source": [
    "### Mathematical operations for strings and lists\n",
    "Although not mathematical, Python does define behaviour for `+` and `*` for other default data types.\n",
    "- `str + str`: Concatenates two strings\n",
    "- `str * int`: Creates a new string that is repeated\n",
    "- `list + list`: Concatenates two lists\n",
    "- `list * int`: Creates a new list that is repeated"
   ]
  },
  {
   "cell_type": "code",
   "execution_count": null,
   "metadata": {},
   "outputs": [
    {
     "name": "stdout",
     "output_type": "stream",
     "text": [
      "Hello my name is James\n",
      "JamesJamesJames\n",
      "[1, 2, 3, 4, 5, 6]\n",
      "[1, 2, 3, 1, 2, 3]\n"
     ]
    }
   ],
   "source": [
    "name = \"James\"\n",
    "print(\"Hello my name is \" + name)\n",
    "print(name * 3)\n",
    "\n",
    "numbers1 = [1,2,3]\n",
    "numbers2 = [4,5,6]\n",
    "print(numbers1 + numbers2)\n",
    "print(numbers1 * 2)"
   ]
  },
  {
   "cell_type": "markdown",
   "metadata": {},
   "source": [
    "You might be wondering, \"why doesn't `numbers1 + numbers2` give `[5,7,9]`?\", or \"why doesn't `numbers1 * 2` give `[2,4,6]`??\". Remember lists don't necessarily have to only have numbers, they can also have mixes of words, other lists or even completely different, non base Python datatypes (e.g. images, or feature length films).\n",
    "\n",
    "**Lists are not vector-like or matrix-like data structures** and hence we can't add them like we would vectors or matrices. Fear not though!! Next week we look at `numpy` which gives us arrays, which allow us to do powerful vector and matrix arithmetic."
   ]
  },
  {
   "cell_type": "markdown",
   "metadata": {},
   "source": [
    "## Comparison, logical and membership operators\n",
    "Sometimes we're interested in comparing different variables, we can do this with *comparison operators*.\n",
    "- `x == y`: Determines if $x=y$. x or y can be numbers or other objects\n",
    "- `x != y`: Determines if $x\\neq y$. x or y can be numbers or other objects\n",
    "- `x < y`:  Determines if $x<y$\n",
    "- `x > y`:  Determines if $x>y$\n",
    "- `x <= y`:  Determines if $x\\leq y$\n",
    "- `x >= y`:  Determines if $x\\geq y$\n",
    "\n",
    "Sometimes we want to combine results from other comparisons, or alter boolean statements. We can do this using *logical operators*:\n",
    "- `bool1 and bool2`: `True` if `bool1` and `bool2` are `True`. `False` otherwise.\n",
    "- `bool1 or bool2`: `True` if any of `bool1` or `bool2` are `True`. `False` if both are `False`.\n",
    "- `not bool1`: Negates `bool1`.\n",
    "\n",
    "Sometimes we want to know if an item is within a sequence. We can do this using *membership operators*:\n",
    "- `item in list`: `True` if `item` is in `list`. `False` otherwise.\n",
    "- `item not in list`: `True` if `item` is not in `list`. `False` otherwise.\n",
    "---\n",
    "All of these types of operators return boolean values. By using these operators, we can create boolean values which can then be used to control the flow of the program (as seen when we look at if statements).\n",
    "\n",
    "[More on Python operators](https://www.w3schools.com/python/python_operators.asp)  "
   ]
  },
  {
   "cell_type": "code",
   "execution_count": null,
   "metadata": {},
   "outputs": [
    {
     "name": "stdout",
     "output_type": "stream",
     "text": [
      "x == y: False\n",
      "x != y: True\n",
      "2 < x: False\n",
      "x % 2 == 0 (x is even): False\n",
      "x % 2 == 1 (x is odd): True\n",
      "x in my_list: True\n",
      "x not in my_list: False\n",
      "(x in my_list) and (x < 2): True\n"
     ]
    }
   ],
   "source": [
    "x = 1\n",
    "y = 5\n",
    "# Comparison operators\n",
    "print(\"x == y:\", x==y)\n",
    "print(\"x != y:\", x!=y)\n",
    "print(\"2 < x:\", 2<x)\n",
    "print(\"x % 2 == 0 (x is even):\", x % 2 == 0)\n",
    "print(\"x % 2 == 1 (x is odd):\", x % 2 == 1)\n",
    "\n",
    "# Membership operators\n",
    "my_list = [1,2,3]\n",
    "print(\"x in my_list:\", x in my_list)\n",
    "print(\"x not in my_list:\", x not in my_list)\n",
    "\n",
    "# Logical operators\n",
    "print(\"(x in my_list) and (x < 2):\", (x in my_list) and (x < 2))"
   ]
  },
  {
   "cell_type": "markdown",
   "metadata": {},
   "source": [
    "## Logical flow\n",
    "From what we've learned so far, we can write code that runs top to bottom, executing every line of code exactly once. So far, if we want to get a piece of code to run multiple times we have to copy and paste it multiple times (which is bad practice!). And at the moment there is no way for us to run steps based on the variables defined within the code (eg. run code until certain condition is met).\n",
    "\n",
    "A large missing part of the puzzle is logic flow. Once we cover this, the opportunities really open up!\n",
    "\n",
    "Options for logic flow:\n",
    "- if/else statements\n",
    "- for loops\n",
    "- while loops\n",
    "- [try except](https://pythonbasics.org/try-except/) (not covered in these workshops)\n",
    "- functions\n",
    "\n",
    "We'll go through each of the above (excluding try except), including how to write them and their usecases.\n",
    "\n"
   ]
  },
  {
   "cell_type": "markdown",
   "metadata": {},
   "source": [
    "### if/else statements\n",
    "`if` statements are used to execute code only if a certain condition is met. The condition must evaluate to a `True` or a `False` value (we can use our comparison, logical and membership operators from before!). We can optionally also instruct Python to do another task if the condition is not met, in which case we add an `else` statement. Below is how we structure if statements in Python:\n",
    "```py\n",
    "if <condition>:\n",
    "    ... # will run if the condition is True\n",
    "else:\n",
    "    ... # will run if the condition is False\n",
    "```\n",
    "\n",
    "This allows us to contruct decision tree logic in Python (do this if condition, otherwise do that).\n",
    "\n",
    "You'll notice some interesting things from the above code. First, the line after `if <condition>:` is indented (by 4 spaces, or a tab). This indented code is called an **indented block** and says that  indented block is counted as within that if statement. This separates Python from other languages like C and R which use `{}` to indicate blocks of code. Indentation in Python is very important for denoting blocks of code.\n",
    "The `:` at the end of the `if <condition>:` line and the `else:` line tells Python to expect an indented block of code on the next line.\n",
    "\n",
    "As a matter of fact, all the logical flow structures we listed before operate using blocks of code, so we'll get very familiar with indented blocks.\n",
    "\n",
    "Extra reading: [elif statements](https://www.w3schools.com/python/gloss_python_elif.asp) (nice to know, but not necessary)"
   ]
  },
  {
   "cell_type": "code",
   "execution_count": null,
   "metadata": {},
   "outputs": [
    {
     "name": "stdout",
     "output_type": "stream",
     "text": [
      "x is odd!\n",
      "This line will be executed regardless of the condition\n"
     ]
    }
   ],
   "source": [
    "x = 1\n",
    "if x % 2 == 0:\n",
    "    print(\"x is even!\")\n",
    "else:\n",
    "    print(\"x is odd!\")\n",
    "\n",
    "print(\"This line will be executed regardless of the condition\")"
   ]
  },
  {
   "cell_type": "markdown",
   "metadata": {},
   "source": [
    "### loops\n",
    "Sometimes we want to write blocks of code that repeat multiple times. For this we use loops. There are two kinds of loops:\n",
    "\n",
    "#### `for` loop\n",
    "The most common type of loop, where we have a block of code that repeats a pre-determined amount of times. The syntax for a `for` loop is the following:\n",
    "\n",
    "```py\n",
    "for <item> in <iterable>:\n",
    "    ... # Code that will run for the number of elements in iterable\n",
    "```\n",
    "What is an iterable? An iterable is a subset of data objects that have the concept of a sequence of smaller elements in order. For example:\n",
    "- list: A sequence of list elements\n",
    "- string: A sequence of characters\n",
    "- range: A sequence of numbers from a starting point to an end point (very useful for `for` loops)\n",
    "\n",
    "Let's dive into an example:"
   ]
  },
  {
   "cell_type": "code",
   "execution_count": 7,
   "metadata": {},
   "outputs": [
    {
     "name": "stdout",
     "output_type": "stream",
     "text": [
      "1 : Hey\n",
      "2 : there!\n",
      "3 : This\n",
      "4 : is\n",
      "5 : a\n",
      "6 : list\n",
      "7 : of\n",
      "8 : words!\n"
     ]
    }
   ],
   "source": [
    "my_list = [\"Hey\", \"there!\", \"This\", \"is\", \"a\", \"list\", \"of\", \"words!\"]\n",
    "\n",
    "loop_count = 1\n",
    "for word in my_list:\n",
    "    print(loop_count, \":\", word)\n",
    "    loop_count = loop_count + 1"
   ]
  },
  {
   "cell_type": "markdown",
   "metadata": {},
   "source": [
    "When the loop is ran, the first element of `my_list` is taken and assigned into `word`. The indented block is then run with that value for `word`. When block ends, the loop goes onto the next iteration of the loop assigning the second element of `my_list` in for `word`. This repeats until the elements in `my_list` are exhausted."
   ]
  },
  {
   "cell_type": "markdown",
   "metadata": {},
   "source": [
    "##### the `range` object\n",
    "The range object is a really nice way of generating sequences of numbers.\n",
    "If we do `range(n)` it will generate `n` numbers going from 0 to n (closed on the left, and open on the right). This means that it will generate `0, 1, ... n-1` including 0 but excluding the number `n`. If we want to also include n, its just a simple matter of typing `range(n+1)`.  \n",
    "\n",
    "Note that range counts from 0 by default. This is because Python is a language that indexes from 0 (a concept we'll explore more when we work with lists later in this workshop)."
   ]
  },
  {
   "cell_type": "code",
   "execution_count": 8,
   "metadata": {},
   "outputs": [
    {
     "name": "stdout",
     "output_type": "stream",
     "text": [
      "range(0, 10)\n",
      "[0, 1, 2, 3, 4, 5, 6, 7, 8, 9]\n",
      "Hey mom, look! I can count to 5!\n",
      "0\n",
      "1\n",
      "2\n",
      "3\n",
      "4\n",
      "5\n"
     ]
    }
   ],
   "source": [
    "print(range(10)) # We can't \"peek\" directly into the sequence of a range object...\n",
    "print(list(range(10))) # ...instead we need to convert it to a list to see whats inside\n",
    "\n",
    "print(\"Hey mom, look! I can count to 5!\")\n",
    "for number in range(5 + 1):\n",
    "    print(number)"
   ]
  },
  {
   "cell_type": "markdown",
   "metadata": {},
   "source": [
    "The range object is actually even more versatile than this. There are three ways we can use it:"
   ]
  },
  {
   "cell_type": "code",
   "execution_count": 9,
   "metadata": {},
   "outputs": [
    {
     "name": "stdout",
     "output_type": "stream",
     "text": [
      "[0, 1, 2, 3, 4, 5, 6, 7, 8, 9]\n",
      "[1, 2, 3, 4, 5]\n",
      "[1, 3, 5, 7, 9]\n"
     ]
    }
   ],
   "source": [
    "def print_range(range_object):\n",
    "    # Ignore this for now. We'll talk about functions later in this section\n",
    "    print(list(range_object))\n",
    "\n",
    "print_range(range(10)) # range(stop): stop provided, start point defaults to 0, step defaults to 1\n",
    "print_range(range(1, 6)) # range(start, stop): start and stop provided, step defaults to 1\n",
    "print_range(range(1, 10, 2)) # range(start, stop, step): start, stop, step provided\n",
    "# Forget how to use range? Just call help(range)"
   ]
  },
  {
   "cell_type": "markdown",
   "metadata": {},
   "source": [
    "##### `for` loop examples\n",
    "Lets see some examples!!"
   ]
  },
  {
   "cell_type": "code",
   "execution_count": 10,
   "metadata": {},
   "outputs": [
    {
     "name": "stdout",
     "output_type": "stream",
     "text": [
      "The sum of the first 100 perfect squares is 338350\n"
     ]
    }
   ],
   "source": [
    "# Summing the squares of the first n integers\n",
    "counter = 0\n",
    "n = 100\n",
    "for i in range(1, n + 1): # Don't forget the +1! Open on the right remember\n",
    "    counter = counter + i ** 2\n",
    "    \n",
    "print(\"The sum of the first\", n, \"perfect squares is\", counter)"
   ]
  },
  {
   "cell_type": "markdown",
   "metadata": {},
   "source": [
    "Extra reading: [enumerate](https://realpython.com/python-enumerate/) and [zip](https://realpython.com/python-zip-function/) (nice to know, makes `for` loops more versatile)"
   ]
  },
  {
   "cell_type": "markdown",
   "metadata": {},
   "source": [
    "#### `while` loops\n",
    "Sometimes we want a loop to run for as long as a condition is met. For this, we can use a `while` loop. The sytax or a while loop is as follows:\n",
    "```py\n",
    "while <condition>:\n",
    "    ...\n",
    "```\n",
    "When the while loop starts, it checks whether that condition is True. If it is, then it proceeds with the loop. When reaching the end of the iteration, it checks again if the condition is True. If the condition is False, it skips over the loop and proceeds with the rest of the code."
   ]
  },
  {
   "cell_type": "code",
   "execution_count": 11,
   "metadata": {},
   "outputs": [
    {
     "name": "stdout",
     "output_type": "stream",
     "text": [
      "x is 10 which is greater than 1\n",
      "x is 9 which is greater than 1\n",
      "x is 8 which is greater than 1\n",
      "x is 7 which is greater than 1\n",
      "x is 6 which is greater than 1\n",
      "x is 5 which is greater than 1\n",
      "x is 4 which is greater than 1\n",
      "x is 3 which is greater than 1\n",
      "x is 2 which is greater than 1\n",
      "x is 1 which is greater than 1\n",
      "We are done with the while loop. The final value of x is 0\n"
     ]
    }
   ],
   "source": [
    "x = 10\n",
    "while x >= 1:\n",
    "    print(\"x is\", x, \"which is greater than 1\")\n",
    "    x = x-1\n",
    "    \n",
    "print(\"We are done with the while loop. The final value of x is\", x)"
   ]
  },
  {
   "cell_type": "markdown",
   "metadata": {},
   "source": [
    "A commmon trap people fall in is to use while loops unnecessarily when a for loop would suffice. This \"trap\" wouldn't matter as much, if it weren't for this next point: it is really important to get your condition is appropriate and will eventually evaluate to `False` to avoid having an infinite while loop. Let's take a look at the following example:"
   ]
  },
  {
   "cell_type": "code",
   "execution_count": 12,
   "metadata": {},
   "outputs": [
    {
     "name": "stdout",
     "output_type": "stream",
     "text": [
      "The final value of x is 5\n"
     ]
    }
   ],
   "source": [
    "x = 10\n",
    "while x != 5:\n",
    "    x = x - 1\n",
    "print(\"The final value of x is\", x)"
   ]
  },
  {
   "cell_type": "markdown",
   "metadata": {},
   "source": [
    "The loop above works, however only because x is an integer. If x started at 9.9, it would never be equal to 5 (and hence we now have an infinite loop). Try it yourself! (feel free to click the \"stop\" button at the top to interupt the kernel and exit an infinite loop).  \n",
    "The example above is a bit construed, but the important thing to remember is that the loop should stop eventually."
   ]
  },
  {
   "cell_type": "markdown",
   "metadata": {},
   "source": [
    "#### Stopping a loop\n",
    "When working with for loops, we sometimes want to just skip the current iteration and go onto the next one. Or sometimes we want to just stop the loop altogether and move on. For these, we can use `continue` and `break`:\n",
    "- `continue`: Moves onto the next iteration of the for loop\n",
    "- `break`: Stops the loop and moves on"
   ]
  },
  {
   "cell_type": "code",
   "execution_count": 13,
   "metadata": {},
   "outputs": [
    {
     "name": "stdout",
     "output_type": "stream",
     "text": [
      "The current number is 0\n",
      "The current number is 1\n",
      "The current number is 2\n",
      "Skipping this iteration!\n",
      "The current number is 4\n",
      "The current number is 5\n",
      "The current number is 6\n",
      "Breaking loop!\n",
      "The loop is done\n"
     ]
    }
   ],
   "source": [
    "# Showcasing continue and break:\n",
    "for i in range(10):\n",
    "    if i == 3:\n",
    "        print(\"Skipping this iteration!\") # Brings the loop back to the top, with the next iteration\n",
    "        continue\n",
    "    if i==7:\n",
    "        print(\"Breaking loop!\")\n",
    "        break # Exits straight out the loop\n",
    "    print(\"The current number is\", i)\n",
    "    \n",
    "print(\"The loop is done\")"
   ]
  },
  {
   "cell_type": "markdown",
   "metadata": {},
   "source": [
    "### Functions\n",
    "Sometimes we want to package together a block of code and re-use it multiple times throughout our code. Or maybe we just want to package it up nicely so that its easier to read, and separates the code into a distinct step. For this, we can define custom functions.\n",
    "\n",
    "```py\n",
    "def my_function(parameter1, parameter2):\n",
    "    ... # Function code\n",
    "    return out_object\n",
    "```\n",
    "\n",
    "In order for a function to operate, it may need some data. For example, a function calculating the area of a circle will need the circles radius. This data is passed in as a parameter. In the example of a circle, the function also needs to give back data. This is done by the return statement (where the number is returned to where ever the function was called). Lets make this function:\n"
   ]
  },
  {
   "cell_type": "code",
   "execution_count": 14,
   "metadata": {},
   "outputs": [
    {
     "name": "stdout",
     "output_type": "stream",
     "text": [
      "Circle radius 5 m has area 78.53981625 m^2\n",
      "Radius can't be less than 0\n"
     ]
    }
   ],
   "source": [
    "def circle_area(r):\n",
    "    if r < 0:\n",
    "        return \"Radius can't be less than 0\"\n",
    "    \n",
    "    area = get_pi() * r ** 2\n",
    "    return area\n",
    "\n",
    "def get_pi():\n",
    "    return 3.14159265\n",
    "\n",
    "radius = 5\n",
    "print(\"Circle radius\", radius, \"m has area\", circle_area(radius), \"m^2\")\n",
    "print(circle_area(-1))"
   ]
  },
  {
   "cell_type": "markdown",
   "metadata": {},
   "source": [
    "To highlight some important points, the example above was more complex than it needed to be. First off, we have two functions. The `get_pi` function is an example of a function that has no parameters. Hence when we call it in the `circle_area` function, we just call `get_pi()` with nothing in the brackets.\n",
    "\n",
    "Secondly, from `get_pi()` within `circle_area` we can see that we can call functions from other functions (seemingly before that function was even defined??!!). To understand this, lets talk about how Python runs this code. When Python sees the function definitions (ie. `def my_function...`) and their associated code it actually doesn't run any code. Python just associates the `get_pi` and `circle_area` keywords with those blocks of code. When you call those functions in future only then will it run the code. When we get to line 12 and 13, the function `circle_area` is actually called with `radius` as the parameter. This value for radius of `5` gets passed into the function and renamed to r in the context of the `circle_area` function. The `circle_area` function runs, and since the `get_pi` function was already **defined before the time of execution**, the function executes without a hitch.\n",
    "\n",
    "Thirdly, we see that `circle_area` has multiple return statements. This is completely valid, and very useful. This means that we can terminate the execution of our function early if a condition isn't met. This can allow us to avoid deeply nested if/else statements.\n",
    "\n",
    "\n",
    "**NOTE:** A function can also have no return statement, or just have `return` with no value after. In both these cases, the value of `None` will be returned (to indicate that nothing was returned).\n",
    "\n"
   ]
  },
  {
   "cell_type": "markdown",
   "metadata": {},
   "source": [
    "#### An issue of scope\n",
    "When using functions, an important thing to think about is the idea of scope. It can be a bit of a difficult concept to grasp the first time around, so here are some extra resources (a [video](https://www.youtube.com/watch?v=QVdf0LgmICw), an [article](https://realpython.com/python-scope-legb-rule) and a [shorter article](https://www.datacamp.com/tutorial/scope-of-variables-python)) on the topic.\n",
    "\n",
    "Scope in Python tells us how variables can be accessed, and how they work within functions. We'll use the following code examples to aid in our explanation:"
   ]
  },
  {
   "cell_type": "code",
   "execution_count": 15,
   "metadata": {},
   "outputs": [
    {
     "name": "stdout",
     "output_type": "stream",
     "text": [
      "Example 1\n",
      "1\n",
      "Example 2\n",
      "2\n",
      "1\n",
      "Example 3\n",
      "2\n"
     ]
    },
    {
     "ename": "NameError",
     "evalue": "name 'c' is not defined",
     "output_type": "error",
     "traceback": [
      "\u001b[1;31m---------------------------------------------------------------------------\u001b[0m",
      "\u001b[1;31mNameError\u001b[0m                                 Traceback (most recent call last)",
      "\u001b[1;32mc:\\Users\\nickh\\coding\\repos\\mu\\mu-workshops\\2022\\python\\workshop1-base-python.ipynb Cell 63\u001b[0m in \u001b[0;36m<module>\u001b[1;34m\u001b[0m\n\u001b[0;32m     <a href='vscode-notebook-cell:/c%3A/Users/nickh/coding/repos/mu/mu-workshops/2022/python/workshop1-base-python.ipynb#ch0000062?line=21'>22</a>\u001b[0m     \u001b[39mreturn\u001b[39;00m\n\u001b[0;32m     <a href='vscode-notebook-cell:/c%3A/Users/nickh/coding/repos/mu/mu-workshops/2022/python/workshop1-base-python.ipynb#ch0000062?line=23'>24</a>\u001b[0m my_function3()\n\u001b[1;32m---> <a href='vscode-notebook-cell:/c%3A/Users/nickh/coding/repos/mu/mu-workshops/2022/python/workshop1-base-python.ipynb#ch0000062?line=24'>25</a>\u001b[0m \u001b[39mprint\u001b[39m(c)\n",
      "\u001b[1;31mNameError\u001b[0m: name 'c' is not defined"
     ]
    }
   ],
   "source": [
    "print(\"Example 1\")\n",
    "a = 1\n",
    "def my_function1():\n",
    "    print(a)\n",
    "    return\n",
    "\n",
    "my_function1()\n",
    "\n",
    "print(\"Example 2\")\n",
    "def my_function2():\n",
    "    a = 2\n",
    "    print(a)\n",
    "    return\n",
    "\n",
    "my_function2()\n",
    "print(a)\n",
    "\n",
    "print(\"Example 3\")\n",
    "def my_function3():\n",
    "    c = 2\n",
    "    print(c)\n",
    "    return\n",
    "\n",
    "my_function3()\n",
    "print(c)"
   ]
  },
  {
   "cell_type": "markdown",
   "metadata": {},
   "source": [
    "In Python, variables can exist in different scopes:\n",
    "\n",
    "```py\n",
    "# Global scope\n",
    "x = 0\n",
    "\n",
    "def outer():\n",
    "    # Enclosed scope\n",
    "    x = 1\n",
    "    def inner():\n",
    "        # Local scope\n",
    "        x = 2\n",
    "```\n",
    "![Scope diagram from Datacamp https://www.datacamp.com/tutorial/scope-of-variables-python](https://res.cloudinary.com/dyd911kmh/image/upload/f_auto,q_auto:best/v1588956604/Scope_fbrzcw.png)\n",
    "\n",
    "- Local\n",
    "- Enclosing\n",
    "- Global\n",
    "- Built-in\n",
    "\n",
    "When a variable is referenced, Python follows the LEGB rule (Local-> Enclosing-> Global-> Built-in). It first looks for that variable in the local scope. If not found in the local scope, it then looks at the enclosing scope. If not found in the enclosing scope, it then looks in the global scope, if not found in the global scope, it then looks at the build-in functions.\n",
    "\n",
    "The **local scope** is the scope of a given function. *When a function completes execution, all variables defined in the local scope for that function are destroyed*. If we look at Example 3 from above, we see that the variable `c` is defined and printed (printing `2`). When that function closes out though, the local scope is destroyed. When the `print(c)` is reached outside the function, the variable `c` is no longer defined (the local scope is gone, and `c` is not defined in the enclosing, global or built-in scopes).  \n",
    "\n",
    "The **enclosing scope** only really comes into play if we have functions within functions (which we rarely have, and there are only specific, niche use cases in which we would even require such a thing).\n",
    "\n",
    "The **global scope** are the variables that we assign outside any function. If we look at Example 1, we define `a=1` in the global scope. When we enter the function and `print(a)`, Python searches for `a` in the local scope (not defined) then the local scope (not defined) before finally finding `a` in the global scope and printing it out.  \n",
    "If we look at Example 2, we have already defined `a=1` in the global scope. Within the function, we define `a=2` in the local scope and call `print(a)`. As local scope takes precidence, this prints `2`. Once the function is complete, the local scope is destroyed. Now when we call `print(a)` again (this time outside any function) the result is `1` as that is the value of `a` in the global scope.\n",
    "\n",
    "\n",
    "What does all this talk about scope mean, and why do we care about it?? Basically, knowing scope means that we can choose variables wiser. We can have functions that use commonly used argument names without worrying about them affecting the program as a whole. This has a consequence that we can't (by default) modify variables within the global scope from within a function.  \n",
    "The fact we can't modify global variables however isn't a big drawback because we can have the variable passed in as a parameter to the function, return it out at the end, and just reassign it.\n",
    "\n",
    "Extra reading:\n",
    "- [Positional and keyword arguments](https://problemsolvingwithpython.com/07-Functions-and-Modules/07.07-Positional-and-Keyword-Arguments/) (finer understanding of how to specify parameters for functions, more important when we start using packages)\n",
    "- [the global keyword](https://www.programiz.com/python-programming/global-keyword) (modifying global scope from within a function, not really necessary and would recommend fully understanding functions and scope before even considering learning this)"
   ]
  },
  {
   "cell_type": "markdown",
   "metadata": {},
   "source": [
    "And that's all on logic flow!! Logic flow is **EVERYTHING** when it comes to writing compact and elegant code. Of course, there's a time and place to bodge things together to just get the thing to work (*cough cough, assignments*), but if you end up working on code that other people will use your coworkers will love if you write it compactly within functions and using appropriate looping."
   ]
  },
  {
   "cell_type": "markdown",
   "metadata": {},
   "source": [
    "## Time for some practice!\n",
    "<div class=\"alert alert-block alert-info\">\n",
    "<b>Examples:</b> Lets now head over to the examples notebook in order to get some practice in!!</div>"
   ]
  },
  {
   "cell_type": "markdown",
   "metadata": {},
   "source": [
    "## Some simple packages\n",
    "We've talked a bit about packages, but how do we use them?\n",
    "\n",
    "Here we'll go over some simple packages:\n",
    "- [random](https://docs.python.org/3/library/random.html)\n",
    "    - for random number generators, selecting random elements from a list, etc (great for brute forcing stats questions!)\n",
    "- [math](https://docs.python.org/3/library/math.html)\n",
    "    - some simple maths functions\n",
    "- [tqdm](https://tqdm.github.io/)\n",
    "    - for loop taking ages? Why not give it a progress bar\n",
    "\n",
    "Note that in order to find packages, and find out how to use them, Google really is your friend. Also getting familiar with reading Python package documentation is really helpful (give a read of the linked documentation of the packages above for some practice). To find documentation for a package you can type `<package name> python documentation` and that should get you there.\n",
    "\n",
    "To import a package its as simple as typing `import <package name>` or `import <package name> as <alias>`. This second option is really handy when we're using the package a lot and don't want to type out its full name:"
   ]
  },
  {
   "cell_type": "code",
   "execution_count": 16,
   "metadata": {},
   "outputs": [
    {
     "data": {
      "text/plain": [
       "-0.4480736161291701"
      ]
     },
     "execution_count": 16,
     "metadata": {},
     "output_type": "execute_result"
    }
   ],
   "source": [
    "import math as m\n",
    "m.cos(90)"
   ]
  },
  {
   "cell_type": "markdown",
   "metadata": {},
   "source": [
    "Wait a minute, why is `cos(90)` not 0?"
   ]
  },
  {
   "cell_type": "code",
   "execution_count": 17,
   "metadata": {},
   "outputs": [
    {
     "name": "stdout",
     "output_type": "stream",
     "text": [
      "Help on built-in function cos in module math:\n",
      "\n",
      "cos(x, /)\n",
      "    Return the cosine of x (measured in radians).\n",
      "\n"
     ]
    }
   ],
   "source": [
    "help(m.cos)"
   ]
  },
  {
   "cell_type": "markdown",
   "metadata": {},
   "source": [
    "Oh crap, yeah of course, it should be in radians. How do we convert to radians? A quick `Ctrl+F` search through the documentation gives the answer:"
   ]
  },
  {
   "cell_type": "code",
   "execution_count": 18,
   "metadata": {},
   "outputs": [
    {
     "data": {
      "text/plain": [
       "6.123233995736766e-17"
      ]
     },
     "execution_count": 18,
     "metadata": {},
     "output_type": "execute_result"
    }
   ],
   "source": [
    "m.cos(m.radians(90))"
   ]
  },
  {
   "cell_type": "markdown",
   "metadata": {},
   "source": [
    "That's close enough to 0 (in computing, [floating point operations aren't exact](https://www.youtube.com/watch?v=PZRI1IfStY0) and can be $\\varepsilon$ away from the real result).  \n",
    "\n",
    "Say we just were interested in the `cos` function or `radians` function, we could do something like this instead:"
   ]
  },
  {
   "cell_type": "code",
   "execution_count": 19,
   "metadata": {},
   "outputs": [
    {
     "data": {
      "text/plain": [
       "-1.0"
      ]
     },
     "execution_count": 19,
     "metadata": {},
     "output_type": "execute_result"
    }
   ],
   "source": [
    "from math import cos\n",
    "from math import radians as to_radians\n",
    "cos(to_radians(180))"
   ]
  },
  {
   "cell_type": "markdown",
   "metadata": {},
   "source": [
    "These are some of the options that you can use for imported functions. The nice thing about imports, which sets Python apart from Matlab or R, is that imported packages are by default separated into their own namespace. When we run `import math`, we can them use all the `math` functions by calling `math.function_name`. This makes it easy to trace back where a function comes from (and then look up the functions documentation and how to use it). This also means that if we have two functions with the same names from different packages, it doesn't matter because when we import them they will be in different namespaces (ie. `package1.func_name` and `package2.func_name`). Compare this to R or Matlab, where importing packages/libraries just kind of shoves all the functions into a communal bucket, and if there are name collisions between packages it just uses one of the function definitions, which of course might not be the function you're looking for and may behave completely differently, and *ugh*... such a headache.\n",
    "\n",
    "Anyway, there is another option for Python imports as well, and that is a *wildcard import* where you can do `from math import *` which will import all the functions from math into your current namespace. Given my rant that I just did, you can probably guess [**this is a bad idea and bad practice**](https://stackoverflow.com/questions/3615125/should-wildcard-import-be-avoided) as it obfuscates what is imported code, versus code defined within the program, and can also cause name clashes in your program. Just letting you know so that you can dunk on people for their bad code, moving on...\n",
    "\n",
    "We also have the random module!"
   ]
  },
  {
   "cell_type": "code",
   "execution_count": 20,
   "metadata": {},
   "outputs": [
    {
     "name": "stdout",
     "output_type": "stream",
     "text": [
      "Theoretical expected value: 2000.0\n",
      "Number of successes: 2058\n"
     ]
    }
   ],
   "source": [
    "import random as r\n",
    "# Setting a seed means we get the same results each time\n",
    "# (good for assignments and reproducible results, just don't choose the seed to fudge your results!)\n",
    "r.seed(1)\n",
    "\n",
    "# Lets imagine a sequence of 10000 bernoulli events with p=0.2 .\n",
    "n_successes = 0\n",
    "n_trials = 10000\n",
    "p = 0.2\n",
    "for i in range(n_trials):\n",
    "    # Doing the bernoulli trial\n",
    "    if r.random() < p:\n",
    "        outcome = 1\n",
    "    else:\n",
    "        outcome = 0\n",
    "        \n",
    "    n_successes = n_successes + outcome\n",
    "\n",
    "print(\"Theoretical expected value:\", n_trials*p)\n",
    "print(\"Number of successes:\", n_successes)"
   ]
  },
  {
   "cell_type": "markdown",
   "metadata": {},
   "source": [
    "Finally, lets take a look at the last package `tqdm`. This package only has one function in it, but oh my this function is awesome. Lets take a look:"
   ]
  },
  {
   "cell_type": "code",
   "execution_count": 21,
   "metadata": {},
   "outputs": [
    {
     "name": "stderr",
     "output_type": "stream",
     "text": [
      "100%|██████████| 50/50 [00:03<00:00, 16.02it/s]\n"
     ]
    }
   ],
   "source": [
    "from tqdm import tqdm # In the tqdm package is a function also called tqdm\n",
    "from time import sleep # Halts Python for a certain number of seconds (pretend this is a big calculation)\n",
    "\n",
    "for i in tqdm(range(50)):\n",
    "    sleep(0.05)"
   ]
  },
  {
   "cell_type": "markdown",
   "metadata": {},
   "source": [
    "How neat is that!! The function `tqdm` can be used to wrap the iterable in the for loop to turn it into a progress bar! Super handy. You can also give the progress bar a description, or for it to update the progress bar with the value of a variable (check the documenatation for more info)."
   ]
  },
  {
   "cell_type": "markdown",
   "metadata": {},
   "source": [
    "## More data manipulation\n",
    "We've seen how to modify numbers and do arithmetic operations, but what about other data types like strings and lists?? Often, a way that we do this is with methods.\n",
    "\n",
    "So far we've seen functions, like `print`, `sum`, and `len`. These functions can often have inputs of different types (in fact, the `print` function pretty much works with whatever type we put in). On the other hand, *there are functions that only make sense working with a singular data type.* **We call these \"type specific functions\" methods**. These methods are accessed through the pattern `<data type>.method_name(arg1, arg2)`. Different data types have different methods (feel free to Google \"\\<data type> methods\")\n",
    "\n",
    "- [string methods](https://www.w3schools.com/python/python_ref_string.asp)\n",
    "- [list methods](https://www.w3schools.com/python/python_ref_list.asp)\n",
    "- [dictionary methods](https://www.w3schools.com/python/python_ref_dictionary.asp)\n",
    "\n",
    "For an example, lets look at some string methods:\n",
    "```py\n",
    "my_string = \"hello\"\n",
    "string_upper = my_string.upper() # Produces \"HELLO\"\n",
    "string_cap = my_string.capitalize() # Produces \"Hello\"\n",
    "list_split = my_string.split(\"e\") # Produces [\"h\", \"llo\"]\n",
    "```\n",
    "We'll cover list methods, but we won't focus on most of the string or dictionary methods in this workshop. Feel free to look through the references above so you know what's available.\n",
    "\n",
    "### Mutable vs immutable\n",
    "Data types come in two flavors. Immutable data types, and mutable data types:  \n",
    "\n",
    "| Immutable      | Mutable    |\n",
    "| -------------- | ---------- |\n",
    "| integer        | list       |\n",
    "| float          | dictionary |\n",
    "| complex number |            |\n",
    "| boolean        |            |\n",
    "| string         |            |\n",
    "| tuple          |            |\n",
    "\n",
    "The difference between immutable and mutable data types are that *the values of immutable data types cannot be changed* while mutable data types can be \"reached into\" to have their values changed.\n",
    "\n",
    "When we operate on immutable data types (e.g. `x + 1`), we aren't changing the value but actually *creating new data objects*. That is why when we do the operation we have to reassign back into the variable:\n",
    "```py\n",
    "x = 2\n",
    "x = x + 1 # Have to reassign back into x. Doing x+1 doesn't change x, but creates a new int object with a value of 3\n",
    "\n",
    "```\n",
    "\n",
    "What difference does this make? We'll we've seen how string (i.e. immutable) methods work before, but list methods, which we'll look at now, behave a bit differently since they're for mutable objects operate \"in-place\". Besides this difference in how the methods work, there is some extra quirkiness that comes with lists and mutable objects that is too long to get into here.\n",
    "\n",
    "Extra reading:\n",
    "- [list comprehensions](https://www.w3schools.com/python/python_lists_comprehension.asp) (makes creating lists much easier, great to know) \n",
    "- [list weirdness in python (shared addresses)](https://stackoverflow.com/questions/2612802/how-do-i-clone-a-list-so-that-it-doesnt-change-unexpectedly-after-assignment) (not necessary to know unless you're planning on working alot with lists, revisit if you encounter weird list bugs and want to resolve them)"
   ]
  },
  {
   "cell_type": "markdown",
   "metadata": {},
   "source": [
    "## Working with lists\n",
    "### List methods\n",
    "So we know how to create a list (i.e. `[1,2,3]` or `[]`), but how do we add to a list? We can add to a list by doing the following:\n"
   ]
  },
  {
   "cell_type": "code",
   "execution_count": 22,
   "metadata": {},
   "outputs": [
    {
     "name": "stdout",
     "output_type": "stream",
     "text": [
      "[0, 1, 2, 3, 4, 5, 6]\n"
     ]
    }
   ],
   "source": [
    "my_list = [0,1,2,3]\n",
    "my_list.append(4) # .append is used to add an extra element to the end of the list\n",
    "my_list.extend([5,6]) # .extend is used to join a list to the end of my_list\n",
    "\n",
    "print(my_list) # resulting list is [0,1,2,3,4,5,6]"
   ]
  },
  {
   "cell_type": "markdown",
   "metadata": {},
   "source": [
    "You might have realised that we didn't need to reassign back into `my_list` for the changes to take effect. The mere act of calling `.append()` and `.extend()` *reached in* to the `my_list` object and changed it accordingly. This is the behaviour of in-place operations. They reach into the data type to make the change, and they don't return anything (i.e. they return `None`). If we tried to use the list method like we did the string method, we quickly realise it won't work:\n"
   ]
  },
  {
   "cell_type": "code",
   "execution_count": 23,
   "metadata": {},
   "outputs": [
    {
     "name": "stdout",
     "output_type": "stream",
     "text": [
      "None\n"
     ]
    }
   ],
   "source": [
    "my_list = [0,1,2,3]\n",
    "my_list = my_list.append(4) # INCORRECT use of .append. Operation works in-place\n",
    "print(my_list) # my_list was overwritten with the None returned by the .append operation."
   ]
  },
  {
   "cell_type": "markdown",
   "metadata": {},
   "source": [
    "We also have other list methods such as:\n",
    "- copy (to copy a list)\n",
    "- count (to count occurences in a list)\n",
    "- insert* (inserts an element at the specified position)\n",
    "- pop* (removes the element at the specified position)\n",
    "- remove* (removes the first item with the specified value)\n",
    "- reverse* (reverses the order of the list)\n",
    "- sort* (sorts the list)\n",
    "\n",
    "The methods that modify lists* will also have in-place behaviour just as we've seen above.\n",
    "\n",
    "So now we know how to accumulate to a list! A pretty useful skill for maths 🥰:"
   ]
  },
  {
   "cell_type": "code",
   "execution_count": 24,
   "metadata": {},
   "outputs": [
    {
     "name": "stdout",
     "output_type": "stream",
     "text": [
      "[0.0, 0.1, 0.2, 0.30000000000000004, 0.4, 0.5, 0.6000000000000001, 0.7000000000000001, 0.8, 0.9, 1.0, 1.1, 1.2000000000000002, 1.3, 1.4000000000000001, 1.5, 1.6, 1.7000000000000002, 1.8, 1.9000000000000001, 2.0, 2.1, 2.2, 2.3000000000000003, 2.4000000000000004, 2.5, 2.6, 2.7, 2.8000000000000003, 2.9000000000000004, 3.0, 3.1, 3.2, 3.3000000000000003, 3.4000000000000004, 3.5, 3.6, 3.7, 3.8000000000000003, 3.9000000000000004, 4.0, 4.1000000000000005, 4.2, 4.3, 4.4, 4.5, 4.6000000000000005, 4.7, 4.800000000000001, 4.9, 5.0, 5.1000000000000005, 5.2, 5.300000000000001, 5.4, 5.5, 5.6000000000000005, 5.7, 5.800000000000001, 5.9, 6.0, 6.1000000000000005, 6.2, 6.300000000000001, 6.4, 6.5, 6.6000000000000005, 6.7, 6.800000000000001, 6.9, 7.0, 7.1000000000000005, 7.2, 7.300000000000001, 7.4, 7.5, 7.6000000000000005, 7.7, 7.800000000000001, 7.9, 8.0, 8.1, 8.200000000000001, 8.3, 8.4, 8.5, 8.6, 8.700000000000001, 8.8, 8.9, 9.0, 9.1, 9.200000000000001, 9.3, 9.4, 9.5, 9.600000000000001, 9.700000000000001, 9.8, 9.9, 10.0, 10.100000000000001, 10.200000000000001, 10.3, 10.4, 10.5, 10.600000000000001, 10.700000000000001, 10.8, 10.9, 11.0, 11.100000000000001, 11.200000000000001, 11.3, 11.4, 11.5, 11.600000000000001, 11.700000000000001, 11.8, 11.9, 12.0, 12.100000000000001, 12.200000000000001, 12.3, 12.4, 12.5, 12.600000000000001, 12.700000000000001, 12.8, 12.9, 13.0, 13.100000000000001, 13.200000000000001, 13.3, 13.4, 13.5, 13.600000000000001, 13.700000000000001, 13.8, 13.9, 14.0, 14.100000000000001, 14.200000000000001, 14.3, 14.4, 14.5, 14.600000000000001, 14.700000000000001, 14.8, 14.9, 15.0, 15.100000000000001, 15.200000000000001, 15.3, 15.4, 15.5, 15.600000000000001, 15.700000000000001, 15.8, 15.9, 16.0, 16.1, 16.2, 16.3, 16.400000000000002, 16.5, 16.6, 16.7, 16.8, 16.900000000000002, 17.0, 17.1, 17.2, 17.3, 17.400000000000002, 17.5, 17.6, 17.7, 17.8, 17.900000000000002, 18.0, 18.1, 18.2, 18.3, 18.400000000000002, 18.5, 18.6, 18.7, 18.8, 18.900000000000002, 19.0, 19.1, 19.200000000000003, 19.3, 19.400000000000002, 19.5, 19.6, 19.700000000000003, 19.8, 19.900000000000002, 20.0, 20.1, 20.200000000000003, 20.3, 20.400000000000002, 20.5, 20.6, 20.700000000000003, 20.8, 20.900000000000002, 21.0, 21.1, 21.200000000000003, 21.3, 21.400000000000002, 21.5, 21.6, 21.700000000000003, 21.8, 21.900000000000002, 22.0, 22.1, 22.200000000000003, 22.3, 22.400000000000002, 22.5, 22.6, 22.700000000000003, 22.8, 22.900000000000002, 23.0, 23.1, 23.200000000000003, 23.3, 23.400000000000002, 23.5, 23.6, 23.700000000000003, 23.8, 23.900000000000002, 24.0, 24.1, 24.200000000000003, 24.3, 24.400000000000002, 24.5, 24.6, 24.700000000000003, 24.8, 24.900000000000002, 25.0, 25.1, 25.200000000000003, 25.3, 25.400000000000002, 25.5, 25.6, 25.700000000000003, 25.8, 25.900000000000002, 26.0, 26.1, 26.200000000000003, 26.3, 26.400000000000002, 26.5, 26.6, 26.700000000000003, 26.8, 26.900000000000002, 27.0, 27.1, 27.200000000000003, 27.3, 27.400000000000002, 27.5, 27.6, 27.700000000000003, 27.8, 27.900000000000002, 28.0, 28.1, 28.200000000000003, 28.3, 28.400000000000002, 28.5, 28.6, 28.700000000000003, 28.8, 28.900000000000002, 29.0, 29.1, 29.200000000000003, 29.3, 29.400000000000002, 29.5, 29.6, 29.700000000000003, 29.8, 29.900000000000002, 30.0, 30.1, 30.200000000000003, 30.3, 30.400000000000002, 30.5, 30.6, 30.700000000000003, 30.8, 30.900000000000002, 31.0, 31.1, 31.200000000000003, 31.3, 31.400000000000002, 31.5, 31.6, 31.700000000000003, 31.8, 31.900000000000002, 32.0, 32.1, 32.2, 32.300000000000004, 32.4, 32.5, 32.6, 32.7, 32.800000000000004, 32.9, 33.0, 33.1, 33.2, 33.300000000000004, 33.4, 33.5, 33.6, 33.7, 33.800000000000004, 33.9, 34.0, 34.1, 34.2, 34.300000000000004, 34.4, 34.5, 34.6, 34.7, 34.800000000000004, 34.9, 35.0, 35.1, 35.2, 35.300000000000004, 35.4, 35.5, 35.6, 35.7, 35.800000000000004, 35.9, 36.0, 36.1, 36.2, 36.300000000000004, 36.4, 36.5, 36.6, 36.7, 36.800000000000004, 36.9, 37.0, 37.1, 37.2, 37.300000000000004, 37.4, 37.5, 37.6, 37.7, 37.800000000000004, 37.9, 38.0, 38.1, 38.2, 38.300000000000004, 38.400000000000006, 38.5, 38.6, 38.7, 38.800000000000004, 38.900000000000006, 39.0, 39.1, 39.2, 39.300000000000004, 39.400000000000006, 39.5, 39.6, 39.7, 39.800000000000004, 39.900000000000006, 40.0, 40.1, 40.2, 40.300000000000004, 40.400000000000006, 40.5, 40.6, 40.7, 40.800000000000004, 40.900000000000006, 41.0, 41.1, 41.2, 41.300000000000004, 41.400000000000006, 41.5, 41.6, 41.7, 41.800000000000004, 41.900000000000006, 42.0, 42.1, 42.2, 42.300000000000004, 42.400000000000006, 42.5, 42.6, 42.7, 42.800000000000004, 42.900000000000006, 43.0, 43.1, 43.2, 43.300000000000004, 43.400000000000006, 43.5, 43.6, 43.7, 43.800000000000004, 43.900000000000006, 44.0, 44.1, 44.2, 44.300000000000004, 44.400000000000006, 44.5, 44.6, 44.7, 44.800000000000004, 44.900000000000006, 45.0, 45.1, 45.2, 45.300000000000004, 45.400000000000006, 45.5, 45.6, 45.7, 45.800000000000004, 45.900000000000006, 46.0, 46.1, 46.2, 46.300000000000004, 46.400000000000006, 46.5, 46.6, 46.7, 46.800000000000004, 46.900000000000006, 47.0, 47.1, 47.2, 47.300000000000004, 47.400000000000006, 47.5, 47.6, 47.7, 47.800000000000004, 47.900000000000006, 48.0, 48.1, 48.2, 48.300000000000004, 48.400000000000006, 48.5, 48.6, 48.7, 48.800000000000004, 48.900000000000006, 49.0, 49.1, 49.2, 49.300000000000004, 49.400000000000006, 49.5, 49.6, 49.7, 49.800000000000004, 49.900000000000006, 50.0, 50.1, 50.2, 50.300000000000004, 50.400000000000006, 50.5, 50.6, 50.7, 50.800000000000004, 50.900000000000006, 51.0, 51.1, 51.2, 51.300000000000004, 51.400000000000006, 51.5, 51.6, 51.7, 51.800000000000004, 51.900000000000006, 52.0, 52.1, 52.2, 52.300000000000004, 52.400000000000006, 52.5, 52.6, 52.7, 52.800000000000004, 52.900000000000006, 53.0, 53.1, 53.2, 53.300000000000004, 53.400000000000006, 53.5, 53.6, 53.7, 53.800000000000004, 53.900000000000006, 54.0, 54.1, 54.2, 54.300000000000004, 54.400000000000006, 54.5, 54.6, 54.7, 54.800000000000004, 54.900000000000006, 55.0, 55.1, 55.2, 55.300000000000004, 55.400000000000006, 55.5, 55.6, 55.7, 55.800000000000004, 55.900000000000006, 56.0, 56.1, 56.2, 56.300000000000004, 56.400000000000006, 56.5, 56.6, 56.7, 56.800000000000004, 56.900000000000006, 57.0, 57.1, 57.2, 57.300000000000004, 57.400000000000006, 57.5, 57.6, 57.7, 57.800000000000004, 57.900000000000006, 58.0, 58.1, 58.2, 58.300000000000004, 58.400000000000006, 58.5, 58.6, 58.7, 58.800000000000004, 58.900000000000006, 59.0, 59.1, 59.2, 59.300000000000004, 59.400000000000006, 59.5, 59.6, 59.7, 59.800000000000004, 59.900000000000006, 60.0, 60.1, 60.2, 60.300000000000004, 60.400000000000006, 60.5, 60.6, 60.7, 60.800000000000004, 60.900000000000006, 61.0, 61.1, 61.2, 61.300000000000004, 61.400000000000006, 61.5, 61.6, 61.7, 61.800000000000004, 61.900000000000006, 62.0, 62.1, 62.2, 62.300000000000004, 62.400000000000006, 62.5, 62.6, 62.7, 62.800000000000004, 62.900000000000006, 63.0, 63.1, 63.2, 63.300000000000004, 63.400000000000006, 63.5, 63.6, 63.7, 63.800000000000004, 63.900000000000006, 64.0, 64.10000000000001, 64.2, 64.3, 64.4, 64.5, 64.60000000000001, 64.7, 64.8, 64.9, 65.0, 65.10000000000001, 65.2, 65.3, 65.4, 65.5, 65.60000000000001, 65.7, 65.8, 65.9, 66.0, 66.10000000000001, 66.2, 66.3, 66.4, 66.5, 66.60000000000001, 66.7, 66.8, 66.9, 67.0, 67.10000000000001, 67.2, 67.3, 67.4, 67.5, 67.60000000000001, 67.7, 67.8, 67.9, 68.0, 68.10000000000001, 68.2, 68.3, 68.4, 68.5, 68.60000000000001, 68.7, 68.8, 68.9, 69.0, 69.10000000000001, 69.2, 69.3, 69.4, 69.5, 69.60000000000001, 69.7, 69.8, 69.9, 70.0, 70.10000000000001, 70.2, 70.3, 70.4, 70.5, 70.60000000000001, 70.7, 70.8, 70.9, 71.0, 71.10000000000001, 71.2, 71.3, 71.4, 71.5, 71.60000000000001, 71.7, 71.8, 71.9, 72.0, 72.10000000000001, 72.2, 72.3, 72.4, 72.5, 72.60000000000001, 72.7, 72.8, 72.9, 73.0, 73.10000000000001, 73.2, 73.3, 73.4, 73.5, 73.60000000000001, 73.7, 73.8, 73.9, 74.0, 74.10000000000001, 74.2, 74.3, 74.4, 74.5, 74.60000000000001, 74.7, 74.8, 74.9, 75.0, 75.10000000000001, 75.2, 75.3, 75.4, 75.5, 75.60000000000001, 75.7, 75.8, 75.9, 76.0, 76.10000000000001, 76.2, 76.3, 76.4, 76.5, 76.60000000000001, 76.7, 76.80000000000001, 76.9, 77.0, 77.10000000000001, 77.2, 77.30000000000001, 77.4, 77.5, 77.60000000000001, 77.7, 77.80000000000001, 77.9, 78.0, 78.10000000000001, 78.2, 78.30000000000001, 78.4, 78.5, 78.60000000000001, 78.7, 78.80000000000001, 78.9, 79.0, 79.10000000000001, 79.2, 79.30000000000001, 79.4, 79.5, 79.60000000000001, 79.7, 79.80000000000001, 79.9, 80.0, 80.10000000000001, 80.2, 80.30000000000001, 80.4, 80.5, 80.60000000000001, 80.7, 80.80000000000001, 80.9, 81.0, 81.10000000000001, 81.2, 81.30000000000001, 81.4, 81.5, 81.60000000000001, 81.7, 81.80000000000001, 81.9, 82.0, 82.10000000000001, 82.2, 82.30000000000001, 82.4, 82.5, 82.60000000000001, 82.7, 82.80000000000001, 82.9, 83.0, 83.10000000000001, 83.2, 83.30000000000001, 83.4, 83.5, 83.60000000000001, 83.7, 83.80000000000001, 83.9, 84.0, 84.10000000000001, 84.2, 84.30000000000001, 84.4, 84.5, 84.60000000000001, 84.7, 84.80000000000001, 84.9, 85.0, 85.10000000000001, 85.2, 85.30000000000001, 85.4, 85.5, 85.60000000000001, 85.7, 85.80000000000001, 85.9, 86.0, 86.10000000000001, 86.2, 86.30000000000001, 86.4, 86.5, 86.60000000000001, 86.7, 86.80000000000001, 86.9, 87.0, 87.10000000000001, 87.2, 87.30000000000001, 87.4, 87.5, 87.60000000000001, 87.7, 87.80000000000001, 87.9, 88.0, 88.10000000000001, 88.2, 88.30000000000001, 88.4, 88.5, 88.60000000000001, 88.7, 88.80000000000001, 88.9, 89.0, 89.10000000000001, 89.2, 89.30000000000001, 89.4, 89.5, 89.60000000000001, 89.7, 89.80000000000001, 89.9, 90.0, 90.10000000000001, 90.2, 90.30000000000001, 90.4, 90.5, 90.60000000000001, 90.7, 90.80000000000001, 90.9, 91.0, 91.10000000000001, 91.2, 91.30000000000001, 91.4, 91.5, 91.60000000000001, 91.7, 91.80000000000001, 91.9, 92.0, 92.10000000000001, 92.2, 92.30000000000001, 92.4, 92.5, 92.60000000000001, 92.7, 92.80000000000001, 92.9, 93.0, 93.10000000000001, 93.2, 93.30000000000001, 93.4, 93.5, 93.60000000000001, 93.7, 93.80000000000001, 93.9, 94.0, 94.10000000000001, 94.2, 94.30000000000001, 94.4, 94.5, 94.60000000000001, 94.7, 94.80000000000001, 94.9, 95.0, 95.10000000000001, 95.2, 95.30000000000001, 95.4, 95.5, 95.60000000000001, 95.7, 95.80000000000001, 95.9, 96.0, 96.10000000000001, 96.2, 96.30000000000001, 96.4, 96.5, 96.60000000000001, 96.7, 96.80000000000001, 96.9, 97.0, 97.10000000000001, 97.2, 97.30000000000001, 97.4, 97.5, 97.60000000000001, 97.7, 97.80000000000001, 97.9, 98.0, 98.10000000000001, 98.2, 98.30000000000001, 98.4, 98.5, 98.60000000000001, 98.7, 98.80000000000001, 98.9, 99.0, 99.10000000000001, 99.2, 99.30000000000001, 99.4, 99.5, 99.60000000000001, 99.7, 99.80000000000001, 99.9]\n",
      "[0.0, 0.09983341664682815, 0.19866933079506122, 0.2955202066613396, 0.3894183423086505, 0.479425538604203, 0.5646424733950355, 0.6442176872376911, 0.7173560908995228, 0.7833269096274834, 0.8414709848078965, 0.8912073600614354, 0.9320390859672264, 0.963558185417193, 0.9854497299884603, 0.9974949866040544, 0.9995736030415051, 0.9916648104524686, 0.9738476308781951, 0.9463000876874145, 0.9092974268256817, 0.8632093666488737, 0.8084964038195901, 0.74570521217672, 0.6754631805511506, 0.5984721441039564, 0.5155013718214642, 0.4273798802338298, 0.33498815015590466, 0.23924932921398198, 0.1411200080598672, 0.04158066243329049, -0.058374143427580086, -0.15774569414324865, -0.25554110202683167, -0.35078322768961984, -0.44252044329485246, -0.5298361409084934, -0.6118578909427193, -0.6877661591839741, -0.7568024953079282, -0.8182771110644108, -0.8715757724135882, -0.9161659367494549, -0.9516020738895161, -0.977530117665097, -0.9936910036334645, -0.9999232575641008, -0.9961646088358406, -0.9824526126243325, -0.9589242746631385, -0.9258146823277321, -0.8834546557201531, -0.8322674422239008, -0.7727644875559871, -0.7055403255703919, -0.6312666378723208, -0.5506855425976376, -0.4646021794137566, -0.373876664830236, -0.27941549819892586, -0.18216250427209502, -0.0830894028174964, 0.0168139004843506, 0.11654920485049364, 0.21511998808781552, 0.3115413635133787, 0.4048499206165983, 0.49411335113860894, 0.5784397643882001, 0.6569865987187891, 0.7289690401258765, 0.7936678638491531, 0.8504366206285648, 0.8987080958116269, 0.9379999767747389, 0.9679196720314865, 0.9881682338770004, 0.998543345374605, 0.998941341839772, 0.9893582466233818, 0.9698898108450863, 0.9407305566797726, 0.9021718337562933, 0.8545989080882805, 0.7984871126234903, 0.7343970978741133, 0.662969230082182, 0.5849171928917617, 0.5010208564578846, 0.4121184852417566, 0.3190983623493521, 0.22288991410024592, 0.1244544235070617, 0.024775425453357765, -0.0751511204618093, -0.1743267812229814, -0.2717606264109442, -0.3664791292519284, -0.45753589377532133, -0.5440211108893698, -0.6250706488928834, -0.6998746875935437, -0.7676858097635825, -0.8278264690856537, -0.87969575997167, -0.9227754216128073, -0.9566350162701884, -0.9809362300664916, -0.9954362533063774, -0.9999902065507035, -0.9945525882039891, -0.979177729151317, -0.954019249902089, -0.9193285256646757, -0.8754521746884285, -0.8228285949687079, -0.7619835839190321, -0.6935250847771224, -0.6181371122370333, -0.5365729180004349, -0.44964746453459986, -0.35822928223682704, -0.26323179136580094, -0.1656041754483094, -0.06632189735120068, 0.03362304722113847, 0.13323204141994396, 0.23150982510153895, 0.32747443913769303, 0.4201670368266409, 0.5086614643723752, 0.5920735147072245, 0.6695697621966024, 0.7403758899524486, 0.803784426551621, 0.8591618148564968, 0.9059547423084626, 0.9436956694441048, 0.9720075013949759, 0.9906073556948704, 0.9993093887479177, 0.9980266527163616, 0.9867719642746133, 0.9656577765492774, 0.934895055524683, 0.8947911721405034, 0.8457468311429334, 0.7882520673753163, 0.722881349511976, 0.6502878401571168, 0.5711968696599872, 0.4863986888537981, 0.39674057313061206, 0.30311835674570226, 0.2064674819377966, 0.1077536522994423, 0.007963183785935567, -0.09190685022768164, -0.19085858137418937, -0.2879033166650653, -0.3820714171840091, -0.47242198639846616, -0.5580522712867794, -0.6381066823479502, -0.711785342369123, -0.7783520785342984, -0.8371417780197468, -0.8875670335815046, -0.9291240127343697, -0.9613974918795568, -0.9840650050816434, -0.9969000660415961, -0.9997744310730111, -0.9926593804706327, -0.9756260054681576, -0.948844497918124, -0.9125824497911845, -0.8672021794855813, -0.8131571116614864, -0.7509872467716762, -0.6813137655554999, -0.6048328224062841, -0.5223085896267315, -0.43456562207189353, -0.34248061846961253, -0.2469736617366209, -0.1489990258141988, -0.04953564087836742, 0.05042268780681477, 0.14987720966295234, 0.24783420798295983, 0.3433149288198987, 0.4353653603728932, 0.5230657651576994, 0.605539869719601, 0.6819636200681356, 0.7515734153521506, 0.8136737375071054, 0.8676441006416691, 0.9129452507276277, 0.9491245536478946, 0.9758205177669763, 0.9927664058359071, 0.9997929001426693, 0.9968297942787993, 0.9839066946186161, 0.9611527245021155, 0.9287952340772404, 0.8871575286923494, 0.8366556385360561, 0.7777941618010928, 0.7111612229059799, 0.6374225961502389, 0.5573150535176584, 0.47163900309419615, 0.3812504916549401, 0.28705265132772506, 0.18998667579543774, 0.09102241619984433, -0.008851309290403876, -0.10863659542407976, -0.20733642060676225, -0.30396460881104703, -0.39755568312143613, -0.4871745124605095, -0.5719256551095638, -0.6509623056662496, -0.723494756044245, -0.7887982859754186, -0.8462204041751706, -0.8951873678196818, -0.9352099151945402, -0.9658881542360704, -0.9869155581206493, -0.9980820279793963, -0.9992759921366277, -0.9904855208971559, -0.9717984457438633, -0.9434014817545543, -0.9055783620066238, -0.8587070026099295, -0.8032557266939526, -0.7397785850778934, -0.6689098203780216, -0.5913575298651244, -0.5078965903906221, -0.4193609160732281, -0.32663512610472223, -0.23064570592739222, -0.13235175009777303, -0.03273537933084532, 0.06720807252547847, 0.16648000353715925, 0.26408852138447286, 0.3590583540221683, 0.4504405942753893, 0.5373221810064748, 0.6188350221200393, 0.6941646682522445, 0.7625584504796027, 0.8233330007380816, 0.875881079810891, 0.9196776446620198, 0.954285094492698, 0.979357643103917, 0.9946447738778381, 0.9999937428570207, 0.9953511049115591, 0.9807632477451521, 0.956375928404503, 0.9224328169230858, 0.8792730616507226, 0.8273279005953786, 0.7671163526355278, 0.6992400316550977, 0.6243771354163914, 0.5432756692322449, 0.4567459721441928, 0.365652620282618, 0.27090578830786904, 0.1734521552458921, 0.07426544558435777, -0.02566329986055949, -0.12533562609643265, -0.22375564018679642, -0.3199399618841981, -0.41292754924054337, -0.5017893010205741, -0.5856373399743005, -0.6636338842129675, -0.7349996180487777, -0.7990214786596159, -0.8550597807770702, -0.902554608210187, -0.9410314083429535, -0.9701057337071853, -0.9894870832545356, -0.9989818049469494, -0.9984950306638145, -0.9880316240928618, -0.9676961321338052, -0.9376917403002799, -0.8983182425573547, -0.8499690458793262, -0.7931272394572851, -0.7283607678315934, -0.6563167561777877, -0.5777150444457317, -0.4933409949567752, -0.404037645323065, -0.3106972850943722, -0.21425254029588423, -0.11566705493723693, -0.015925862600098248, 0.08397445569174683, 0.183035728980588, 0.28026816976902297, 0.374700263649462, 0.4653884763549586, 0.5514266812416906, 0.631955213006885, 0.7061694571803344, 0.7733278895662251, 0.8327594853077798, 0.8838704235458307, 0.9261500206805285, 0.9591758329530804, 0.9826178773641409, 0.9962419287548636, 0.9999118601072672, 0.9935910026803949, 0.9773425123922587, 0.9513287387867805, 0.915809602890819, 0.8711400001691764, 0.8177662545264418, 0.756221658786063, 0.6871211462047392, 0.611155146262596, 0.5290826861200238, 0.4417238066692238, 0.3499513689566622, 0.2546823328440282, 0.15686859504841, 0.057487478104924564, -0.04246803471695152, -0.1419992209740017, -0.2401115979537814, -0.3358248592171419, -0.428182669496151, -0.516262220079927, -0.5991834492142653, -0.6761178353877695, -0.7462966756449163, -0.8090187662119065, -0.863657408692956, -0.9096666718335282, -0.9465868462849627, -0.9740490378683264, -0.9917788534431158, -0.9995991425528029, -0.9974317674536479, -0.9852983838412026, -0.9633202244737609, -0.9317168878547055, -0.8908041440768614, -0.8409907797521016, -0.78277451355065, -0.7167370231606575, -0.6435381333569995, -0.5639092232502625, -0.478645918588415, -0.3886001421273368, -0.2946716015002576, -0.19779879963646227, -0.09894965755028955, 0.0008881568057175921, 0.10071709699250761, 0.1995397052387874, 0.2963685787093853, 0.39023623530794616, 0.480204780438259, 0.5653752781370287, 0.6448967329448727, 0.7179745927716441, 0.783878687798293, 0.8419505260923049, 0.8916098730414439, 0.9323605488661916, 0.9637953862840878, 0.985600298790633, 0.9975574189078051, 0.9995472750438917, 0.9915499852141401, 0.9736454556949781, 0.9460125826269081, 0.9089274645434138, 0.8627606436856752, 0.807973403666981, 0.7451131604793488, 0.6748079928938668, 0.5977603669052548, 0.514740116923832, 0.4265767538445667, 0.33415117684842055, 0.23838687174889206, 0.1402406838270716, 0.04069325734985776, -0.05926076270339342, -0.158622668804709, -0.256399669633018, -0.3516148097168163, -0.4433167308503272, -0.5305891777502096, -0.6125601529754698, -0.6884106296376704, -0.7573827348468307, -0.8187873221268477, -0.8720108571392772, -0.9165215479156338, -0.9518746583469646, -0.9777169518400209, -0.9937902207405466, -0.9999338662588038, -0.996086503119594, -0.9822865729036345, -0.9586719599519926, -0.925478613671328, -0.8830381910054155, -0.8317747426285983, -0.7722004759716072, -0.7049106374142481, -0.6305775647803226, -0.5499439695603417, -0.46381551598382736, -0.3730527710886221, -0.27856260621955026, -0.1812891358696878, -0.08220428440043633, 0.017701925105413577, 0.11743126282709573, 0.2159872661882241, 0.3123851961814975, 0.40566187655534236, 0.4948853175526281, 0.5791640280442709, 0.6576559230138694, 0.7295767373928583, 0.7942078621778232, 0.8509035245341184, 0.899097240144582, 0.9383074733335544, 0.9681424484121911, 0.9883040641716381, 0.9985908724117705, 0.9989000907450211, 0.9892286295640171, 0.969673122911919, 0.9404289629470035, 0.9017883476488092, 0.8541373612725007, 0.7979521167226309, 0.7337939983903692, 0.6623040529862375, 0.5841965844132856, 0.500252016678587, 0.4113090961545671, 0.3182565111024815, 0.22202401219307544, 0.123573122745224, 0.023887531502738858, -0.07603673605835357, -0.17520126968715413, -0.2726152501430806, -0.36730534913419133, -0.45832545449176587, -0.544766123410311, -0.6257636692994791, -0.7005087914549744, -0.7682546613236668, -0.8283243845676455, -0.880117764368662, -0.9231172983963596, -0.9568933495204898, -0.981108438603097, -0.9955206164785154, -0.9999858814294444, -0.9944596180045147, -0.9789970428011283, -0.9537526527594719, -0.918978681480152, -0.8750225789894467, -0.8223235401334872, -0.7614081162885362, -0.6928849542336957, -0.6174387147534618, -0.5358232317335149, -0.4488539801016982, -0.3573999278721047, -0.26237485370392877, -0.1647282167271322, -0.06543566986070695, 0.03451068858880983, 0.1341122276456642, 0.23237376165548454, 0.3283134938514034, 0.42097282614277115, 0.5094259371104354, 0.5927890325083184, 0.6702291758433747, 0.7409726108017196, 0.8043124923659141, 0.8596159493767498, 0.9063304079726667, 0.9439891127251193, 0.972215790304539, 0.9907284090790484, 0.9993419970813106, 0.9979704901872808, 0.9866275920404853, 0.9654266371297417, 0.9345794583884147, 0.8943942706297661, 0.845272590966423, 0.7877052269841179, 0.722267372754513, 0.6496128616861957, 0.5704676336373723, 0.4856224815647726, 0.39592515018183416, 0.3022718655737269, 0.20559838040260117, 0.10687062417628145, 0.007075051999923832, -0.09279121175730869, -0.19173033639936585, -0.2887537548977434, -0.38289204132648375, -0.4732045970455711, -0.5587890488516163, -0.6387902651926438, -0.712408900359854, -0.7789093812857416, -0.8376272571470315, -0.8879758383376634, -0.929452058477416, -0.9616415008848646, -0.9842225392918887, -0.9969695514270246, -0.9997551733586199, -0.9925515720731387, -0.975430723573431, -0.9485636937183058, -0.9122189289890164, -0.8667595742607592, -0.812639844379108, -0.7504004857954386, -0.6806633736071227, -0.6041252979871214, -0.5215510020869119, -0.433765540975684, -0.3416460379628515, -0.24611292067185941, -0.14812072443162932, -0.04864855487508726, 0.051309694960699495, 0.1507552752851691, 0.2486945587320578, 0.34414896835558706, 0.43616475524782494, 0.5238225280825324, 0.6062464393693456, 0.6826129366324095, 0.7521589910744791, 0.8141897215084345, 0.8680853373804215, 0.9133073315121647, 0.9494038606867033, 0.9760142603164518, 0.9928726480845371, 0.9998105805530253, 0.9967587361940652, 0.9837476080276858, 0.9609071989456185, 0.9284657227653786, 0.8867473239932281, 0.8361688390794311, 0.777235631526222, 0.7105365424627442, 0.6367380071391379, 0.5565773961257936, 0.4708556477503867, 0.3804292653868415, 0.28620175955674676, 0.18911462035089152, 0.09013791037146546, -0.00973942781276056, -0.10951945285370827, -0.2082051957240596, -0.3048106211022167, -0.3983704795113227, -0.4879499517729242, -0.5726539894112199, -0.6516362576815602, -0.7241075918674496, -0.7893438823535511, -0.8466933096895727, -0.8955828573547732, -0.9355240371496177, -0.9661177700083929, -0.987058373465322, -0.9981366159327038, -0.9992418072737843, -0.9903629047820113, -0.9715886235161092, -0.9431065498885319, -0.9052012673640456, -0.8582515129958141, -0.8027263932099596, -0.7391806966492228, -0.668249350908215, -0.5906410785467989, -0.5071313157685259, -0.418554464518419, -0.32579555541456173, -0.22978140481468803, -0.13147135437353982, -0.03184768561814293, 0.06809419468450523, 0.16735570030280691, 0.26494504308412953, 0.3598871425741427, 0.4512333686984278, 0.5380710201605988, 0.6195324438519512, 0.6948037041545392, 0.7631327155167837, 0.8238367570437217, 0.8763092940185041, 0.9200260381967907, 0.9545501863215947, 0.9795367845170094, 0.9947361749533432, 0.9999964903456066, 0.9952651713612277, 0.9805894917755311, 0.9561160861278065, 0.9220894845974522, 0.8788496697392535, 0.8268286794901034, 0.7665462903887037, 0.6986048241402639, 0.6236831294170677, 0.5425297990269575, 0.45595569022148996, 0.3648258228782292, 0.2700507365081657, 0.17257739244581813, 0.07337971212463937, -0.026551154023966794, -0.12621672981822424, -0.22462118976982778, -0.32078130904314506, -0.4137362875127194, -0.5025573497604873, -0.5863570250928336, -0.6642980148543038, -0.7356015584390794, -0.7995552144094876, -0.8555199789753223, -0.9029366707085488, -0.9413315176992298, -0.9703208913278909, -0.9896151393558494, -0.999021480034635, -0.9984459283175106, -0.9878942349269819, -0.9674718288954816, -0.9373827641533214, -0.8979276806892913, -0.8495008006552359, -0.7925859894286711, -0.7277519209898311, -0.6556463959192523, -0.5769898687885426, -0.4925682496163789, -0.40322505131547626, -0.3098529615903106, -0.21338492349669264, -0.11478481378318722, -0.01503781215316093, 0.0848594423250458, 0.18390880930634296, 0.28112062025723483, 0.375523566896625, 0.46617440618718464, 0.5521673849078803, 0.6326432896408476, 0.7067980317478022, 0.7738906815578891, 0.8332508714921063, 0.8842854941544844, 0.9264846284651933, 0.9594266346233836, 0.9827823669926928, 0.9963184628156722, 0.9998996738972931, 0.9934902179602213, 0.9771541361694929, 0.9510546532543747, 0.915452546620805, 0.8707035407497848, 0.8172547529159183, 0.7556402257394118, 0.6864755912087755, 0.6104519194894316, 0.5283288139791364, 0.440926821601849, 0.34911923417413226, 0.25382336276203626, 0.15599137221205686, 0.056600767434840576, -0.04335537350085837, -0.14287832187593194, -0.2409736772881011, -0.33666130337212846, -0.4289851209982793, -0.5170226610990435, -0.5998942816750875, -0.6767719568873076, -0.7468875504173859, -0.8095404904318835, -0.8641047694644948, -0.9100351992756844, -0.9468728581933475, -0.9742496765065003, -0.9918921140961229, -0.9996238935576389, -0.9973677615064545, -0.9851462604682474, -0.9630815036414969, -0.9313939547827833, -0.8904002254057892, -0.8405099113037167, -0.7822215000035424, -0.716117390043374, -0.6428580718388389, -0.5631755282811168, -0.4778659210058768, -0.38778163540943045, -0.29382276389552614, -0.19692811244968383, -0.09806582040002382, 0.001776312910836964, 0.1016006978902495, 0.20040992228108223, 0.2972167169751811, 0.39105382048004866, 0.48098364347589934, 0.5661076368981803, 0.6455752699428914, 0.7185925282891343, 0.7844298476278219, 0.8424294032270538, 0.8920116826993705, 0.9326812762980209, 0.9640318268873361, 0.9857500901289509, 0.9976190643156521, 0.9995201585807313, 0.991434377818708, 0.9734425124781552, 0.9457243313302304, 0.9085567852785591, 0.862311240157329, 0.8074497661666382, 0.7445205210198249, 0.6741522729327357, 0.5970481181796262, 0.5139784559875352, 0.4257732909618934, 0.33331393995491093, 0.23752422623882552, 0.13936124896924576, 0.039805820166669656, -0.0601473352329712, -0.15949951834101572, -0.2572580349853417, -0.35244611438228074, -0.4441126687075084, -0.5313417960511533, -0.6132619318068891, -0.6890545570574642, -0.7579623769450643, -0.8192968873112808, -0.8724452540030349, -0.9168764361088418, -0.9521464919441092, -0.9779030147696511, -0.9938886539233752, -0.9999436861830073, -0.996007611667735, -0.9821197583330206, -0.9584188890186744, -0.9251418149764185, -0.882621029730138, -0.8312813869105229, -0.7716358552579827, -0.7042803932086152, -0.6298879942744539, -0.5492019627147794, -0.4630284866857027, -0.3722285830745181, -0.2777094945036767, -0.1804156244623088, -0.08131910113877604, 0.01858993576280033, 0.11831322817126469, 0.21685437391298126, 0.31322878243308516, 0.40647351249880054, 0.49565689358989423, 0.5798878348426355, 0.6583247285350505, 0.730183859153167, 0.7947472340173277, 0.8513697572276862, 0.8994856752492582, 0.9386142297341663, 0.9683644611001854, 0.9884391148696274, 0.9986376117378207, 0.998858051695236, 0.9890982321786865, 0.9694556700786149, 0.9401266273825524, 0.9014041501902339, 0.853675140693805, 0.7974164913790545, 0.7331903200732922, 0.6616383534498449, 0.5834755151072989, 0.49948278228915155, 0.4104993826174394, 0.31741440880766936, 0.22115793514833323, 0.12269172450610251, 0.02299961870908476, -0.0769222916753969, -0.1760756199485871, -0.2734696588301265, -0.36813127927767236, -0.4591146536707108, -0.545510706207386, -0.6264561960895026, -0.7011423427391905, -0.7688229068670624, -0.828821646648592, -0.8805390745088115, -0.9234584470040598, -0.9571509279516266, -0.9812798732191279, -0.9956041943614264, -0.9999807674966553, -0.9943658633527529, -0.9788155841958815, -0.9534853032751422, -0.9186281123844103, -0.8745922930528203, -0.8218178366308225, -0.7608320480420605, -0.6922442771269088, -0.6167398302202296, -0.535073122797084, -0.44806014160260915, -0.3565702915822196, -0.2615177090748213, -0.16385212806459495, -0.06454939075307359, 0.03539830273366068, 0.13499230808061752, 0.23323751490774314, 0.3291522895839963, 0.4217782833859938, 0.5101900080017631, 0.5935040827039852, 0.6708880607981837, 0.7415687471550055, 0.8048399237202818, 0.8600694058124532, 0.9067053587029005, 0.9442818113661253, 0.9724233123082513, 0.9908486809542003, 0.9993738171110836, 0.9979135404364562, 0.986482441532148, 0.9651947361597889, 0.9342631240346855, 0.8939966636005579, 0.8447976840197342, 0.7871577652331794, 0.7216528262561684, 0.6489373707859244, 0.5697379476169631, 0.4848458912057276, 0.3951094149183201, 0.3014251359628438, 0.20472911668674296, 0.10598751175115685, 0.0061869146329524855, -0.09367550009112813, -0.19260194018331567, -0.28960396535491445, -0.38371236343503057, -0.4739868344181606, -0.5595253856309882, -0.6394733441451048, -0.7130318963862962, -0.7794660696158047, -0.838112075534947, -0.8883839426383546, -0.9297793710476144, -0.9618847513255586, -0.9843792971250844, -0.9970382503802722, -0.9997351270146861, -0.992442980728465, -0.9752346722368396, -0.9482821412699473, -0.9118546886078812, -0.8663162853163362, -0.8121219360679938, -0.7498131328862885, -0.6800124447360528, -0.6034172970202327, -0.5207930031358368, -0.43296511771537394, -0.34081118795795157, -0.24525198546765434, -0.14724230620807843, -0.04776143049672075, 0.052196661640344436, 0.15163322198820756, 0.24955471330524379, 0.3449827364187683, 0.4369638060661144, 0.5245788778042908, 0.6069525307981571, 0.683261714736121, 0.7527439734767463, 0.814705063258458, 0.8685258893537882, 0.9136686918591765, 0.9496824188142243, 0.9762072329637551, 0.9929781071327172, 0.9998274722901328, 0.9966868918434463, 0.9835877454343449, 0.9606609154037421, 0.9281354790587077, 0.8863364198077126, 0.8356813800338723, 0.7766764881502718, 0.709911301532178, 0.6360529158546612, 0.5558392996930538, 0.47007192098496936, 0.3796077390275217, 0.2853506420233332, 0.18824241572844258, 0.08925333344024909, -0.01062753865243582, -0.11040222389190282, -0.20907380660437916, -0.30565639295186264, -0.3991849616575549, -0.4887250061793565, -0.5733818719904229, -0.65230969567142, -0.7247198564981747, -0.7898888560793436, -0.8471655473131, -0.8959776404338033, -0.9358374211421291, -0.9663466236851204, -0.9872004101959775, -0.9981904165332236, -0.9992068341863537, -0.9902395074461586, -0.9713780348772248, -0.942810874078682, -0.9048234586781893, -0.857795346373455, -0.8021964265171923, -0.7385822251380614, -0.6675883543081652, -0.5899241613174027]\n"
     ]
    }
   ],
   "source": [
    "list_x = []\n",
    "list_y = []\n",
    "\n",
    "import math\n",
    "def my_function(x):\n",
    "    return math.sin(x)\n",
    "\n",
    "x_start = 0\n",
    "dx = 0.1\n",
    "for i in range(1000):\n",
    "    # Creating 1000 points of (x,y) and saving them to two separate lists\n",
    "    x = x_start + dx * i\n",
    "    y = my_function(x)\n",
    "    \n",
    "    list_x.append(x)\n",
    "    list_y.append(y)\n",
    "\n",
    "print(list_x)\n",
    "print(list_y)\n",
    "# A list of x, and corresponding sin(x)!\n",
    "# Now if only we could plot this...tune in next week for that!"
   ]
  },
  {
   "cell_type": "markdown",
   "metadata": {},
   "source": [
    "### List indexing and slicing\n",
    "There's one more list topic that we have neglected until now. Say we've stored elevements in a list, how do we extract them again? The way that we do this is by *indexing*.\n",
    "\n",
    "Each element in a list has an associated index. An index is an integer which indicates its position in the list. This index starts at 0 for the first element, 1 for the second element, and goes up to `n-1` for the last element (in a list of length `n`). The way that we index is by placing a set of square brackets after our list.\n",
    "\n",
    "Why does it start from 0? Its just a design choice by the makers of Python, as well as the makers of some other languages. Languages like R on the other hand index from 1.\n",
    "\n",
    "Lets look at some examples!\n",
    "\n",
    "**NOTE:** Indices need to be integers. If you're indexing using a variable `index` that is a float, you'll need to convert it to an integer. Eg. `lst[int(index)]`"
   ]
  },
  {
   "cell_type": "code",
   "execution_count": 25,
   "metadata": {},
   "outputs": [
    {
     "name": "stdout",
     "output_type": "stream",
     "text": [
      "first\n",
      "second\n",
      "fifth\n",
      "2\n",
      "[1, 8, 2, 4, 7]\n"
     ]
    }
   ],
   "source": [
    "lst = [\"first\", \"second\", \"third\", \"fourth\", \"fifth\"] # A list of positions\n",
    "\n",
    "print(lst[0]) # This will extract out the \"first\" element from the list\n",
    "print(lst[1]) # This will extract out the \"second\" element from the list\n",
    "print(lst[len(lst) - 1]) # This will extract out the \"fifth\" element from the list (which is also the last element)\n",
    "\n",
    "lst = [1, 8, 7, 2, 4, 7]\n",
    "index = lst.index(7) # The index of the first occurence of 7 in the list\n",
    "print(index) # Prints \n",
    "lst.pop(index) # Removes the element at the index of `index`. Remember .pop is an \"in place\" method\n",
    "\n",
    "print(lst)"
   ]
  },
  {
   "cell_type": "markdown",
   "metadata": {},
   "source": [
    "We can also index using negative indices. This means that the list will be indexed from the other end. For example, an index of `-1` will correspond to the last element of the list, `-2` to the second last element, and `-n` to the `n`th last element (if the list is of length `n`, the index of `-n` corresponds to the first element of the list).\n",
    "\n",
    "Got a `IndexError: list index out of range` error? Its pretty self explanatory, you're trying to index an element position that doesn't exist (ie. your list is shorter than you think it is; your list index is out of range). Double check your index and your list.\n",
    "\n",
    "Can we only index lists? No! We can index other elements too like tuples and strings. When we index a string, we can pull out individual letters."
   ]
  },
  {
   "cell_type": "code",
   "execution_count": 26,
   "metadata": {},
   "outputs": [
    {
     "name": "stdout",
     "output_type": "stream",
     "text": [
      "4th last\n",
      "3rd last\n",
      "2nd last\n",
      "last\n",
      "4\n",
      "d\n",
      "=====\n",
      "A larger example...\n",
      "[11, 22, 33, 44]\n"
     ]
    }
   ],
   "source": [
    "lst = [\"4th last\", \"3rd last\", \"2nd last\", \"last\"]\n",
    "print(lst[-4]) # 4th last element\n",
    "print(lst[-3]) # 3rd last element\n",
    "print(lst[-2]) # 2nd last element\n",
    "print(lst[-1]) # last element\n",
    "\n",
    "print([2, 4][-1]) # Looks a bit weird, but this works. We don't need to define a variable `lst` in order to index!\n",
    "\n",
    "print(\"oh my word\"[-1]) # We can also index strings\n",
    "\n",
    "print(\"=====\\nA larger example...\") # \\n in strings denotes a new line (\\t a tab)\n",
    "\n",
    "# Summing two lists together\n",
    "lst1 = [1, 2, 3, 4]\n",
    "lst2 = [10, 20, 30, 40]\n",
    "new_lst = []\n",
    "\n",
    "for index in range(len(lst1)):\n",
    "    # Looping through the indices of a list is super helpful, and a common pattern in Python\n",
    "    new_element = lst1[index] + lst2[index]\n",
    "    new_lst.append(new_element)\n",
    "\n",
    "print(new_lst)"
   ]
  },
  {
   "cell_type": "markdown",
   "metadata": {},
   "source": [
    "#### Slicing\n",
    "What if we're not interested in just a single element from a list, but rather a segment from that list? Introducing *slicing*.\n",
    "\n",
    "Remember when we covered the `range` object? We mentioned that the options for range are `range(start, stop, step)` where `start` indicates the start point of our count, `stop` the end point, and `step` being the interval between each point in the sequence. We also mentioned that the interval is **closed on start** (meaning it includes start) and **open on stop** meaning the sequence excludes stop (eg. the last element in `range(0, 5, 1)` is `4`).\n",
    "\n",
    "Well, slicing works in a very very similar way to the range object. We specify our slice by using `:` while indexing, where we can slice a list from from `start` (inclusive) to `stop` (exclusive) by using `lst[start:stop]`. This concept takes some practice to get used to.\n",
    "\n",
    "If we ommit `start` or `stop`, Python will assume we want to slice to the beginning or end of the list respectively."
   ]
  },
  {
   "cell_type": "code",
   "execution_count": 27,
   "metadata": {},
   "outputs": [
    {
     "name": "stdout",
     "output_type": "stream",
     "text": [
      "['second', 'third']\n",
      "['first', 'second']\n",
      "['third', 'fourth', 'fifth']\n",
      "['first', 'second', 'third', 'fourth', 'fifth']\n",
      "['second', 'third', 'fourth']\n",
      "['second', 'third']\n",
      "Experiment for yourself with slicing!\n"
     ]
    }
   ],
   "source": [
    "lst = [\"first\", \"second\", \"third\", \"fourth\", \"fifth\"] # A list of positions\n",
    "# Slices from index 1 (the \"second\" element) to index 3 (the \"fourth element\") however doesn't index 3 in the final list\n",
    "print(lst[1:3])\n",
    "\n",
    "print(lst[:2]) # Slices from the beginning of the list to index 2 (exclusive, so final list includes indices 0 and 1)\n",
    "print(lst[2:]) # Slices from index 2 (the \"third\" element) to the end of the list\n",
    "print(lst[:]) # We can even ommit both end points! This will give the list in its entirity\n",
    "\n",
    "print(lst[1:-1]) # We can also use negative indices. This slices from index 1 to the last element (but doesn't include it)\n",
    "\n",
    "start = 2\n",
    "print(lst[a:a+2]) # We can also put expressions/calculations in the `start` or `stop`\n",
    "\n",
    "print(\"Experiment for yourself with slicing!\")"
   ]
  },
  {
   "cell_type": "markdown",
   "metadata": {},
   "source": [
    "You may note a couple things from above:\n",
    "- `lst[start:stop]` will always have a list length of `stop-start`\n",
    "- `lst[a:a]` will give an empty list\n",
    "- if we have `lst[a:b] + lst[b:c]` that will give exactly `lst[a:c]`. Similarly `lst[:a] + lst[a:]` gives the original `lst`\n",
    "\n",
    "Of course, slicing also works for strings and other data types.\n",
    "\n",
    "Theres one last part to the story that will complete the comparison of slicing to the `range` object. We can specify a step using a second colon (ie. `lst[start:stop:step]`). This isn't too commmon, however definitely useful when you need it. Just be sure you're thinking carefully of what your `start`, `stop` and `step` are.\n"
   ]
  },
  {
   "cell_type": "code",
   "execution_count": 28,
   "metadata": {},
   "outputs": [
    {
     "name": "stdout",
     "output_type": "stream",
     "text": [
      "['first', 'third', 'fifth', 'seventh']\n",
      "['eighth', 'seventh', 'sixth', 'fifth', 'fourth', 'third', 'second', 'first']\n",
      "['second', 'fourth', 'sixth']\n"
     ]
    }
   ],
   "source": [
    "lst = [\"first\", \"second\", \"third\", \"fourth\", \"fifth\", \"sixth\", \"seventh\", \"eighth\"] # A list of positions\n",
    "\n",
    "print(lst[::2]) # Slices from the beginning to the end in steps of 2 (ie. only even indices)\n",
    "print(lst[::-1]) # Quickly reverse any list or string!\n",
    "\n",
    "print(lst[1:6:2]) # Goes from index 1 (inclusive, \"second\" element) to index 6 (exclusive, \"seventh\" element) in steps of 2\n",
    "\n"
   ]
  },
  {
   "cell_type": "markdown",
   "metadata": {},
   "source": [
    "## Last but not least, my favourite Python feature (.format and f-strings)\n",
    "Sometimes in Python, we want to work with strings and format numbers into them. Whether that be to have nice error messages or log messages, or maybe to construct files paths (eg. I wanna save 1000 different plots, with `plot-number-123.png` as the file name).\n",
    "\n",
    "How would we construct string to pring using what we know so far?"
   ]
  },
  {
   "cell_type": "code",
   "execution_count": 29,
   "metadata": {},
   "outputs": [
    {
     "name": "stdout",
     "output_type": "stream",
     "text": [
      "The value for x is -1 and the value for y is 1.0\n",
      "The value for x is -5.0 and the value for y is 0.5\n",
      "The value for x is -16.0 and the value for y is 0.25\n",
      "The value for x is -48.5 and the value for y is 0.125\n",
      "The value for x is -145.75 and the value for y is 0.062\n",
      "The value for x is -437.375 and the value for y is 0.031\n",
      "The value for x is -1312.188 and the value for y is 0.016\n",
      "The value for x is -3936.594 and the value for y is 0.008\n",
      "The value for x is -11809.797 and the value for y is 0.004\n",
      "The value for x is -35429.398 and the value for y is 0.002\n"
     ]
    }
   ],
   "source": [
    "# Example\n",
    "x = 1\n",
    "y = 2\n",
    "for i in range(10):\n",
    "    x = x*3 - y*2\n",
    "    y = y/2\n",
    "    to_print = \"The value for x is \" + str(round(x, 3)) + \" and the value for y is \" + str(round(y, 3))\n",
    "    print(to_print)"
   ]
  },
  {
   "cell_type": "markdown",
   "metadata": {},
   "source": [
    "**_Yuck_**. Imagine we had a bunch more print statements. Having to round the numbers, convert the numbers to strings, and then concatenate them would become disgusting really quick. Luckily theres a better way using the `.format` string method ([full article here](https://www.w3schools.com/python/ref_string_format.asp)).\n",
    "\n",
    "\n",
    "We'll gloss over `.format` here. There are multiple different ways to use the method, so be sure to read the article above if you're interested.\n",
    "\n",
    "`.format` looks within a string, and replaces the curly braces `{}` with whatever arguments we want. There are a few ways we can use these curly braces:\n",
    "- Specifying arguments\n",
    "    - `{}`: Have nothing in the curly braces. `.format` will slot in values in the string left to right, in order the order they are passed to the method.\n",
    "    - ...other options we won't talk about here\n",
    "- Formatting arguments\n",
    "    - `{:.2f}`: We can place a format specifier for a variable (in this case, `.2f` which rounds to 2dp). This will format whatever is inserted into the string based on what the format specifier is. Note the `:` separates the 1st option (the way we Specify arguments) from the format specifier."
   ]
  },
  {
   "cell_type": "code",
   "execution_count": 30,
   "metadata": {},
   "outputs": [
    {
     "name": "stdout",
     "output_type": "stream",
     "text": [
      "Hey there, I'm pretty sure you owe me $200 John\n",
      "The value for x is -1.000 and the value for y is 1.000\n",
      "The value for x is -5.000 and the value for y is 0.500\n",
      "The value for x is -16.000 and the value for y is 0.250\n",
      "The value for x is -48.500 and the value for y is 0.125\n",
      "The value for x is -145.750 and the value for y is 0.062\n",
      "The value for x is -437.375 and the value for y is 0.031\n",
      "The value for x is -1312.188 and the value for y is 0.016\n",
      "The value for x is -3936.594 and the value for y is 0.008\n",
      "The value for x is -11809.797 and the value for y is 0.004\n",
      "The value for x is -35429.398 and the value for y is 0.002\n"
     ]
    }
   ],
   "source": [
    "amount = 200\n",
    "name = \"John\"\n",
    "# No. of {} needs to be equal to no. of arguments passed to .format\n",
    "print(\"Hey there, I'm pretty sure you owe me ${} {}\".format(amount, name))\n",
    "\n",
    "# Redoing Example with .format\n",
    "x = 1\n",
    "y = 2\n",
    "for i in range(10):\n",
    "    x = x*3 - y*2\n",
    "    y = y/2\n",
    "    print(\"The value for x is {:.3f} and the value for y is {:.3f}\".format(x, y))"
   ]
  },
  {
   "cell_type": "markdown",
   "metadata": {},
   "source": [
    "Much nicer right?!\n",
    "\n",
    "The story gets better. Lucky us, **_there is an even better option than `.format`_**!! As of Python 3.6, we have f-strings. These are an extension to `.format` that makes it even easier for us to format strings.\n",
    "\n",
    "The way that we use them is just by placing an `f` in front of the string `f\"This is my string: {my_string}\"`.\n",
    "\n",
    "This allows us to insert variable names (or even expressions and function calls) straight into our string."
   ]
  },
  {
   "cell_type": "code",
   "execution_count": 31,
   "metadata": {},
   "outputs": [
    {
     "name": "stdout",
     "output_type": "stream",
     "text": [
      "/c/Users/nick/coding/my_maths_simulation/A123/20.png\n",
      "Circle radius 2 has area 12.566370614359172.\n",
      "Circle radius 2.00 has area 12.57.\n"
     ]
    }
   ],
   "source": [
    "base_folder = \"/c/Users/nick/coding/my_maths_simulation\"\n",
    "simulation_run = \"A123\"\n",
    "image_number = 20\n",
    "image_path = f\"{base_folder}/{simulation_run}/{image_number}.png\"\n",
    "print(image_path)\n",
    "# ===========\n",
    "\n",
    "from math import pi\n",
    "r = 2\n",
    "print(f\"Circle radius {r} has area {pi*r**2}.\")\n",
    "print(f\"Circle radius {r:.2f} has area {pi*r**2:.2f}.\") # Using a format specifier"
   ]
  },
  {
   "cell_type": "markdown",
   "metadata": {},
   "source": [
    "**NOTE**: Looking online you [may come accross another way to format strings](https://pyformat.info/) using `%` (eg. `\"%d %d\" % (1, 2)`). This is an outdated way of doing formatting from Python 2.7, however will still work in Python 3 and above.\n",
    "\n",
    "Extra reading: [All about .format and format speicifiers](https://www.w3schools.com/python/ref_string_format.asp) (unlock the full capacities of .format and f strings, including easily rounding to 3dp, rounding to 2sf, centering strings in a width of characters, etc)."
   ]
  },
  {
   "cell_type": "markdown",
   "metadata": {},
   "source": [
    "# Conclusion\n",
    "The goal of this workshop was to give you a solid overview of the Python landscape, while giving you a somewhat digestable intro into base Python. We have covered a lot, but Python is even more than just what I have covered.\n",
    "\n",
    "Some of the topics I've excluded are:\n",
    "- **more string methods:** Not super relevant for maths\n",
    "- **opening files in base Python:** Not super relevant for maths\n",
    "- **list comprehensions**: Amazing to know, but don't have a lot of time\n",
    "- **object oriented programming and classes:** Advanced\n",
    "- **memory addresses for lists/immutable objects:** A bit of a long explanation, and only necessary if you're working a lot with lists\n",
    "\n",
    "Coding is all about practice. The more that you practice, the better a programmer you will become. For this reason, my advice for programmers wanting to get better is to set yourself your own projects that you think are cool. The further the project is out of your comfort zone, the more you'll learn by the end of it.  \n",
    "\n",
    "**NOTE:** If you could fill out [this < 2min survey](https://forms.gle/PgJpYVuRqq5Q79Hz9) about the workshop, that would be awesome and allow us to plan workshop 2 for you :).\n",
    "\n",
    "Saying that, for the remaining time, lets get some more practice in!"
   ]
  },
  {
   "cell_type": "markdown",
   "metadata": {},
   "source": [
    "---\n",
    "Thats it for the workshop! As a treat for getting to the end, here are some tasty Python easter eggs which exist in base Python."
   ]
  },
  {
   "cell_type": "code",
   "execution_count": 32,
   "metadata": {},
   "outputs": [],
   "source": [
    "import antigravity"
   ]
  },
  {
   "cell_type": "code",
   "execution_count": 33,
   "metadata": {
    "scrolled": true
   },
   "outputs": [
    {
     "name": "stdout",
     "output_type": "stream",
     "text": [
      "The Zen of Python, by Tim Peters\n",
      "\n",
      "Beautiful is better than ugly.\n",
      "Explicit is better than implicit.\n",
      "Simple is better than complex.\n",
      "Complex is better than complicated.\n",
      "Flat is better than nested.\n",
      "Sparse is better than dense.\n",
      "Readability counts.\n",
      "Special cases aren't special enough to break the rules.\n",
      "Although practicality beats purity.\n",
      "Errors should never pass silently.\n",
      "Unless explicitly silenced.\n",
      "In the face of ambiguity, refuse the temptation to guess.\n",
      "There should be one-- and preferably only one --obvious way to do it.\n",
      "Although that way may not be obvious at first unless you're Dutch.\n",
      "Now is better than never.\n",
      "Although never is often better than *right* now.\n",
      "If the implementation is hard to explain, it's a bad idea.\n",
      "If the implementation is easy to explain, it may be a good idea.\n",
      "Namespaces are one honking great idea -- let's do more of those!\n"
     ]
    }
   ],
   "source": [
    "import this"
   ]
  }
 ],
 "metadata": {
  "kernelspec": {
   "display_name": "Python 3.8.9 64-bit",
   "language": "python",
   "name": "python3"
  },
  "language_info": {
   "codemirror_mode": {
    "name": "ipython",
    "version": 3
   },
   "file_extension": ".py",
   "mimetype": "text/x-python",
   "name": "python",
   "nbconvert_exporter": "python",
   "pygments_lexer": "ipython3",
   "version": "3.8.9"
  },
  "vscode": {
   "interpreter": {
    "hash": "e7022d8e2ca52013584f7e7afd986150026516a33417e09866a3b22a4e29a2a5"
   }
  }
 },
 "nbformat": 4,
 "nbformat_minor": 2
}
