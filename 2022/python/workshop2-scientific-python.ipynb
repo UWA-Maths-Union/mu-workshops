{
 "cells": [
  {
   "cell_type": "markdown",
   "metadata": {
    "slideshow": {
     "slide_type": "slide"
    }
   },
   "source": [
    "# Python Series | Part 2: Scientific packages numpy and matplotlib\n",
    "**UWA Maths Union**  \n",
    "written and presented by *Nick Hodgskin*\n",
    "\n",
    "Workshop drive and resources:\n",
    "- Google Drive\n",
    "\n",
    "---"
   ]
  },
  {
   "cell_type": "markdown",
   "metadata": {},
   "source": [
    "## Structure of these workshops\n",
    "- Workshop 1\n",
    "    - Goes over many of the foundations of Python including base Python, while still being a ~2 hour workshop\n",
    "    - Already done an intro to Python course? There will be a lot of overlap with this workshop (particularly the \"Base Python\" component)\n",
    "- Workshop 2\n",
    "    - Goes over two of the fundamental scientific computing packages (numpy and matplotlib), and how to use them in mathematical contexts.\n",
    "    \n",
    "**WARNING:** This workshop assumes that you are familiar with base Python (mathematical operations, base data types, logical operations, loops, functions). If this is your first time learning Python, we would recommend first watching our workshop 1 recording.\n",
    "    \n",
    "**Can't get enough Python?**:  \n",
    "There are many amazing free courses online that cover the topics in these workshops. These courses also cover `pandas` (not covered in these workshops), an amazing tool for dealing with heterogenous CSV/tabular data.\n",
    "\n",
    "- [Kaggle Learn](https://www.kaggle.com/learn): Has course modules covering topics relevant to data science (free platform)\n",
    "- [Datacamp](https://www.datacamp.com/): Has many course modules covering topics relevant to data science (paid platform; 3 month free trial with [GitHub student developer pack](https://education.github.com/pack) which also comes with many other perks (free Canva Pro, GitHub pro, etc.))\n",
    "- Coursera and EdX: Free access to thousands of online, university courses on a variety of different topics ([UWA has a license for Coursera](https://www.uwa.edu.au/education/educational-enhancement-unit/Strategic-Projects/Coursera) allowing you to get the completion certificates for free).\n",
    "- YouTube: eg. Freecodecamp, Tech with Tim, Keith Galli, Corey Schafer\n",
    "\n",
    "## Table of contents\n",
    "**INSERT TABLE OF CONTENTS**\n"
   ]
  },
  {
   "cell_type": "markdown",
   "metadata": {},
   "source": [
    "## Workshop 1 recap: Jupyter, our programming environment\n",
    "Let's go through some information covered in the last workshop that is particularly relevant to this workshop.\n",
    "\n",
    "### IPython Notebooks\n",
    "IPython Notebooks (ending in `.ipynb`) are different to Python script files (ending in `.py`). With `.py` files we just click \"play\" to run the script from the top to the bottom. With `.ipynb` files we can interactively run blocks of code, and even interleave it with formatted text (this doccument is a `.ipynb` file!).\n",
    "\n",
    "### Launching Jupyter\n",
    "There are many different IDEs we can use to edit iPython notebooks. In [workshop 0](https://statuesque-bubbler-6af.notion.site/05daea2a53594b578b3b920a6b1095c2) we went through these IDEs. Some are:\n",
    "- Jupyter Lab\n",
    "- Jupyter Notebook (my choice today)\n",
    "- Google Colab (online environment. Right click in your Google Drive > More > Google Collaboratory)\n",
    "- VScode\n",
    "\n",
    "If you have Anaconda installed, search for \"Anaconda Navigator\". Here you can launch Jupyter Notebook or Jupyter Lab. If your installation is correctly configured, you can also launch from the terminal by typing `jupyter notebook` or `jupyter lab`. Having issues or don't have Anaconda? Use Google Colab.\n",
    "\n",
    "### My first notebook\n",
    "A notebook consists of cells/blocks that are either markdown or code.\n",
    "Live showcase time:\n",
    "- Two scopes: Navigating cells vs navigating in a cell\n",
    "- Using the GUI\n",
    "- Using shortcuts (Help > Keyboard shortcuts)\n",
    "    - Ctrl+Enter: Run current cell\n",
    "    - Ctrl+/: Comment out blocks of code\n",
    "    - Shift+Enter: Run and focus next cell\n",
    "    - DD: delete cell\n",
    "    - A: Insert cell above\n",
    "    - B: Insert cell below\n",
    "    - Shift+Tab: Function help documentation\n",
    "- Running code (Jupyter remembers all)\n",
    "    - Resetting the kernel\n"
   ]
  },
  {
   "cell_type": "markdown",
   "metadata": {},
   "source": [
    "# The beauty of packages\n",
    "So, what is a package? Just like you have \"mods\" for video games, a package can be thought of as a mod for Python. Packages are bundles of code that change the bahaviour of Python, and **extend** its base functionality. Packages are oriented around solving particular classes of problems really well (\"problem\" here could mean literally anything from doing maths, to downloading and editting YouTube videos).\n",
    "\n",
    "You might be thinking \"ok then, what can be done with Python packages\". Glad you asked!\n",
    "- `numpy`: Optimised, array based maths within Python\n",
    "- `pandas`: Working with tabular data (CSVs, tables)\n",
    "- `matplotlib`, `seaborn`, `altair`: Plotting\n",
    "- `scipy`: Scientific algorithms\n",
    "- `beautifulsoup`: Parsing and working with HTML files\n",
    "- `selenium`: Browsing websites programmatically\n",
    "- `docx`: Working with Microsoft Word files\n",
    "- `pillow`: Working with images\n",
    "- `tensorflow`, `keras`, `pytorch`: Machine learning\n",
    "- `manim`: Making mathematical animations in Python (3Blue1Brown's package!)\n",
    "- `moviepy`: Edditing videos with Python\n",
    "- `notebook`: Jupyter Notebook! An environment for editting and running `.ipynb` files\n",
    "- and many more!\n",
    "\n",
    "There are literally thousands of packages to do almost anything. Have a browse of [Awesome Python](https://github.com/vinta/awesome-python) (a curated list of awesome Python packages) to find more.\n",
    "\n",
    "\n",
    "The absolutely amazing thing with packages is that they are open source meaning that anyone can look at and contribute to the code (often these codebases are hosted on GitHub, but GitHub and Git are stories for another day). Packages are used and developped by whole communities of people. Taking a look at the [numpy GitHub](https://github.com/numpy/numpy) we can see there are 1.1m users (likely an underestimate) and over 1,300 contributors to the code. This means that the code is very well refined, optimised, and bugs are weeded out.\n",
    "\n",
    "---\n",
    "\n",
    "We have base Python which comes with the standard library of Python packages (such as `os`, `random`, `math`, `time`, `csv`, `gzip` and [others](https://docs.python.org/3/library/)). These packages are built into Python 3; if you install Python you have access to these packages by default. If you've done an introductory Python unit, you'd likely be familiar with some of these packages.\n",
    "\n",
    "We also have community made packages (such as those listed above). These are installed using the tool `pip` through the command line, which then downloads the package from `PyPI` (the [Python Package Index](https://pypi.org/)). Lucky for us, if we're using Anaconda or an online environment, a lot of scientific packages come pre-installed. We can see our installed packages by running `!pip list`."
   ]
  },
  {
   "cell_type": "code",
   "execution_count": 5,
   "metadata": {},
   "outputs": [
    {
     "name": "stdout",
     "output_type": "stream",
     "text": [
      "Package               Version\n",
      "--------------------- -------------------\n",
      "argon2-cffi           21.3.0\n",
      "argon2-cffi-bindings  21.2.0\n",
      "asttokens             2.0.5\n",
      "attrs                 21.4.0"
     ]
    },
    {
     "name": "stderr",
     "output_type": "stream",
     "text": [
      "WARNING: You are using pip version 20.2.3; however, version 22.2 is available.\n",
      "You should consider upgrading via the 'c:\\users\\nickh\\appdata\\local\\programs\\python\\python38\\python.exe -m pip install --upgrade pip' command.\n"
     ]
    },
    {
     "name": "stdout",
     "output_type": "stream",
     "text": [
      "\n",
      "autopep8              1.6.0\n",
      "backcall              0.2.0\n",
      "black                 22.1.0\n",
      "bleach                4.1.0\n",
      "certifi               2021.10.8\n",
      "cffi                  1.15.0\n",
      "charset-normalizer    2.0.12\n",
      "click                 8.0.4\n",
      "colorama              0.4.4\n",
      "cycler                0.11.0\n",
      "debugpy               1.5.1\n",
      "decorator             5.1.1\n",
      "defusedxml            0.7.1\n",
      "entrypoints           0.4\n",
      "executing             0.8.2\n",
      "fonttools             4.29.1\n",
      "htmlmin               0.1.12\n",
      "idna                  3.3\n",
      "ImageHash             4.2.1\n",
      "importlib-resources   5.4.0\n",
      "ipykernel             6.9.1\n",
      "ipython               8.0.1\n",
      "ipython-genutils      0.2.0\n",
      "ipywidgets            7.6.5\n",
      "jedi                  0.18.1\n",
      "Jinja2                3.0.3\n",
      "joblib                1.0.1\n",
      "jsonschema            4.4.0\n",
      "jupyter-client        7.1.2\n",
      "jupyter-core          4.9.2\n",
      "jupyterlab-pygments   0.1.2\n",
      "jupyterlab-widgets    1.0.2\n",
      "kiwisolver            1.3.2\n",
      "loguru                0.6.0\n",
      "MarkupSafe            2.0.1\n",
      "matplotlib            3.5.1\n",
      "matplotlib-inline     0.1.3\n",
      "missingno             0.5.0\n",
      "mistune               0.8.4\n",
      "multimethod           1.7\n",
      "mypy-extensions       0.4.3\n",
      "nbclient              0.5.11\n",
      "nbconvert             6.4.2\n",
      "nbformat              5.1.3\n",
      "nest-asyncio          1.5.4\n",
      "networkx              2.6.3\n",
      "notebook              6.4.8\n",
      "numpy                 1.22.2\n",
      "p2j                   1.3.2\n",
      "packaging             21.3\n",
      "pandas                1.4.1\n",
      "pandas-profiling      3.1.0\n",
      "pandocfilters         1.5.0\n",
      "parso                 0.8.3\n",
      "pathspec              0.9.0\n",
      "phik                  0.12.0\n",
      "pickleshare           0.7.5\n",
      "Pillow                9.0.1\n",
      "pip                   20.2.3\n",
      "platformdirs          2.5.1\n",
      "prometheus-client     0.13.1\n",
      "prompt-toolkit        3.0.28\n",
      "pure-eval             0.2.2\n",
      "pycodestyle           2.8.0\n",
      "pycparser             2.21\n",
      "pydantic              1.9.0\n",
      "Pygments              2.11.2\n",
      "pyparsing             3.0.7\n",
      "pyrsistent            0.18.1\n",
      "python-dateutil       2.8.2\n",
      "pytz                  2021.3\n",
      "PyWavelets            1.2.0\n",
      "pywin32               303\n",
      "pywinpty              2.0.2\n",
      "PyYAML                6.0\n",
      "pyzmq                 22.3.0\n",
      "requests              2.27.1\n",
      "scipy                 1.8.0\n",
      "seaborn               0.11.2\n",
      "Send2Trash            1.8.0\n",
      "setuptools            49.2.1\n",
      "six                   1.16.0\n",
      "stack-data            0.2.0\n",
      "tangled-up-in-unicode 0.1.0\n",
      "terminado             0.13.1\n",
      "testpath              0.5.0\n",
      "toml                  0.10.2\n",
      "tomli                 2.0.1\n",
      "tornado               6.1\n",
      "tqdm                  4.62.3\n",
      "traitlets             5.1.1\n",
      "typing-extensions     4.1.1\n",
      "urllib3               1.26.8\n",
      "UTide                 0.3.1.dev7+gb2bd836\n",
      "visions               0.7.4\n",
      "wcwidth               0.2.5\n",
      "webencodings          0.5.1\n",
      "widgetsnbextension    3.5.2\n",
      "win32-setctime        1.1.0\n",
      "zipp                  3.7.0\n"
     ]
    }
   ],
   "source": [
    "# the ! tells Jupyter we're running a command-line command, and not Python code\n",
    "!pip list"
   ]
  },
  {
   "cell_type": "markdown",
   "metadata": {},
   "source": [
    "# Plotting with `matplotlib`\n",
    "## What is matplotlib\n",
    "What better way to find out what matplotlib is than looking at the [matplotlib documentation](https://matplotlib.org/) (Googling `<package> python documentation` is a good way to find a packages documentation yourself).\n",
    "\n",
    "## Importing Matplotlib\n",
    "To import matplotlib, we want to import the `matplotlib.pyplot` submodule. This can be done by typing:\n",
    "```py\n",
    "from matplotlib import pyplot as plt\n",
    "```\n",
    "We can read this as \"from matplotlib, import the pyplot submodule and call it `plt` (so that its easier to type out when we use it)\".\n",
    "\n",
    "Often we place our imports for packages together in a cell near the top of our Jupyter Notebook."
   ]
  },
  {
   "cell_type": "code",
   "execution_count": 23,
   "metadata": {},
   "outputs": [],
   "source": [
    "import matplotlib.pyplot as plt\n",
    "import numpy as np # I'll import numpy here to use later"
   ]
  },
  {
   "cell_type": "markdown",
   "metadata": {},
   "source": [
    "## Quick and dirty `plt.` API (MATLAB inspired)\n",
    "Matplotlib comes with two APIs:\n",
    "- pyplot API (MATLAB inspired)\n",
    "- object oriented, figure and axes API\n",
    "\n",
    "If we just want to get a quick plot up and running, we can use the pyplot API. It will look familiar for those people coming from MATLAB, but at the end of the day its the less common and less versatile of the two APIs that exist in matplotlib.\n",
    "\n",
    "Accordingly, we'll spend much less time on the pyplot API, instead focussing on the object oriented API.\n",
    "\n",
    "---\n",
    "When using the pyplot API, all our commands will start with `plt.`. I'll just show an example of pyplot API and then move on to the second API. We can see all the functions that belong to this API by looking [here](https://matplotlib.org/stable/api/_as_gen/matplotlib.pyplot.html) in the documentation. If you really want to know the pyplot API for one reason or another you can look at [this YouTube series](https://youtube.com/playlist?list=PL-osiE80TeTvipOqomVEeZ1HRrcEvtZB_). Unfortunately lots of YouTube tutorials go over the pyplot API rather than the object oriented one.\n",
    "\n",
    "\n"
   ]
  },
  {
   "cell_type": "code",
   "execution_count": 25,
   "metadata": {},
   "outputs": [
    {
     "data": {
      "image/png": "[encoded data removed]",
      "text/plain": [
       "<Figure size 432x288 with 1 Axes>"
      ]
     },
     "metadata": {
      "needs_background": "light"
     },
     "output_type": "display_data"
    }
   ],
   "source": [
    "x = [0, 1, 2, 3, 4, 5, 6]\n",
    "y = [0, 1, 4, 9, 16, 25, 36]\n",
    "\n",
    "plt.plot(x, y)\n",
    "plt.xlabel(\"X-axis\")\n",
    "plt.ylabel(\"Y-axis\")\n",
    "plt.title(\"A cool plot\")\n",
    "plt.xlim(0, 7) # x-axis going from 0 to 7\n",
    "plt.ylim(0, 40) # y-axis going from 0 to 40\n",
    "\n",
    "plt.show() # Required in .py files. Not required here as Jupyter calls .show() once a cell is complete"
   ]
  },
  {
   "cell_type": "code",
   "execution_count": 14,
   "metadata": {},
   "outputs": [
    {
     "data": {
      "text/plain": [
       "[<matplotlib.lines.Line2D at 0x13d907e5e80>]"
      ]
     },
     "execution_count": 14,
     "metadata": {},
     "output_type": "execute_result"
    },
    {
     "data": {
      "image/png": "[encoded data removed]",
      "text/plain": [
       "<Figure size 432x288 with 1 Axes>"
      ]
     },
     "metadata": {
      "needs_background": "light"
     },
     "output_type": "display_data"
    }
   ],
   "source": [
    "import random\n",
    "x = [0, 1, 2, 3, 4, 5, 6, 7, 8, 9, 10, 11, 12, 13, 14, 15, 16, 17, 18, 19, 20]\n",
    "y = []\n",
    "grad = 1\n",
    "for element in x:\n",
    "    y.append(grad * element + random.gauss(0, 1))\n",
    "\n",
    "plt.plot(x, y)"
   ]
  },
  {
   "cell_type": "markdown",
   "metadata": {},
   "source": [
    "## Option 2: Versatile, object oriented API with figures and axes"
   ]
  },
  {
   "cell_type": "markdown",
   "metadata": {},
   "source": [
    "# Numerical Python with `numpy`\n",
    "## What is an array?\n",
    "\n",
    "## Constructing arrays"
   ]
  },
  {
   "cell_type": "markdown",
   "metadata": {},
   "source": [
    "### Installing modules\n",
    "\n",
    "\n",
    "### Importing modules"
   ]
  },
  {
   "cell_type": "markdown",
   "metadata": {},
   "source": [
    "# More practice\n",
    "Ok, lets get some more practice in. **Do the following:**\n",
    "\n",
    "- Think of a plot that you'd like to make (literally any plot you can imagine, even if you have no idea how to code it up!)\n",
    "- Look through the (oh so many) [matplotlib examples](https://matplotlib.org/stable/gallery/index) for something similar to what you have in mind\n",
    "- Copy and paste the example into Jupyter and run it (it'll work first try)\n",
    "- Look through the example, and try to understand what each line is doing.\n",
    "- Adapt and run the example until you get what you initially imagined!\n",
    "\n",
    "Let's give it a shot!\n",
    "\n",
    "---\n",
    "It may at first feel like cheating copying and pasting code. The more and more you code though, you'll realise that its the best way. Its easier to get something that works, and change it bit by bit, than write something from scratch (especially when you're learning new things). If you're concerned of plaigerism (a good concern to have), we're just using the example to find out how to work with the Matplotlib API.\n",
    "\n",
    "\n",
    "\n"
   ]
  },
  {
   "cell_type": "markdown",
   "metadata": {
    "slideshow": {
     "slide_type": "slide"
    }
   },
   "source": [
    "## Main topic\n",
    "### Subtopic"
   ]
  },
  {
   "cell_type": "markdown",
   "metadata": {
    "slideshow": {
     "slide_type": "subslide"
    }
   },
   "source": [
    "Body of something"
   ]
  },
  {
   "cell_type": "markdown",
   "metadata": {},
   "source": [
    "**NOTE:** If you could fill out [this < 2min survey](https://forms.gle/iWa7cNyXT5eu64s96) about the workshop, that would be awesome and allow us to plan future workshops like this :)."
   ]
  },
  {
   "cell_type": "markdown",
   "metadata": {},
   "source": []
  }
 ],
 "metadata": {
  "kernelspec": {
   "display_name": "Python 3.8.9 64-bit",
   "language": "python",
   "name": "python3"
  },
  "language_info": {
   "codemirror_mode": {
    "name": "ipython",
    "version": 3
   },
   "file_extension": ".py",
   "mimetype": "text/x-python",
   "name": "python",
   "nbconvert_exporter": "python",
   "pygments_lexer": "ipython3",
   "version": "3.8.9"
  },
  "vscode": {
   "interpreter": {
    "hash": "e7022d8e2ca52013584f7e7afd986150026516a33417e09866a3b22a4e29a2a5"
   }
  }
 },
 "nbformat": 4,
 "nbformat_minor": 2
}
