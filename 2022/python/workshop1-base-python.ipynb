{
 "cells": [
  {
   "cell_type": "markdown",
   "metadata": {
    "slideshow": {
     "slide_type": "slide"
    }
   },
   "source": [
    "# Workshop 1: Base Python and Jupyter\n",
    "**UWA Maths Union**  \n",
    "presented by *Nick Hodgskin*\n",
    "\n",
    "Workshop drive and resources:\n",
    "\n",
    "---"
   ]
  },
  {
   "cell_type": "markdown",
   "metadata": {
    "slideshow": {
     "slide_type": "slide"
    }
   },
   "source": [
    "## Table of contents\n",
    "**INSERT TABLE OF CONTENTS**"
   ]
  },
  {
   "cell_type": "markdown",
   "metadata": {},
   "source": [
    "## Some vocabulary\n",
    "- **IDE**: Short for \"interactive development environment\". This is the app that you use to write your code (\"Notepad\" is an IDE! Just a bad one with no syntax highlighting, or button to run code).\n",
    "- **Python interpretter**: This is the Python engine that executes your Python file. When we \"install Python\" (from the [Python website](https://www.python.org/downloads/), we are installing the Python interpretter. Anaconda comes with its own Python interpretter packaged in.\n",
    "- **Packages**: Code written by others geared towards solving specific tasks. They can be thought of as \"mods\" which extend the capabilities of base Python.\n",
    "- **PyPI**: Python Package Index, this is the online repository where packages are stored.\n",
    "- **pip**: The de-facto command line tool used to install Python packages, which are often downloaded by pip from PyPI. Stands for \"pip installs packages\" (cool hey! A recursive acryonym).\n",
    "- **Anaconda**: An installation of Python that comes with all the common scientific computing packages already installed. Anaconda also comes with conda, a command line tool comparable to pip for installing packages.\n",
    "- **API**: Application programming interface. In the context of packages, the API is the interface for the package (the instructions you can use to interact with the package). Packages often come with an API reference (documentation about functions and commands related to that package).\n",
    "  \n",
    "---\n",
    "- **[Jupyter](https://jupyter.org/about)**: An open source, non-profit project supporting interactive data science and scientific computing. Two major contributions from this project are the Jupyter Notebook and Jupyter Lab applications. Since Jupyter Notebook and Jupyter Lab are similar in functionality, we can use Jupyter to refer to either of them.\n",
    "- **iPython Notebook**: A file format that contains a mixture of markdown text (paragraphs, tables, images) as well as executable code. The file extension for this file is `.ipynb`.\n",
    "- **Jupyter Notebook**: An application developped by Jupyter used to edit, view and run iPython notebooks. \"A jupyter notebook\" can also refer to an iPython notebook.\n",
    "- **Jupyter Lab**: An application developped by Jupyter as a successor to Jupyter Notebook. It is also used to edit, view and run iPython notebooks, however has more features (particularly around viewing several notebooks, viewing your folder structure, and editting other files). This makes Jupyter Lab a more capable IDE."
   ]
  },
  {
   "cell_type": "markdown",
   "metadata": {},
   "source": [
    "# Python from a macro view and intro to Jupyter"
   ]
  },
  {
   "cell_type": "markdown",
   "metadata": {
    "slideshow": {
     "slide_type": "slide"
    }
   },
   "source": [
    "## Why bother with coding?\n",
    "> Being able to code is being able to have absolute control over your computer to solve any problem that you are interested in."
   ]
  },
  {
   "cell_type": "markdown",
   "metadata": {},
   "source": [
    "Modern computers are amazing and can do millions upon millions of calculations a second. Being able to fully harness and control computers allows us to embark on calculations we wouldn't even dream of doing by hand (most often because they are too repetitive to do by hand). \n",
    "\n",
    "As mathematicians (particularly applied mathematicians and statisticians), coding opens up whole new fields of mathematics that are driven by simulations and other large calculations. Want to know the best property to buy in Monopoly? Why not code a simulation up for it? Former UWA alumni, Matt Parker, [did exactly that](https://www.youtube.com/watch?v=ubQXz5RBBtU) 😉.\n",
    "\n",
    "The possibilities with Python are out of this world. You can use it for many different projects including:\n",
    "- Automatically editting videos\n",
    "- Scraping data from a website\n",
    "- Making mathematical animations (like those done by 3Blue1Brown)\n",
    "- Building website servers\n",
    "- Data manipulation\n",
    "- Data cleaning\n",
    "- Generating data visualisations\n",
    "- Building AI\n",
    "- Mathematical simulations\n",
    "- and way, way more...\n",
    "\n",
    "Rather than go down an infinite rabit-hole of possibilities, in this series of workshops we're focussed on the mathematical uses of Python."
   ]
  },
  {
   "cell_type": "markdown",
   "metadata": {},
   "source": [
    "### The programming mindset\n",
    "> Coding is 80% problem solving, and 20% syntax. Master the problem solving aspect and you're 80% there to being a great programmer."
   ]
  },
  {
   "cell_type": "markdown",
   "metadata": {},
   "source": [
    "Just like in maths where we break down a problem into a series of *mathematical steps* that need to be completed to arrive at the conclusion, when coding we break down a problem into a series of *computational steps* in order to arrive at the conclusion. Being able to boil a problem down into the smaller problems and individual steps is hands-down **THE MOST IMPORTANT PART OF CODING**. Once you break down the problem into the individual steps, the remaining part is just translating those steps into the Python language (which can then be understood by the Python interpretter).\n",
    "\n",
    "I can't overstate how important the problem solving aspect of coding is. Diving straight into writing code without having an idea of how the problem will be solved is a recipe for headache and wasted time. Planning out your approach mentally or on paper allows you to get the steps sorted out, and then the remaining piece is just translating it into code. You may have heard \"your first programming language is the hardest to learn\", and that is partly due to getting a grip on this problem solving aspect.\n"
   ]
  },
  {
   "cell_type": "markdown",
   "metadata": {
    "slideshow": {
     "slide_type": "subslide"
    }
   },
   "source": [
    "## What is Python and why is it important?\n",
    "> Python, the easy-to-read \"jack of all trades\" language that is adored by the scientific computing and data community. It is one of the top 3 most popular programming languages.\n"
   ]
  },
  {
   "cell_type": "markdown",
   "metadata": {},
   "source": [
    "### Python being easy to read\n",
    "Python is loved since it is easy to read, almost to the point where it's like reading English. This makes it easy to understand others code, and to prototype and test out new ideas. Lets compare some C code versus some Python code. Here we go through a list and just display each item:  \n",
    "**C code**\n",
    "```c\n",
    "// for loop through list of integers and printing each element\n",
    "int main()\n",
    "{\n",
    "    int i;\n",
    "    int list[5] = {1, 2, 3, 4, 5};\n",
    "    for (i = 0; i < 5; i++)\n",
    "    {\n",
    "        printf(\"%d\\n\", list[i]);\n",
    "    }\n",
    "    return 0;\n",
    "}\n",
    "```\n",
    "\n",
    "**Python code**\n",
    "```python\n",
    "# for loop through list of integers and printing each element\n",
    "for element in [1, 2, 3, 4, 5]:\n",
    "    print(element)\n",
    "```\n",
    "\n",
    "### Python's package ecosystem\n",
    "Since Python is so popular there are a lot of packages that have been developped for a range of different tasks. Basically packages is code written by others geared towards solving specific classes of problems (eg. like downloading data from websites, working with CSV data, or doing plotting). They can be thought of as \"mods\" which extend the capabilities of base Python.\n",
    "\n",
    "Popular packages are often worked on by huge communities ([numpy](https://github.com/numpy/numpy) has over 1000 contributors), so the code is optimised and the frameworks are versatile and elegant. Popular packages also come with lots of documentation on how to use them, including instructions and API references. Working with these packages often results in much cleaner code (as these frameworks have been refined) and code that is easier for others to understand as they probably use the same package.\n",
    "\n",
    "We'll talk more about packages, and introduce `numpy` and `matplotlib` in the next workshop. In this workshop we focus on base Python.\n",
    "\n",
    "### The Python pipeline\n",
    "When you write code, you write it in a Python file (a file ending in `.py` for Python scripts, or `.ipynb` for iPython/interactive Python notebooks. More on notebooks when we talk about Jupyter). To see and edit file extensions you'll need to update your settings accordingly ([Windows](https://vtcri.kayako.com/article/296-view-file-extensions-windows-10) and [MacOS](https://support.apple.com/en-au/guide/mac-help/mchlp2304/mac)).\n",
    "\n",
    "The program used to write the code is called the IDE (interactive development environment). This can be VScode (a very popular and feature-rich IDE), Jupyter (which is particularly useful for working with `.ipynb` files), or even any text editor. Of course VScode and Jupyter would have more features for coding than a normal text editor. \n",
    "\n",
    "When we want to run our Python script (`.py` file) we pass the file to the interpretter (we can do this by calling `python my_file.py` in the terminal. Good IDEs normally have a \"run code\" button that will call `python ...` on the file for you). We'll be working with iPython Notebooks rather than scripts  \n",
    "For `.ipynb` notebooks, the story is a bit different as we'll see just now.\n",
    "\n",
    "\n",
    "\n",
    "\n",
    "\n",
    "\n",
    "\n"
   ]
  },
  {
   "cell_type": "markdown",
   "metadata": {},
   "source": [
    "## Jupyter: Our programming environment\n",
    "There are many different IDEs we can use to edit iPython notebooks. In [workshop 0](https://LINKTHISDOC???) we went through these IDEs. Some are:\n",
    "- Jupyter Lab\n",
    "- Jupyter Notebook (my choice today)\n",
    "- Google Colab (online environment. Right click in your Google Drive > More > Google Collaboratory\n",
    "- VScode\n",
    "\n",
    "If you have Anaconda installed, search for \"Anaconda Navigator\". Here you can launch Jupyter Notebook or Jupyter Lab. If your installation is correctly configured, you can also launch from the terminal by typing `jupyter notebook` or `jupyter lab`. Having issues or don't have Anaconda? Use Google Colab. On a lab computer? Anaconda is installed, finding folders besides Desktop might be iffy from my experience.\n",
    "\n",
    "### My first notebook\n",
    "A notebook consists of cells/blocks that are either markdown or code.\n",
    "Live showcase time:\n",
    "- Two scopes: Navigating cells vs navigating in a cell\n",
    "- Using the GUI\n",
    "- Using shortcuts\n",
    "- Running code (Jupyter remembers all)\n",
    "    - Resetting the kernel\n"
   ]
  },
  {
   "cell_type": "code",
   "execution_count": null,
   "metadata": {},
   "outputs": [],
   "source": []
  },
  {
   "cell_type": "markdown",
   "metadata": {},
   "source": [
    "# Base Python"
   ]
  },
  {
   "cell_type": "code",
   "execution_count": null,
   "metadata": {},
   "outputs": [],
   "source": []
  }
 ],
 "metadata": {
  "kernelspec": {
   "display_name": "Python 3 (ipykernel)",
   "language": "python",
   "name": "python3"
  },
  "language_info": {
   "codemirror_mode": {
    "name": "ipython",
    "version": 3
   },
   "file_extension": ".py",
   "mimetype": "text/x-python",
   "name": "python",
   "nbconvert_exporter": "python",
   "pygments_lexer": "ipython3",
   "version": "3.8.9"
  }
 },
 "nbformat": 4,
 "nbformat_minor": 2
}
