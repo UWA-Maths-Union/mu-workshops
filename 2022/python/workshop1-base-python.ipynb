{
 "cells": [
  {
   "cell_type": "markdown",
   "metadata": {
    "slideshow": {
     "slide_type": "slide"
    }
   },
   "source": [
    "# Workshop 1: Base Python and Jupyter\n",
    "**UWA Maths Union**  \n",
    "presented by *Nick Hodgskin*\n",
    "\n",
    "Workshop drive and resources:\n",
    "\n",
    "---"
   ]
  },
  {
   "cell_type": "markdown",
   "metadata": {
    "slideshow": {
     "slide_type": "slide"
    }
   },
   "source": [
    "## Table of contents\n",
    "**INSERT TABLE OF CONTENTS**"
   ]
  },
  {
   "cell_type": "markdown",
   "metadata": {},
   "source": [
    "## Some vocabulary\n",
    "- **IDE**: Short for \"interactive development environment\". This is the app that you use to write your code (\"Notepad\" is an IDE! Just a bad one with no syntax highlighting, or button to run code).\n",
    "- **Python interpretter**: This is the Python engine that executes your Python file. When we \"install Python\" (from the [Python website](https://www.python.org/downloads/), we are installing the Python interpretter. Anaconda comes with its own Python interpretter packaged in.\n",
    "- **Packages**: Code written by others geared towards solving specific tasks. They can be thought of as \"mods\" which extend the capabilities of base Python.\n",
    "- **PyPI**: Python Package Index, this is the online repository where packages are stored.\n",
    "- **pip**: The de-facto command line tool used to install Python packages, which are often downloaded by pip from PyPI. Stands for \"pip installs packages\" (cool hey! A recursive acryonym).\n",
    "- **Anaconda**: An installation of Python that comes with all the common scientific computing packages already installed. Anaconda also comes with conda, a command line tool comparable to pip for installing packages.\n",
    "- **API**: Application programming interface. In the context of packages, the API is the interface for the package (the instructions you can use to interact with the package). Packages often come with an API reference (documentation about functions and commands related to that package).\n",
    "- **Refactor**: The act of rewriting or reorganising code in order to make it neater, easier to understand, or more efficient.\n",
    "  \n",
    "---\n",
    "- **[Jupyter](https://jupyter.org/about)**: An open source, non-profit project supporting interactive data science and scientific computing. Two major contributions from this project are the Jupyter Notebook and Jupyter Lab applications. Since Jupyter Notebook and Jupyter Lab are similar in functionality, we can use Jupyter to refer to either of them.\n",
    "- **iPython Notebook**: A file format that contains a mixture of markdown text (paragraphs, tables, images) as well as executable code. The file extension for this file is `.ipynb`.\n",
    "- **Jupyter Notebook**: An application developped by Jupyter used to edit, view and run iPython notebooks. \"A jupyter notebook\" can also refer to an iPython notebook.\n",
    "- **Jupyter Lab**: An application developped by Jupyter as a successor to Jupyter Notebook. It is also used to edit, view and run iPython notebooks, however has more features (particularly around viewing several notebooks, viewing your folder structure, and editting other files). This makes Jupyter Lab a more capable IDE."
   ]
  },
  {
   "cell_type": "markdown",
   "metadata": {},
   "source": [
    "# Python from a macro view and intro to Jupyter"
   ]
  },
  {
   "cell_type": "markdown",
   "metadata": {
    "slideshow": {
     "slide_type": "slide"
    }
   },
   "source": [
    "## Why bother with coding?\n",
    "> Being able to code is being able to have absolute control over your computer to solve any problem that you are interested in."
   ]
  },
  {
   "cell_type": "markdown",
   "metadata": {},
   "source": [
    "Modern computers are amazing and can do millions upon millions of calculations a second. Being able to fully harness and control computers allows us to embark on calculations we wouldn't even dream of doing by hand (most often because they are too repetitive to do by hand). \n",
    "\n",
    "As mathematicians (particularly applied mathematicians and statisticians), coding opens up whole new fields of mathematics that are driven by simulations and other large calculations. Want to know the best property to buy in Monopoly? Why not code a simulation up for it? Former UWA alumni, Matt Parker, [did exactly that](https://www.youtube.com/watch?v=ubQXz5RBBtU) 😉.\n",
    "\n",
    "The possibilities with Python are out of this world. You can use it for many different projects including:\n",
    "- Automatically editting videos\n",
    "- Scraping data from a website\n",
    "- Making mathematical animations (like those done by 3Blue1Brown)\n",
    "- Building website servers\n",
    "- Data manipulation\n",
    "- Data cleaning\n",
    "- Generating data visualisations\n",
    "- Building AI\n",
    "- Mathematical simulations\n",
    "- and way, way more...\n",
    "\n",
    "Rather than go down an infinite rabit-hole of possibilities, in this series of workshops we're focussed on the mathematical uses of Python."
   ]
  },
  {
   "cell_type": "markdown",
   "metadata": {},
   "source": [
    "### The programming mindset\n",
    "> Coding is 80% problem solving, and 20% syntax. Master the problem solving aspect and you're 80% there to being a great programmer."
   ]
  },
  {
   "cell_type": "markdown",
   "metadata": {},
   "source": [
    "Just like in maths where we break down a problem into a series of *mathematical steps* that need to be completed to arrive at the conclusion, when coding we break down a problem into a series of *computational steps* in order to arrive at the conclusion. Being able to boil a problem down into the smaller problems and individual steps is hands-down **THE MOST IMPORTANT PART OF CODING**. Once you break down the problem into the individual steps, the remaining part is just translating those steps into the Python language (which can then be understood by the Python interpretter).\n",
    "\n",
    "I can't overstate how important the problem solving aspect of coding is. Diving straight into writing code without having an idea of how the problem will be solved is a recipe for headache and wasted time. Planning out your approach mentally or on paper allows you to get the steps sorted out, and then the remaining piece is just translating it into code. You may have heard \"your first programming language is the hardest to learn\", and that is partly due to getting a grip on this problem solving aspect.\n"
   ]
  },
  {
   "cell_type": "markdown",
   "metadata": {
    "slideshow": {
     "slide_type": "subslide"
    }
   },
   "source": [
    "## What is Python and why is it important?\n",
    "> Python, the easy-to-read \"jack of all trades\" language that is adored by the scientific computing and data community. It is one of the top 3 most popular programming languages.\n"
   ]
  },
  {
   "cell_type": "markdown",
   "metadata": {},
   "source": [
    "### Python being easy to read\n",
    "Python is loved since it is easy to read, almost to the point where it's like reading English. This makes it easy to understand others code, and to prototype and test out new ideas. Lets compare some C code versus some Python code. Here we go through a list and just display each item:  \n",
    "**C code**\n",
    "```c\n",
    "// for loop through list of integers and printing each element\n",
    "int main()\n",
    "{\n",
    "    int i;\n",
    "    int list[5] = {1, 2, 3, 4, 5};\n",
    "    for (i = 0; i < 5; i++)\n",
    "    {\n",
    "        printf(\"%d\\n\", list[i]);\n",
    "    }\n",
    "    return 0;\n",
    "}\n",
    "```\n",
    "\n",
    "**Python code**\n",
    "```python\n",
    "# for loop through list of integers and printing each element\n",
    "for element in [1, 2, 3, 4, 5]:\n",
    "    print(element)\n",
    "```\n",
    "\n",
    "### Python's package ecosystem\n",
    "Since Python is so popular there are a lot of packages that have been developped for a range of different tasks. Basically packages is code written by others geared towards solving specific classes of problems (eg. like downloading data from websites, working with CSV data, or doing plotting). They can be thought of as \"mods\" which extend the capabilities of base Python.\n",
    "\n",
    "Popular packages are often worked on by huge communities ([numpy](https://github.com/numpy/numpy) has over 1000 contributors), so the code is optimised and the frameworks are versatile and elegant. Popular packages also come with lots of documentation on how to use them, including instructions and API references. Working with these packages often results in much cleaner code (as these frameworks have been refined) and code that is easier for others to understand as they probably use the same package.\n",
    "\n",
    "We'll talk more about packages, and introduce `numpy` and `matplotlib` in the next workshop. In this workshop we focus on base Python.\n",
    "\n",
    "### The Python pipeline\n",
    "When you write code, you write it in a Python file (a file ending in `.py` for Python scripts, or `.ipynb` for iPython/interactive Python notebooks. More on notebooks when we talk about Jupyter). To see and edit file extensions you'll need to update your settings accordingly ([Windows](https://vtcri.kayako.com/article/296-view-file-extensions-windows-10) and [MacOS](https://support.apple.com/en-au/guide/mac-help/mchlp2304/mac)).\n",
    "\n",
    "The program used to write the code is called the IDE (interactive development environment). This can be VScode (a very popular and feature-rich IDE), Jupyter (which is particularly useful for working with `.ipynb` files), or even any text editor. Of course VScode and Jupyter would have more features for coding than a normal text editor. \n",
    "\n",
    "When we want to run our Python script (`.py` file) we pass the file to the interpretter (we can do this by calling `python my_file.py` in the terminal. Good IDEs normally have a \"run code\" button that will call `python ...` on the file for you). We'll be working with iPython Notebooks rather than scripts  \n",
    "For `.ipynb` notebooks, the story is a bit different as we'll see just now.\n",
    "\n",
    "\n",
    "\n",
    "\n",
    "\n",
    "\n",
    "\n"
   ]
  },
  {
   "cell_type": "markdown",
   "metadata": {},
   "source": [
    "## Jupyter: Our programming environment\n",
    "There are many different IDEs we can use to edit iPython notebooks. In [workshop 0](https://LINKTHISDOC???) we went through these IDEs. Some are:\n",
    "- Jupyter Lab\n",
    "- Jupyter Notebook (my choice today)\n",
    "- Google Colab (online environment. Right click in your Google Drive > More > Google Collaboratory\n",
    "- VScode\n",
    "\n",
    "If you have Anaconda installed, search for \"Anaconda Navigator\". Here you can launch Jupyter Notebook or Jupyter Lab. If your installation is correctly configured, you can also launch from the terminal by typing `jupyter notebook` or `jupyter lab`. Having issues or don't have Anaconda? Use Google Colab. On a lab computer? Anaconda is installed, finding folders besides Desktop might be iffy from my experience.\n",
    "\n",
    "### My first notebook\n",
    "A notebook consists of cells/blocks that are either markdown or code.\n",
    "Live showcase time:\n",
    "- Two scopes: Navigating cells vs navigating in a cell\n",
    "- Using the GUI\n",
    "- Using shortcuts (Help > Keyboard shortcuts)\n",
    "    - Ctrl+Enter: Run current cell\n",
    "    - Ctrl+/: Comment out blocks of code\n",
    "    - Shift+Enter: Run and focus next cell\n",
    "    - DD: delete cell\n",
    "    - A: Insert cell above\n",
    "    - B: Insert cell below\n",
    "- Running code (Jupyter remembers all)\n",
    "    - Resetting the kernel\n"
   ]
  },
  {
   "cell_type": "markdown",
   "metadata": {},
   "source": [
    "# Base Python"
   ]
  },
  {
   "cell_type": "markdown",
   "metadata": {},
   "source": [
    "When we think of coding, there are generally 3 types of operations we can do:\n",
    "- Manipulating data\n",
    "- Storing data to be used later in the program\n",
    "- Controlling the logic flow in the program\n",
    "\n",
    "The last point is particularly important for writing good (ie. non-repetitive) code. Copying and pasting blocks of code is bad practice in programming if you aim to write neat, easily scalable code. The more you copy and paste something, the harder it becomes to change if requirements change."
   ]
  },
  {
   "cell_type": "markdown",
   "metadata": {},
   "source": [
    "## Base data types\n",
    "There are [15 data types that come in base Python](https://www.w3schools.com/python/python_datatypes.asp).  \n",
    "Some aren't used much, so we'll mention 10 of them here:\n"
   ]
  },
  {
   "cell_type": "code",
   "execution_count": 31,
   "metadata": {},
   "outputs": [
    {
     "data": {
      "text/plain": [
       "{'name': 'John', 'age': 36}"
      ]
     },
     "execution_count": 31,
     "metadata": {},
     "output_type": "execute_result"
    }
   ],
   "source": [
    "# NUMERIC TYPES\n",
    "1 # int (integer)\n",
    "1.0 # float (float: aka. decimal)\n",
    "1.0 + 1j # complex (complex: we use j because of engineering -_-)\n",
    "\n",
    "# TEXT TYPE\n",
    "\"hello there\" # str (string: text data. Can also use single quotations 'hello there')\n",
    "\n",
    "# SEQUENCES\n",
    "[1, 2, \"bob\"] # list (list: [] will give an empty list)\n",
    "(1, 2, \"bob\") # tup (tuple)\n",
    "range(10) # range (range: gives the numbers 0-9, more on this later)\n",
    "\n",
    "# BOOLEAN\n",
    "True # bool (boolean)\n",
    "False # bool (boolean)\n",
    "\n",
    "# NONE TYPE\n",
    "None # NoneType (kind of its own thing. Useful when an operation returns nothing, it can return None to show that)\n",
    "\n",
    "# MAPPING\n",
    "{\"name\" : \"John\", \"age\" : 36} # dict (dictionary)\n",
    "\n"
   ]
  },
  {
   "cell_type": "markdown",
   "metadata": {},
   "source": [
    "As seen above, we use `#` to write comments. Everything on the line after the `#` will be regarded as a comment and won't be executed.\n",
    "Executing that cell, you may wonder why we can see the dictionary as text output below the cell but none of the other lines. This is because by default Jupyter calls `print()` on whatever the last line of your cell is. If you want to see the rest you want to call `print(...)` on them yourself."
   ]
  },
  {
   "cell_type": "code",
   "execution_count": 18,
   "metadata": {},
   "outputs": [
    {
     "name": "stdout",
     "output_type": "stream",
     "text": [
      "Hello world\n"
     ]
    }
   ],
   "source": [
    "print(\"Hello world\") # Our first program!"
   ]
  },
  {
   "cell_type": "markdown",
   "metadata": {},
   "source": [
    "Once we start storing variables, its sometimes good to remind ourselves what data type a variable is. This can be done by calling `type(...)` on the variable."
   ]
  },
  {
   "cell_type": "code",
   "execution_count": 23,
   "metadata": {},
   "outputs": [
    {
     "name": "stdout",
     "output_type": "stream",
     "text": [
      "<class 'str'>\n",
      "<class 'int'>\n"
     ]
    }
   ],
   "source": [
    "print(type(\"hello\"))\n",
    "x = 2\n",
    "print(type(x))"
   ]
  },
  {
   "cell_type": "code",
   "execution_count": null,
   "metadata": {},
   "outputs": [],
   "source": []
  },
  {
   "cell_type": "markdown",
   "metadata": {},
   "source": [
    "## Assigning variables\n",
    "Ok, we know the data types available to us and how to create them. Next lets store them in variables, which will allow Python to remember the data.  \n",
    "\n",
    "Variables are created and updated using `=`. Whatever is on the right hand side of `=` is evaluated, and then plugged into the variable that is on the left hand side.\n",
    "\n",
    "**BEWARE MATHEMATICIANS**: `=` means ***assign*** NOT equals. We are *assigning* whatever is right of `=` into the variable name on the left. Base Python does not have the concept of rearranging equations, and defining relationships between variables.\n"
   ]
  },
  {
   "cell_type": "code",
   "execution_count": 30,
   "metadata": {},
   "outputs": [
    {
     "name": "stdout",
     "output_type": "stream",
     "text": [
      "1\n",
      "hello there bob\n",
      "[0, 1, 'hello there bob']\n",
      "2\n"
     ]
    }
   ],
   "source": [
    "x = 1\n",
    "my_string = \"hello there bob\"\n",
    "my_list = [0, x, my_string] # Note that whats in the list are the variable names, not strings themselves\n",
    "print(x)\n",
    "print(my_string)\n",
    "print(my_list)\n",
    "\n",
    "x = x + 1 # Looks weird at first, but it means \"add 1 to x, and then reassign that back into x\"\n",
    "print(x)"
   ]
  },
  {
   "cell_type": "markdown",
   "metadata": {},
   "source": [
    "So what about the following? What will it execute to?"
   ]
  },
  {
   "cell_type": "code",
   "execution_count": 32,
   "metadata": {},
   "outputs": [
    {
     "name": "stdout",
     "output_type": "stream",
     "text": [
      "2\n",
      "1\n"
     ]
    }
   ],
   "source": [
    "x = 1\n",
    "y = x\n",
    "x = x + 1\n",
    "print(x)\n",
    "print(y)"
   ]
  },
  {
   "cell_type": "markdown",
   "metadata": {},
   "source": [
    "You may be surprised, but `y` only updates when we explicitly tell it to (using `=`). Saying `y=x` says \"assign 1 (the value of x) to y\" and not \"y equals x\""
   ]
  },
  {
   "cell_type": "markdown",
   "metadata": {},
   "source": [
    "### Rules for variable names\n",
    "You have lots of options for variable names, but there are [some rules](https://www.w3schools.com/python/gloss_python_variable_names.asp):\n",
    "- A variable name must start with a letter or the underscore character\n",
    "- A variable name cannot start with a number\n",
    "- A variable name can only contain alpha-numeric characters and underscores (A-z, 0-9, and _ )\n",
    "- Variable names are case-sensitive (age, Age and AGE are three different variables)\n",
    "\n",
    "In addition, there is a [list of keywords that are reserved for Python use](https://www.w3schools.com/python/python_ref_keywords.asp) (eg. True, False, None) which stright up can't be used as variable names.  \n",
    "\n",
    "There is also a [list of built-in Python functions](https://docs.python.org/3/library/functions.html) (like `sum` and `print`). Although Python won't stop you from assigning values to a built-in Python function, it will overwrite its functionality preventing you from using that function later in your code (which would be no beuno). And since this is Jupyter, you'll have to reset your kernel to get the original function back."
   ]
  },
  {
   "cell_type": "code",
   "execution_count": 41,
   "metadata": {},
   "outputs": [
    {
     "ename": "SyntaxError",
     "evalue": "invalid syntax (117137403.py, line 8)",
     "output_type": "error",
     "traceback": [
      "\u001b[1;36m  Input \u001b[1;32mIn [41]\u001b[1;36m\u001b[0m\n\u001b[1;33m    1asd = 1 # Starts with number\u001b[0m\n\u001b[1;37m     ^\u001b[0m\n\u001b[1;31mSyntaxError\u001b[0m\u001b[1;31m:\u001b[0m invalid syntax\n"
     ]
    }
   ],
   "source": [
    "# VALID VARIABLE NAMES\n",
    "var = 1\n",
    "_VAR = 1\n",
    "my_variable = 1\n",
    "abc123 = 1\n",
    "\n",
    "# INVALID VARIABLE NAMES\n",
    "1asd = 1 # Starts with number\n",
    "dash-var = 1 # Can't use - (thats minus)\n",
    "def = 1 # Reserved keyword\n"
   ]
  },
  {
   "cell_type": "code",
   "execution_count": null,
   "metadata": {},
   "outputs": [],
   "source": [
    "\n",
    "\n"
   ]
  },
  {
   "cell_type": "markdown",
   "metadata": {},
   "source": [
    "### Type conversion\n",
    "During operations (discussed more in depth later), Python will do implicit type conversion for numeric types.\n",
    "\n",
    "For other data types we'll need to make sure that we convert them to the appropriate types before working with them."
   ]
  },
  {
   "cell_type": "code",
   "execution_count": 42,
   "metadata": {},
   "outputs": [
    {
     "ename": "TypeError",
     "evalue": "unsupported operand type(s) for +: 'int' and 'str'",
     "output_type": "error",
     "traceback": [
      "\u001b[1;31m---------------------------------------------------------------------------\u001b[0m",
      "\u001b[1;31mTypeError\u001b[0m                                 Traceback (most recent call last)",
      "Input \u001b[1;32mIn [42]\u001b[0m, in \u001b[0;36m<module>\u001b[1;34m\u001b[0m\n\u001b[0;32m      1\u001b[0m \u001b[38;5;241m1\u001b[39m \u001b[38;5;241m+\u001b[39m \u001b[38;5;241m1.1\u001b[39m \u001b[38;5;66;03m# int + float (the int, 1, is implicitly converted to a float before adding. Resulting in a float of 2.1)\u001b[39;00m\n\u001b[0;32m      2\u001b[0m \u001b[38;5;241m1\u001b[39m \u001b[38;5;241m+\u001b[39m \u001b[38;5;28mfloat\u001b[39m(\u001b[38;5;124m\"\u001b[39m\u001b[38;5;124m1.1\u001b[39m\u001b[38;5;124m\"\u001b[39m) \u001b[38;5;66;03m# WORKS: int + float (float keyword converts string to float)\u001b[39;00m\n\u001b[1;32m----> 3\u001b[0m \u001b[38;5;241;43m1\u001b[39;49m\u001b[43m \u001b[49m\u001b[38;5;241;43m+\u001b[39;49m\u001b[43m \u001b[49m\u001b[38;5;124;43m\"\u001b[39;49m\u001b[38;5;124;43m1.1\u001b[39;49m\u001b[38;5;124;43m\"\u001b[39;49m\n",
      "\u001b[1;31mTypeError\u001b[0m: unsupported operand type(s) for +: 'int' and 'str'"
     ]
    }
   ],
   "source": [
    "1 + 1.1 # int + float (the int, 1, is implicitly converted to a float before adding. Resulting in a float of 2.1)\n",
    "1 + float(\"1.1\") # WORKS: int + float (float keyword converts string to float)\n",
    "1 + \"1.1\" # DOESN'T WORK: int + string (can't add number and string)"
   ]
  },
  {
   "cell_type": "markdown",
   "metadata": {},
   "source": [
    "Reading the traceback, we can see the arrow indicates the line of the error (line 3). Reading the description we can see `TypeError: unsupported operand type(s) for +: 'int' and 'str'`. This means `+` is not defined for adding integers and strings."
   ]
  },
  {
   "cell_type": "code",
   "execution_count": null,
   "metadata": {},
   "outputs": [],
   "source": []
  },
  {
   "cell_type": "code",
   "execution_count": 9,
   "metadata": {},
   "outputs": [
    {
     "ename": "ValueError",
     "evalue": "invalid literal for int() with base 10: '1.0'",
     "output_type": "error",
     "traceback": [
      "\u001b[1;31m---------------------------------------------------------------------------\u001b[0m",
      "\u001b[1;31mValueError\u001b[0m                                Traceback (most recent call last)",
      "Input \u001b[1;32mIn [9]\u001b[0m, in \u001b[0;36m<module>\u001b[1;34m\u001b[0m\n\u001b[1;32m----> 1\u001b[0m \u001b[38;5;28;43mint\u001b[39;49m\u001b[43m(\u001b[49m\u001b[38;5;124;43m\"\u001b[39;49m\u001b[38;5;124;43m1.0\u001b[39;49m\u001b[38;5;124;43m\"\u001b[39;49m\u001b[43m)\u001b[49m\n",
      "\u001b[1;31mValueError\u001b[0m: invalid literal for int() with base 10: '1.0'"
     ]
    }
   ],
   "source": []
  },
  {
   "cell_type": "code",
   "execution_count": 6,
   "metadata": {},
   "outputs": [
    {
     "data": {
      "text/plain": [
       "complex"
      ]
     },
     "execution_count": 6,
     "metadata": {},
     "output_type": "execute_result"
    }
   ],
   "source": [
    "type(1j)"
   ]
  }
 ],
 "metadata": {
  "kernelspec": {
   "display_name": "Python 3 (ipykernel)",
   "language": "python",
   "name": "python3"
  },
  "language_info": {
   "codemirror_mode": {
    "name": "ipython",
    "version": 3
   },
   "file_extension": ".py",
   "mimetype": "text/x-python",
   "name": "python",
   "nbconvert_exporter": "python",
   "pygments_lexer": "ipython3",
   "version": "3.8.9"
  }
 },
 "nbformat": 4,
 "nbformat_minor": 2
}
