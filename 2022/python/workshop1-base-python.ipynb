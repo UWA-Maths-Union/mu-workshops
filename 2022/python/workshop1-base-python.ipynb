{
 "cells": [
  {
   "cell_type": "markdown",
   "metadata": {
    "slideshow": {
     "slide_type": "slide"
    }
   },
   "source": [
    "# Python Series | Part 1: Jupyter Notebook and Base Python\n",
    "**UWA Maths Union**  \n",
    "written and presented by *Nick Hodgskin*\n",
    "\n",
    "Workshop drive and resources:\n",
    "- Google Drive\n",
    "\n",
    "---"
   ]
  },
  {
   "cell_type": "markdown",
   "metadata": {
    "slideshow": {
     "slide_type": "slide"
    }
   },
   "source": [
    "## Structure of these workshops\n",
    "- Workshop 1\n",
    "    - Goes over many of the foundations of Python including base Python, while still being a ~2 hour workshop\n",
    "    - Already done an intro to Python course? There will be a lot of overlap with this workshop (particularly the \"Base Python\" component)\n",
    "- Workshop 2\n",
    "    - Goes over two of the fundamental scientific computing packages (numpy and matplotlib), and how to use them in mathematical contexts.\n",
    "    \n",
    "**Can't get enough Python?**:  \n",
    "There are many amazing free courses online that cover the topics in these workshops. These courses also cover `pandas` (not covered in these workshops), an amazing tool for dealing with heterogenous CSV/tabular data.\n",
    "\n",
    "- [Kaggle Learn](https://www.kaggle.com/learn): Has course modules covering topics relevant to data science (free platform)\n",
    "- [Datacamp](https://www.datacamp.com/): Has many course modules covering topics relevant to data science (paid platform; 3 month free trial with [GitHub student developer pack](https://education.github.com/pack) which also comes with many other perks (free Canva Pro, GitHub pro, etc.))\n",
    "- Coursera and EdX: Free access to thousands of online, university courses on a variety of different topics ([UWA has a license for Coursera](https://www.uwa.edu.au/education/educational-enhancement-unit/Strategic-Projects/Coursera) allowing you to get the completion certificates for free).\n",
    "- YouTube: eg. Freecodecamp, Tech with Tim, Keith Galli, Corey Schafer\n",
    "\n",
    "## Table of contents\n",
    "**INSERT TABLE OF CONTENTS**\n"
   ]
  },
  {
   "cell_type": "markdown",
   "metadata": {},
   "source": [
    "## Some vocabulary\n",
    "- **IDE**: Short for \"interactive development environment\". This is the app that you use to write your code (\"Notepad\" is an IDE! Just a bad one with no syntax highlighting, or button to run code).\n",
    "- **Python interpretter**: This is the Python engine that executes your Python file. When we \"install Python\" (from the [Python website](https://www.python.org/downloads/), we are installing the Python interpretter. Anaconda comes with its own Python interpretter packaged in.\n",
    "- **Packages**: Code written by others geared towards solving specific tasks. They can be thought of as \"mods\" which extend the capabilities of base Python.\n",
    "- **alias**: Usually when importing packages we give them short aliases (like `np`) in order to make them quicker to write.\n",
    "- **PyPI**: Python Package Index, this is the online repository where packages are stored.\n",
    "- **pip**: The de-facto command line tool used to install Python packages, which are often downloaded by pip from PyPI. Stands for \"pip installs packages\" (cool hey! A recursive acryonym).\n",
    "- **Anaconda**: An installation of Python that comes with all the common scientific computing packages already installed. Anaconda also comes with conda, a command line tool comparable to pip for installing packages.\n",
    "- **API**: Application programming interface. In the context of packages, the API is the interface for the package (the instructions you can use to interact with the package). Packages often come with an API reference (documentation about functions and commands related to that package).\n",
    "- **Refactor**: The act of rewriting or reorganising code in order to make it neater, easier to understand, or more efficient, without affecting the result from the code execution.\n",
    "  \n",
    "---\n",
    "- **[Jupyter](https://jupyter.org/about)**: An open source, non-profit project supporting interactive data science and scientific computing. Two major contributions from this project are the Jupyter Notebook and Jupyter Lab applications. Since Jupyter Notebook and Jupyter Lab are similar in functionality, we can use Jupyter to refer to either of them.\n",
    "- **iPython Notebook**: A file format that contains a mixture of markdown text (paragraphs, tables, images) as well as executable code. The file extension for this file is `.ipynb`.\n",
    "- **Jupyter Notebook**: An application developped by Jupyter used to edit, view and run iPython notebooks. \"A jupyter notebook\" can also refer to an iPython notebook.\n",
    "- **Jupyter Lab**: An application developped by Jupyter as a successor to Jupyter Notebook. It is also used to edit, view and run iPython notebooks, however has more features (particularly around viewing several notebooks, viewing your folder structure, and editting other files). This makes Jupyter Lab a more capable IDE.\n",
    "---\n",
    "- **variable**: A piece of data that has been assigned to a name within a program for use later in the program\n",
    "- **function**: A re-usable block of code with input arguments, and an output defined using a return statement\n",
    "- **argument**: An input to a function\n",
    "- **loop**: A block of code that repeats an arbitrary number of times\n",
    "- **if statement**: A block of code that executes only if a certain condition is met\n"
   ]
  },
  {
   "cell_type": "markdown",
   "metadata": {},
   "source": [
    "# Python from a macro view and intro to Jupyter"
   ]
  },
  {
   "cell_type": "markdown",
   "metadata": {
    "slideshow": {
     "slide_type": "slide"
    }
   },
   "source": [
    "## Why bother with coding?\n",
    "> Being able to code is being able to have absolute control over your computer to solve any problem that you are interested in."
   ]
  },
  {
   "cell_type": "markdown",
   "metadata": {},
   "source": [
    "Modern computers are amazing and can do millions upon millions of calculations a second. Being able to fully harness and control computers allows us to embark on calculations we wouldn't even dream of doing by hand (most often because they are too repetitive to do by hand). \n",
    "\n",
    "As mathematicians (particularly applied mathematicians and statisticians), coding opens up whole new fields of mathematics that are driven by simulations and other large calculations. Want to know the best property to buy in Monopoly? Why not code a simulation up for it? Former UWA alumnus, Matt Parker, [did exactly that](https://www.youtube.com/watch?v=ubQXz5RBBtU) 😉.\n",
    "\n",
    "The possibilities with Python are out of this world. You can use it for many different projects including:\n",
    "- Automatically editting videos\n",
    "- Scraping data from a website\n",
    "- Making mathematical animations (like those done by 3Blue1Brown)\n",
    "- Building website servers\n",
    "- Data manipulation\n",
    "- Data cleaning\n",
    "- Generating data visualisations\n",
    "- Building AI\n",
    "- Mathematical simulations\n",
    "- and way, way more...\n",
    "\n",
    "Rather than go down an infinite rabit-hole of possibilities, in this series of workshops we're focussed on the mathematical uses of Python."
   ]
  },
  {
   "cell_type": "markdown",
   "metadata": {},
   "source": [
    "### The programming mindset\n",
    "> Coding is 80% problem solving, and 20% syntax. Master the problem solving aspect and you're 80% there to being a great programmer."
   ]
  },
  {
   "cell_type": "markdown",
   "metadata": {},
   "source": [
    "Just like in maths where we break down a problem into a series of *mathematical steps* that need to be completed to arrive at the conclusion, when coding we break down a problem into a series of *computational steps* in order to arrive at the conclusion. Being able to boil a problem down into the smaller problems and individual steps is hands-down **THE MOST IMPORTANT PART OF CODING**. Once you break down the problem into the individual steps, the remaining part is just translating those steps into the Python language (which can then be understood by the Python interpretter).\n",
    "\n",
    "I can't overstate how important the problem solving aspect of coding is. Diving straight into writing code without having an idea of how the problem will be solved is a recipe for headache and wasted time. Planning out your approach mentally or on paper allows you to get the steps sorted out, and then the remaining piece is just translating it into code. You may have heard \"your first programming language is the hardest to learn\", and that is partly due to getting a grip on this problem solving aspect.\n"
   ]
  },
  {
   "cell_type": "markdown",
   "metadata": {
    "slideshow": {
     "slide_type": "subslide"
    }
   },
   "source": [
    "## What is Python and why is it important?\n",
    "> Python, the easy-to-read \"jack of all trades\" language that is adored by the scientific computing and data community. It is one of the top 3 most popular programming languages.\n"
   ]
  },
  {
   "cell_type": "markdown",
   "metadata": {},
   "source": [
    "### Python being easy to read\n",
    "Python is loved since it is easy to read, almost to the point where it's like reading English. This makes it easy to understand others code, and to prototype and test out new ideas. Lets compare some C code versus some Python code. Here we go through a list and just display each item:  \n",
    "**C code**\n",
    "```c\n",
    "// for loop through list of integers and printing each element\n",
    "int main()\n",
    "{\n",
    "    int i;\n",
    "    int list[5] = {1, 2, 3, 4, 5};\n",
    "    for (i = 0; i < 5; i++)\n",
    "    {\n",
    "        printf(\"%d\\n\", list[i]);\n",
    "    }\n",
    "    return 0;\n",
    "}\n",
    "```\n",
    "\n",
    "**Python code**\n",
    "```python\n",
    "# for loop through list of integers and printing each element\n",
    "for element in [1, 2, 3, 4, 5]:\n",
    "    print(element)\n",
    "```\n",
    "\n",
    "### Python's package ecosystem\n",
    "Since Python is so popular there are a lot of packages that have been developped for a range of different tasks. Basically packages is code written by others geared towards solving specific classes of problems (eg. like downloading data from websites, working with CSV data, or doing plotting). They can be thought of as \"mods\" which extend the capabilities of base Python.\n",
    "\n",
    "Popular packages are often worked on by huge communities ([numpy](https://github.com/numpy/numpy) has over 1000 contributors), so the code is optimised and the frameworks are versatile and elegant. Popular packages also come with lots of documentation on how to use them, including instructions and API references. Working with these packages often results in much cleaner code (as these frameworks have been refined) and code that is easier for others to understand as they probably use the same package.\n",
    "\n",
    "We'll talk more about packages, and introduce `numpy` and `matplotlib` in the next workshop. In this workshop we focus on base Python.\n",
    "\n",
    "### The Python pipeline\n",
    "When you write code, you write it in a Python file (a file ending in `.py` for Python scripts, or `.ipynb` for iPython/interactive Python notebooks. More on notebooks when we talk about Jupyter). To see and edit file extensions you'll need to update your settings accordingly ([Windows](https://vtcri.kayako.com/article/296-view-file-extensions-windows-10) and [MacOS](https://support.apple.com/en-au/guide/mac-help/mchlp2304/mac)).\n",
    "\n",
    "The program used to write the code is called the IDE (interactive development environment). This can be VScode (a very popular and feature-rich IDE), Jupyter (which is particularly useful for working with `.ipynb` files), or even any text editor. Of course VScode and Jupyter would have more features for coding than a normal text editor. \n",
    "\n",
    "When we want to run our Python script (`.py` file) we pass the file to the interpretter (we can do this by calling `python my_file.py` in the terminal. Good IDEs normally have a \"run code\" button that will call `python ...` on the file for you). We'll be working with iPython Notebooks rather than scripts  \n",
    "For `.ipynb` notebooks, the story is a bit different as we'll see just now.\n",
    "\n",
    "\n",
    "\n",
    "\n",
    "\n",
    "\n",
    "\n"
   ]
  },
  {
   "cell_type": "markdown",
   "metadata": {},
   "source": [
    "## Jupyter: Our programming environment\n",
    "There are many different IDEs we can use to edit iPython notebooks. In [workshop 0](https://statuesque-bubbler-6af.notion.site/05daea2a53594b578b3b920a6b1095c2) we went through these IDEs. Some are:\n",
    "- Jupyter Lab\n",
    "- Jupyter Notebook (my choice today)\n",
    "- Google Colab (online environment. Right click in your Google Drive > More > Google Collaboratory)\n",
    "- VScode\n",
    "\n",
    "If you have Anaconda installed, search for \"Anaconda Navigator\". Here you can launch Jupyter Notebook or Jupyter Lab. If your installation is correctly configured, you can also launch from the terminal by typing `jupyter notebook` or `jupyter lab`. Having issues or don't have Anaconda? Use Google Colab.\n",
    "\n",
    "### My first notebook\n",
    "A notebook consists of cells/blocks that are either markdown or code.\n",
    "Live showcase time:\n",
    "- Two scopes: Navigating cells vs navigating in a cell\n",
    "- Using the GUI\n",
    "- Using shortcuts (Help > Keyboard shortcuts)\n",
    "    - Ctrl+Enter: Run current cell\n",
    "    - Ctrl+/: Comment out blocks of code\n",
    "    - Shift+Enter: Run and focus next cell\n",
    "    - DD: delete cell\n",
    "    - A: Insert cell above\n",
    "    - B: Insert cell below\n",
    "    - Shift+Tab: Function help documentation\n",
    "- Running code (Jupyter remembers all)\n",
    "    - Resetting the kernel\n",
    "- Converting cell types\n"
   ]
  },
  {
   "cell_type": "markdown",
   "metadata": {},
   "source": [
    "# Base Python"
   ]
  },
  {
   "cell_type": "markdown",
   "metadata": {},
   "source": [
    "When we think of coding, there are generally 3 types of operations we can do:\n",
    "- Manipulating data\n",
    "- Storing data to be used later in the program\n",
    "- Controlling the logic flow in the program\n",
    "\n",
    "The last point is particularly important for writing good (ie. non-repetitive) code. Copying and pasting blocks of code is bad practice in programming if you aim to write neat, easily scalable code. The more you copy and paste something, the harder it becomes to change if requirements change."
   ]
  },
  {
   "cell_type": "markdown",
   "metadata": {},
   "source": [
    "## Base data types\n",
    "There are [15 data types that come in base Python](https://www.w3schools.com/python/python_datatypes.asp).  \n",
    "Some aren't used much, so we'll mention 10 of them here:\n"
   ]
  },
  {
   "cell_type": "code",
   "execution_count": 1,
   "metadata": {},
   "outputs": [
    {
     "data": {
      "text/plain": [
       "{'name': 'John', 'age': 36}"
      ]
     },
     "execution_count": 1,
     "metadata": {},
     "output_type": "execute_result"
    }
   ],
   "source": [
    "# NUMERIC TYPES\n",
    "1 # int (integer)\n",
    "1.0 # float (float: aka. decimal)\n",
    "1.0 + 1j # complex (complex: we use j because of engineering -_-)\n",
    "\n",
    "# TEXT TYPE\n",
    "\"hello there\" # str (string: text data. Can also use single quotations 'hello there')\n",
    "\n",
    "# SEQUENCES\n",
    "[1, 2, \"bob\"] # list (list: [] will give an empty list)\n",
    "(1, 2, \"bob\") # tup (tuple)\n",
    "range(10) # range (range: gives the numbers 0-9, more on this later)\n",
    "\n",
    "# BOOLEAN\n",
    "True # bool (boolean)\n",
    "False # bool (boolean)\n",
    "\n",
    "# NONE TYPE\n",
    "None # NoneType (kind of its own thing. Useful when an operation returns nothing, it can return None to show that)\n",
    "\n",
    "# MAPPING\n",
    "{\"name\" : \"John\", \"age\" : 36} # dict (dictionary)\n",
    "\n"
   ]
  },
  {
   "cell_type": "markdown",
   "metadata": {},
   "source": [
    "**NOTE:** With strings, the `\\` (backslash) character is a [bit special](https://www.pythontutorial.net/python-basics/python-backslash/). Its used in conjunction with some other letters to denote tabs and newlines (`\\t` and `\\n`). It can also be used to \"escape\" characters such as in `\"John said \\\"Hello there!\\\"\"` (which wouldn't be possible if we didn't escape as `\"` would end the string). Alternatively we could mix single quotes with double quotes to the same effect: `'John said \"Hello there!\"'`.\n",
    "\n",
    "\n",
    "\n",
    "As seen above, we use `#` to write comments. Everything on the line after the `#` will be regarded as a comment and won't be executed.\n",
    "Executing that cell, you may wonder why we can see the dictionary as text output below the cell but none of the other lines. This is because by default Jupyter calls `print()` on whatever the last line of your cell is. If you want to see the rest you want to call `print(...)` on them yourself."
   ]
  },
  {
   "cell_type": "code",
   "execution_count": 2,
   "metadata": {},
   "outputs": [
    {
     "name": "stdout",
     "output_type": "stream",
     "text": [
      "Hello world\n"
     ]
    }
   ],
   "source": [
    "print(\"Hello world\") # Our first program!"
   ]
  },
  {
   "cell_type": "markdown",
   "metadata": {},
   "source": [
    "Once we start storing variables, its sometimes good to remind ourselves what data type a variable is. This can be done by calling `type(...)` on the variable."
   ]
  },
  {
   "cell_type": "code",
   "execution_count": 3,
   "metadata": {},
   "outputs": [
    {
     "name": "stdout",
     "output_type": "stream",
     "text": [
      "<class 'str'>\n",
      "<class 'int'>\n"
     ]
    }
   ],
   "source": [
    "print(type(\"hello\"))\n",
    "x = 2\n",
    "print(type(x))"
   ]
  },
  {
   "cell_type": "markdown",
   "metadata": {},
   "source": [
    "## Assigning variables\n",
    "Ok, we know the data types available to us and how to create them. Next lets store them in variables, which will allow Python to remember the data.  \n",
    "\n",
    "Variables are created and updated using `=`. Whatever is on the right hand side of `=` is evaluated, and then plugged into the variable that is on the left hand side.\n",
    "\n",
    "**BEWARE MATHEMATICIANS**: `=` means ***assign*** NOT equals. We are *assigning* whatever is right of `=` into the variable name on the left. Base Python does not have the concept of rearranging equations, and defining relationships between variables (you **can't** just type `2=x+1` and expect Python to say `x` is 1; that's not a thing).\n"
   ]
  },
  {
   "cell_type": "code",
   "execution_count": 4,
   "metadata": {},
   "outputs": [
    {
     "name": "stdout",
     "output_type": "stream",
     "text": [
      "1\n",
      "hello there bob\n",
      "[0, 1, 'hello there bob']\n",
      "2\n"
     ]
    }
   ],
   "source": [
    "x = 1\n",
    "my_string = \"hello there bob\"\n",
    "my_list = [0, x, my_string] # Note that whats in the list are the variable names, not strings themselves\n",
    "print(x)\n",
    "print(my_string)\n",
    "print(my_list)\n",
    "\n",
    "x = x + 1 # Looks weird at first, but it means \"add 1 to x, and then reassign that back into x\"\n",
    "print(x)"
   ]
  },
  {
   "cell_type": "markdown",
   "metadata": {},
   "source": [
    "So what about the following? What will it execute to?"
   ]
  },
  {
   "cell_type": "code",
   "execution_count": 5,
   "metadata": {},
   "outputs": [
    {
     "name": "stdout",
     "output_type": "stream",
     "text": [
      "2\n",
      "1\n"
     ]
    }
   ],
   "source": [
    "x = 1\n",
    "y = x\n",
    "x = x + 1\n",
    "print(x)\n",
    "print(y)"
   ]
  },
  {
   "cell_type": "markdown",
   "metadata": {},
   "source": [
    "You may be surprised, but `y` only updates when we explicitly tell it to (using `=`). Saying `y=x` says \"assign 1 (the value of x) to y\" and not \"y equals x\""
   ]
  },
  {
   "cell_type": "markdown",
   "metadata": {},
   "source": [
    "### Rules for variable names\n",
    "You have lots of options for variable names, but there are [some rules](https://www.w3schools.com/python/gloss_python_variable_names.asp):\n",
    "- A variable name must start with a letter or the underscore character\n",
    "- A variable name cannot start with a number\n",
    "- A variable name can only contain alpha-numeric characters and underscores (A-z, 0-9, and _ )\n",
    "- Variable names are case-sensitive (age, Age and AGE are three different variables)\n",
    "\n",
    "In addition, there is a [list of keywords that are reserved for Python use](https://www.w3schools.com/python/python_ref_keywords.asp) (eg. True, False, None) which stright up can't be used as variable names.  \n",
    "\n",
    "There is also a [list of built-in Python functions](https://docs.python.org/3/library/functions.html) (like `sum` and `print`). Although Python won't stop you from assigning values to a built-in Python function, it will overwrite its functionality preventing you from using that function later in your code (which would be no beuno). And since this is Jupyter, you'll have to reset your kernel to get the original function back."
   ]
  },
  {
   "cell_type": "code",
   "execution_count": 6,
   "metadata": {},
   "outputs": [
    {
     "ename": "SyntaxError",
     "evalue": "invalid syntax (117137403.py, line 8)",
     "output_type": "error",
     "traceback": [
      "\u001b[1;36m  Input \u001b[1;32mIn [6]\u001b[1;36m\u001b[0m\n\u001b[1;33m    1asd = 1 # Starts with number\u001b[0m\n\u001b[1;37m     ^\u001b[0m\n\u001b[1;31mSyntaxError\u001b[0m\u001b[1;31m:\u001b[0m invalid syntax\n"
     ]
    }
   ],
   "source": [
    "# VALID VARIABLE NAMES\n",
    "var = 1\n",
    "_VAR = 1\n",
    "my_variable = 1\n",
    "abc123 = 1\n",
    "\n",
    "# INVALID VARIABLE NAMES\n",
    "1asd = 1 # Starts with number\n",
    "dash-var = 1 # Can't use - (thats minus)\n",
    "def = 1 # Reserved keyword\n"
   ]
  },
  {
   "cell_type": "markdown",
   "metadata": {},
   "source": [
    "### Type conversion\n",
    "During operations (discussed more in depth later), Python will do implicit type conversion for numeric types (shown in the example below).\n",
    "\n",
    "For other data types we'll need to make sure that we convert them to the appropriate types before working with them."
   ]
  },
  {
   "cell_type": "code",
   "execution_count": 13,
   "metadata": {},
   "outputs": [
    {
     "ename": "TypeError",
     "evalue": "unsupported operand type(s) for +: 'int' and 'str'",
     "output_type": "error",
     "traceback": [
      "\u001b[1;31m---------------------------------------------------------------------------\u001b[0m",
      "\u001b[1;31mTypeError\u001b[0m                                 Traceback (most recent call last)",
      "Input \u001b[1;32mIn [13]\u001b[0m, in \u001b[0;36m<module>\u001b[1;34m\u001b[0m\n\u001b[0;32m      1\u001b[0m \u001b[38;5;241m1\u001b[39m \u001b[38;5;241m+\u001b[39m \u001b[38;5;241m1.1\u001b[39m \u001b[38;5;66;03m# int + float (the int, 1, is implicitly converted to a float before adding. Resulting in a float of 2.1)\u001b[39;00m\n\u001b[0;32m      2\u001b[0m \u001b[38;5;241m1\u001b[39m \u001b[38;5;241m+\u001b[39m \u001b[38;5;28mfloat\u001b[39m(\u001b[38;5;124m\"\u001b[39m\u001b[38;5;124m1.1\u001b[39m\u001b[38;5;124m\"\u001b[39m) \u001b[38;5;66;03m# WORKS: int + float (float keyword converts string to float)\u001b[39;00m\n\u001b[1;32m----> 3\u001b[0m \u001b[38;5;241;43m1\u001b[39;49m\u001b[43m \u001b[49m\u001b[38;5;241;43m+\u001b[39;49m\u001b[43m \u001b[49m\u001b[38;5;124;43m\"\u001b[39;49m\u001b[38;5;124;43m1.1\u001b[39;49m\u001b[38;5;124;43m\"\u001b[39;49m\n",
      "\u001b[1;31mTypeError\u001b[0m: unsupported operand type(s) for +: 'int' and 'str'"
     ]
    }
   ],
   "source": [
    "1 + 1.1 # int + float (the int, 1, is implicitly converted to a float before adding. Resulting in a float of 2.1)\n",
    "1 + float(\"1.1\") # WORKS: int + float (float keyword converts string to float)\n",
    "1 + \"1.1\" # DOESN'T WORK: int + string (can't add number and string)"
   ]
  },
  {
   "cell_type": "markdown",
   "metadata": {},
   "source": [
    "Reading the traceback, we can see the arrow indicates the line of the error (line 3). Although the first two lines ran okay, the 3rd line has an error. Reading the description we can see `TypeError: unsupported operand type(s) for +: 'int' and 'str'`. This means `+` is not defined for adding integers and strings (it doesn't make sense in Python to add numbers and text)."
   ]
  },
  {
   "cell_type": "markdown",
   "metadata": {},
   "source": [
    "## Data manipulation\n",
    "### Mathematical operations\n",
    "Onto mathematical operations!\n",
    "- `+`: Add\n",
    "- `-`: Subtract\n",
    "- `*`: Multiply\n",
    "- `/`: Divide\n",
    "- `**`: Raise to the power (**note its not `^`**)\n",
    "- `%`: Modulo\n",
    "- `//`: Integer/floor division  \n",
    "\n",
    "Note that Python follows BIMDAS, so we can use () in order to force order of operations.\n",
    "\n",
    "Extra reading: [assignment operators](https://www.w3schools.com/python/gloss_python_assignment_operators.asp) (nice to know, not necessary and just makes code look a little nicer/shorter)"
   ]
  },
  {
   "cell_type": "code",
   "execution_count": 14,
   "metadata": {},
   "outputs": [
    {
     "name": "stdout",
     "output_type": "stream",
     "text": [
      "x + y = 5\n",
      "x - y = -1\n",
      "x * y = 6\n",
      "x / y = 0.6666666666666666\n",
      "x ** y = 8\n",
      "x % y = 2\n",
      "x // y = 0\n"
     ]
    }
   ],
   "source": [
    "x = 2\n",
    "y = 3\n",
    "print(\"x + y =\", x+y)\n",
    "print(\"x - y =\", x-y)\n",
    "print(\"x * y =\", x*y)\n",
    "print(\"x / y =\", x/y)\n",
    "print(\"x ** y =\", x**y)\n",
    "print(\"x % y =\", x%y) # If we have 2 / 3, we can think of that as 0 remainer 2. 2%3 gives 2, 2//3 gives 0\n",
    "print(\"x // y =\", x//y)\n"
   ]
  },
  {
   "cell_type": "markdown",
   "metadata": {},
   "source": [
    "We also have other mathematical functions built into Python:\n",
    "- `min(...)`\n",
    "- `max(...)`\n",
    "- `round(...)`\n",
    "- `abs(...)`\n",
    "- `pow(...)`  \n",
    "\n",
    "**IMPORTANT NOTE:** The great thing about Python is if you don't know how to use a function, just call `help(function_name)` on it. We can also press `Shift+Tab` when using the function to bring up help documentation (this will be something we'll use again in the next workshop)."
   ]
  },
  {
   "cell_type": "code",
   "execution_count": 15,
   "metadata": {},
   "outputs": [
    {
     "name": "stdout",
     "output_type": "stream",
     "text": [
      "Help on built-in function round in module builtins:\n",
      "\n",
      "round(number, ndigits=None)\n",
      "    Round a number to a given precision in decimal digits.\n",
      "    \n",
      "    The return value is an integer if ndigits is omitted or None.  Otherwise\n",
      "    the return value has the same type as the number.  ndigits may be negative.\n",
      "\n",
      "None\n",
      "===\n",
      "3.142\n"
     ]
    }
   ],
   "source": [
    "print(help(round)\n",
    "print(\"===\")\n",
    "print(round(3.14159265, ndigits=3))"
   ]
  },
  {
   "cell_type": "markdown",
   "metadata": {},
   "source": [
    "### Mathematical operations for strings and lists\n",
    "Although not mathematical, Python does define behaviour for `+` and `*` for other default data types.\n",
    "- `str + str`: Concatenates two strings\n",
    "- `str * int`: Creates a new string that is repeated\n",
    "- `list + list`: Concatenates two lists\n",
    "- `list * int`: Creates a new list that is repeated"
   ]
  },
  {
   "cell_type": "code",
   "execution_count": null,
   "metadata": {},
   "outputs": [],
   "source": [
    "name = \"James\"\n",
    "print(\"Hello my name is \" + name)\n",
    "print(name * 3)\n",
    "\n",
    "numbers1 = [1,2,3]\n",
    "numbers2 = [4,5,6]\n",
    "print(numbers1 + numbers2)\n",
    "print(numbers1 * 2)"
   ]
  },
  {
   "cell_type": "markdown",
   "metadata": {},
   "source": [
    "You might be wondering, \"why doesn't `numbers1 + numbers2` give `[5,7,9]`?\", or \"why doesn't `numbers1 * 2` give `[2,4,6]`??\". Remember lists don't necessarily have to only have numbers, they can also have mixes of words, other lists or even completely different, non base Python datatypes (e.g. images, or feature length films).\n",
    "\n",
    "**Lists are not vector-like or matrix-like data structures** and hence we can't add them like we would vectors or matrices. Fear not though!! Next week we look at `numpy` which gives us arrays, which allow us to do powerful vector and matrix arithmetic."
   ]
  },
  {
   "cell_type": "markdown",
   "metadata": {},
   "source": [
    "## Comparison, logical and membership operators\n",
    "Sometimes we're interested in comparing different variables, we can do this with *comparison operators*.\n",
    "- `x == y`: Determines if $x=y$. x or y can be numbers or other objects\n",
    "- `x != y`: Determines if $x\\neq y$. x or y can be numbers or other objects\n",
    "- `x < y`:  Determines if $x<y$\n",
    "- `x > y`:  Determines if $x>y$\n",
    "- `x <= y`:  Determines if $x\\leq y$\n",
    "- `x >= y`:  Determines if $x\\geq y$\n",
    "\n",
    "Sometimes we want to combine results from other comparisons, or alter boolean statements. We can do this using *logical operators*:\n",
    "- `bool1 and bool2`: `True` if `bool1` and `bool2` are `True`. `False` otherwise.\n",
    "- `bool1 or bool2`: `True` if any of `bool1` or `bool2` are `True`. `False` if both are `False`.\n",
    "- `not bool1`: Negates `bool1`.\n",
    "\n",
    "Sometimes we want to know if an item is within a sequence. We can do this using *membership operators*:\n",
    "- `item in list`: `True` if `item` is in `list`. `False` otherwise.\n",
    "- `item not in list`: `True` if `item` is not in `list`. `False` otherwise.\n",
    "---\n",
    "All of these types of operators return boolean values. By using these operators, we can create boolean values which can then be used to control the flow of the program (as seen when we look at if statements).\n",
    "\n",
    "[More on Python operators](https://www.w3schools.com/python/python_operators.asp)  "
   ]
  },
  {
   "cell_type": "code",
   "execution_count": 18,
   "metadata": {},
   "outputs": [
    {
     "name": "stdout",
     "output_type": "stream",
     "text": [
      "x == y: False\n",
      "x != y: True\n",
      "2 < x: False\n",
      "x % 2 == 0 (x is even): False\n",
      "x % 2 == 1 (x is odd): True\n",
      "x in my_list: True\n",
      "x not in my_list: False\n",
      "(x in my_list) and (x < 2): True\n"
     ]
    }
   ],
   "source": [
    "x = 1\n",
    "y = 5\n",
    "# Comparison operators\n",
    "print(\"x == y:\", x==y)\n",
    "print(\"x != y:\", x!=y)\n",
    "print(\"2 < x:\", 2<x)\n",
    "print(\"x % 2 == 0 (x is even):\", x % 2 == 0)\n",
    "print(\"x % 2 == 1 (x is odd):\", x % 2 == 1)\n",
    "\n",
    "# Membership operators\n",
    "my_list = [1,2,3]\n",
    "print(\"x in my_list:\", x in my_list)\n",
    "print(\"x not in my_list:\", x not in my_list)\n",
    "\n",
    "# Logical operators\n",
    "print(\"(x in my_list) and (x < 2):\", (x in my_list) and (x < 2))"
   ]
  },
  {
   "cell_type": "markdown",
   "metadata": {},
   "source": [
    "## Logical flow\n",
    "From what we've learned so far, we can write code that runs top to bottom, executing every line of code exactly once. So far, if we want to get a piece of code to run multiple times we have to copy and paste it multiple times (which is bad practice!). And at the moment there is no way for us to run steps based on the variables defined within the code (eg. run code until certain condition is met).\n",
    "\n",
    "A large missing part of the puzzle is logic flow. Once we cover this, the opportunities really open up!\n",
    "\n",
    "Options for logic flow:\n",
    "- if/else statements\n",
    "- for loops\n",
    "- while loops\n",
    "- [try except](https://pythonbasics.org/try-except/) (not covered in these workshops)\n",
    "- functions\n",
    "\n",
    "We'll go through each of the above (excluding try except), including how to write them and their usecases.\n",
    "\n"
   ]
  },
  {
   "cell_type": "markdown",
   "metadata": {},
   "source": [
    "### if/else statements\n",
    "`if` statements are used to execute code only if a certain condition is met. The condition must evaluate to a `True` or a `False` value (we can use our comparison, logical and membership operators from before!). We can optionally also instruct Python to do another task if the condition is not met, in which case we add an `else` statement. Below is how we structure if statements in Python:\n",
    "```py\n",
    "if <condition>:\n",
    "    ... # will run if the condition is True\n",
    "else:\n",
    "    ... # will run if the condition is False\n",
    "```\n",
    "\n",
    "This allows us to contruct decision tree logic in Python (do this if condition, otherwise do that).\n",
    "\n",
    "You'll notice some interesting things from the above code. First, the line after `if <condition>:` is indented (by 4 spaces, or a tab). This indented code is called an **indented block** and says that  indented block is counted as within that if statement. This separates Python from other languages like C and R which use `{}` to indicate blocks of code. Indentation in Python is very important for denoting blocks of code.\n",
    "The `:` at the end of the `if <condition>:` line and the `else:` line tells Python to expect an indented block of code on the next line.\n",
    "\n",
    "As a matter of fact, all the logical flow structures we listed before operate using blocks of code, so we'll get very familiar with indented blocks.\n",
    "\n",
    "Extra reading: [elif statements](https://www.w3schools.com/python/gloss_python_elif.asp) (nice to know, but not necessary)"
   ]
  },
  {
   "cell_type": "code",
   "execution_count": 19,
   "metadata": {},
   "outputs": [
    {
     "name": "stdout",
     "output_type": "stream",
     "text": [
      "x is odd!\n",
      "This line will be executed regardless of the condition\n"
     ]
    }
   ],
   "source": [
    "x = 1\n",
    "if x % 2 == 0:\n",
    "    print(\"x is even!\")\n",
    "else:\n",
    "    print(\"x is odd!\")\n",
    "\n",
    "print(\"This line will be executed regardless of the condition\")"
   ]
  },
  {
   "cell_type": "markdown",
   "metadata": {},
   "source": [
    "### loops\n",
    "Sometimes we want to write blocks of code that repeat multiple times. For this we use loops. There are two kinds of loops:\n",
    "\n",
    "#### `for` loop\n",
    "The most common type of loop, where we have a block of code that repeats a pre-determined amount of times. The syntax for a `for` loop is the following:\n",
    "\n",
    "```py\n",
    "for <item> in <iterable>:\n",
    "    ... # Code that will run for the number of elements in iterable\n",
    "```\n",
    "What is an iterable? An iterable is a subset of data objects that have the concept of a sequence of smaller elements in order. For example:\n",
    "- list: A sequence of list elements\n",
    "- string: A sequence of characters\n",
    "- range: A sequence of numbers from a starting point to an end point (very useful for `for` loops)\n",
    "\n",
    "Let's dive into an example:"
   ]
  },
  {
   "cell_type": "code",
   "execution_count": 20,
   "metadata": {},
   "outputs": [
    {
     "name": "stdout",
     "output_type": "stream",
     "text": [
      "1 : Hey\n",
      "2 : there!\n",
      "3 : This\n",
      "4 : is\n",
      "5 : a\n",
      "6 : list\n",
      "7 : of\n",
      "8 : words!\n"
     ]
    }
   ],
   "source": [
    "my_list = [\"Hey\", \"there!\", \"This\", \"is\", \"a\", \"list\", \"of\", \"words!\"]\n",
    "\n",
    "loop_count = 1\n",
    "for word in my_list:\n",
    "    print(loop_count, \":\", word)\n",
    "    loop_count = loop_count + 1"
   ]
  },
  {
   "cell_type": "markdown",
   "metadata": {},
   "source": [
    "When the loop is ran, the first element of `my_list` is taken and assigned into `word`. The indented block is then run with that value for `word`. When block ends, the loop goes onto the next iteration of the loop assigning the second element of `my_list` in for `word`. This repeats until the elements in `my_list` are exhausted."
   ]
  },
  {
   "cell_type": "markdown",
   "metadata": {},
   "source": [
    "##### the `range` object\n",
    "The range object is a really nice way of generating sequences of numbers.\n",
    "If we do `range(n)` it will generate `n` numbers going from 0 to n (closed on the left, and open on the right). This means that it will generate `0, 1, ... n-1` including 0 but excluding the number `n`. If we want to also include n, its just a simple matter of typing `range(n+1)`.  \n",
    "\n",
    "Note that range counts from 0 by default. This is because Python is a language that indexes from 0 (a concept we'll explore more when we work with lists later in this workshop)."
   ]
  },
  {
   "cell_type": "code",
   "execution_count": 22,
   "metadata": {},
   "outputs": [
    {
     "name": "stdout",
     "output_type": "stream",
     "text": [
      "range(0, 10)\n",
      "[0, 1, 2, 3, 4, 5, 6, 7, 8, 9]\n",
      "Hey mom, look! I can count to 5!\n",
      "0\n",
      "1\n",
      "2\n",
      "3\n",
      "4\n",
      "5\n"
     ]
    }
   ],
   "source": [
    "print(range(10)) # We can't \"peek\" directly into the sequence of a range object...\n",
    "print(list(range(10))) # ...instead we need to convert it to a list to see whats inside\n",
    "\n",
    "print(\"Hey mom, look! I can count to 5!\")\n",
    "for number in range(5 + 1):\n",
    "    print(number)"
   ]
  },
  {
   "cell_type": "markdown",
   "metadata": {},
   "source": [
    "The range object is actually even more versatile than this. There are three ways we can use it:"
   ]
  },
  {
   "cell_type": "code",
   "execution_count": 23,
   "metadata": {},
   "outputs": [
    {
     "name": "stdout",
     "output_type": "stream",
     "text": [
      "[0, 1, 2, 3, 4, 5, 6, 7, 8, 9]\n",
      "[1, 2, 3, 4, 5]\n",
      "[1, 3, 5, 7, 9]\n"
     ]
    }
   ],
   "source": [
    "def print_range(range_object):\n",
    "    # Ignore this for now. We'll talk about functions later in this section\n",
    "    print(list(range_object))\n",
    "\n",
    "print_range(range(10)) # range(stop): stop provided, start point defaults to 0, step defaults to 1\n",
    "print_range(range(1, 6)) # range(start, stop): start and stop provided, step defaults to 1\n",
    "print_range(range(1, 10, 2)) # range(start, stop, step): start, stop, step provided\n",
    "# Forget how to use range? Just call help(range)"
   ]
  },
  {
   "cell_type": "markdown",
   "metadata": {},
   "source": [
    "##### `for` loop examples\n",
    "Lets see some examples!!"
   ]
  },
  {
   "cell_type": "code",
   "execution_count": 26,
   "metadata": {},
   "outputs": [
    {
     "name": "stdout",
     "output_type": "stream",
     "text": [
      "The sum of the first 100 perfect squares is 338350\n"
     ]
    }
   ],
   "source": [
    "# Summing the squares of the first n integers\n",
    "counter = 0\n",
    "n = 100\n",
    "for i in range(1, n + 1): # Don't forget the +1! Open on the right remember\n",
    "    counter = counter + i ** 2\n",
    "    \n",
    "print(\"The sum of the first\", n, \"perfect squares is\", counter)"
   ]
  },
  {
   "cell_type": "markdown",
   "metadata": {},
   "source": [
    "Extra reading: [enumerate](https://realpython.com/python-enumerate/) and [zip](https://realpython.com/python-zip-function/) (nice to know, makes `for` loops more versatile)"
   ]
  },
  {
   "cell_type": "markdown",
   "metadata": {},
   "source": [
    "#### `while` loops\n",
    "Sometimes we want a loop to run for as long as a condition is met. For this, we can use a `while` loop. The sytax or a while loop is as follows:\n",
    "```py\n",
    "while <condition>:\n",
    "    ...\n",
    "```\n",
    "When the while loop starts, it checks whether that condition is True. If it is, then it proceeds with the loop. When reaching the end of the iteration, it checks again if the condition is True. If the condition is False, it skips over the loop and proceeds with the rest of the code."
   ]
  },
  {
   "cell_type": "code",
   "execution_count": 28,
   "metadata": {},
   "outputs": [
    {
     "name": "stdout",
     "output_type": "stream",
     "text": [
      "x is 10 which is greater than 1\n",
      "x is 9 which is greater than 1\n",
      "x is 8 which is greater than 1\n",
      "x is 7 which is greater than 1\n",
      "x is 6 which is greater than 1\n",
      "x is 5 which is greater than 1\n",
      "x is 4 which is greater than 1\n",
      "x is 3 which is greater than 1\n",
      "x is 2 which is greater than 1\n",
      "x is 1 which is greater than 1\n",
      "We are done with the while loop. The final value of x is 0\n"
     ]
    }
   ],
   "source": [
    "x = 10\n",
    "while x >= 1:\n",
    "    print(\"x is\", x, \"which is greater than 1\")\n",
    "    x = x-1\n",
    "    \n",
    "print(\"We are done with the while loop. The final value of x is\", x)"
   ]
  },
  {
   "cell_type": "markdown",
   "metadata": {},
   "source": [
    "A commmon trap people fall in is to use while loops unnecessarily when a for loop would suffice. This \"trap\" wouldn't matter as much, if it weren't for this next point: it is really important to get your condition is appropriate and will eventually evaluate to `False` to avoid having an infinite while loop. Let's take a look at the following example:"
   ]
  },
  {
   "cell_type": "code",
   "execution_count": 31,
   "metadata": {},
   "outputs": [
    {
     "name": "stdout",
     "output_type": "stream",
     "text": [
      "The final value of x is 5\n"
     ]
    }
   ],
   "source": [
    "x = 10\n",
    "while x != 5:\n",
    "    x = x - 1\n",
    "print(\"The final value of x is\", x)"
   ]
  },
  {
   "cell_type": "markdown",
   "metadata": {},
   "source": [
    "The loop above works, however only because x is an integer. If x started at 9.9, it would never be equal to 5 (and hence we now have an infinite loop). Try it yourself! (feel free to click the \"stop\" button at the top to interupt the kernel and exit an infinite loop).  \n",
    "The example above is a bit construed, but the important thing to remember is that the loop should stop eventually."
   ]
  },
  {
   "cell_type": "markdown",
   "metadata": {},
   "source": [
    "#### Stopping a loop\n",
    "When working with for loops, we sometimes want to just skip the current iteration and go onto the next one. Or sometimes we want to just stop the loop altogether and move on. For these, we can use `continue` and `break`:\n",
    "- `continue`: Moves onto the next iteration of the for loop\n",
    "- `break`: Stops the loop and moves on"
   ]
  },
  {
   "cell_type": "code",
   "execution_count": 32,
   "metadata": {},
   "outputs": [
    {
     "name": "stdout",
     "output_type": "stream",
     "text": [
      "The current number is 0\n",
      "The current number is 1\n",
      "The current number is 2\n",
      "Skipping this iteration!\n",
      "The current number is 4\n",
      "The current number is 5\n",
      "The current number is 6\n",
      "Breaking loop!\n",
      "The loop is done\n"
     ]
    }
   ],
   "source": [
    "# Showcasing continue and break:\n",
    "for i in range(10):\n",
    "    if i == 3:\n",
    "        print(\"Skipping this iteration!\") # Brings the loop back to the top, with the next iteration\n",
    "        continue\n",
    "    if i==7:\n",
    "        print(\"Breaking loop!\")\n",
    "        break # Exits straight out the loop\n",
    "    print(\"The current number is\", i)\n",
    "    \n",
    "print(\"The loop is done\")"
   ]
  },
  {
   "cell_type": "markdown",
   "metadata": {},
   "source": [
    "### Functions\n",
    "Sometimes we want to package together a block of code and re-use it multiple times throughout our code. Or maybe we just want to package it up nicely so that its easier to read, and separates the code into a distinct step. For this, we can define custom functions.\n",
    "\n",
    "```py\n",
    "def my_function(parameter1, parameter2):\n",
    "    ... # Function code\n",
    "    return out_object\n",
    "```\n",
    "\n",
    "In order for a function to operate, it may need some data. For example, a function calculating the area of a circle will need the circles radius. This data is passed in as a parameter. In the example of a circle, the function also needs to give back data. This is done by the return statement (where the number is returned to where ever the function was called). Lets make this function:\n"
   ]
  },
  {
   "cell_type": "code",
   "execution_count": 33,
   "metadata": {},
   "outputs": [
    {
     "name": "stdout",
     "output_type": "stream",
     "text": [
      "Circle radius 5 m has area 78.53981625 m^2\n",
      "Radius can't be less than 0\n"
     ]
    }
   ],
   "source": [
    "def circle_area(r):\n",
    "    if r < 0:\n",
    "        return \"Radius can't be less than 0\"\n",
    "    \n",
    "    area = get_pi() * r ** 2\n",
    "    return area\n",
    "\n",
    "def get_pi():\n",
    "    return 3.14159265\n",
    "\n",
    "radius = 5\n",
    "print(\"Circle radius\", radius, \"m has area\", circle_area(radius), \"m^2\")\n",
    "print(circle_area(-1))"
   ]
  },
  {
   "cell_type": "markdown",
   "metadata": {},
   "source": [
    "To highlight some important points, the example above was more complex than it needed to be. First off, we have two functions. The `get_pi` function is an example of a function that has no parameters. Hence when we call it in the `circle_area` function, we just call `get_pi()` with nothing in the brackets.\n",
    "\n",
    "Secondly, from `get_pi()` within `circle_area` we can see that we can call functions from other functions (seemingly before that function was even defined??!!). To understand this, lets talk about how Python runs this code. When Python sees the function definitions (ie. `def my_function...`) and their associated code it actually doesn't run any code. Python just associates the `get_pi` and `circle_area` keywords with those blocks of code. When you call those functions in future only then will it run the code. When we get to line 12 and 13, the function `circle_area` is actually called with `radius` as the parameter. This value for radius of `5` gets passed into the function and renamed to r in the context of the `circle_area` function. The `circle_area` function runs, and since the `get_pi` function was already **defined before the time of execution**, the function executes without a hitch.\n",
    "\n",
    "Thirdly, we see that `circle_area` has multiple return statements. This is completely valid, and very useful. This means that we can terminate the execution of our function early if a condition isn't met. This can allow us to avoid deeply nested if/else statements.\n",
    "\n",
    "\n",
    "**NOTE:** A function can also have no return statement, or just have `return` with no value after. In both these cases, the value of `None` will be returned (to indicate that nothing was returned).\n",
    "\n"
   ]
  },
  {
   "cell_type": "markdown",
   "metadata": {},
   "source": [
    "#### An issue of scope\n",
    "When using functions, an important thing to think about is the idea of scope. It can be a bit of a difficult concept to grasp the first time around, so here are some extra resources (a [video](https://www.youtube.com/watch?v=QVdf0LgmICw), an [article](https://realpython.com/python-scope-legb-rule) and a [shorter article](https://www.datacamp.com/tutorial/scope-of-variables-python)) on the topic.\n",
    "\n",
    "Scope in Python tells us how variables can be accessed, and how they work within functions. We'll use the following code examples to aid in our explanation:"
   ]
  },
  {
   "cell_type": "code",
   "execution_count": 12,
   "metadata": {},
   "outputs": [
    {
     "name": "stdout",
     "output_type": "stream",
     "text": [
      "Example 1\n",
      "1\n",
      "Example 2\n",
      "2\n",
      "1\n",
      "Example 3\n",
      "2\n"
     ]
    },
    {
     "ename": "NameError",
     "evalue": "name 'c' is not defined",
     "output_type": "error",
     "traceback": [
      "\u001b[1;31m---------------------------------------------------------------------------\u001b[0m",
      "\u001b[1;31mNameError\u001b[0m                                 Traceback (most recent call last)",
      "Input \u001b[1;32mIn [12]\u001b[0m, in \u001b[0;36m<module>\u001b[1;34m\u001b[0m\n\u001b[0;32m     22\u001b[0m     \u001b[38;5;28;01mreturn\u001b[39;00m\n\u001b[0;32m     24\u001b[0m my_function3()\n\u001b[1;32m---> 25\u001b[0m \u001b[38;5;28mprint\u001b[39m(\u001b[43mc\u001b[49m)\n",
      "\u001b[1;31mNameError\u001b[0m: name 'c' is not defined"
     ]
    }
   ],
   "source": [
    "print(\"Example 1\")\n",
    "a = 1\n",
    "def my_function1():\n",
    "    print(a)\n",
    "    return\n",
    "\n",
    "my_function1()\n",
    "\n",
    "print(\"Example 2\")\n",
    "def my_function2():\n",
    "    a = 2\n",
    "    print(a)\n",
    "    return\n",
    "\n",
    "my_function2()\n",
    "print(a)\n",
    "\n",
    "print(\"Example 3\")\n",
    "def my_function3():\n",
    "    c = 2\n",
    "    print(c)\n",
    "    return\n",
    "\n",
    "my_function3()\n",
    "print(c)"
   ]
  },
  {
   "cell_type": "markdown",
   "metadata": {},
   "source": [
    "In Python, variables can exist in different scopes:\n",
    "\n",
    "```py\n",
    "# Global scope\n",
    "x = 0\n",
    "\n",
    "def outer():\n",
    "    # Enclosed scope\n",
    "    x = 1\n",
    "    def inner():\n",
    "        # Local scope\n",
    "        x = 2\n",
    "```\n",
    "![Scope diagram from Datacamp https://www.datacamp.com/tutorial/scope-of-variables-python](https://res.cloudinary.com/dyd911kmh/image/upload/f_auto,q_auto:best/v1588956604/Scope_fbrzcw.png)\n",
    "\n",
    "- Local\n",
    "- Enclosing\n",
    "- Global\n",
    "- Built-in\n",
    "\n",
    "When a variable is referenced, Python follows the LEGB rule (Local-> Enclosing-> Global-> Built-in). It first looks for that variable in the local scope. If not found in the local scope, it then looks at the enclosing scope. If not found in the enclosing scope, it then looks in the global scope, if not found in the global scope, it then looks at the build-in functions.\n",
    "\n",
    "The **local scope** is the scope of a given function. *When a function completes execution, all variables defined in the local scope for that function are destroyed*. If we look at Example 3 from above, we see that the variable `c` is defined and printed (printing `2`). When that function closes out though, the local scope is destroyed. When the `print(c)` is reached outside the function, the variable `c` is no longer defined (the local scope is gone, and `c` is not defined in the enclosing, global or built-in scopes).  \n",
    "\n",
    "The **enclosing scope** only really comes into play if we have functions within functions (which we rarely have, and there are only specific, niche use cases in which we would even require such a thing).\n",
    "\n",
    "The **global scope** are the variables that we assign outside any function. If we look at Example 1, we define `a=1` in the global scope. When we enter the function and `print(a)`, Python searches for `a` in the local scope (not defined) then the local scope (not defined) before finally finding `a` in the global scope and printing it out.  \n",
    "If we look at Example 2, we have already defined `a=1` in the global scope. Within the function, we define `a=2` in the local scope and call `print(a)`. As local scope takes precidence, this prints `2`. Once the function is complete, the local scope is destroyed. Now when we call `print(a)` again (this time outside any function) the result is `1` as that is the value of `a` in the global scope.\n",
    "\n",
    "\n",
    "What does all this talk about scope mean, and why do we care about it?? Basically, knowing scope means that we can choose variables wiser. We can have functions that use commonly used argument names without worrying about them affecting the program as a whole. This has a consequence that we can't (by default) modify variables within the global scope from within a function.  \n",
    "The fact we can't modify global variables however isn't a big drawback because we can have the variable passed in as a parameter to the function, return it out at the end, and just reassign it.\n",
    "\n",
    "Extra reading:\n",
    "- [Positional and keyword arguments](https://problemsolvingwithpython.com/07-Functions-and-Modules/07.07-Positional-and-Keyword-Arguments/) (finer understanding of how to specify parameters for functions, more important when we start using packages)\n",
    "- [the global keyword](https://www.programiz.com/python-programming/global-keyword) (modifying global scope from within a function, not really necessary and would recommend fully understanding functions and scope before even considering learning this)"
   ]
  },
  {
   "cell_type": "markdown",
   "metadata": {},
   "source": [
    "And that's all on logic flow!! Logic flow is **EVERYTHING** when it comes to writing compact and elegant code. Of course, there's a time and place to bodge things together to just get the thing to work (*cough cough, assignments*), but if you end up working on code that other people will use your coworkers will love if you write it compactly within functions and using appropriate looping."
   ]
  },
  {
   "cell_type": "markdown",
   "metadata": {},
   "source": [
    "## Time for some practice!\n",
    "<div class=\"alert alert-block alert-info\">\n",
    "<b>Examples:</b> Lets now head over to the examples notebook in order to get some practice in!!</div>"
   ]
  },
  {
   "cell_type": "markdown",
   "metadata": {},
   "source": [
    "## Some simple packages\n",
    "We've talked a bit about packages, but how do we use them?\n",
    "\n",
    "Here we'll go over some simple packages:\n",
    "- [random](https://docs.python.org/3/library/random.html)\n",
    "    - for random number generators, selecting random elements from a list, etc (great for brute forcing stats questions!)\n",
    "- [math](https://docs.python.org/3/library/math.html)\n",
    "    - some simple maths functions\n",
    "- [tqdm](https://tqdm.github.io/)\n",
    "    - for loop taking ages? Why not give it a progress bar\n",
    "\n",
    "Note that in order to find packages, and find out how to use them, Google really is your friend. Also getting familiar with reading Python package documentation is really helpful (give a read of the linked documentation of the packages above for some practice). To find documentation for a package you can type `<package name> python documentation` and that should get you there.\n",
    "\n",
    "To import a package its as simple as typing `import <package name>` or `import <package name> as <alias>`. This second option is really handy when we're using the package a lot and don't want to type out its full name:"
   ]
  },
  {
   "cell_type": "code",
   "execution_count": null,
   "metadata": {},
   "outputs": [],
   "source": [
    "import math as m\n",
    "m.cos(90)"
   ]
  },
  {
   "cell_type": "markdown",
   "metadata": {},
   "source": [
    "Wait a minute, why is `cos(90)` not 0?"
   ]
  },
  {
   "cell_type": "code",
   "execution_count": null,
   "metadata": {},
   "outputs": [],
   "source": [
    "help(m.cos)"
   ]
  },
  {
   "cell_type": "markdown",
   "metadata": {},
   "source": [
    "Oh crap, yeah of course, it should be in radians. How do we convert to radians? A quick `Ctrl+F` search through the documentation gives the answer:"
   ]
  },
  {
   "cell_type": "code",
   "execution_count": null,
   "metadata": {},
   "outputs": [],
   "source": [
    "m.cos(m.radians(90))"
   ]
  },
  {
   "cell_type": "markdown",
   "metadata": {},
   "source": [
    "That's close enough to 0 (in computing, [floating point operations aren't exact](https://www.youtube.com/watch?v=PZRI1IfStY0) and can be $\\varepsilon$ away from the real result).  \n",
    "\n",
    "Say we just were interested in the `cos` function or `radians` function, we could do something like this instead:"
   ]
  },
  {
   "cell_type": "code",
   "execution_count": null,
   "metadata": {},
   "outputs": [],
   "source": [
    "from math import cos\n",
    "from math import radians as to_radians\n",
    "cos(to_radians(180))"
   ]
  },
  {
   "cell_type": "markdown",
   "metadata": {},
   "source": [
    "These are some of the options that you can use for imported functions. The nice thing about imports, which sets Python apart from Matlab or R, is that imported packages are by default separated into their own namespace. When we run `import math`, we can them use all the `math` functions by calling `math.function_name`. This makes it easy to trace back where a function comes from (and then look up the functions documentation and how to use it). This also means that if we have two functions with the same names from different packages, it doesn't matter because when we import them they will be in different namespaces (ie. `package1.func_name` and `package2.func_name`). Compare this to R or Matlab, where importing packages/libraries just kind of shoves all the functions into a communal bucket, and if there are name collisions between packages it just uses one of the function definitions, which of course might not be the function you're looking for and may behave completely differently, and *ugh*... such a headache.\n",
    "\n",
    "Anyway, there is another option for Python imports as well, and that is a *wildcard import* where you can do `from math import *` which will import all the functions from math into your current namespace. Given my rant that I just did, you can probably guess [**this is a bad idea and bad practice**](https://stackoverflow.com/questions/3615125/should-wildcard-import-be-avoided) as it obfuscates what is imported code, versus code defined within the program, and can also cause name clashes in your program. Just letting you know so that you can dunk on people for their bad code, moving on...\n",
    "\n",
    "We also have the random module!"
   ]
  },
  {
   "cell_type": "code",
   "execution_count": null,
   "metadata": {},
   "outputs": [],
   "source": [
    "import random as r\n",
    "# Setting a seed means we get the same results each time\n",
    "# (good for assignments and reproducible results, just don't choose the seed to fudge your results!)\n",
    "r.seed(1)\n",
    "\n",
    "# Lets imagine a sequence of 10000 bernoulli events with p=0.2 .\n",
    "n_successes = 0\n",
    "n_trials = 10000\n",
    "p = 0.2\n",
    "for i in range(n_trials):\n",
    "    # Doing the bernoulli trial\n",
    "    if r.random() < p:\n",
    "        outcome = 1\n",
    "    else:\n",
    "        outcome = 0\n",
    "        \n",
    "    n_successes = n_successes + outcome\n",
    "\n",
    "print(\"Theoretical expected value:\", n_trials*p)\n",
    "print(\"Number of successes:\", n_successes)"
   ]
  },
  {
   "cell_type": "markdown",
   "metadata": {},
   "source": [
    "Finally, lets take a look at the last package `tqdm`. This package only has one function in it, but oh my this function is awesome. Lets take a look:"
   ]
  },
  {
   "cell_type": "code",
   "execution_count": 35,
   "metadata": {},
   "outputs": [
    {
     "name": "stderr",
     "output_type": "stream",
     "text": [
      "My progress bar: 100%|██████████████████████████████████████████| 50/50 [00:03<00:00, 16.05it/s]\n"
     ]
    }
   ],
   "source": [
    "from tqdm import tqdm # In the tqdm package is a function also called tqdm\n",
    "from time import sleep # Halts Python for a certain number of seconds (pretend this is a big calculation)\n",
    "\n",
    "for i in tqdm(range(50), desc = \"My progress bar\"):\n",
    "    sleep(0.05)"
   ]
  },
  {
   "cell_type": "markdown",
   "metadata": {},
   "source": [
    "How neat is that!! The function `tqdm` can be used to wrap the iterable in the for loop to turn it into a progress bar! Super handy. You can also give the progress bar a description, or for it to update the progress bar with the value of a variable (check the documenatation for more info)."
   ]
  },
  {
   "cell_type": "markdown",
   "metadata": {},
   "source": [
    "## More data manipulation\n",
    "We've seen how to modify numbers and do arithmetic operations, but what about other data types like strings and lists?? Often, a way that we do this is with methods.\n",
    "\n",
    "So far we've seen functions, like `print`, `sum`, and `len`. These functions can often have inputs of different types (in fact, the `print` function pretty much works with whatever type we put in). On the other hand, *there are functions that only make sense working with a singular data type.* **We call these \"type specific functions\" methods**. These methods are accessed through the pattern `<data type>.method_name(arg1, arg2)`. Different data types have different methods (feel free to Google \"\\<data type> methods\")\n",
    "\n",
    "- [string methods](https://www.w3schools.com/python/python_ref_string.asp)\n",
    "- [list methods](https://www.w3schools.com/python/python_ref_list.asp)\n",
    "- [dictionary methods](https://www.w3schools.com/python/python_ref_dictionary.asp)\n",
    "\n",
    "For an example, lets look at some string methods:\n",
    "```py\n",
    "my_string = \"hello\"\n",
    "string_upper = my_string.upper() # Produces \"HELLO\"\n",
    "string_cap = my_string.capitalize() # Produces \"Hello\"\n",
    "list_split = my_string.split(\"e\") # Produces [\"h\", \"llo\"]\n",
    "```\n",
    "We'll cover list methods, but we won't focus on most of the string or dictionary methods in this workshop. Feel free to look through the references above so you know what's available.\n",
    "\n",
    "### Mutable vs immutable\n",
    "Data types come in two flavors. Immutable data types, and mutable data types:  \n",
    "\n",
    "| Immutable      | Mutable    |\n",
    "| -------------- | ---------- |\n",
    "| integer        | list       |\n",
    "| float          | dictionary |\n",
    "| complex number |            |\n",
    "| boolean        |            |\n",
    "| string         |            |\n",
    "| tuple          |            |\n",
    "\n",
    "The difference between immutable and mutable data types are that *the values of immutable data types cannot be changed* while mutable data types can be \"reached into\" to have their values changed.\n",
    "\n",
    "When we operate on immutable data types (e.g. `x + 1`), we aren't changing the value but actually *creating new data objects*. That is why when we do the operation we have to reassign back into the variable:\n",
    "```py\n",
    "x = 2\n",
    "x = x + 1 # Have to reassign back into x. Doing x+1 doesn't change x, but creates a new int object with a value of 3\n",
    "\n",
    "```\n",
    "\n",
    "What difference does this make? We'll we've seen how string (i.e. immutable) methods work before, but list methods, which we'll look at now, behave a bit differently since they're for mutable objects operate \"in-place\". Besides this difference in how the methods work, there is some extra quirkiness that comes with lists and mutable objects that is too long to get into here.\n",
    "\n",
    "Extra reading:\n",
    "- [list comprehensions](https://www.w3schools.com/python/python_lists_comprehension.asp) (makes creating lists much easier, great to know) \n",
    "- [list weirdness in python (shared addresses)](https://stackoverflow.com/questions/2612802/how-do-i-clone-a-list-so-that-it-doesnt-change-unexpectedly-after-assignment) (not necessary to know unless you're planning on working alot with lists, revisit if you encounter weird list bugs and want to resolve them)"
   ]
  },
  {
   "cell_type": "markdown",
   "metadata": {},
   "source": [
    "## Working with lists\n",
    "### List methods\n",
    "So we know how to create a list (i.e. `[1,2,3]` or `[]`), but how do we add to a list? We can add to a list by doing the following:\n"
   ]
  },
  {
   "cell_type": "code",
   "execution_count": null,
   "metadata": {},
   "outputs": [],
   "source": [
    "my_list = [0,1,2,3]\n",
    "my_list.append(4) # .append is used to add an extra element to the end of the list\n",
    "my_list.extend([5,6]) # .extend is used to join a list to the end of my_list\n",
    "\n",
    "print(my_list) # resulting list is [0,1,2,3,4,5,6]"
   ]
  },
  {
   "cell_type": "markdown",
   "metadata": {},
   "source": [
    "You might have realised that we didn't need to reassign back into `my_list` for the changes to take effect. The mere act of calling `.append()` and `.extend()` *reached in* to the `my_list` object and changed it accordingly. This is the behaviour of in-place operations. They reach into the data type to make the change, and they don't return anything (i.e. they return `None`). If we tried to use the list method like we did the string method, we quickly realise it won't work:\n"
   ]
  },
  {
   "cell_type": "code",
   "execution_count": null,
   "metadata": {},
   "outputs": [],
   "source": [
    "my_list = [0,1,2,3]\n",
    "my_list = my_list.append(4) # INCORRECT use of .append. Operation works in-place\n",
    "print(my_list) # my_list was overwritten with the None returned by the .append operation."
   ]
  },
  {
   "cell_type": "markdown",
   "metadata": {},
   "source": [
    "We also have other list methods such as:\n",
    "- copy (to copy a list)\n",
    "- count (to count occurences in a list)\n",
    "- insert* (inserts an element at the specified position)\n",
    "- pop* (removes the element at the specified position)\n",
    "- remove* (removes the first item with the specified value)\n",
    "- reverse* (reverses the order of the list)\n",
    "- sort* (sorts the list)\n",
    "\n",
    "The methods that modify lists* will also have in-place behaviour just as we've seen above.\n",
    "\n",
    "So now we know how to accumulate to a list! A pretty useful skill for maths 🥰:"
   ]
  },
  {
   "cell_type": "code",
   "execution_count": null,
   "metadata": {},
   "outputs": [],
   "source": [
    "list_x = []\n",
    "list_y = []\n",
    "\n",
    "import math\n",
    "def my_function(x):\n",
    "    return math.sin(x)\n",
    "\n",
    "x_start = 0\n",
    "dx = 0.1\n",
    "for i in range(1000):\n",
    "    # Creating 1000 points of (x,y) and saving them to two separate lists\n",
    "    x = x_start + dx * i\n",
    "    y = my_function(x)\n",
    "    \n",
    "    list_x.append(x)\n",
    "    list_y.append(y)\n",
    "\n",
    "print(list_x)\n",
    "print(list_y)\n",
    "# A list of x, and corresponding sin(x)!\n",
    "# Now if only we could plot this...tune in next week for that!"
   ]
  },
  {
   "cell_type": "markdown",
   "metadata": {},
   "source": [
    "### List indexing and slicing\n",
    "There's one more list topic that we have neglected until now. Say we've stored elevements in a list, how do we extract them again? The way that we do this is by *indexing*.\n",
    "\n",
    "Each element in a list has an associated index. An index is an integer which indicates its position in the list. This index starts at 0 for the first element, 1 for the second element, and goes up to `n-1` for the last element (in a list of length `n`). The way that we index is by placing a set of square brackets after our list.\n",
    "\n",
    "Why does it start from 0? Its just a design choice by the makers of Python, as well as the makers of some other languages. Languages like R on the other hand index from 1.\n",
    "\n",
    "Lets look at some examples!\n",
    "\n",
    "**NOTE:** Indices need to be integers. If you're indexing using a variable `index` that is a float, you'll need to convert it to an integer. Eg. `lst[int(index)]`"
   ]
  },
  {
   "cell_type": "code",
   "execution_count": null,
   "metadata": {},
   "outputs": [],
   "source": [
    "lst = [\"first\", \"second\", \"third\", \"fourth\", \"fifth\"] # A list of positions\n",
    "\n",
    "print(lst[0]) # This will extract out the \"first\" element from the list\n",
    "print(lst[1]) # This will extract out the \"second\" element from the list\n",
    "print(lst[len(lst) - 1]) # This will extract out the \"fifth\" element from the list (which is also the last element)\n",
    "\n",
    "lst = [1, 8, 7, 2, 4, 7]\n",
    "index = lst.index(7) # The index of the first occurence of 7 in the list\n",
    "print(index) # Prints \n",
    "lst.pop(index) # Removes the element at the index of `index`. Remember .pop is an \"in place\" method\n",
    "\n",
    "print(lst)"
   ]
  },
  {
   "cell_type": "markdown",
   "metadata": {},
   "source": [
    "We can also index using negative indices. This means that the list will be indexed from the other end. For example, an index of `-1` will correspond to the last element of the list, `-2` to the second last element, and `-n` to the `n`th last element (if the list is of length `n`, the index of `-n` corresponds to the first element of the list).\n",
    "\n",
    "Got a `IndexError: list index out of range` error? Its pretty self explanatory, you're trying to index an element position that doesn't exist (ie. your list is shorter than you think it is; your list index is out of range). Double check your index and your list.\n",
    "\n",
    "Can we only index lists? No! We can index other elements too like tuples and strings. When we index a string, we can pull out individual letters."
   ]
  },
  {
   "cell_type": "code",
   "execution_count": null,
   "metadata": {},
   "outputs": [],
   "source": [
    "lst = [\"4th last\", \"3rd last\", \"2nd last\", \"last\"]\n",
    "print(lst[-4]) # 4th last element\n",
    "print(lst[-3]) # 3rd last element\n",
    "print(lst[-2]) # 2nd last element\n",
    "print(lst[-1]) # last element\n",
    "\n",
    "print([2, 4][-1]) # Looks a bit weird, but this works. We don't need to define a variable `lst` in order to index!\n",
    "\n",
    "print(\"oh my word\"[-1]) # We can also index strings\n",
    "\n",
    "print(\"=====\\nA larger example...\") # \\n in strings denotes a new line (\\t a tab)\n",
    "\n",
    "# Summing two lists together\n",
    "lst1 = [1, 2, 3, 4]\n",
    "lst2 = [10, 20, 30, 40]\n",
    "new_lst = []\n",
    "\n",
    "for index in range(len(lst1)):\n",
    "    # Looping through the indices of a list is super helpful, and a common pattern in Python\n",
    "    new_element = lst1[index] + lst2[index]\n",
    "    new_lst.append(new_element)\n",
    "\n",
    "print(new_lst)"
   ]
  },
  {
   "cell_type": "markdown",
   "metadata": {},
   "source": [
    "#### Slicing\n",
    "What if we're not interested in just a single element from a list, but rather a segment from that list? Introducing *slicing*.\n",
    "\n",
    "Remember when we covered the `range` object? We mentioned that the options for range are `range(start, stop, step)` where `start` indicates the start point of our count, `stop` the end point, and `step` being the interval between each point in the sequence. We also mentioned that the interval is **closed on start** (meaning it includes start) and **open on stop** meaning the sequence excludes stop (eg. the last element in `range(0, 5, 1)` is `4`).\n",
    "\n",
    "Well, slicing works in a very very similar way to the range object. We specify our slice by using `:` while indexing, where we can slice a list from from `start` (inclusive) to `stop` (exclusive) by using `lst[start:stop]`. This concept takes some practice to get used to.\n",
    "\n",
    "If we ommit `start` or `stop`, Python will assume we want to slice to the beginning or end of the list respectively."
   ]
  },
  {
   "cell_type": "code",
   "execution_count": null,
   "metadata": {},
   "outputs": [],
   "source": [
    "lst = [\"first\", \"second\", \"third\", \"fourth\", \"fifth\"] # A list of positions\n",
    "# Slices from index 1 (the \"second\" element) to index 3 (the \"fourth element\") however doesn't index 3 in the final list\n",
    "print(lst[1:3])\n",
    "\n",
    "print(lst[:2]) # Slices from the beginning of the list to index 2 (exclusive, so final list includes indices 0 and 1)\n",
    "print(lst[2:]) # Slices from index 2 (the \"third\" element) to the end of the list\n",
    "print(lst[:]) # We can even ommit both end points! This will give the list in its entirity\n",
    "\n",
    "print(lst[1:-1]) # We can also use negative indices. This slices from index 1 to the last element (but doesn't include it)\n",
    "\n",
    "start = 2\n",
    "print(lst[a:a+2]) # We can also put expressions/calculations in the `start` or `stop`\n",
    "\n",
    "print(\"Experiment for yourself with slicing!\")"
   ]
  },
  {
   "cell_type": "markdown",
   "metadata": {},
   "source": [
    "You may note a couple things from above:\n",
    "- `lst[start:stop]` will always have a list length of `stop-start`\n",
    "- `lst[a:a]` will give an empty list\n",
    "- if we have `lst[a:b] + lst[b:c]` that will give exactly `lst[a:c]`. Similarly `lst[:a] + lst[a:]` gives the original `lst`\n",
    "\n",
    "Of course, slicing also works for strings and other data types.\n",
    "\n",
    "Theres one last part to the story that will complete the comparison of slicing to the `range` object. We can specify a step using a second colon (ie. `lst[start:stop:step]`). This isn't too commmon, however definitely useful when you need it. Just be sure you're thinking carefully of what your `start`, `stop` and `step` are.\n"
   ]
  },
  {
   "cell_type": "code",
   "execution_count": null,
   "metadata": {},
   "outputs": [],
   "source": [
    "lst = [\"first\", \"second\", \"third\", \"fourth\", \"fifth\", \"sixth\", \"seventh\", \"eighth\"] # A list of positions\n",
    "\n",
    "print(lst[::2]) # Slices from the beginning to the end in steps of 2 (ie. only even indices)\n",
    "print(lst[::-1]) # Quickly reverse any list or string!\n",
    "\n",
    "print(lst[1:6:2]) # Goes from index 1 (inclusive, \"second\" element) to index 6 (exclusive, \"seventh\" element) in steps of 2\n",
    "\n"
   ]
  },
  {
   "cell_type": "markdown",
   "metadata": {},
   "source": [
    "## Last but not least, my favourite Python feature (.format and f-strings)\n",
    "Sometimes in Python, we want to work with strings and format numbers into them. Whether that be to have nice error messages or log messages, or maybe to construct files paths (eg. I wanna save 1000 different plots, with `plot-number-123.png` as the file name).\n",
    "\n",
    "How would we construct string to pring using what we know so far?"
   ]
  },
  {
   "cell_type": "code",
   "execution_count": null,
   "metadata": {},
   "outputs": [],
   "source": [
    "# Example\n",
    "x = 1\n",
    "y = 2\n",
    "for i in range(10):\n",
    "    x = x*3 - y*2\n",
    "    y = y/2\n",
    "    to_print = \"The value for x is \" + str(round(x, 3)) + \" and the value for y is \" + str(round(y, 3))\n",
    "    print(to_print)"
   ]
  },
  {
   "cell_type": "markdown",
   "metadata": {},
   "source": [
    "**_Yuck_**. Imagine we had a bunch more print statements. Having to round the numbers, convert the numbers to strings, and then concatenate them would become disgusting really quick. Luckily theres a better way using the `.format` string method ([full article here](https://www.w3schools.com/python/ref_string_format.asp)).\n",
    "\n",
    "\n",
    "We'll gloss over `.format` here. There are multiple different ways to use the method, so be sure to read the article above if you're interested.\n",
    "\n",
    "`.format` looks within a string, and replaces the curly braces `{}` with whatever arguments we want. There are a few ways we can use these curly braces:\n",
    "- Specifying arguments\n",
    "    - `{}`: Have nothing in the curly braces. `.format` will slot in values in the string left to right, in order the order they are passed to the method.\n",
    "    - ...other options we won't talk about here\n",
    "- Formatting arguments\n",
    "    - `{:.2f}`: We can place a format specifier for a variable (in this case, `.2f` which rounds to 2dp). This will format whatever is inserted into the string based on what the format specifier is. Note the `:` separates the 1st option (the way we Specify arguments) from the format specifier."
   ]
  },
  {
   "cell_type": "code",
   "execution_count": null,
   "metadata": {},
   "outputs": [],
   "source": [
    "amount = 200\n",
    "name = \"John\"\n",
    "# No. of {} needs to be equal to no. of arguments passed to .format\n",
    "print(\"Hey there, I'm pretty sure you owe me ${} {}\".format(amount, name))\n",
    "\n",
    "# Redoing Example with .format\n",
    "x = 1\n",
    "y = 2\n",
    "for i in range(10):\n",
    "    x = x*3 - y*2\n",
    "    y = y/2\n",
    "    print(\"The value for x is {:.3f} and the value for y is {:.3f}\".format(x, y))"
   ]
  },
  {
   "cell_type": "markdown",
   "metadata": {},
   "source": [
    "Much nicer right?!\n",
    "\n",
    "The story gets better. Lucky us, **_there is an even better option than `.format`_**!! As of Python 3.6, we have f-strings. These are an extension to `.format` that makes it even easier for us to format strings.\n",
    "\n",
    "The way that we use them is just by placing an `f` in front of the string `f\"This is my string: {my_string}\"`.\n",
    "\n",
    "This allows us to insert variable names (or even expressions and function calls) straight into our string."
   ]
  },
  {
   "cell_type": "code",
   "execution_count": null,
   "metadata": {},
   "outputs": [],
   "source": [
    "base_folder = \"/c/Users/nick/coding/my_maths_simulation\"\n",
    "simulation_run = \"A123\"\n",
    "image_number = 20\n",
    "image_path = f\"{base_folder}/{simulation_run}/{image_number}.png\"\n",
    "print(image_path)\n",
    "# ===========\n",
    "\n",
    "from math import pi\n",
    "r = 2\n",
    "print(f\"Circle radius {r} has area {pi*r**2}.\")\n",
    "print(f\"Circle radius {r:.2f} has area {pi*r**2:.2f}.\") # Using a format specifier"
   ]
  },
  {
   "cell_type": "markdown",
   "metadata": {},
   "source": [
    "**NOTE**: Looking online you [may come accross another way to format strings](https://pyformat.info/) using `%` (eg. `\"%d %d\" % (1, 2)`). This is an outdated way of doing formatting from Python 2.7, however will still work in Python 3 and above.\n",
    "\n",
    "Extra reading: [All about .format and format speicifiers](https://www.w3schools.com/python/ref_string_format.asp) (unlock the full capacities of .format and f strings, including easily rounding to 3dp, rounding to 2sf, centering strings in a width of characters, etc)."
   ]
  },
  {
   "cell_type": "markdown",
   "metadata": {},
   "source": [
    "## Conclusion\n",
    "The goal of this workshop was to give you a solid overview of the Python landscape, while giving you a somewhat digestable intro into base Python. We have covered a lot, but Python is even more than just what I have covered.\n",
    "\n",
    "Some of the topics I've excluded are:\n",
    "- **more string methods:** Not super relevant for maths\n",
    "- **opening files in base Python:** Not super relevant for maths\n",
    "- **list comprehensions**: Amazing to know, but don't have a lot of time\n",
    "- **object oriented programming and classes:** Advanced\n",
    "- **memory addresses for lists/immutable objects:** A bit of a long explanation, and only necessary if you're working a lot with lists\n",
    "\n",
    "Coding is all about practice. The more that you practice, the better a programmer you will become. For this reason, my advice for programmers wanting to get better is to set yourself your own projects that you think are cool. The further the project is out of your comfort zone, the more you'll learn by the end of it.  \n",
    "\n",
    "Saying that, for the remaining time, lets get some more practice in!"
   ]
  },
  {
   "cell_type": "markdown",
   "metadata": {},
   "source": [
    "---\n",
    "Thats it for the workshop! As a treat for getting to the end, here are some tasty Python easter eggs which exist in base Python."
   ]
  },
  {
   "cell_type": "code",
   "execution_count": null,
   "metadata": {},
   "outputs": [],
   "source": [
    "import antigravity"
   ]
  },
  {
   "cell_type": "code",
   "execution_count": null,
   "metadata": {
    "scrolled": true
   },
   "outputs": [],
   "source": [
    "import this"
   ]
  }
 ],
 "metadata": {
  "kernelspec": {
   "display_name": "Python 3.8.9 64-bit",
   "language": "python",
   "name": "python3"
  },
  "language_info": {
   "codemirror_mode": {
    "name": "ipython",
    "version": 3
   },
   "file_extension": ".py",
   "mimetype": "text/x-python",
   "name": "python",
   "nbconvert_exporter": "python",
   "pygments_lexer": "ipython3",
   "version": "3.8.9"
  },
  "vscode": {
   "interpreter": {
    "hash": "e7022d8e2ca52013584f7e7afd986150026516a33417e09866a3b22a4e29a2a5"
   }
  }
 },
 "nbformat": 4,
 "nbformat_minor": 2
}
