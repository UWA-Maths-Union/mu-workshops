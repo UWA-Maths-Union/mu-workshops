{
 "cells": [
  {
   "cell_type": "markdown",
   "metadata": {},
   "source": [
    "# Python Series | Part 2: Scientific packages numpy and matplotlib\n",
    "**UWA Maths Union**  \n",
    "written and presented by *Nick Hodgskin*\n",
    "\n",
    "Workshop resources:\n",
    "- [Google Drive](https://drive.google.com/drive/folders/1p3_M1rep8AerlKfJIbpaAfAe-CbRU4MV?usp=sharing)\n",
    "- [GitHub](https://github.com/UWA-Maths-Union/mu-workshops) (if the Google Drive link doesn't work)\n",
    "\n",
    "---"
   ]
  },
  {
   "cell_type": "markdown",
   "metadata": {},
   "source": [
    "## Structure of these workshops\n",
    "- Workshop 1\n",
    "    - Goes over many of the foundations of Python including base Python, while still being a ~2 hour workshop\n",
    "    - Already done an intro to Python course? There will be a lot of overlap with this workshop (particularly the \"Base Python\" component)\n",
    "- Workshop 2\n",
    "    - Goes over two of the fundamental scientific computing packages (numpy and matplotlib), and how to use them in mathematical contexts.\n",
    "\n",
    "**WARNING:** This workshop assumes that you are familiar with base Python (mathematical operations, base data types, logical operations, loops, functions). If this is your first time learning Python, we would recommend first watching our workshop 1 recording.\n",
    "\n",
    "**Can't get enough Python?**:  \n",
    "There are many amazing free courses online that cover the topics in these workshops. These courses also cover `pandas` (not covered in these workshops), an amazing tool for dealing with heterogenous CSV/tabular data.\n",
    "\n",
    "- [Kaggle Learn](https://www.kaggle.com/learn): Has course modules covering topics relevant to data science (free platform)\n",
    "- [Datacamp](https://www.datacamp.com/): Has many course modules covering topics relevant to data science (paid platform; 3 month free trial with [GitHub student developer pack](https://education.github.com/pack) which also comes with many other perks (free Canva Pro, GitHub pro, etc.))\n",
    "- Coursera and EdX: Free access to thousands of online, university courses on a variety of different topics ([UWA has a license for Coursera](https://www.uwa.edu.au/education/educational-enhancement-unit/Strategic-Projects/Coursera) allowing you to get the completion certificates for free).\n",
    "- YouTube: eg. Freecodecamp, Tech with Tim, Keith Galli, Corey Schafer\n",
    "- [Awesome Python](https://github.com/vinta/awesome-python): A curated list of awesome Python packages and libraries\n",
    "\n",
    "## Disclaimer\n",
    "The focus of this workshop is to give you an idea of what is possible in Matplotlib, Numpy, as well as what is generally possible with packages like these. The goal is to learn these mathematical packages, but also to know where to find more information or where to solve problems that we are interested in. \n"
   ]
  },
  {
   "cell_type": "markdown",
   "metadata": {},
   "source": [
    "## Table of contents\n",
    "- [Python Series | Part 2: Scientific packages numpy and matplotlib](#Python-Series-|-Part-2:-Scientific-packages-numpy-and-matplotlib)\n",
    "  - [Structure of these workshops](#Structure-of-these-workshops)\n",
    "  - [Disclaimer](#Disclaimer)\n",
    "  - [Table of contents](#Table-of-contents)\n",
    "  - [Some vocabulary](#Some-vocabulary)\n",
    "- [Workshop 1 recap: Jupyter, our programming environment](#Workshop-1-recap:-Jupyter,-our-programming-environment)\n",
    "    - [IPython Notebooks](#IPython-Notebooks)\n",
    "    - [Launching Jupyter](#Launching-Jupyter)\n",
    "    - [My first notebook](#My-first-notebook)\n",
    "- [The beauty of packages](#The-beauty-of-packages)\n",
    "  - [A quick (and awesome) example](#A-quick-(and-awesome)-example)\n",
    "  - [Installing packages](#Installing-packages)\n",
    "    - [Standard vs community packages](#Standard-vs-community-packages)\n",
    "  - [Importing a package](#Importing-a-package)\n",
    "- [Numerics with `numpy`](#Numerics-with-`numpy`)\n",
    "  - [What is numpy?](#What-is-numpy?)\n",
    "  - [What is an array?](#What-is-an-array?)\n",
    "    - [Lists: Lack of elementwise operations](#Lists:-Lack-of-elementwise-operations)\n",
    "    - [Lists: An issue of space](#Lists:-An-issue-of-space)\n",
    "  - [Importing numpy](#Importing-numpy)\n",
    "  - [Our first array](#Our-first-array)\n",
    "    - [Dimensions](#Dimensions)\n",
    "    - [Mathematical operations](#Mathematical-operations)\n",
    "  - [Creating more arrays](#Creating-more-arrays)\n",
    "  - [Masking and other manipulation](#Masking-and-other-manipulation)\n",
    "  - [Advice when using numpy](#Advice-when-using-numpy)\n",
    "- [Plotting with `matplotlib`](#Plotting-with-`matplotlib`)\n",
    "  - [What is matplotlib?](#What-is-matplotlib?)\n",
    "  - [Importing Matplotlib](#Importing-Matplotlib)\n",
    "  - [The OOP API](#The-OOP-API)\n",
    "  - [A story of two APIs](#A-story-of-two-APIs)\n",
    "- [Some practice](#Some-practice)"
   ]
  },
  {
   "cell_type": "markdown",
   "metadata": {},
   "source": [
    "## Some vocabulary\n",
    "- **IDE**: Short for \"interactive development environment\". This is the app that you use to write your code (\"Notepad\" is an IDE! Just a bad one with no syntax highlighting, or button to run code).\n",
    "- **Python interpretter**: This is the Python engine that executes your Python file. When we \"install Python\" (from the [Python website](https://www.python.org/downloads/), we are installing the Python interpretter. Anaconda comes with its own Python interpretter packaged in.\n",
    "- **Packages**: Code written by others geared towards solving specific tasks. They can be thought of as \"mods\" which extend the capabilities of base Python.\n",
    "- **alias**: Usually when importing packages we give them short aliases (like `np`) in order to make them quicker to write.\n",
    "- **PyPI**: Python Package Index, this is the online repository where packages are stored.\n",
    "- **pip**: The de-facto command line tool used to install Python packages, which are often downloaded by pip from PyPI. Stands for \"pip installs packages\" (cool hey! A recursive acryonym).\n",
    "- **Anaconda**: An installation of Python that comes with all the common scientific computing packages already installed. Anaconda also comes with conda, a command line tool comparable to pip for installing packages.\n",
    "- **API**: Application programming interface. In the context of packages, the API is the interface for the package (the instructions you can use to interact with the package). Packages often come with an API reference (documentation about functions and commands related to that package).\n",
    "- **Refactor**: The act of rewriting or reorganising code in order to make it neater, easier to understand, or more efficient, without affecting the result from the code execution.\n",
    "  \n",
    "---\n",
    "- **[Jupyter](https://jupyter.org/about)**: An open source, non-profit project supporting interactive data science and scientific computing. Two major contributions from this project are the Jupyter Notebook and Jupyter Lab applications. Since Jupyter Notebook and Jupyter Lab are similar in functionality, we can use Jupyter to refer to either of them.\n",
    "- **iPython Notebook**: A file format that contains a mixture of markdown text (paragraphs, tables, images) as well as executable code. The file extension for this file is `.ipynb`.\n",
    "- **Jupyter Notebook**: An application developped by Jupyter used to edit, view and run iPython notebooks. \"A jupyter notebook\" can also refer to an iPython notebook.\n",
    "- **Jupyter Lab**: An application developped by Jupyter as a successor to Jupyter Notebook. It is also used to edit, view and run iPython notebooks, however has more features (particularly around viewing several notebooks, viewing your folder structure, and editting other files). This makes Jupyter Lab a more capable IDE.\n",
    "---\n",
    "- **OOP**: Object Oriented Programming. This is when code is written in a way that makes reference to objects in the code. These objects can also interact with each other. Eg. Matplotlib works off figures, which have one or more axes associated with them. By referencing the axes, we can plot directly on them and modify them.\n",
    "- **array**: A homogenous, gridded data type that has one or more dimensions. Homogenous meaning that each entry in the array takes the same amount of space as the other entries.\n",
    "\n"
   ]
  },
  {
   "cell_type": "markdown",
   "metadata": {},
   "source": [
    "# Workshop 1 recap: Jupyter, our programming environment\n",
    "Let's go through some information covered in the last workshop that is particularly relevant to this workshop.\n",
    "\n",
    "### IPython Notebooks\n",
    "IPython Notebooks (ending in `.ipynb`) are different to Python script files (ending in `.py`). With `.py` files we just click \"play\" to run the script from the top to the bottom. With `.ipynb` files we can interactively run blocks of code, and even interleave it with formatted text (this doccument is a `.ipynb` file!).\n",
    "\n",
    "### Launching Jupyter\n",
    "There are many different IDEs we can use to edit iPython notebooks. In [workshop 0](https://statuesque-bubbler-6af.notion.site/05daea2a53594b578b3b920a6b1095c2) we went through these IDEs. Some are:\n",
    "- Jupyter Lab\n",
    "- Jupyter Notebook (my choice today)\n",
    "- Google Colab (online environment. Right click in your Google Drive > More > Google Collaboratory)\n",
    "- VScode\n",
    "\n",
    "If you have Anaconda installed, search for \"Anaconda Navigator\". Here you can launch Jupyter Notebook or Jupyter Lab. If your installation is correctly configured, you can also launch from the terminal by typing `jupyter notebook` or `jupyter lab`. Having issues or don't have Anaconda? Use Google Colab.\n",
    "\n",
    "**NOTE:** If you don't have anaconda installed, just use Google Colab.\n",
    "- Copy these notebooks into your personal Google Drive\n",
    "- Right click, and select \"Connect more apps\"\n",
    "- Search Google Colab and enable\n",
    "- Now open the notebooks and they should open in Google Colab\n",
    "\n",
    "### My first notebook\n",
    "A notebook consists of cells/blocks that are either markdown or code.\n",
    "Live showcase time:\n",
    "- Two scopes: Navigating cells vs navigating in a cell\n",
    "- Using the GUI\n",
    "- Using shortcuts (Help > Keyboard shortcuts)\n",
    "    - Ctrl+Enter: Run current cell\n",
    "    - Ctrl+/: Comment out blocks of code\n",
    "    - Shift+Enter: Run and focus next cell\n",
    "    - DD: delete cell\n",
    "    - A: Insert cell above\n",
    "    - B: Insert cell below\n",
    "    - Shift+Tab: **Function help documentation**\n",
    "- Running code (Jupyter remembers all)\n",
    "    - Resetting the kernel\n"
   ]
  },
  {
   "cell_type": "markdown",
   "metadata": {},
   "source": [
    "# The beauty of packages\n",
    "So, what is a package? Just like you have \"mods\" for video games, a package can be thought of as a mod for Python. Packages are bundles of code that change the bahaviour of Python, and **extend** its base functionality. Packages are oriented around solving particular classes of problems really well (\"problem\" here could mean literally anything from doing maths, to downloading and editting YouTube videos).\n",
    "\n",
    "You might be thinking \"ok then, what can be done with Python packages?\". Glad you asked!\n",
    "- `numpy`: Optimised, array based maths within Python\n",
    "- `pandas`: Working with tabular data (CSVs, tables)\n",
    "- `matplotlib`, `seaborn`, `altair`: Plotting\n",
    "- `scipy`: Scientific algorithms\n",
    "- `beautifulsoup`: Parsing and working with HTML files\n",
    "- `selenium`: Browsing websites programmatically\n",
    "- `docx`: Working with Microsoft Word files\n",
    "- `pillow`: Working with images\n",
    "- `tensorflow`, `keras`, `pytorch`: Machine learning\n",
    "- `manim`: Making mathematical animations in Python (3Blue1Brown's package!)\n",
    "- `moviepy`: Edditing videos with Python\n",
    "- `notebook`: Jupyter Notebook! An environment for editting and running `.ipynb` files\n",
    "- and many more!\n",
    "\n",
    "There are literally thousands of packages to do almost anything. Have a browse of [Awesome Python](https://github.com/vinta/awesome-python) (a curated list of awesome Python packages) to find more.\n",
    "\n",
    "\n",
    "The absolutely amazing thing with packages is that they are open source meaning that anyone can look at and contribute to the code (often these codebases are hosted on GitHub, but GitHub and Git are stories for another day). Packages are used and developped by whole communities of people. Taking a look at the [numpy GitHub](https://github.com/numpy/numpy) we can see there are 1.1m users (likely an underestimate) and over 1,300 contributors to the code. This means that the code is very well refined, optimised, and bugs are weeded out.\n",
    "\n",
    "---\n",
    "\n",
    "## A quick (and awesome) example\n",
    "For example, you might want to have a progress bar in your code to see how its progressing. How could we do that?\n",
    "Well, `tqdm` can help (its a package that just adds a customisable progress bar)."
   ]
  },
  {
   "cell_type": "code",
   "execution_count": 1,
   "metadata": {},
   "outputs": [
    {
     "name": "stderr",
     "output_type": "stream",
     "text": [
      "100%|██████████| 100/100 [00:06<00:00, 15.97it/s]\n"
     ]
    }
   ],
   "source": [
    "from tqdm import tqdm # ie. \"from the `tqdm` package, import the `tqdm` function\" (confusing naming the function the same as the package, I know)\n",
    "import time # Import the time module\n",
    "\n",
    "\n",
    "for i in tqdm(range(100)): # tqdm can turn any for loop into a progress bar\n",
    "    time.sleep(0.05) # Don't do anything for 0.05s"
   ]
  },
  {
   "cell_type": "markdown",
   "metadata": {},
   "source": [
    "## Installing packages\n",
    "### Standard vs community packages\n",
    "We have base Python which comes with the standard library of Python packages (such as `os`, `random`, `math`, `time`, `csv`, `gzip` and [others](https://docs.python.org/3/library/)). These packages are built into Python 3; if you install Python you have access to these packages by default. If you've done an introductory Python unit, you'd likely be familiar with some of these packages.\n",
    "\n",
    "We also have thousands of community made packages (such as those listed above). These are installed using the tool `pip` through the command line, which then downloads the package from `PyPI` (the [Python Package Index](https://pypi.org/)). Lucky for us, if we're using Anaconda or an online environment, a lot of scientific packages come pre-installed. We can see our installed packages by running `!pip list`.\n",
    "\n",
    "---\n",
    "Lucky for us, by installing Anaconda we installed Python as well as a bunch of popular scientific packages (hence we don't need to do additional installing).\n",
    "\n",
    "If you want to install a package you don't have, you can run `pip install package_name` in the terminal. In order to find the correct `package_name` for the package you want, you might want to look on the [PyPI website](https://pypi.org/).\n",
    "\n",
    "Lets see what packages we have in our environment."
   ]
  },
  {
   "cell_type": "code",
   "execution_count": 2,
   "metadata": {},
   "outputs": [
    {
     "name": "stdout",
     "output_type": "stream",
     "text": [
      "Package               Version             Location\n",
      "--------------------- ------------------- -------------------------------------------\n",
      "appdirs               1.4.4\n",
      "argon2-cffi           21.3.0\n",
      "argon2-cffi-bindings  21.2.0\n",
      "asttokens             2.0.5\n",
      "attrs                 21.4.0\n",
      "autopep8              1.6.0\n",
      "backcall              0.2.0\n",
      "black                 22.1.0\n",
      "bleach                4.1.0\n",
      "certifi               2021.10.8\n",
      "cffi                  1.15.0\n",
      "charset-normalizer    2.0.12\n",
      "click                 8.0.4\n",
      "colorama              0.4.4\n",
      "cycler                0.11.0\n",
      "debugpy               1.5.1\n",
      "decorator             5.1.1\n",
      "defusedxml            0.7.1\n",
      "delft3d-toolbox       0.0.1               c:\\users\\nickh\\oceans\\repos\\delft3d-toolbox\n",
      "entrypoints           0.4\n",
      "et-xmlfile            1.1.0\n",
      "executing             0.8.2\n",
      "fonttools             4.29.1\n",
      "htmlmin               0.1.12\n",
      "idna                  3.3\n",
      "ImageHash             4.2.1\n",
      "importlib-metadata    4.12.0\n",
      "importlib-resources   5.4.0\n",
      "ipykernel             6.9.1\n",
      "ipython               8.0.1\n",
      "ipython-genutils      0.2.0\n",
      "ipywidgets            7.6.5\n",
      "jedi                  0.18.1\n",
      "Jinja2                3.0.3\n",
      "joblib                1.0.1\n",
      "jsonschema            4.4.0\n",
      "jupyter-client        7.1.2\n",
      "jupyter-core          4.9.2\n",
      "jupyter-http-over-ws  0.0.8\n",
      "jupyterlab-pygments   0.1.2\n",
      "jupyterlab-widgets    1.0.2\n",
      "kiwisolver            1.3.2\n",
      "loguru                0.6.0\n",
      "MarkupSafe            2.0.1\n",
      "matplotlib            3.5.1\n",
      "matplotlib-inline     0.1.3\n",
      "missingno             0.5.0\n",
      "mistune               0.8.4\n",
      "multimethod           1.7\n",
      "mypy-extensions       0.4.3\n",
      "nbclient              0.5.11\n",
      "nbconvert             6.4.2\n",
      "nbformat              5.1.3\n",
      "nest-asyncio          1.5.4\n",
      "networkx              2.6.3\n",
      "notebook              6.4.8\n",
      "numpy                 1.22.2\n",
      "openpyxl              3.0.10\n",
      "p2j                   1.3.2\n",
      "packaging             21.3\n",
      "pandas                1.4.1\n",
      "pandas-profiling      3.1.0\n",
      "pandocfilters         1.5.0\n",
      "parso                 0.8.3\n",
      "pathspec              0.9.0\n",
      "phik                  0.12.0\n",
      "pickleshare           0.7.5\n",
      "Pillow                9.0.1\n",
      "pip                   20.2.3\n",
      "platformdirs          2.5.1\n",
      "prometheus-client     0.13.1\n",
      "prompt-toolkit        3.0.28\n",
      "pure-eval             0.2.2\n",
      "pycodestyle           2.8.0\n",
      "pycparser             2.21\n",
      "pydantic              1.9.0\n",
      "pyee                  8.2.2\n",
      "Pygments              2.11.2\n",
      "pyparsing             3.0.7\n",
      "pyppeteer             1.0.2\n",
      "pyproj                3.3.1\n",
      "pyrsistent            0.18.1\n",
      "python-dateutil       2.8.2\n",
      "pytz                  2021.3\n",
      "PyWavelets            1.2.0\n",
      "pywin32               303\n",
      "pywinpty              2.0.2\n",
      "PyYAML                6.0\n",
      "pyzmq                 22.3.0\n",
      "requests              2.27.1\n",
      "scipy                 1.8.0\n",
      "seaborn               0.11.2\n",
      "Send2Trash            1.8.0\n",
      "setuptools            49.2.1\n",
      "six                   1.16.0\n",
      "stack-data            0.2.0\n",
      "tangled-up-in-unicode 0.1.0\n",
      "terminado             0.13.1\n",
      "testpath              0.5.0\n",
      "toml                  0.10.2\n",
      "tomli                 2.0.1\n",
      "tornado               6.1\n",
      "tqdm                  4.62.3\n",
      "traitlets             5.1.1\n",
      "typing-extensions     4.1.1\n",
      "urllib3               1.26.8\n",
      "UTide                 0.3.1.dev7+gb2bd836\n",
      "visions               0.7.4\n",
      "wcwidth               0.2.5\n",
      "webencodings          0.5.1\n",
      "websockets            10.3\n",
      "widgetsnbextension    3.5.2\n",
      "win32-setctime        1.1.0\n",
      "zipp                  3.7.0\n"
     ]
    },
    {
     "name": "stderr",
     "output_type": "stream",
     "text": [
      "WARNING: You are using pip version 20.2.3; however, version 22.2.2 is available.\n",
      "You should consider upgrading via the 'c:\\users\\nickh\\appdata\\local\\programs\\python\\python38\\python.exe -m pip install --upgrade pip' command.\n"
     ]
    }
   ],
   "source": [
    "# the ! tells Jupyter we're running a command-line command, and not Python code\n",
    "!pip list"
   ]
  },
  {
   "cell_type": "markdown",
   "metadata": {},
   "source": [
    "## Importing a package\n",
    "To import a package that is already installed, we can write:\n",
    "```py\n",
    "import package_name\n",
    "```\n",
    "From here, we can access the functions from the package just by prefixing the functions with `package_name` (eg. `package_name.calculate_pi()`). This isn't fantastic though, since having to write `package_name` everytime we want to use anything from the package is tedious. As such, we can *alias* a package using the `as` keyword:\n",
    "\n",
    "```py\n",
    "import package_name as pn\n",
    "```\n",
    "Now we don't access the package using `package_name`, but we use `pn` (eg. so `package_name.calculate_pi()` becomes `pn.calculate_pi()`).\n",
    "\n",
    "We can also import specific functions from a package, by using the `from` keyword:\n",
    "```py\n",
    "from package_name import calculate_pi\n",
    "```\n",
    "Now, we don't even need the prefix and we can just write `calculate_pi()` as if we wrote the function ourself."
   ]
  },
  {
   "cell_type": "markdown",
   "metadata": {},
   "source": [
    "# Numerics with `numpy`\n",
    "## What is numpy?\n",
    "What better way to find out what numpy is than looking at the [numpy documentation](https://numpy.org/doc/stable).\n",
    "\n",
    "## What is an array?\n",
    "In the documentation, we read\n",
    "> \\[Numpy\\] provides a multidimensional array object\n",
    "\n",
    "but what is an array? To answer that, lets first look at the Python list.\n",
    "\n",
    "---\n",
    "If you've done an intro to Python unit, you'll be familiar with lists, its uses and its downfalls.\n",
    "\n",
    "**The crux of the issue is you can put anything in a list.**"
   ]
  },
  {
   "cell_type": "markdown",
   "metadata": {},
   "source": [
    "### Lists: Lack of elementwise operations\n",
    "Since we can put anything in a list, we can mix and match elements in a way that element-wise operations don't make sense. What does it mean to do `2 * lst` if not all elements in the list are numbers?\n",
    "\n",
    "```py\n",
    "2 * [1, 2, \"hello\"] # Doesn't make sense to interpret as a vector\n",
    "\n",
    "```\n",
    "\n",
    "In previous units, you may have even nested lists within lists in order to represent a matrix.\n",
    "\n",
    "```\n",
    "[[1,2,3],[4,5,6],[7,8,9]]\n",
    "           \n",
    "      represents...\n",
    "       |1  2  3|\n",
    "       |4  5  6|\n",
    "       |7  8  9|\n",
    "\n",
    "```\n",
    "\n",
    "But what if the second list is of length 4? Now suddenly we have some rows which are longer than others, which makes no sense for matrices.\n",
    "\n",
    "### Lists: An issue of space\n",
    "Lists are versatile and can house any data type in each of its indices. This means that each index can have different space requirements. Since a list is a mutable type, the item at an index can change resulting in different space requirements as we work with them.\n",
    "\n",
    "So how does a list work under the hood?\n",
    "\n",
    "Take the below example:"
   ]
  },
  {
   "cell_type": "code",
   "execution_count": 3,
   "metadata": {},
   "outputs": [],
   "source": [
    "import requests\n",
    "url = \"https://gist.githubusercontent.com/MattIPv4/045239bc27b16b2bcf7a3a9a4648c08a/raw/2411e31293a35f3e565f61e7490a806d4720ea7e\"\n",
    "string = requests.get(url).content.decode(\"utf-8\")\n",
    "# ^^^ Ignore this above ^^^ (not important to understand)\n",
    "\n",
    "my_lst = [72.1, False, 72]\n",
    "my_lst[1] = string"
   ]
  },
  {
   "cell_type": "code",
   "execution_count": 4,
   "metadata": {},
   "outputs": [
    {
     "data": {
      "text/plain": [
       "72.1"
      ]
     },
     "execution_count": 4,
     "metadata": {},
     "output_type": "execute_result"
    }
   ],
   "source": [
    "my_lst[0]"
   ]
  },
  {
   "cell_type": "markdown",
   "metadata": {},
   "source": [
    "Lets imagine that all the data in a list was stored next to each other in memory.\n",
    "\n",
    "![w2_list_continuous](https://user-images.githubusercontent.com/36369090/183313180-32c8f34d-86c3-4532-b61f-617a035c69c2.png)\n",
    "\n",
    "This wouldn't work, as switching out `lst[1]` for a larger item would mean that it couldn't fit.\n",
    "\n",
    "As such, lists instead use **memory addresses** to find elements. \n",
    "\n",
    "![w2_list_actual](https://user-images.githubusercontent.com/36369090/183313185-1b1e11af-578e-4371-a0c2-a90017cf9974.png)\n",
    "\n",
    "These memory addresses tell Python where to find the full item. Want to assign a new item? Python just throws the item in a free spot in RAM and stores the new memory address.\n",
    "\n",
    "Continually looking up memory addresses for thousands of elements gets innefficient for scientific computing.\n",
    "\n",
    "---\n",
    "\n",
    "The solutions to all these problems are arrays. Arrays can be thought of as homogenous, rectangular, multidimensional blocks of data:\n",
    "\n",
    "- Homogenous: All elements in the array are of one data type\n",
    "- Multidimensional: rather than lists that are 1D, arrays can be ND and be indexed along these different axes\n",
    "- Rectangular: the array is rectangular (no rows longer than others etc)  \n",
    "\n",
    "Problems solved:\n",
    "- Element-wise operations: No differing data types\n",
    "- Accessing elements: No need for memory addresses  \n",
    "\n",
    "Arrays don't need memory addresses, because when an array is defined (and a datatype is specified) it pre-allocates a continuous block in memory for that array. This also allows for speed improvements.\n",
    "\n",
    "\n",
    "![w2_array_actual](https://user-images.githubusercontent.com/36369090/183313186-414cad1d-b35d-4b5f-9ca2-56f403add590.png)\n"
   ]
  },
  {
   "cell_type": "markdown",
   "metadata": {},
   "source": [
    "## Importing numpy\n",
    "To import numpy, we often write:\n",
    "```py\n",
    "import numpy as np\n",
    "```"
   ]
  },
  {
   "cell_type": "code",
   "execution_count": 5,
   "metadata": {},
   "outputs": [],
   "source": [
    "import numpy as np\n",
    "import matplotlib.pyplot as plt # To be used later\n",
    "import matplotlib as mpl"
   ]
  },
  {
   "cell_type": "markdown",
   "metadata": {},
   "source": [
    "## Our first array\n",
    "Lets create our first array, and take a look at it."
   ]
  },
  {
   "cell_type": "code",
   "execution_count": 6,
   "metadata": {},
   "outputs": [
    {
     "data": {
      "text/plain": [
       "array([[1, 2, 3],\n",
       "       [4, 5, 6]])"
      ]
     },
     "execution_count": 6,
     "metadata": {},
     "output_type": "execute_result"
    }
   ],
   "source": [
    "array = np.array([[1,2,3], [4,5,6]])\n",
    "array"
   ]
  },
  {
   "cell_type": "code",
   "execution_count": 7,
   "metadata": {},
   "outputs": [
    {
     "name": "stdout",
     "output_type": "stream",
     "text": [
      "int32\n",
      "(2, 3)\n",
      "6\n",
      "2\n"
     ]
    }
   ],
   "source": [
    "# Useful properties to look at an array\n",
    "print(array.dtype) # Get the data type of the array\n",
    "print(array.shape) # The shape of the array: (rows, cols)\n",
    "print(array.size) # The number of elements in the array\n",
    "print(array.ndim) # The number of dimensions of the array\n"
   ]
  },
  {
   "cell_type": "markdown",
   "metadata": {},
   "source": [
    "### Dimensions\n",
    "We refer to the number of dimensions/axes of an array as its `ndim`. For a 2D array the first axis **(axis 0)** corresponds with the row, and the second axis **(axis 1)** corresponds with the column. This is useful to know, because we may want to apply operations like `sum` or `mean` along a chosen axis.\n",
    "\n",
    "Similar to a list, we can slice out sections of the array by using the `:` operator."
   ]
  },
  {
   "cell_type": "code",
   "execution_count": 8,
   "metadata": {},
   "outputs": [
    {
     "name": "stdout",
     "output_type": "stream",
     "text": [
      "[[1 2]\n",
      " [4 5]]\n",
      "[4 5 6]\n"
     ]
    }
   ],
   "source": [
    "print(array[:, :2]) # Get the first two columns (getting all rows)\n",
    "print(array[-1, :]) # Last row"
   ]
  },
  {
   "cell_type": "markdown",
   "metadata": {},
   "source": [
    "### Mathematical operations\n",
    "We can do element-wise mathematical operations with matrices."
   ]
  },
  {
   "cell_type": "code",
   "execution_count": 9,
   "metadata": {},
   "outputs": [
    {
     "name": "stdout",
     "output_type": "stream",
     "text": [
      "array =\n",
      "[[1 2 3]\n",
      " [4 5 6]]\n",
      "array * 2 =\n",
      "[[ 2  4  6]\n",
      " [ 8 10 12]]\n",
      "array + 2 =\n",
      "[[3 4 5]\n",
      " [6 7 8]]\n",
      "array - 2 =\n",
      "[[-1  0  1]\n",
      " [ 2  3  4]]\n",
      "array / 2 =\n",
      "[[0.5 1.  1.5]\n",
      " [2.  2.5 3. ]]\n",
      "array ** 2 =\n",
      "[[ 1  4  9]\n",
      " [16 25 36]]\n"
     ]
    }
   ],
   "source": [
    "print(f\"array =\\n{array}\") # Print the array\n",
    "print(f\"array * 2 =\\n{array * 2}\") # Multiply each element by 2\n",
    "print(f\"array + 2 =\\n{array + 2}\") # Add 2 to each element\n",
    "print(f\"array - 2 =\\n{array - 2}\") # Subtract 2 from each element\n",
    "print(f\"array / 2 =\\n{array / 2}\") # Divide each element by 2\n",
    "print(f\"array ** 2 =\\n{array ** 2}\") # Raise each element to the power of 2"
   ]
  },
  {
   "cell_type": "code",
   "execution_count": 10,
   "metadata": {},
   "outputs": [
    {
     "name": "stdout",
     "output_type": "stream",
     "text": [
      "array + array =\n",
      "[[ 2  4  6]\n",
      " [ 8 10 12]]\n",
      "array - array =\n",
      "[[0 0 0]\n",
      " [0 0 0]]\n",
      "array * array =\n",
      "[[ 1  4  9]\n",
      " [16 25 36]]\n",
      "array @ array.T =\n",
      "[[14 32]\n",
      " [32 77]]\n"
     ]
    }
   ],
   "source": [
    "# We can also multiply arrays together\n",
    "print(f\"array + array =\\n{array + array}\") # Add each element of the array to the corresponding element of the other array\n",
    "print(f\"array - array =\\n{array - array}\") # Subtract each element of the array from the corresponding element of the other array\n",
    "print(f\"array * array =\\n{array * array}\") # Multiply each element by each other (NOT matrix multiplication)\n",
    "print(f\"array @ array.T =\\n{array @ array.T}\") # Matrix multiplication (.T transposes the array)\n"
   ]
  },
  {
   "cell_type": "markdown",
   "metadata": {},
   "source": [
    "We can even use mathematical functions for a whole array! Check out a list of them [over here](https://numpy.org/doc/stable/reference/routines.math.html). When working with arrays, make sure the function you use supports arrays (ie. use `numpy.sin` instead of `math.sin` which doesn't support arrays).\n",
    "\n",
    "- `np.sin(arr)`\n",
    "- `np.cos(arr)`\n",
    "- `np.tan(arr)`\n",
    "- `np.exp(arr)`\n",
    "- `np.log10(arr)`\n",
    "- `np.abs(arr)`\n",
    "- `np.degrees(arr)`: Convert radians to degrees\n",
    "- `np.radians(arr)`: Convert degrees to radians\n",
    "- ...\n",
    "\n",
    "We also have aggregation functions, which are useful for summarizing data.\n",
    "- `np.mean(arr)`\n",
    "- `np.sum(arr)`\n",
    "- `np.min(arr)`\n",
    "- `np.max(arr)`\n",
    "- `np.std(arr)`\n",
    "\n",
    "The aggregation functions above can also be accessed quickly by typing `arr.min()`. Whats more is that we can aggregate along a specific axis/dimension by typing `arr.min(axis=0)` (which will find the minimum for each column; ie. the minimum along the rows/axis 0)."
   ]
  },
  {
   "cell_type": "code",
   "execution_count": 11,
   "metadata": {},
   "outputs": [
    {
     "name": "stdout",
     "output_type": "stream",
     "text": [
      "[[1 2 3]\n",
      " [4 5 6]]\n",
      "[2.5 3.5 4.5]\n",
      "1\n"
     ]
    },
    {
     "data": {
      "text/plain": [
       "array([[-1.46385011, -0.87831007, -0.29277002],\n",
       "       [ 0.29277002,  0.87831007,  1.46385011]])"
      ]
     },
     "execution_count": 11,
     "metadata": {},
     "output_type": "execute_result"
    }
   ],
   "source": [
    "# Methods for an array\n",
    "print(array)\n",
    "print(array.mean(axis=0)) # np.mean(array) also works. axis=0 means \"get the minimum of each column\" (ie. along the rows)\n",
    "print(array.min()) # np.min(array) also works\n",
    "\n",
    "# Standardizing an array\n",
    "# Formula: Z = (X - mean(X)) / std(X)\\\n",
    "Z = (array - array.mean()) / array.std()\n",
    "Z_column_wise = (array - array.mean(axis=0)) / array.std(axis=0) # Standardize each column separately\n",
    "\n",
    "Z"
   ]
  },
  {
   "cell_type": "markdown",
   "metadata": {},
   "source": [
    "## Creating more arrays\n",
    "There are many functions in numpy that we can use to create arrays! Note that some of these functions default to having `np.float64` as the data type if not explicitly given (check the documentation for each function).\n",
    "\n",
    "- `np.zeros((a, b))`: Create an axb (a rows, b cols) array of zeros\n",
    "- `np.ones((a, b))`: `...` of ones\n",
    "- `np.full((a, b), fill_value)`: `...` array composed of fill_value\n",
    "- `np.random.rand(shape)`: `...` of random numbers (uniform between 0 and 1)\n",
    "- `np.random.randn(shape)`: `...` of random numbers (normal distribution)\n",
    "---\n",
    "- `np.zeros_like(array)`: Create an array of zeros with the same shape (and data type) as another array\n",
    "- `np.ones_like(array)`\n",
    "- `np.full_like(array, fill_value)`\n",
    "---\n",
    "- `np.arange(start, stop, step)`: Create an array of evenly spaced values that go up by `step`. Number of elements is `(stop - start) / step`\n",
    "- `np.linspace(start, stop, num)`: Create an array of `num` evenly spaced numbers between start and stop (inclusive). Exclude the end by setting `endpoint=False`."
   ]
  },
  {
   "cell_type": "code",
   "execution_count": 12,
   "metadata": {},
   "outputs": [
    {
     "data": {
      "text/plain": [
       "array([[5., 5., 5., 5.],\n",
       "       [5., 5., 5., 5.],\n",
       "       [5., 5., 5., 5.],\n",
       "       [5., 5., 5., 5.]])"
      ]
     },
     "execution_count": 12,
     "metadata": {},
     "output_type": "execute_result"
    }
   ],
   "source": [
    "array = np.zeros((4,4))\n",
    "ones_like = np.ones_like(array) # Create an array of ones with the same shape as array\n",
    "full_like = np.full_like(array, 5.0) # Create an array of 5.0s with the same shape as array\n",
    "\n",
    "full_like"
   ]
  },
  {
   "cell_type": "code",
   "execution_count": 13,
   "metadata": {},
   "outputs": [
    {
     "data": {
      "text/plain": [
       "array([0. , 0.5, 1. , 1.5, 2. , 2.5, 3. , 3.5, 4. , 4.5, 5. , 5.5, 6. ,\n",
       "       6.5, 7. , 7.5, 8. , 8.5, 9. , 9.5])"
      ]
     },
     "execution_count": 13,
     "metadata": {},
     "output_type": "execute_result"
    }
   ],
   "source": [
    "x =  np.linspace(0, 100, 15) # Create a 15-element array of evenly spaced numbers between 0 and 100\n",
    "arange = np.arange(0, 10, 0.5) # Create an array of evenly spaced numbers between 0 and 10 (step 2)\n",
    "arange"
   ]
  },
  {
   "cell_type": "markdown",
   "metadata": {},
   "source": [
    "From what we have covered so far, we can quickly create arrays of any shape and apply any formula we want to them! Compare this to what we would have had to do with a bunch of for loops to create the same array/list."
   ]
  },
  {
   "cell_type": "code",
   "execution_count": 14,
   "metadata": {},
   "outputs": [
    {
     "name": "stdout",
     "output_type": "stream",
     "text": [
      "[ 0.          0.25641026  0.51282051  0.76923077  1.02564103  1.28205128\n",
      "  1.53846154  1.79487179  2.05128205  2.30769231  2.56410256  2.82051282\n",
      "  3.07692308  3.33333333  3.58974359  3.84615385  4.1025641   4.35897436\n",
      "  4.61538462  4.87179487  5.12820513  5.38461538  5.64102564  5.8974359\n",
      "  6.15384615  6.41025641  6.66666667  6.92307692  7.17948718  7.43589744\n",
      "  7.69230769  7.94871795  8.20512821  8.46153846  8.71794872  8.97435897\n",
      "  9.23076923  9.48717949  9.74358974 10.        ]\n",
      "[2.         2.06431794 2.24072456 2.48383542 2.73110498 2.91891775\n",
      " 2.99895483 2.95062492 2.78636196 2.54842615 2.29803167 2.09959793\n",
      " 2.00417633 2.03631615 2.18774872 2.41951473 2.67198732 2.88021243\n",
      " 2.99061963 2.97480426 2.83683517 2.61220791 2.35871272 2.14156676\n",
      " 2.01663554 2.01606034 2.13998914 2.35653856 2.60999656 2.83515555\n",
      " 2.97408848 2.99105185 2.88168145 2.67411519 2.42175402 2.18952333\n",
      " 2.03716951 2.0038889  2.09824366 2.29595897]\n"
     ]
    }
   ],
   "source": [
    "x = np.linspace(0, 10, 40) # Create an array of 40 evenly spaced numbers between 0 and 10 (inclusive)\n",
    "y = np.sin(x)**2 + 2 # Create an array of sin(x)^2 + 2\n",
    "print(x)\n",
    "print(y)"
   ]
  },
  {
   "cell_type": "markdown",
   "metadata": {},
   "source": [
    "If we tried to do the exact same thing in base Python, we can see that we need a lot more code."
   ]
  },
  {
   "cell_type": "code",
   "execution_count": 15,
   "metadata": {},
   "outputs": [
    {
     "name": "stdout",
     "output_type": "stream",
     "text": [
      "[0.0, 0.2564102564102564, 0.5128205128205128, 0.7692307692307692, 1.0256410256410255, 1.282051282051282, 1.5384615384615383, 1.7948717948717947, 2.051282051282051, 2.3076923076923075, 2.564102564102564, 2.8205128205128203, 3.0769230769230766, 3.333333333333333, 3.5897435897435894, 3.846153846153846, 4.102564102564102, 4.358974358974359, 4.615384615384615, 4.871794871794871, 5.128205128205128, 5.384615384615384, 5.6410256410256405, 5.897435897435897, 6.153846153846153, 6.41025641025641, 6.666666666666666, 6.9230769230769225, 7.179487179487179, 7.435897435897435, 7.692307692307692, 7.948717948717948, 8.205128205128204, 8.46153846153846, 8.717948717948717, 8.974358974358974, 9.23076923076923, 9.487179487179485, 9.743589743589743, 10.0]\n",
      "[2.0, 2.064317936089396, 2.240724556746386, 2.483835422958319, 2.731104978102568, 2.9189177524006475, 2.998954825796254, 2.950624920803624, 2.7863619563848463, 2.5484261519292892, 2.2980316668943583, 2.0995979272225096, 2.0041763272585182, 2.036316148474512, 2.187748723002912, 2.4195147282422353, 2.671987319741773, 2.8802124334839596, 2.9906196312372857, 2.9748042606461205, 2.836835169690114, 2.6122079070669497, 2.3587127204619573, 2.1415667587192546, 2.0166355421965925, 2.016060342893471, 2.1399891433379574, 2.3565385648635564, 2.6099965600547503, 2.8351555483673248, 2.974088484120315, 2.9910518485838287, 2.881681447392164, 2.674115194440991, 2.4217540216968225, 2.1895233282796784, 2.0371695097783595, 2.0038888988382375, 2.0982436562891644, 2.295958969093304]\n"
     ]
    }
   ],
   "source": [
    "# Using lists (yuck)\n",
    "import math\n",
    "start = 0\n",
    "stop = 10\n",
    "n = 40\n",
    "step = (stop - start)/(n - 1) # n-1 so that the endpoint is kept\n",
    "\n",
    "x_list = []\n",
    "y_list = []\n",
    "for i in range(40):\n",
    "    x_list.append(start + i*step)\n",
    "for x_element in x_list:\n",
    "    y_list.append(math.sin(x_element)**2 + 2)\n",
    "\n",
    "print(x_list)\n",
    "print(y_list)"
   ]
  },
  {
   "cell_type": "markdown",
   "metadata": {},
   "source": [
    "## Masking and other manipulation\n",
    "In numpy, sometimes we want to reach inside an array to manipulate its elements. For this, we can use masking.\n",
    "\n",
    "Masking gives us another way of indexing arrays, but instead of an index, we use an array **(of the same shape)** of booleans. "
   ]
  },
  {
   "cell_type": "code",
   "execution_count": 16,
   "metadata": {},
   "outputs": [
    {
     "name": "stdout",
     "output_type": "stream",
     "text": [
      "[0.  2.5 5.  7.5]\n",
      "[ True False  True False]\n",
      "[-999.     2.5 -999.     7.5]\n"
     ]
    }
   ],
   "source": [
    "array = np.linspace(0, 10, 4, endpoint=False) # Create an array of 4 evenly spaced numbers between 0 and 10 (exclusive)\n",
    "mask = np.array([True, False, True, False]) # Create a mask array\n",
    "\n",
    "print(array)\n",
    "print(mask)\n",
    "array[mask] = -999\n",
    "print(array)"
   ]
  },
  {
   "cell_type": "markdown",
   "metadata": {},
   "source": [
    "This array of booleans can be created using our comparison operators (which also behave elementwise!)."
   ]
  },
  {
   "cell_type": "code",
   "execution_count": 17,
   "metadata": {},
   "outputs": [
    {
     "name": "stdout",
     "output_type": "stream",
     "text": [
      "[-999.     2.5 -999.     7.5]\n",
      "[False  True False  True]\n"
     ]
    }
   ],
   "source": [
    "print(array)\n",
    "print(array >= 0)"
   ]
  },
  {
   "cell_type": "code",
   "execution_count": 18,
   "metadata": {},
   "outputs": [
    {
     "data": {
      "text/plain": [
       "[Text(0.5, 1.0, 'sin(x) and max(sin(x), 0)'),\n",
       " Text(0.5, 0, 'x'),\n",
       " Text(0, 0.5, 'y')]"
      ]
     },
     "execution_count": 18,
     "metadata": {},
     "output_type": "execute_result"
    },
    {
     "data": {
      "image/png": "[encoded data removed]",
      "text/plain": [
       "<Figure size 432x288 with 1 Axes>"
      ]
     },
     "metadata": {
      "needs_background": "light"
     },
     "output_type": "display_data"
    }
   ],
   "source": [
    "# Lets use masking to create the function f(x) = max(sin(x), 0)\n",
    "n = 100 # Resolution\n",
    "x = np.linspace(0, 10, n, endpoint=False) # Create an array of 100 evenly spaced numbers between 0 and 10 (exclusive)\n",
    "\n",
    "f_x = np.sin(x)\n",
    "mask = f_x < 0 # Create a mask array (True where sin(x) < 0)\n",
    "f_x[mask] = 0 # Set the elements of array where sin(x) < 0 to 0\n",
    "\n",
    "\n",
    "\n",
    "# =======================================\n",
    "# Lets quickly plot this so we can see whats going on\n",
    "fig, ax = plt.subplots()\n",
    "ax.plot(x, np.sin(x), label=\"sin(x)\", marker = \".\", markersize = 5, alpha = 0.7)\n",
    "ax.plot(x, f_x, label=\"max(sin(x), 0)\", marker = \".\", markersize = 5, alpha = 0.7)\n",
    "ax.legend()\n",
    "ax.set(\n",
    "    title=\"sin(x) and max(sin(x), 0)\",\n",
    "    xlabel=\"x\",\n",
    "    ylabel=\"y\",\n",
    ")"
   ]
  },
  {
   "cell_type": "markdown",
   "metadata": {},
   "source": [
    "We just need to make sure that we create a large enough array (ie. increase `n`) so that we can see the sin curve in all its beauty (when we plot this, its just connecting the dots between the datapoints in the provided array).\n",
    "\n",
    "---"
   ]
  },
  {
   "cell_type": "markdown",
   "metadata": {},
   "source": [
    "We can also create more complex masks by using elementwise logical operators.\n",
    "- `np.logical_and(arr1, arr2, arr3, ...)`: Returns an array of booleans which is True if all the booleans in the input arrays are True.\n",
    "- `np.logical_or(arr1, arr2, arr3, ...)`\n",
    "- `np.logical_not(arr)`\n",
    "\n",
    "These 3 functions are useful for creating masks. They also have shortcuts which are really useful\n",
    "- `arr1 & arr2`: Equivalent to `np.logical_and(arr1, arr2)`\n",
    "- `arr1 | arr2`: Equivalent to `np.logical_or(arr1, arr2)`\n",
    "- `~arr`: Equivalent to `np.logical_not(arr)`\n",
    "\n",
    "\n",
    "Finally, we can also aggregate arrays of booleans:\n",
    "- `np.any(arr)`: Returns True if any of the booleans in the array are True.\n",
    "- `np.all(arr)`: Returns True if all of the booleans in the array are True."
   ]
  },
  {
   "cell_type": "code",
   "execution_count": 19,
   "metadata": {},
   "outputs": [
    {
     "data": {
      "text/plain": [
       "[Text(0.5, 1.0, 'Another example (no point markers)'),\n",
       " Text(0.5, 0, 'x'),\n",
       " Text(0, 0.5, 'y')]"
      ]
     },
     "execution_count": 19,
     "metadata": {},
     "output_type": "execute_result"
    },
    {
     "data": {
      "image/png": "[encoded data removed]",
      "text/plain": [
       "<Figure size 432x288 with 1 Axes>"
      ]
     },
     "metadata": {
      "needs_background": "light"
     },
     "output_type": "display_data"
    }
   ],
   "source": [
    "g_x = np.sin(x)\n",
    "\n",
    "mask = (g_x > 0) & (g_x < 0.5) # True if 0 < sin(x) < 0.5\n",
    "g_x[~mask] = 0.25\n",
    "\n",
    "# =======================================\n",
    "# Lets quickly plot this so we can see whats going on\n",
    "fig, ax = plt.subplots()\n",
    "ax.plot(x, np.sin(x), label=\"sin(x)\", alpha = 0.7)\n",
    "ax.plot(x, f_x, label=\"max(sin(x), 0)\", alpha = 0.7)\n",
    "ax.plot(x, g_x, label=\"another example\", alpha = 0.7)\n",
    "ax.legend()\n",
    "ax.set(\n",
    "    title=\"Another example (no point markers)\",\n",
    "    xlabel=\"x\",\n",
    "    ylabel=\"y\",\n",
    ")"
   ]
  },
  {
   "cell_type": "markdown",
   "metadata": {},
   "source": [
    "More numpy topics and manipulation techniques include:\n",
    "- Concatenating arrays\n",
    "- Pre-allocating arrays and slotting numbers into them\n",
    "- Reshaping arrays into different dimensions (including flattening them)"
   ]
  },
  {
   "cell_type": "markdown",
   "metadata": {},
   "source": [
    "## Advice when using numpy\n",
    "When you're using numpy its **important to try to avoid for loops where you can**, and instead trying to leverage the functions within the numpy library.\n",
    "\n",
    "The reason for this is two fold:\n",
    "- working in numpy is much, much faster than working in for loops\n",
    "  - `numpy` under the hood is written in C (a much faster language), and takes advantage of CPU architecture to do the vectorised operations\n",
    "  - using for loops brings the numbers back into Python, hence slowing down\n",
    "- implementing a solution in numpy is often much easier to write than implementing it from scratch\n",
    "\n",
    "The more you know about numpy, the easier it will be for you to use it to its full capacity.\n",
    "\n",
    "Make sure you read the [documentation](https://numpy.org/doc/stable), read the docstrings for functions (Shift+Tab or `help(np.function_name)`), and Google when you don't know what the best way of going about it is.\n",
    "\n"
   ]
  },
  {
   "cell_type": "code",
   "execution_count": 20,
   "metadata": {},
   "outputs": [
    {
     "name": "stdout",
     "output_type": "stream",
     "text": [
      "The array motonically increasing: True\n"
     ]
    }
   ],
   "source": [
    "# Another example\n",
    "# See if a sequence is monotonically increasing\n",
    "x = np.array([1, 2, 3, 4, 5])\n",
    "diff = np.diff(x) # Get the first difference (array equivalent of the first derivative)\n",
    "\n",
    "print(f\"The array motonically increasing: {(diff > 0).all()}\") # True if all elements of diff are > 0"
   ]
  },
  {
   "cell_type": "markdown",
   "metadata": {},
   "source": [
    "# Plotting with `matplotlib`\n",
    "## What is matplotlib?\n",
    "Like we did with numpy, lets take a look at the [matplotlib documentation](https://matplotlib.org/).\n",
    "\n",
    "## Importing Matplotlib\n",
    "To import matplotlib, we want to import the `matplotlib.pyplot` submodule. This can be done by typing:\n",
    "```py\n",
    "from matplotlib import pyplot as plt\n",
    "```\n",
    "We can read this as \"from matplotlib, import the pyplot submodule and call it `plt` (so that its easier to type out when we use it)\".\n",
    "\n",
    "Often we try place our imports for packages together in a cell near the top of our Jupyter Notebook (good practice as they're then easy to find)."
   ]
  },
  {
   "cell_type": "markdown",
   "metadata": {},
   "source": [
    "## The OOP API\n",
    "In Matplotlib, the aspects of the resulting plot can be decomposed into a hierarchy of objects.\n",
    "\n",
    "The hierarchy is:\n",
    "- `Figure`: This is the entire canvas, and contains one or more `Axes` objects.\n",
    "- `Axes`: These are the individual plots. Each `Axes` object has 2 `Axis` objects associated with it.\n",
    "- `...`: The hierarchy can be further broken down, but for now this is all we need to get started.\n",
    "\n",
    "![Objects in matplotlib](https://files.realpython.com/media/fig_map.bc8c7cabd823.png)\n",
    "\n",
    "We can then call methods on these objects in order to interact with them, and the resulting plot.\n",
    "\n",
    "So, how do we create `Figure` and `Axes` objects? We use the [`plt.subplots()` function](https://matplotlib.org/stable/api/_as_gen/matplotlib.pyplot.subplots.html). Lets look at an example!!\n"
   ]
  },
  {
   "cell_type": "code",
   "execution_count": 21,
   "metadata": {},
   "outputs": [
    {
     "data": {
      "image/png": "[encoded data removed]",
      "text/plain": [
       "<Figure size 432x288 with 1 Axes>"
      ]
     },
     "metadata": {
      "needs_background": "light"
     },
     "output_type": "display_data"
    }
   ],
   "source": [
    "# Generating arrays with numpy\n",
    "x = np.linspace(0, 10, 50)\n",
    "y = x ** 2\n",
    "    \n",
    "fig, ax = plt.subplots() # Create the figure and axes\n",
    "\n",
    "# Note here we call the methods DIRECTLY on the ax object (rather than using plt.)\n",
    "ax.plot(x, y)\n",
    "ax.set_xlabel(\"X-axis\")\n",
    "ax.set_ylabel(\"Y-axis\")\n",
    "ax.set_title(\"A cool plot\")\n",
    "ax.set_xlim(0, 11)\n",
    "ax.set_ylim(0, 105)\n",
    "\n",
    "plt.show() # Required in .py files. Not required here as Jupyter calls .show() once a cell is complete"
   ]
  },
  {
   "cell_type": "markdown",
   "metadata": {},
   "source": [
    "The best part about the OOP API? It makes it really easy to work with multiple plots at once and store them in one figure:\n"
   ]
  },
  {
   "cell_type": "code",
   "execution_count": 22,
   "metadata": {},
   "outputs": [
    {
     "data": {
      "image/png": "[encoded data removed]",
      "text/plain": [
       "<Figure size 432x288 with 2 Axes>"
      ]
     },
     "metadata": {
      "needs_background": "light"
     },
     "output_type": "display_data"
    }
   ],
   "source": [
    "fig, axs = plt.subplots(1, 2) # 1 row, 2 columns\n",
    "x = np.linspace(0, 10, 50)\n",
    "y1 = x ** 2\n",
    "y2 = x ** 3\n",
    "\n",
    "# Note here we call the methods DIRECTLY on the ax object\n",
    "axs[0].plot(x, y1, label = \"$y=x^2$\")\n",
    "axs[0].set( # all the `ax.set_` settings on the `Axes` object can be done at once using `.set()`\n",
    "    xlabel=\"x\",\n",
    "    ylabel=\"y\",\n",
    "    title=\"A cool plot\",\n",
    "    xlim = (0, 11),\n",
    "    ylim = (0, 105),\n",
    "    )\n",
    "axs[0].legend()\n",
    "\n",
    "axs[1].plot(x, y2, label = \"$y=x^3$\")\n",
    "axs[1].legend()\n",
    "# Not setting anything else for the right axis\n",
    "\n",
    "fig.tight_layout() # Automatically adjusts the figure layout so plots are spaced nicely\n"
   ]
  },
  {
   "cell_type": "markdown",
   "metadata": {},
   "source": [
    "## A story of two APIs\n",
    "So far we've looked at the OOP API, but Matplotlib actually comes with two APIs:\n",
    "- pyplot API (MATLAB inspired, and \"state based\")\n",
    "- object oriented, figure and axes API\n",
    "\n",
    "Long story short, the pyplot API exists for Matlab users who are migrating to Python but want the familiarity of Matlab.\n",
    "\n",
    "With the OOP API we deal directly with the object hierarchy (we call methods on the `Figure`/`Axes` objects directly) while the pyplot API is more state based (and deals with \"active plots\" etc).\n",
    "\n",
    "We focus on the OOP API as its the recommended and more versatile way of working with Matplotlib. Either way lets look at the same example using both APIs to see what the difference is:\n",
    "\n",
    "---\n",
    "**NOTE:** Some resources (eg. [this YouTube series](https://youtube.com/playlist?list=PL-osiE80TeTvipOqomVEeZ1HRrcEvtZB_)) focus mainly on the Matlab API for some reason. I'm not sure why and it can be a bit confusing especially if they don't mention the different APIs.  \n",
    "TL;DR: Just be aware that if you see lots of `plt.` calls, they're using the pyplot API."
   ]
  },
  {
   "cell_type": "code",
   "execution_count": 23,
   "metadata": {},
   "outputs": [
    {
     "data": {
      "image/png": "[encoded data removed]",
      "text/plain": [
       "<Figure size 432x288 with 1 Axes>"
      ]
     },
     "metadata": {
      "needs_background": "light"
     },
     "output_type": "display_data"
    }
   ],
   "source": [
    "# USING THE OOP API\n",
    "x = np.linspace(0, 10, 50)\n",
    "y = x ** 2\n",
    "    \n",
    "fig, ax = plt.subplots() # Create the figure and axes\n",
    "\n",
    "# Note here we call the methods DIRECTLY on the ax object (rather than using plt.)\n",
    "ax.plot(x, y)\n",
    "ax.set_xlabel(\"X-axis\")\n",
    "ax.set_ylabel(\"Y-axis\")\n",
    "ax.set_title(\"A cool plot\")\n",
    "ax.set_xlim(0, 11)\n",
    "ax.set_ylim(0, 105)\n",
    "\n",
    "plt.show() # Required in .py files. Not required here as Jupyter calls .show() once a cell is complete"
   ]
  },
  {
   "cell_type": "code",
   "execution_count": 24,
   "metadata": {},
   "outputs": [
    {
     "data": {
      "image/png": "[encoded data removed]",
      "text/plain": [
       "<Figure size 432x288 with 1 Axes>"
      ]
     },
     "metadata": {
      "needs_background": "light"
     },
     "output_type": "display_data"
    }
   ],
   "source": [
    "# USING THE PYPLOT API\n",
    "# When using the pyplot API, all our commands will start with `plt.`\n",
    "x = np.linspace(0, 10, 50)\n",
    "y = x ** 2\n",
    "\n",
    "plt.plot(x, y)\n",
    "plt.xlabel(\"X-axis\")\n",
    "plt.ylabel(\"Y-axis\")\n",
    "plt.title(\"A cool plot\")\n",
    "plt.xlim(0, 11) # x-axis going from 0 to 7\n",
    "plt.ylim(0, 105) # y-axis going from 0 to 40\n",
    "\n",
    "plt.show() # Required in .py files. Not required here as Jupyter calls .show() once a cell is complete"
   ]
  },
  {
   "cell_type": "markdown",
   "metadata": {},
   "source": [
    "**NOTE:** When we do `plt.subplots()` and we specify we want multiple `Axes` objects, we actually get a **numpy array** of `Axes` objects (so we can use numpy indexing to access them!)."
   ]
  },
  {
   "cell_type": "markdown",
   "metadata": {},
   "source": [
    "---\n",
    "OK, back to the OOP API.\n",
    "\n",
    "We can have more complex examples than the plots above."
   ]
  },
  {
   "cell_type": "code",
   "execution_count": 25,
   "metadata": {},
   "outputs": [
    {
     "data": {
      "text/plain": [
       "[Text(0.5, 1.0, 'f(x) and g(x)'), Text(0.5, 0, 'x'), Text(0, 0.5, 'y')]"
      ]
     },
     "execution_count": 25,
     "metadata": {},
     "output_type": "execute_result"
    },
    {
     "data": {
      "image/png": "[encoded data removed]",
      "text/plain": [
       "<Figure size 432x288 with 1 Axes>"
      ]
     },
     "metadata": {
      "needs_background": "light"
     },
     "output_type": "display_data"
    }
   ],
   "source": [
    "# Calculating the integral between two functions\n",
    "\n",
    "x = np.linspace(0, 6 * np.pi, 100)\n",
    "f_x = np.sin(x)\n",
    "g_x = np.cos(x)\n",
    "\n",
    "fig, ax = plt.subplots()\n",
    "ax.plot(x, f_x, label=\"f(x)\")\n",
    "ax.plot(x, g_x, label=\"g(x)\")\n",
    "ax.fill_between(x, f_x, g_x, where=f_x > g_x, facecolor=\"C02\", alpha=0.5) # Fill in the area between f(x) and g(x) where f(x) > g(x). C02 is the third colour in the default colour cycle\n",
    "\n",
    "ax.legend() # Enable the legend (which will use the plot labels)\n",
    "ax.set(\n",
    "    title=\"f(x) and g(x)\",\n",
    "    xlabel=\"x\",\n",
    "    ylabel=\"y\",\n",
    ")"
   ]
  },
  {
   "cell_type": "markdown",
   "metadata": {},
   "source": [
    "Another cool thing about matplotlib is that we can use [a variety of different styles](https://matplotlib.org/stable/gallery/style_sheets/style_sheets_reference.html)! This is great if you want to fake being an R user for example, and want to use the `ggplot` theme."
   ]
  },
  {
   "cell_type": "code",
   "execution_count": 26,
   "metadata": {
    "scrolled": false
   },
   "outputs": [
    {
     "data": {
      "text/plain": [
       "[Text(0.5, 1.0, 'f(x) and g(x)'), Text(0.5, 0, 'x'), Text(0, 0.5, 'y')]"
      ]
     },
     "execution_count": 26,
     "metadata": {},
     "output_type": "execute_result"
    },
    {
     "data": {
      "image/png": "[encoded data removed]",
      "text/plain": [
       "<Figure size 432x288 with 1 Axes>"
      ]
     },
     "metadata": {},
     "output_type": "display_data"
    }
   ],
   "source": [
    "# Calculating the integral between two functions\n",
    "x1 = np.random.rand(100) # Create an array of 100 random numbers between 0 and 1\n",
    "y1 = np.random.rand(100) # Create an array of 100 random numbers between 0 and 1\n",
    "\n",
    "x2 = np.random.randn(100) # Create an array of 100 random numbers mu=0, sigma=1\n",
    "y2 = np.random.randn(100) # Create an array of 100 random numbers mu=0, sigma=1\n",
    "\n",
    "mpl.style.use(\"ggplot\") # Set the style to ggplot\n",
    "\n",
    "fig, ax = plt.subplots()\n",
    "ax.scatter(x1, y1, label=\"uniform random\")\n",
    "ax.scatter(x2, y2, label=\"normal random\")\n",
    "\n",
    "ax.legend() # Enable the legend (which will use the plot labels)\n",
    "ax.set(\n",
    "    title=\"f(x) and g(x)\",\n",
    "    xlabel=\"x\",\n",
    "    ylabel=\"y\",\n",
    ")"
   ]
  },
  {
   "cell_type": "code",
   "execution_count": 27,
   "metadata": {},
   "outputs": [
    {
     "name": "stderr",
     "output_type": "stream",
     "text": [
      "C:\\Users\\nickh\\AppData\\Local\\Temp\\ipykernel_15636\\1228437542.py:7: RuntimeWarning: divide by zero encountered in log\n",
      "  love = 2 * np.log(x/10) + 10\n"
     ]
    },
    {
     "data": {
      "text/plain": [
       "[Text(0, 0.5, 'Love for my uranium pebble (0-10)'), (0.0, 10.0)]"
      ]
     },
     "execution_count": 27,
     "metadata": {},
     "output_type": "execute_result"
    },
    {
     "data": {
      "image/png": "[encoded data removed]",
      "text/plain": [
       "<Figure size 640x480 with 2 Axes>"
      ]
     },
     "metadata": {},
     "output_type": "display_data"
    }
   ],
   "source": [
    "mpl.style.use(\"default\") # Set the style/colours back to default\n",
    "plt.xkcd() # Enable xkcd style\n",
    "np.random.seed(10) # Make random numbers predictable (for reproducibility)\n",
    "\n",
    "x = np.linspace(0, 5, 50)\n",
    "chance = np.exp(-x)\n",
    "love = 2 * np.log(x/10) + 10\n",
    "\n",
    "\n",
    "fig, ax1 = plt.subplots()\n",
    "ax2 = ax1.twinx() # Adding another axis to the plot (on the right)\n",
    "ax1.plot(x, chance, color = \"black\", linestyle = \"--\")\n",
    "ax2.plot(x, love, color = \"Green\")\n",
    "\n",
    "ax1.set(\n",
    "    xlabel=\"Years after finding\",\n",
    "    ylabel=\"Odds on living past 50\",\n",
    "    ylim = (0, 1),\n",
    "    title=\"Finding a pebble\",\n",
    ")\n",
    "ax2.set(\n",
    "    ylabel=\"Love for my uranium pebble (0-10)\",\n",
    "    ylim = (0, 10),\n",
    ")\n",
    "\n"
   ]
  },
  {
   "cell_type": "code",
   "execution_count": 28,
   "metadata": {},
   "outputs": [],
   "source": [
    "plt.rcdefaults() # Disabling xkcd style"
   ]
  },
  {
   "cell_type": "markdown",
   "metadata": {},
   "source": [
    "Now we are familiar with the general structure of Matplotlib (ie. the two different APIs, and the hierarchy of objects in the OOP API).\n",
    "\n",
    "Rather than going over bucket loads of syntax (eg. oh, how do you do a dotted line? What about a dashed line?) the best way to learn is to look at existing plots, and take the elements you want from them and use them in your own plots."
   ]
  },
  {
   "cell_type": "markdown",
   "metadata": {},
   "source": [
    "# Some practice\n",
    "Ok, lets get some practice in. **Do the following:**\n",
    "\n",
    "- Think of a plot that you'd like to make (literally any plot you can imagine, even if you have no idea how to code it up!)\n",
    "- Look through the (oh so many) [matplotlib examples](https://matplotlib.org/stable/gallery/index) for something similar to what you have in mind (or just try one of the examples)\n",
    "- Copy and paste the example code into Jupyter and run it (it'll work first try)\n",
    "- Look through the example, and try to understand what each line is doing.\n",
    "- Adapt and run the example until you get what you initially imagined!\n",
    "\n",
    "Alternatively, if you have other numpy or matplotlib work or skills you want to practice, go for that :).\n",
    "\n",
    "Let's give it a shot!\n",
    "\n",
    "---\n",
    "**A quick comment about the above**  \n",
    "It may at first feel like cheating copying and pasting code. The more and more you code though, you'll realise that its the best way. Its easier to get something that works, and change it bit by bit into something new, than write something from scratch (especially when you're learning new things). If you're concerned of plaigerism (a good concern to have), we're just using the example to find out how to work with the Matplotlib API.\n",
    "\n",
    "\n",
    "\n"
   ]
  },
  {
   "cell_type": "markdown",
   "metadata": {},
   "source": [
    "**NOTE:** If you could fill out [this < 2min survey](https://forms.gle/iWa7cNyXT5eu64s96) about the workshop, that would be awesome and allow us to plan future workshops like this :)."
   ]
  }
 ],
 "metadata": {
  "kernelspec": {
   "display_name": "Python 3 (ipykernel)",
   "language": "python",
   "name": "python3"
  },
  "language_info": {
   "codemirror_mode": {
    "name": "ipython",
    "version": 3
   },
   "file_extension": ".py",
   "mimetype": "text/x-python",
   "name": "python",
   "nbconvert_exporter": "python",
   "pygments_lexer": "ipython3",
   "version": "3.8.9"
  },
  "vscode": {
   "interpreter": {
    "hash": "e7022d8e2ca52013584f7e7afd986150026516a33417e09866a3b22a4e29a2a5"
   }
  }
 },
 "nbformat": 4,
 "nbformat_minor": 2
}
