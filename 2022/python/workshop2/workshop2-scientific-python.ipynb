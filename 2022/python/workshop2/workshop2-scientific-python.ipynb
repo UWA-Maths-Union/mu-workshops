{
 "cells": [
  {
   "cell_type": "markdown",
   "metadata": {},
   "source": [
    "# Python Series | Part 2: Scientific packages numpy and matplotlib\n",
    "**UWA Maths Union**  \n",
    "written and presented by *Nick Hodgskin*\n",
    "\n",
    "Workshop resources:\n",
    "- [Google Drive](https://drive.google.com/drive/folders/1p3_M1rep8AerlKfJIbpaAfAe-CbRU4MV?usp=sharing)\n",
    "- [GitHub](https://github.com/UWA-Maths-Union/mu-workshops) (if the Google Drive link doesn't work)\n",
    "\n",
    "---"
   ]
  },
  {
   "cell_type": "markdown",
   "metadata": {},
   "source": [
    "## Structure of these workshops\n",
    "- Workshop 1\n",
    "    - Goes over many of the foundations of Python including base Python, while still being a ~2 hour workshop\n",
    "    - Already done an intro to Python course? There will be a lot of overlap with this workshop (particularly the \"Base Python\" component)\n",
    "- Workshop 2\n",
    "    - Goes over two of the fundamental scientific computing packages (numpy and matplotlib), and how to use them in mathematical contexts.\n",
    "\n",
    "**WARNING:** This workshop assumes that you are familiar with base Python (mathematical operations, base data types, logical operations, loops, functions). If this is your first time learning Python, we would recommend first watching our workshop 1 recording.\n",
    "\n",
    "**Can't get enough Python?**:  \n",
    "There are many amazing free courses online that cover the topics in these workshops. These courses also cover `pandas` (not covered in these workshops), an amazing tool for dealing with heterogenous CSV/tabular data.\n",
    "\n",
    "- [Kaggle Learn](https://www.kaggle.com/learn): Has course modules covering topics relevant to data science (free platform)\n",
    "- [Datacamp](https://www.datacamp.com/): Has many course modules covering topics relevant to data science (paid platform; 3 month free trial with [GitHub student developer pack](https://education.github.com/pack) which also comes with many other perks (free Canva Pro, GitHub pro, etc.))\n",
    "- Coursera and EdX: Free access to thousands of online, university courses on a variety of different topics ([UWA has a license for Coursera](https://www.uwa.edu.au/education/educational-enhancement-unit/Strategic-Projects/Coursera) allowing you to get the completion certificates for free).\n",
    "- YouTube: eg. Freecodecamp, Tech with Tim, Keith Galli, Corey Schafer\n",
    "- [Awesome Python](https://github.com/vinta/awesome-python): A curated list of awesome Python packages and libraries\n",
    "\n",
    "## Disclaimer\n",
    "The focus of this workshop is to give you an idea of what is possible in Matplotlib, Numpy, as well as what is generally possible with packages like these. The goal is to learn these mathematical packages, but also to know where to find more information or where to solve problems that we are interested in. \n",
    "\n",
    "## Table of contents\n",
    "### INSERT TABLE OF CONTENTS\n"
   ]
  },
  {
   "cell_type": "markdown",
   "metadata": {},
   "source": [
    "## Some vocabulary\n",
    "- **IDE**: Short for \"interactive development environment\". This is the app that you use to write your code (\"Notepad\" is an IDE! Just a bad one with no syntax highlighting, or button to run code).\n",
    "- **Python interpretter**: This is the Python engine that executes your Python file. When we \"install Python\" (from the [Python website](https://www.python.org/downloads/), we are installing the Python interpretter. Anaconda comes with its own Python interpretter packaged in.\n",
    "- **Packages**: Code written by others geared towards solving specific tasks. They can be thought of as \"mods\" which extend the capabilities of base Python.\n",
    "- **alias**: Usually when importing packages we give them short aliases (like `np`) in order to make them quicker to write.\n",
    "- **PyPI**: Python Package Index, this is the online repository where packages are stored.\n",
    "- **pip**: The de-facto command line tool used to install Python packages, which are often downloaded by pip from PyPI. Stands for \"pip installs packages\" (cool hey! A recursive acryonym).\n",
    "- **Anaconda**: An installation of Python that comes with all the common scientific computing packages already installed. Anaconda also comes with conda, a command line tool comparable to pip for installing packages.\n",
    "- **API**: Application programming interface. In the context of packages, the API is the interface for the package (the instructions you can use to interact with the package). Packages often come with an API reference (documentation about functions and commands related to that package).\n",
    "- **Refactor**: The act of rewriting or reorganising code in order to make it neater, easier to understand, or more efficient, without affecting the result from the code execution.\n",
    "  \n",
    "---\n",
    "- **[Jupyter](https://jupyter.org/about)**: An open source, non-profit project supporting interactive data science and scientific computing. Two major contributions from this project are the Jupyter Notebook and Jupyter Lab applications. Since Jupyter Notebook and Jupyter Lab are similar in functionality, we can use Jupyter to refer to either of them.\n",
    "- **iPython Notebook**: A file format that contains a mixture of markdown text (paragraphs, tables, images) as well as executable code. The file extension for this file is `.ipynb`.\n",
    "- **Jupyter Notebook**: An application developped by Jupyter used to edit, view and run iPython notebooks. \"A jupyter notebook\" can also refer to an iPython notebook.\n",
    "- **Jupyter Lab**: An application developped by Jupyter as a successor to Jupyter Notebook. It is also used to edit, view and run iPython notebooks, however has more features (particularly around viewing several notebooks, viewing your folder structure, and editting other files). This makes Jupyter Lab a more capable IDE.\n",
    "---\n",
    "- **OOP**: Object Oriented Programming. This is when code is written in a way that makes reference to objects in the code. These objects can also interact with each other. Eg. Matplotlib works off figures, which have one or more axes associated with them. By referencing the axes, we can plot directly on them and modify them.\n",
    "- **array**: A homogenous, gridded data type that has one or more dimensions. Homogenous meaning that each entry in the array takes the same amount of space as the other entries.\n",
    "\n"
   ]
  },
  {
   "cell_type": "markdown",
   "metadata": {},
   "source": [
    "## Workshop 1 recap: Jupyter, our programming environment\n",
    "Let's go through some information covered in the last workshop that is particularly relevant to this workshop.\n",
    "\n",
    "### IPython Notebooks\n",
    "IPython Notebooks (ending in `.ipynb`) are different to Python script files (ending in `.py`). With `.py` files we just click \"play\" to run the script from the top to the bottom. With `.ipynb` files we can interactively run blocks of code, and even interleave it with formatted text (this doccument is a `.ipynb` file!).\n",
    "\n",
    "### Launching Jupyter\n",
    "There are many different IDEs we can use to edit iPython notebooks. In [workshop 0](https://statuesque-bubbler-6af.notion.site/05daea2a53594b578b3b920a6b1095c2) we went through these IDEs. Some are:\n",
    "- Jupyter Lab\n",
    "- Jupyter Notebook (my choice today)\n",
    "- Google Colab (online environment. Right click in your Google Drive > More > Google Collaboratory)\n",
    "- VScode\n",
    "\n",
    "If you have Anaconda installed, search for \"Anaconda Navigator\". Here you can launch Jupyter Notebook or Jupyter Lab. If your installation is correctly configured, you can also launch from the terminal by typing `jupyter notebook` or `jupyter lab`. Having issues or don't have Anaconda? Use Google Colab.\n",
    "\n",
    "**NOTE:** If you don't have anaconda installed, just use Google Colab.\n",
    "- Copy these notebooks into your personal Google Drive\n",
    "- Right click, and select \"Connect more apps\"\n",
    "- Search Google Colab and enable\n",
    "- Now open the notebooks and they should open in Google Colab\n",
    "\n",
    "### My first notebook\n",
    "A notebook consists of cells/blocks that are either markdown or code.\n",
    "Live showcase time:\n",
    "- Two scopes: Navigating cells vs navigating in a cell\n",
    "- Using the GUI\n",
    "- Using shortcuts (Help > Keyboard shortcuts)\n",
    "    - Ctrl+Enter: Run current cell\n",
    "    - Ctrl+/: Comment out blocks of code\n",
    "    - Shift+Enter: Run and focus next cell\n",
    "    - DD: delete cell\n",
    "    - A: Insert cell above\n",
    "    - B: Insert cell below\n",
    "    - Shift+Tab: Function help documentation\n",
    "- Running code (Jupyter remembers all)\n",
    "    - Resetting the kernel\n"
   ]
  },
  {
   "cell_type": "markdown",
   "metadata": {},
   "source": [
    "# The beauty of packages\n",
    "So, what is a package? Just like you have \"mods\" for video games, a package can be thought of as a mod for Python. Packages are bundles of code that change the bahaviour of Python, and **extend** its base functionality. Packages are oriented around solving particular classes of problems really well (\"problem\" here could mean literally anything from doing maths, to downloading and editting YouTube videos).\n",
    "\n",
    "You might be thinking \"ok then, what can be done with Python packages?\". Glad you asked!\n",
    "- `numpy`: Optimised, array based maths within Python\n",
    "- `pandas`: Working with tabular data (CSVs, tables)\n",
    "- `matplotlib`, `seaborn`, `altair`: Plotting\n",
    "- `scipy`: Scientific algorithms\n",
    "- `beautifulsoup`: Parsing and working with HTML files\n",
    "- `selenium`: Browsing websites programmatically\n",
    "- `docx`: Working with Microsoft Word files\n",
    "- `pillow`: Working with images\n",
    "- `tensorflow`, `keras`, `pytorch`: Machine learning\n",
    "- `manim`: Making mathematical animations in Python (3Blue1Brown's package!)\n",
    "- `moviepy`: Edditing videos with Python\n",
    "- `notebook`: Jupyter Notebook! An environment for editting and running `.ipynb` files\n",
    "- and many more!\n",
    "\n",
    "There are literally thousands of packages to do almost anything. Have a browse of [Awesome Python](https://github.com/vinta/awesome-python) (a curated list of awesome Python packages) to find more.\n",
    "\n",
    "\n",
    "The absolutely amazing thing with packages is that they are open source meaning that anyone can look at and contribute to the code (often these codebases are hosted on GitHub, but GitHub and Git are stories for another day). Packages are used and developped by whole communities of people. Taking a look at the [numpy GitHub](https://github.com/numpy/numpy) we can see there are 1.1m users (likely an underestimate) and over 1,300 contributors to the code. This means that the code is very well refined, optimised, and bugs are weeded out.\n",
    "\n",
    "---\n",
    "\n",
    "## A quick example\n",
    "For example, you might want to have a progress bar in your code to see how its progressing. How could we do that?\n",
    "Well, `tqdm` can help (its a package that just adds a customisable progress bar)."
   ]
  },
  {
   "cell_type": "code",
   "execution_count": 1,
   "metadata": {},
   "outputs": [
    {
     "name": "stderr",
     "output_type": "stream",
     "text": [
      "100%|██████████| 100/100 [00:06<00:00, 16.02it/s]\n"
     ]
    }
   ],
   "source": [
    "from tqdm import tqdm # From the `tqdm` package, import the `tqdm` function (confusing naming, I know)\n",
    "import time # Import the time module\n",
    "\n",
    "\n",
    "for i in tqdm(range(100)): # tqdm can turn any for loop into a progress bar\n",
    "    time.sleep(0.05) # Don't do anything for 0.05s"
   ]
  },
  {
   "cell_type": "markdown",
   "metadata": {},
   "source": [
    "## Installing packages\n",
    "### Standard vs community packages\n",
    "We have base Python which comes with the standard library of Python packages (such as `os`, `random`, `math`, `time`, `csv`, `gzip` and [others](https://docs.python.org/3/library/)). These packages are built into Python 3; if you install Python you have access to these packages by default. If you've done an introductory Python unit, you'd likely be familiar with some of these packages.\n",
    "\n",
    "We also have thousands of community made packages (such as those listed above). These are installed using the tool `pip` through the command line, which then downloads the package from `PyPI` (the [Python Package Index](https://pypi.org/)). Lucky for us, if we're using Anaconda or an online environment, a lot of scientific packages come pre-installed. We can see our installed packages by running `!pip list`.\n",
    "\n",
    "---\n",
    "Lucky for us, by installing Anaconda we installed Python as well as a bunch of popular scientific packages (hence we don't need to do additional installing).\n",
    "\n",
    "If you want to install a package you don't have, you can run `pip install package_name` in the terminal. In order to find the correct `package_name` for the package you want, you might want to look on the [PyPI website](https://pypi.org/).\n",
    "\n",
    "Lets see what packages we have in our environment."
   ]
  },
  {
   "cell_type": "code",
   "execution_count": 2,
   "metadata": {},
   "outputs": [
    {
     "name": "stdout",
     "output_type": "stream",
     "text": [
      "Package               Version             Location\n",
      "--------------------- ------------------- -------------------------------------------\n",
      "appdirs               1.4.4\n",
      "argon2-cffi           21.3.0\n",
      "argon2-cffi-bindings  21.2.0\n",
      "asttokens             2.0.5\n",
      "attrs                 21.4.0\n",
      "autopep8              1.6.0\n",
      "backcall              0.2.0\n",
      "black                 22.1.0\n",
      "bleach                4.1.0\n",
      "certifi               2021.10.8\n",
      "cffi                  1.15.0\n",
      "charset-normalizer    2.0.12\n",
      "click                 8.0.4\n",
      "colorama              0.4.4\n",
      "cycler                0.11.0\n",
      "debugpy               1.5.1\n",
      "decorator             5.1.1\n",
      "defusedxml            0.7.1\n",
      "delft3d-toolbox       0.0.1               c:\\users\\nickh\\oceans\\repos\\delft3d-toolbox\n",
      "entrypoints           0.4\n",
      "et-xmlfile            1.1.0\n",
      "executing             0.8.2\n",
      "fonttools             4.29.1\n",
      "htmlmin               0.1.12\n",
      "idna                  3.3\n",
      "ImageHash             4.2.1\n",
      "importlib-metadata    4.12.0\n",
      "importlib-resources   5.4.0\n",
      "ipykernel             6.9.1\n",
      "ipython               8.0.1\n",
      "ipython-genutils      0.2.0\n",
      "ipywidgets            7.6.5\n",
      "jedi                  0.18.1\n",
      "Jinja2                3.0.3\n",
      "joblib                1.0.1\n",
      "jsonschema            4.4.0\n",
      "jupyter-client        7.1.2\n",
      "jupyter-core          4.9.2\n",
      "jupyter-http-over-ws  0.0.8\n",
      "jupyterlab-pygments   0.1.2\n",
      "jupyterlab-widgets    1.0.2\n",
      "kiwisolver            1.3.2\n",
      "loguru                0.6.0\n",
      "MarkupSafe            2.0.1\n",
      "matplotlib            3.5.1\n",
      "matplotlib-inline     0.1.3\n",
      "missingno             0.5.0\n",
      "mistune               0.8.4\n",
      "multimethod           1.7\n",
      "mypy-extensions       0.4.3\n",
      "nbclient              0.5.11\n",
      "nbconvert             6.4.2\n",
      "nbformat              5.1.3\n",
      "nest-asyncio          1.5.4\n",
      "networkx              2.6.3\n",
      "notebook              6.4.8\n",
      "numpy                 1.22.2\n",
      "openpyxl              3.0.10\n",
      "p2j                   1.3.2\n",
      "packaging             21.3\n",
      "pandas                1.4.1\n",
      "pandas-profiling      3.1.0\n",
      "pandocfilters         1.5.0\n",
      "parso                 0.8.3\n",
      "pathspec              0.9.0\n",
      "phik                  0.12.0\n",
      "pickleshare           0.7.5\n",
      "Pillow                9.0.1\n",
      "pip                   20.2.3\n",
      "platformdirs          2.5.1\n",
      "prometheus-client     0.13.1\n",
      "prompt-toolkit        3.0.28\n",
      "pure-eval             0.2.2\n",
      "pycodestyle           2.8.0\n",
      "pycparser             2.21\n",
      "pydantic              1.9.0\n",
      "pyee                  8.2.2\n",
      "Pygments              2.11.2\n",
      "pyparsing             3.0.7\n",
      "pyppeteer             1.0.2\n",
      "pyproj                3.3.1\n",
      "pyrsistent            0.18.1\n",
      "python-dateutil       2.8.2\n",
      "pytz                  2021.3\n",
      "PyWavelets            1.2.0\n",
      "pywin32               303\n",
      "pywinpty              2.0.2\n",
      "PyYAML                6.0\n",
      "pyzmq                 22.3.0\n",
      "requests              2.27.1\n",
      "scipy                 1.8.0\n",
      "seaborn               0.11.2\n",
      "Send2Trash            1.8.0\n",
      "setuptools            49.2.1\n",
      "six                   1.16.0\n",
      "stack-data            0.2.0\n",
      "tangled-up-in-unicode 0.1.0\n",
      "terminado             0.13.1\n",
      "testpath              0.5.0"
     ]
    },
    {
     "name": "stderr",
     "output_type": "stream",
     "text": [
      "WARNING: You are using pip version 20.2.3; however, version 22.2.2 is available.\n",
      "You should consider upgrading via the 'c:\\users\\nickh\\appdata\\local\\programs\\python\\python38\\python.exe -m pip install --upgrade pip' command.\n"
     ]
    },
    {
     "name": "stdout",
     "output_type": "stream",
     "text": [
      "\n",
      "toml                  0.10.2\n",
      "tomli                 2.0.1\n",
      "tornado               6.1\n",
      "tqdm                  4.62.3\n",
      "traitlets             5.1.1\n",
      "typing-extensions     4.1.1\n",
      "urllib3               1.26.8\n",
      "UTide                 0.3.1.dev7+gb2bd836\n",
      "visions               0.7.4\n",
      "wcwidth               0.2.5\n",
      "webencodings          0.5.1\n",
      "websockets            10.3\n",
      "widgetsnbextension    3.5.2\n",
      "win32-setctime        1.1.0\n",
      "zipp                  3.7.0\n"
     ]
    }
   ],
   "source": [
    "# the ! tells Jupyter we're running a command-line command, and not Python code\n",
    "!pip list"
   ]
  },
  {
   "cell_type": "markdown",
   "metadata": {},
   "source": [
    "## Importing a package\n",
    "To import a package that is already installed, we can write:\n",
    "```py\n",
    "import package_name\n",
    "```\n",
    "From here, we can access the functions from the package just by prefixing the functions with `package_name` (eg. `package_name.calculate_pi()`). This isn't fantastic though, since having to write `package_name` everytime we want to use anything from the package is tedious. As such, we can *alias* a package using the `as` keyword:\n",
    "\n",
    "```py\n",
    "import package_name as pn\n",
    "```\n",
    "Now we don't access the package using `package_name`, but we use `pn` (eg. so `package_name.calculate_pi()` becomes `pn.calculate_pi()`).\n",
    "\n",
    "We can also import specific functions from a package, by using the `from` keyword:\n",
    "```py\n",
    "from package_name import calculate_pi\n",
    "```\n",
    "Now, we don't even need the prefix and we can just write `calculate_pi()` as if we wrote the function ourself."
   ]
  },
  {
   "cell_type": "markdown",
   "metadata": {},
   "source": [
    "# Numerics with `numpy`\n",
    "## What is numpy?\n",
    "What better way to find out what numpy is than looking at the [numpy documentation](https://numpy.org/doc/stable).\n",
    "\n",
    "## What is an array?\n",
    "In the documentation, we read\n",
    "> \\[Numpy\\] provides a multidimensional array object\n",
    "\n",
    "but what is an array? To answer that, lets first look at the Python list.\n",
    "\n",
    "---\n",
    "If you've done an intro to Python unit, you'll be familiar with lists, its uses and its downfalls.\n",
    "\n",
    "**The crux of the issue is you can put anything in a list.**"
   ]
  },
  {
   "cell_type": "code",
   "execution_count": 3,
   "metadata": {},
   "outputs": [],
   "source": [
    "import requests\n",
    "url = \"https://gist.githubusercontent.com/MattIPv4/045239bc27b16b2bcf7a3a9a4648c08a/raw/2411e31293a35f3e565f61e7490a806d4720ea7e\"\n",
    "string = requests.get(url).content.decode(\"utf-8\")\n",
    "\n",
    "my_lst = [True, 72, string]"
   ]
  },
  {
   "cell_type": "markdown",
   "metadata": {},
   "source": [
    "### Lists: Lack of elementwise operations\n",
    "Since we can put anything in a list, we can mix and match elements in a way that element-wise operations don't make sense. What does it mean to do `2 * lst` if not all elements in the list are numbers?\n",
    "\n",
    "In previous units, you may have even nested lists within lists in order to represent a matrix.\n",
    "\n",
    "```\n",
    "[[1,2,3],[4,5,6],[7,8,9]]\n",
    "           \n",
    "      represents...\n",
    "       |1  2  3|\n",
    "       |4  5  6|\n",
    "       |7  8  9|\n",
    "\n",
    "```\n",
    "\n",
    "But what if the second list is of length 4? Now suddenly we have some rows which are longer than others, which makes no sense for matrices.\n",
    "\n",
    "### Lists: An issue of space\n",
    "Lists are versatile and can house any data type in each of its indices. This means that each index can have different space requirements, and an index can change in size as we work with them.\n",
    "\n",
    "This fundamentally means that items next to each other in a list cannot be next to each other in memory (because if they were, we couldn't switch the boolean at `lst[2]` out for a larger integer type item).\n",
    "\n",
    "# INSERT IMAGE\n",
    "\n",
    "As such, lists use have a record of memory addresses to find elements.\n",
    "\n",
    "# INSERT IMAGE.\n",
    "\n",
    "Continually looking up memory addresses for thousands of elements gets innefficient for scientific computing.\n",
    "\n",
    "---\n",
    "\n",
    "The solutions to all these problems are arrays. Arrays can be thought of as homogenous, rectangular, multidimensional blocks of data:\n",
    "\n",
    "- Homogenous: All elements in the array are of one data type\n",
    "- Multidimensional: rather than lists that are 1D, arrays can be ND and be indexed along these different axes\n",
    "- Rectangular: the array is rectangular (no rows longer than others etc)  \n",
    "\n",
    "Problems solved:\n",
    "- Element-wise operations: No differing data types\n",
    "- Accessing elements: No need for memory addresses  \n",
    "\n",
    "Arrays don't need memory addresses, because when an array is defined (and a datatype is specified) it pre-allocates a continuous block in memory for that array. This also allows for speed improvements.\n",
    "\n",
    "\n",
    "# INSERT IMAGE\n",
    "\n",
    "\n"
   ]
  },
  {
   "cell_type": "markdown",
   "metadata": {},
   "source": [
    "## Importing numpy\n",
    "To import numpy, we often write:\n",
    "```py\n",
    "import numpy as np\n",
    "```"
   ]
  },
  {
   "cell_type": "code",
   "execution_count": 4,
   "metadata": {},
   "outputs": [],
   "source": [
    "import numpy as np\n",
    "import matplotlib.pyplot as plt # To be used later"
   ]
  },
  {
   "cell_type": "markdown",
   "metadata": {},
   "source": [
    "## Our first array\n",
    "Lets create our first array, and take a look at it."
   ]
  },
  {
   "cell_type": "code",
   "execution_count": 5,
   "metadata": {},
   "outputs": [
    {
     "data": {
      "text/plain": [
       "array([[1, 2, 3],\n",
       "       [4, 5, 6]])"
      ]
     },
     "execution_count": 5,
     "metadata": {},
     "output_type": "execute_result"
    }
   ],
   "source": [
    "array = np.array([[1,2,3], [4,5,6]])\n",
    "array"
   ]
  },
  {
   "cell_type": "code",
   "execution_count": 6,
   "metadata": {},
   "outputs": [
    {
     "name": "stdout",
     "output_type": "stream",
     "text": [
      "int32\n",
      "(2, 3)\n",
      "2\n"
     ]
    }
   ],
   "source": [
    "# Useful properties to look at an array\n",
    "print(array.dtype) # Get the data type of the array\n",
    "print(array.shape) # The shape of the array: (rows, cols)\n",
    "print(array.ndim) # The number of dimensions of the array\n"
   ]
  },
  {
   "cell_type": "markdown",
   "metadata": {},
   "source": [
    "### Dimensions\n",
    "We refer to the number of dimensions/axes of an array as its `ndim`. For a 2D array the first axis **(axis 0)** corresponds with the row, and the second axis **(axis 1)** corresponds with the column. This is useful to know, because we may want to apply operations like `sum` or `mean` along a chosen axis.\n",
    "\n",
    "Similar to a list, we can slice out sections of the array by using the `:` operator."
   ]
  },
  {
   "cell_type": "code",
   "execution_count": 7,
   "metadata": {},
   "outputs": [
    {
     "name": "stdout",
     "output_type": "stream",
     "text": [
      "[[1 2]\n",
      " [4 5]]\n",
      "[4 5 6]\n"
     ]
    }
   ],
   "source": [
    "print(array[:, :2]) # Get the first two columns (getting all rows)\n",
    "print(array[-1, :]) # Last row"
   ]
  },
  {
   "cell_type": "markdown",
   "metadata": {},
   "source": [
    "### Mathematical operations\n",
    "We can do element-wise mathematical operations with matrices."
   ]
  },
  {
   "cell_type": "code",
   "execution_count": 8,
   "metadata": {},
   "outputs": [
    {
     "name": "stdout",
     "output_type": "stream",
     "text": [
      "array =\n",
      "[[1 2 3]\n",
      " [4 5 6]]\n",
      "array * 2 =\n",
      "[[ 2  4  6]\n",
      " [ 8 10 12]]\n",
      "array + 2 =\n",
      "[[3 4 5]\n",
      " [6 7 8]]\n",
      "array - 2 =\n",
      "[[-1  0  1]\n",
      " [ 2  3  4]]\n",
      "array / 2 =\n",
      "[[0.5 1.  1.5]\n",
      " [2.  2.5 3. ]]\n",
      "array ** 2 =\n",
      "[[ 1  4  9]\n",
      " [16 25 36]]\n"
     ]
    }
   ],
   "source": [
    "print(f\"array =\\n{array}\") # Print the array\n",
    "print(f\"array * 2 =\\n{array * 2}\") # Multiply each element by 2\n",
    "print(f\"array + 2 =\\n{array + 2}\") # Add 2 to each element\n",
    "print(f\"array - 2 =\\n{array - 2}\") # Subtract 2 from each element\n",
    "print(f\"array / 2 =\\n{array / 2}\") # Divide each element by 2\n",
    "print(f\"array ** 2 =\\n{array ** 2}\") # Raise each element to the power of 2"
   ]
  },
  {
   "cell_type": "code",
   "execution_count": 9,
   "metadata": {},
   "outputs": [
    {
     "name": "stdout",
     "output_type": "stream",
     "text": [
      "array + array =\n",
      "[[ 2  4  6]\n",
      " [ 8 10 12]]\n",
      "array - array =\n",
      "[[0 0 0]\n",
      " [0 0 0]]\n",
      "array * array =\n",
      "[[ 1  4  9]\n",
      " [16 25 36]]\n",
      "array @ array.T =\n",
      "[[14 32]\n",
      " [32 77]]\n"
     ]
    }
   ],
   "source": [
    "# We can also multiply arrays together\n",
    "print(f\"array + array =\\n{array + array}\") # Add each element of the array to the corresponding element of the other array\n",
    "print(f\"array - array =\\n{array - array}\") # Subtract each element of the array from the corresponding element of the other array\n",
    "print(f\"array * array =\\n{array * array}\") # Multiply each element by each other (NOT matrix multiplication)\n",
    "print(f\"array @ array.T =\\n{array @ array.T}\") # Matrix multiplication (.T transposes the array)\n"
   ]
  },
  {
   "cell_type": "markdown",
   "metadata": {},
   "source": [
    "We can even use mathematical functions for a whole array! (just make sure the function you use supports arrays. ie. use `numpy.sin` instead of `math.sin` which doesn't support arrays)."
   ]
  },
  {
   "cell_type": "code",
   "execution_count": 10,
   "metadata": {},
   "outputs": [
    {
     "name": "stdout",
     "output_type": "stream",
     "text": [
      "[2.5 3.5 4.5]\n",
      "1\n",
      "6\n",
      "21\n"
     ]
    },
    {
     "data": {
      "text/plain": [
       "array([[1, 4],\n",
       "       [2, 5],\n",
       "       [3, 6]])"
      ]
     },
     "execution_count": 10,
     "metadata": {},
     "output_type": "execute_result"
    }
   ],
   "source": [
    "# Methods for an array\n",
    "print(array.mean(axis=0)) # np.mean(array) also works. axis=0 means \"get the minimum of each column\" (ie. along the rows)\n",
    "print(array.min()) # np.min(array) also works\n",
    "print(array.max()) # np.max(array) also works\n",
    "print(array.sum()) # np.sum(array) also works\n",
    "array.T # Transpose the array"
   ]
  },
  {
   "cell_type": "markdown",
   "metadata": {},
   "source": [
    "## Creating more arrays\n",
    "There are many functions in numpy that we can use to create arrays! Note that some of these functions default to having `np.float64` as the data type if not explicitly given (check the documentation for each function)."
   ]
  },
  {
   "cell_type": "code",
   "execution_count": 11,
   "metadata": {},
   "outputs": [
    {
     "data": {
      "text/plain": [
       "array([[0., 0., 0., 0.],\n",
       "       [0., 0., 0., 0.],\n",
       "       [0., 0., 0., 0.]])"
      ]
     },
     "execution_count": 11,
     "metadata": {},
     "output_type": "execute_result"
    }
   ],
   "source": [
    "zeros = np.zeros((3,4)) # Create a 3x4 (3 rows, 4 cols) array of zeros\n",
    "ones = np.ones((3,4)) # Create a 3x4 (3 rows, 4 cols) array of ones\n",
    "full = np.full((3,4), 5.0) # Create a 3x4 (3 rows, 4 cols) array of 5.0s (floats)\n",
    "\n",
    "rand = np.random.rand(3,4) # Create a 3x4 (3 rows, 4 cols) array of random numbers between 0 and 1 (uniformly distributed)\n",
    "randn = np.random.randn(3,4) # Create a 3x4 (3 rows, 4 cols) array of random numbers with a normal distribution (mean 0, std 1)\n",
    "\n",
    "zeros"
   ]
  },
  {
   "cell_type": "code",
   "execution_count": 12,
   "metadata": {},
   "outputs": [
    {
     "data": {
      "text/plain": [
       "array([[5., 5., 5., 5.],\n",
       "       [5., 5., 5., 5.],\n",
       "       [5., 5., 5., 5.],\n",
       "       [5., 5., 5., 5.]])"
      ]
     },
     "execution_count": 12,
     "metadata": {},
     "output_type": "execute_result"
    }
   ],
   "source": [
    "array = np.zeros((4,4))\n",
    "\n",
    "# We can also create arrays with the same shape and datatype as another array\n",
    "zeros_like = np.zeros_like(array) # Create an array of zeros with the same shape as array\n",
    "ones_like = np.ones_like(array) # Create an array of ones with the same shape as array\n",
    "full_like = np.full_like(array, 5.0) # Create an array of 5.0s with the same shape as array\n",
    "\n",
    "full_like"
   ]
  },
  {
   "cell_type": "markdown",
   "metadata": {},
   "source": [
    "Most importantly though, we have the `np.arange()` and `np.linspace()` functions. Note the similarity of `np.arange()` to `range()` in Python, however `np.arange()` is more versatile (including being able to handle non-integer steps) and returns an array instead."
   ]
  },
  {
   "cell_type": "code",
   "execution_count": 13,
   "metadata": {},
   "outputs": [
    {
     "data": {
      "text/plain": [
       "array([0. , 0.5, 1. , 1.5, 2. , 2.5, 3. , 3.5, 4. , 4.5, 5. , 5.5, 6. ,\n",
       "       6.5, 7. , 7.5, 8. , 8.5, 9. , 9.5])"
      ]
     },
     "execution_count": 13,
     "metadata": {},
     "output_type": "execute_result"
    }
   ],
   "source": [
    "x = np.linspace(0, 10, 15) # Create a 100-element array of evenly spaced numbers between 0 and 10\n",
    "x_without_end = np.linspace(0, 10, 15, endpoint=False)\n",
    "\n",
    "arange = np.arange(0, 10, 0.5) # Create an array of evenly spaced numbers between 0 and 10 (step 2)\n",
    "arange"
   ]
  },
  {
   "cell_type": "code",
   "execution_count": null,
   "metadata": {},
   "outputs": [],
   "source": []
  },
  {
   "cell_type": "markdown",
   "metadata": {},
   "source": [
    "# Plotting with `matplotlib`\n",
    "## What is matplotlib?\n",
    "Like we did with numpy, lets take a look at the [matplotlib documentation](https://matplotlib.org/).\n",
    "\n",
    "## Importing Matplotlib\n",
    "To import matplotlib, we want to import the `matplotlib.pyplot` submodule. This can be done by typing:\n",
    "```py\n",
    "from matplotlib import pyplot as plt\n",
    "```\n",
    "We can read this as \"from matplotlib, import the pyplot submodule and call it `plt` (so that its easier to type out when we use it)\".\n",
    "\n",
    "Often we place our imports for packages together in a cell near the top of our Jupyter Notebook."
   ]
  },
  {
   "cell_type": "markdown",
   "metadata": {},
   "source": [
    "## A story of two APIs\n",
    "Matplotlib comes with two APIs:\n",
    "- pyplot API (MATLAB inspired, and \"state based\")\n",
    "- object oriented, figure and axes API\n",
    "\n",
    "If we just want to get a quick plot up and running, we can use the pyplot API. It will look extremely familiar for those people coming from MATLAB, so if that's you, you might want to look into this API instead.\n",
    "\n",
    "At the end of the day, the pyplot API is the less common, less recommended and (in my opinion) least versatile of the two APIs that exist in matplotlib. So for new learners, I would 100% recommend the OOP API.\n",
    "\n",
    "Accordingly, we'll spend much less time on the pyplot API, instead focussing on the object oriented API.\n",
    "\n",
    "---\n",
    "**The pyplot API**  \n",
    "When using the pyplot API, all our commands will start with `plt.`. I'll just show an example of pyplot API and then move on to the second API. We can see all the functions that belong to this API by looking [here](https://matplotlib.org/stable/api/_as_gen/matplotlib.pyplot.html) in the documentation. If you really want to know the pyplot API for one reason or another you can look at [this YouTube series](https://youtube.com/playlist?list=PL-osiE80TeTvipOqomVEeZ1HRrcEvtZB_). Unfortunately lots of YouTube tutorials go over the pyplot API rather than the object oriented one; just something to be aware about."
   ]
  },
  {
   "cell_type": "code",
   "execution_count": 14,
   "metadata": {},
   "outputs": [
    {
     "data": {
      "image/png": "[encoded data removed]",
      "text/plain": [
       "<Figure size 432x288 with 1 Axes>"
      ]
     },
     "metadata": {
      "needs_background": "light"
     },
     "output_type": "display_data"
    }
   ],
   "source": [
    "x = [0, 1, 2, 3, 4, 5, 6, 7, 8, 9, 10]\n",
    "y = []\n",
    "for i in x:\n",
    "    y.append(i ** 2)\n",
    "\n",
    "plt.plot(x, y)\n",
    "plt.xlabel(\"X-axis\")\n",
    "plt.ylabel(\"Y-axis\")\n",
    "plt.title(\"A cool plot\")\n",
    "plt.xlim(0, 11) # x-axis going from 0 to 7\n",
    "plt.ylim(0, 105) # y-axis going from 0 to 40\n",
    "\n",
    "plt.show() # Required in .py files. Not required here as Jupyter calls .show() once a cell is complete"
   ]
  },
  {
   "cell_type": "markdown",
   "metadata": {},
   "source": [
    "## The OOP API\n",
    "In Matplotlib, the aspects of the resulting plot can be decomposed into a hierarchy of objects.\n",
    "\n",
    "The hierarchy is:\n",
    "- `Figure`: This is the entire canvas, and contains one or more `Axes` objects.\n",
    "- `Axes`: These are the individual plots. Each `Axes` object has 2 `Axis` objects associated with it.\n",
    "- `...`: The hierarchy can be further broken down, but for now this is all we need to get started.\n",
    "\n",
    "![Objects in matplotlib](https://files.realpython.com/media/fig_map.bc8c7cabd823.png)\n",
    "\n",
    "We can then call methods on these objects in order to interact with them, and the resulting plot.\n",
    "\n",
    "So, how do we create `Figure` and `Axes` objects? We use the [`plt.subplots()` function.](https://matplotlib.org/stable/api/_as_gen/matplotlib.pyplot.subplots.html)\n"
   ]
  },
  {
   "cell_type": "code",
   "execution_count": 15,
   "metadata": {},
   "outputs": [
    {
     "data": {
      "text/plain": [
       "(0.0, 105.0)"
      ]
     },
     "execution_count": 15,
     "metadata": {},
     "output_type": "execute_result"
    },
    {
     "data": {
      "image/png": "[encoded data removed]",
      "text/plain": [
       "<Figure size 432x288 with 1 Axes>"
      ]
     },
     "metadata": {
      "needs_background": "light"
     },
     "output_type": "display_data"
    }
   ],
   "source": [
    "x = [0, 1, 2, 3, 4, 5, 6, 7, 8, 9, 10]\n",
    "y1 = []\n",
    "y2 = []\n",
    "for i in x:\n",
    "    y1.append(i ** 2)\n",
    "    y2.append(i ** 3)\n",
    "    \n",
    "fig, ax = plt.subplots() # Create the figure and axes\n",
    "\n",
    "# Note here we call the methods DIRECTLY on the ax object\n",
    "ax.plot(x, y)\n",
    "ax.set_xlabel(\"X-axis\")\n",
    "ax.set_ylabel(\"Y-axis\")\n",
    "ax.set_title(\"A cool plot\")\n",
    "ax.set_xlim(0, 11)\n",
    "ax.set_ylim(0, 105)"
   ]
  },
  {
   "cell_type": "markdown",
   "metadata": {},
   "source": [
    "The best part about the OOP API? It makes it really easy to work with multiple plots at once and store them in one figure:\n"
   ]
  },
  {
   "cell_type": "code",
   "execution_count": 16,
   "metadata": {},
   "outputs": [
    {
     "data": {
      "image/png": "[encoded data removed]",
      "text/plain": [
       "<Figure size 432x288 with 2 Axes>"
      ]
     },
     "metadata": {
      "needs_background": "light"
     },
     "output_type": "display_data"
    }
   ],
   "source": [
    "fig, axs = plt.subplots(1, 2) # 1 row, 2 columns\n",
    "\n",
    "# Note here we call the methods DIRECTLY on the ax object\n",
    "axs[0].plot(x, y1)\n",
    "axs\n",
    "ax.set_ylabel(\"Y-axis\")\n",
    "ax.set_title(\"A cool plot\")\n",
    "ax.set_xlim(0, 11)\n",
    "ax.set_ylim(0, 105)\n",
    "\n",
    "axs[1].plot(x, y2)\n",
    "fig.tight_layout() # Automatically adjusts the figure layout\n"
   ]
  },
  {
   "cell_type": "markdown",
   "metadata": {},
   "source": [
    "All the settings that we `ax.set_` on the `Axes` object can be done at once."
   ]
  },
  {
   "cell_type": "markdown",
   "metadata": {},
   "source": [
    "# Numerical Python with `numpy`\n",
    "## What is an array?\n",
    "\n",
    "## Constructing arrays"
   ]
  },
  {
   "cell_type": "markdown",
   "metadata": {},
   "source": [
    "### Installing modules\n",
    "\n",
    "\n",
    "### Importing modules"
   ]
  },
  {
   "cell_type": "markdown",
   "metadata": {},
   "source": [
    "# More practice\n",
    "Ok, lets get some more practice in. **Do the following:**\n",
    "\n",
    "- Think of a plot that you'd like to make (literally any plot you can imagine, even if you have no idea how to code it up!)\n",
    "- Look through the (oh so many) [matplotlib examples](https://matplotlib.org/stable/gallery/index) for something similar to what you have in mind\n",
    "- Copy and paste the example into Jupyter and run it (it'll work first try)\n",
    "- Look through the example, and try to understand what each line is doing.\n",
    "- Adapt and run the example until you get what you initially imagined!\n",
    "\n",
    "Let's give it a shot!\n",
    "\n",
    "---\n",
    "It may at first feel like cheating copying and pasting code. The more and more you code though, you'll realise that its the best way. Its easier to get something that works, and change it bit by bit, than write something from scratch (especially when you're learning new things). If you're concerned of plaigerism (a good concern to have), we're just using the example to find out how to work with the Matplotlib API.\n",
    "\n",
    "\n",
    "\n"
   ]
  },
  {
   "cell_type": "markdown",
   "metadata": {
    "slideshow": {
     "slide_type": "slide"
    }
   },
   "source": [
    "## Main topic\n",
    "### Subtopic"
   ]
  },
  {
   "cell_type": "markdown",
   "metadata": {
    "slideshow": {
     "slide_type": "subslide"
    }
   },
   "source": [
    "Body of something"
   ]
  },
  {
   "cell_type": "markdown",
   "metadata": {},
   "source": [
    "**NOTE:** If you could fill out [this < 2min survey](https://forms.gle/iWa7cNyXT5eu64s96) about the workshop, that would be awesome and allow us to plan future workshops like this :)."
   ]
  },
  {
   "cell_type": "markdown",
   "metadata": {},
   "source": []
  }
 ],
 "metadata": {
  "kernelspec": {
   "display_name": "Python 3 (ipykernel)",
   "language": "python",
   "name": "python3"
  },
  "language_info": {
   "codemirror_mode": {
    "name": "ipython",
    "version": 3
   },
   "file_extension": ".py",
   "mimetype": "text/x-python",
   "name": "python",
   "nbconvert_exporter": "python",
   "pygments_lexer": "ipython3",
   "version": "3.8.9"
  },
  "vscode": {
   "interpreter": {
    "hash": "e7022d8e2ca52013584f7e7afd986150026516a33417e09866a3b22a4e29a2a5"
   }
  }
 },
 "nbformat": 4,
 "nbformat_minor": 2
}
