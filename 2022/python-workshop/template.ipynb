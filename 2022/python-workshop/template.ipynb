{
 "cells": [
  {
   "cell_type": "markdown",
   "id": "c3b5701d",
   "metadata": {},
   "source": [
    "# Template for Jupyter based workshops"
   ]
  },
  {
   "cell_type": "markdown",
   "id": "193d25ee",
   "metadata": {},
   "source": [
    "> This notebook provides useful markdown code blocks which can be used to structure Jupyter notebooks in a readable manner. It also provides a proposed heading structure for cohesion."
   ]
  },
  {
   "cell_type": "markdown",
   "id": "36029e69",
   "metadata": {},
   "source": [
    "This block has a hidden comment in the source code\n",
    "<!-- WRITE A COMMENT IN A MARKDOWN CELL. THE COMMENT WONT BE RENDERED -->"
   ]
  },
  {
   "cell_type": "markdown",
   "id": "5bb46971",
   "metadata": {},
   "source": [
    "## TOC:\n",
    "* [First Bullet Header](#Top-level-title)\n",
    "* [Second Bullet Header](#1.1-Topic)"
   ]
  },
  {
   "cell_type": "markdown",
   "id": "0a61390c",
   "metadata": {},
   "source": [
    "<div class=\"alert alert-block alert-info\">\n",
    "<b>Tip:</b> Use blue boxes (alert-info) for tips and notes.</div>"
   ]
  },
  {
   "cell_type": "markdown",
   "id": "0c88097d",
   "metadata": {},
   "source": [
    "<div class=\"alert alert-block alert-warning\">\n",
    "<b>Example:</b> Use yellow boxes for examples that are not inside code cells, or use for mathematical formulas if needed. Typically also used to display warning messages.\n",
    "</div>"
   ]
  },
  {
   "cell_type": "markdown",
   "id": "6b6b7928",
   "metadata": {},
   "source": [
    "<div class=\"alert alert-block alert-success\">\n",
    "<b>Success:</b> This alert box indicates a successful or positive action.\n",
    "</div>"
   ]
  },
  {
   "cell_type": "markdown",
   "id": "881ab049",
   "metadata": {},
   "source": [
    "<div class=\"alert alert-block alert-danger\">\n",
    "<b>Danger:</b> This alert box indicates a dangerous or potentially negative action. <code>print(\"Write some code in an alert\")</code>\n",
    "</div>"
   ]
  },
  {
   "cell_type": "markdown",
   "id": "34454dee",
   "metadata": {},
   "source": [
    "$$\\sin(x)\\approx x$$"
   ]
  },
  {
   "cell_type": "markdown",
   "id": "2d000dbf",
   "metadata": {},
   "source": [
    "**HEADING STRUCTURE**\n",
    "\n",
    "# Top level title\n",
    "## 1.1 Topic\n",
    "### ⚙Example: Name of example"
   ]
  },
  {
   "cell_type": "code",
   "execution_count": null,
   "id": "08958fd1",
   "metadata": {},
   "outputs": [],
   "source": []
  }
 ],
 "metadata": {
  "kernelspec": {
   "display_name": "Python 3 (ipykernel)",
   "language": "python",
   "name": "python3"
  },
  "language_info": {
   "codemirror_mode": {
    "name": "ipython",
    "version": 3
   },
   "file_extension": ".py",
   "mimetype": "text/x-python",
   "name": "python",
   "nbconvert_exporter": "python",
   "pygments_lexer": "ipython3",
   "version": "3.9.9"
  }
 },
 "nbformat": 4,
 "nbformat_minor": 5
}
